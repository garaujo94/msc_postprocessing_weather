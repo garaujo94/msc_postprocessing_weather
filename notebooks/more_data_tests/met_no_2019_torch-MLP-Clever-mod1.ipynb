{
 "cells": [
  {
   "cell_type": "code",
   "execution_count": 1,
   "metadata": {
    "id": "snMRK52poOgF"
   },
   "outputs": [],
   "source": [
    "import numpy as np\n",
    "import pandas as pd\n",
    "import matplotlib.pyplot as plt\n",
    "import seaborn as sns\n",
    "\n",
    "\n",
    "from sklearn.preprocessing import OneHotEncoder, StandardScaler\n",
    "from sklearn.model_selection import train_test_split\n",
    "from sklearn.metrics import mean_squared_error\n",
    "\n",
    "from train_utils import full_report"
   ]
  },
  {
   "cell_type": "code",
   "execution_count": 2,
   "metadata": {
    "id": "5Iz3YlaQpqnq"
   },
   "outputs": [],
   "source": [
    "train = pd.read_csv('../../data/final_data_2019.csv')\n",
    "val = pd.read_csv('../../data/final_data_2020.csv')\n",
    "test = pd.read_csv('../../data/final_data_2021.csv')"
   ]
  },
  {
   "cell_type": "code",
   "execution_count": 3,
   "metadata": {
    "colab": {
     "base_uri": "https://localhost:8080/",
     "height": 204
    },
    "id": "vFf0f8LKpuMM",
    "outputId": "66fbb2da-79a8-4466-83f9-551347e14d04"
   },
   "outputs": [
    {
     "data": {
      "text/html": [
       "<div>\n",
       "<style scoped>\n",
       "    .dataframe tbody tr th:only-of-type {\n",
       "        vertical-align: middle;\n",
       "    }\n",
       "\n",
       "    .dataframe tbody tr th {\n",
       "        vertical-align: top;\n",
       "    }\n",
       "\n",
       "    .dataframe thead th {\n",
       "        text-align: right;\n",
       "    }\n",
       "</style>\n",
       "<table border=\"1\" class=\"dataframe\">\n",
       "  <thead>\n",
       "    <tr style=\"text-align: right;\">\n",
       "      <th></th>\n",
       "      <th>station_id</th>\n",
       "      <th>lat</th>\n",
       "      <th>long</th>\n",
       "      <th>forecast</th>\n",
       "      <th>gridpp</th>\n",
       "      <th>observations</th>\n",
       "      <th>year</th>\n",
       "      <th>month</th>\n",
       "      <th>day</th>\n",
       "      <th>hour</th>\n",
       "    </tr>\n",
       "  </thead>\n",
       "  <tbody>\n",
       "    <tr>\n",
       "      <th>0</th>\n",
       "      <td>SN18700</td>\n",
       "      <td>59.9423</td>\n",
       "      <td>10.7200</td>\n",
       "      <td>22.148926</td>\n",
       "      <td>20.850006</td>\n",
       "      <td>20.7</td>\n",
       "      <td>2019</td>\n",
       "      <td>6</td>\n",
       "      <td>28</td>\n",
       "      <td>18</td>\n",
       "    </tr>\n",
       "    <tr>\n",
       "      <th>1</th>\n",
       "      <td>SN78910</td>\n",
       "      <td>64.6933</td>\n",
       "      <td>12.3295</td>\n",
       "      <td>10.692871</td>\n",
       "      <td>11.356781</td>\n",
       "      <td>11.4</td>\n",
       "      <td>2019</td>\n",
       "      <td>6</td>\n",
       "      <td>28</td>\n",
       "      <td>18</td>\n",
       "    </tr>\n",
       "    <tr>\n",
       "      <th>2</th>\n",
       "      <td>SN50810</td>\n",
       "      <td>60.4742</td>\n",
       "      <td>5.3418</td>\n",
       "      <td>15.672363</td>\n",
       "      <td>18.380768</td>\n",
       "      <td>15.6</td>\n",
       "      <td>2019</td>\n",
       "      <td>6</td>\n",
       "      <td>28</td>\n",
       "      <td>18</td>\n",
       "    </tr>\n",
       "    <tr>\n",
       "      <th>3</th>\n",
       "      <td>SN51010</td>\n",
       "      <td>60.5205</td>\n",
       "      <td>5.7243</td>\n",
       "      <td>16.461426</td>\n",
       "      <td>17.142456</td>\n",
       "      <td>17.8</td>\n",
       "      <td>2019</td>\n",
       "      <td>6</td>\n",
       "      <td>28</td>\n",
       "      <td>18</td>\n",
       "    </tr>\n",
       "    <tr>\n",
       "      <th>4</th>\n",
       "      <td>SN44640</td>\n",
       "      <td>58.9563</td>\n",
       "      <td>5.7278</td>\n",
       "      <td>16.282715</td>\n",
       "      <td>16.750000</td>\n",
       "      <td>16.6</td>\n",
       "      <td>2019</td>\n",
       "      <td>6</td>\n",
       "      <td>28</td>\n",
       "      <td>18</td>\n",
       "    </tr>\n",
       "  </tbody>\n",
       "</table>\n",
       "</div>"
      ],
      "text/plain": [
       "  station_id      lat     long   forecast     gridpp  observations  year  \\\n",
       "0    SN18700  59.9423  10.7200  22.148926  20.850006          20.7  2019   \n",
       "1    SN78910  64.6933  12.3295  10.692871  11.356781          11.4  2019   \n",
       "2    SN50810  60.4742   5.3418  15.672363  18.380768          15.6  2019   \n",
       "3    SN51010  60.5205   5.7243  16.461426  17.142456          17.8  2019   \n",
       "4    SN44640  58.9563   5.7278  16.282715  16.750000          16.6  2019   \n",
       "\n",
       "   month  day  hour  \n",
       "0      6   28    18  \n",
       "1      6   28    18  \n",
       "2      6   28    18  \n",
       "3      6   28    18  \n",
       "4      6   28    18  "
      ]
     },
     "execution_count": 3,
     "metadata": {},
     "output_type": "execute_result"
    }
   ],
   "source": [
    "train.head()"
   ]
  },
  {
   "cell_type": "code",
   "execution_count": 4,
   "metadata": {
    "colab": {
     "base_uri": "https://localhost:8080/"
    },
    "id": "yopL0whSpvC4",
    "outputId": "b1c0bd08-364b-4046-acfe-3c7e18e2598e"
   },
   "outputs": [
    {
     "name": "stdout",
     "output_type": "stream",
     "text": [
      "(308032, 10)\n"
     ]
    }
   ],
   "source": [
    "print(train.shape)"
   ]
  },
  {
   "cell_type": "code",
   "execution_count": 5,
   "metadata": {},
   "outputs": [
    {
     "data": {
      "image/png": "[encoded data removed]",
      "text/plain": [
       "<Figure size 432x288 with 1 Axes>"
      ]
     },
     "metadata": {
      "needs_background": "light"
     },
     "output_type": "display_data"
    }
   ],
   "source": [
    "plt.hist(train.lat);"
   ]
  },
  {
   "cell_type": "code",
   "execution_count": 6,
   "metadata": {},
   "outputs": [
    {
     "data": {
      "image/png": "[encoded data removed]",
      "text/plain": [
       "<Figure size 432x288 with 1 Axes>"
      ]
     },
     "metadata": {
      "needs_background": "light"
     },
     "output_type": "display_data"
    }
   ],
   "source": [
    "plt.hist(val.lat);"
   ]
  },
  {
   "cell_type": "code",
   "execution_count": 7,
   "metadata": {},
   "outputs": [
    {
     "data": {
      "image/png": "[encoded data removed]",
      "text/plain": [
       "<Figure size 432x288 with 1 Axes>"
      ]
     },
     "metadata": {
      "needs_background": "light"
     },
     "output_type": "display_data"
    }
   ],
   "source": [
    "plt.hist(test.lat);"
   ]
  },
  {
   "cell_type": "markdown",
   "metadata": {
    "id": "TvB0VTDpp2qc"
   },
   "source": [
    "# Formato dos Dados"
   ]
  },
  {
   "cell_type": "code",
   "execution_count": 8,
   "metadata": {
    "colab": {
     "base_uri": "https://localhost:8080/",
     "height": 297
    },
    "id": "o2TPkJKLp0KZ",
    "outputId": "7c11cdce-4d0a-4474-8dfe-9dc01c6e93dc"
   },
   "outputs": [
    {
     "data": {
      "text/html": [
       "<div>\n",
       "<style scoped>\n",
       "    .dataframe tbody tr th:only-of-type {\n",
       "        vertical-align: middle;\n",
       "    }\n",
       "\n",
       "    .dataframe tbody tr th {\n",
       "        vertical-align: top;\n",
       "    }\n",
       "\n",
       "    .dataframe thead th {\n",
       "        text-align: right;\n",
       "    }\n",
       "</style>\n",
       "<table border=\"1\" class=\"dataframe\">\n",
       "  <thead>\n",
       "    <tr style=\"text-align: right;\">\n",
       "      <th></th>\n",
       "      <th>forecast</th>\n",
       "      <th>gridpp</th>\n",
       "      <th>observations</th>\n",
       "    </tr>\n",
       "  </thead>\n",
       "  <tbody>\n",
       "    <tr>\n",
       "      <th>count</th>\n",
       "      <td>308032.000000</td>\n",
       "      <td>308032.000000</td>\n",
       "      <td>308032.000000</td>\n",
       "    </tr>\n",
       "    <tr>\n",
       "      <th>mean</th>\n",
       "      <td>4.536518</td>\n",
       "      <td>5.228229</td>\n",
       "      <td>4.878479</td>\n",
       "    </tr>\n",
       "    <tr>\n",
       "      <th>std</th>\n",
       "      <td>10.862447</td>\n",
       "      <td>8.019944</td>\n",
       "      <td>8.084023</td>\n",
       "    </tr>\n",
       "    <tr>\n",
       "      <th>min</th>\n",
       "      <td>-273.000000</td>\n",
       "      <td>-39.449997</td>\n",
       "      <td>-39.600000</td>\n",
       "    </tr>\n",
       "    <tr>\n",
       "      <th>25%</th>\n",
       "      <td>-0.482933</td>\n",
       "      <td>-0.010109</td>\n",
       "      <td>-0.300000</td>\n",
       "    </tr>\n",
       "    <tr>\n",
       "      <th>50%</th>\n",
       "      <td>4.565186</td>\n",
       "      <td>5.070435</td>\n",
       "      <td>4.900000</td>\n",
       "    </tr>\n",
       "    <tr>\n",
       "      <th>75%</th>\n",
       "      <td>10.395996</td>\n",
       "      <td>10.932266</td>\n",
       "      <td>10.600000</td>\n",
       "    </tr>\n",
       "    <tr>\n",
       "      <th>max</th>\n",
       "      <td>35.032227</td>\n",
       "      <td>33.850006</td>\n",
       "      <td>33.700000</td>\n",
       "    </tr>\n",
       "  </tbody>\n",
       "</table>\n",
       "</div>"
      ],
      "text/plain": [
       "            forecast         gridpp   observations\n",
       "count  308032.000000  308032.000000  308032.000000\n",
       "mean        4.536518       5.228229       4.878479\n",
       "std        10.862447       8.019944       8.084023\n",
       "min      -273.000000     -39.449997     -39.600000\n",
       "25%        -0.482933      -0.010109      -0.300000\n",
       "50%         4.565186       5.070435       4.900000\n",
       "75%        10.395996      10.932266      10.600000\n",
       "max        35.032227      33.850006      33.700000"
      ]
     },
     "execution_count": 8,
     "metadata": {},
     "output_type": "execute_result"
    }
   ],
   "source": [
    "train.describe()[['forecast', 'gridpp', 'observations']]"
   ]
  },
  {
   "cell_type": "code",
   "execution_count": 9,
   "metadata": {
    "colab": {
     "base_uri": "https://localhost:8080/",
     "height": 573
    },
    "id": "6jRUjPlIp4_3",
    "outputId": "9c8f5d90-c714-4c76-f1cf-86c778c6a48c"
   },
   "outputs": [
    {
     "data": {
      "image/png": "[encoded data removed]",
      "text/plain": [
       "<Figure size 432x288 with 1 Axes>"
      ]
     },
     "metadata": {
      "needs_background": "light"
     },
     "output_type": "display_data"
    },
    {
     "data": {
      "image/png": "[encoded data removed]",
      "text/plain": [
       "<Figure size 432x288 with 1 Axes>"
      ]
     },
     "metadata": {
      "needs_background": "light"
     },
     "output_type": "display_data"
    },
    {
     "data": {
      "image/png": "[encoded data removed]",
      "text/plain": [
       "<Figure size 432x288 with 1 Axes>"
      ]
     },
     "metadata": {
      "needs_background": "light"
     },
     "output_type": "display_data"
    },
    {
     "data": {
      "image/png": "[encoded data removed]",
      "text/plain": [
       "<Figure size 432x288 with 1 Axes>"
      ]
     },
     "metadata": {
      "needs_background": "light"
     },
     "output_type": "display_data"
    },
    {
     "data": {
      "image/png": "[encoded data removed]",
      "text/plain": [
       "<Figure size 432x288 with 1 Axes>"
      ]
     },
     "metadata": {
      "needs_background": "light"
     },
     "output_type": "display_data"
    },
    {
     "data": {
      "image/png": "[encoded data removed]",
      "text/plain": [
       "<Figure size 432x288 with 1 Axes>"
      ]
     },
     "metadata": {
      "needs_background": "light"
     },
     "output_type": "display_data"
    }
   ],
   "source": [
    "datasets = [train, val, test]\n",
    "\n",
    "for item in datasets:\n",
    "    sns.histplot(item.forecast)\n",
    "    plt.title('Forecast')\n",
    "    plt.show()\n",
    "\n",
    "    sns.boxplot(x = item.forecast)\n",
    "    plt.title('Forecast')\n",
    "    plt.show()"
   ]
  },
  {
   "cell_type": "code",
   "execution_count": 10,
   "metadata": {
    "colab": {
     "base_uri": "https://localhost:8080/",
     "height": 573
    },
    "id": "mwOuvRY5p7sr",
    "outputId": "05c605ea-6be9-4068-bdbf-fc084dd8f492"
   },
   "outputs": [
    {
     "data": {
      "image/png": "[encoded data removed]",
      "text/plain": [
       "<Figure size 432x288 with 1 Axes>"
      ]
     },
     "metadata": {
      "needs_background": "light"
     },
     "output_type": "display_data"
    },
    {
     "data": {
      "image/png": "[encoded data removed]",
      "text/plain": [
       "<Figure size 432x288 with 1 Axes>"
      ]
     },
     "metadata": {
      "needs_background": "light"
     },
     "output_type": "display_data"
    },
    {
     "data": {
      "image/png": "[encoded data removed]",
      "text/plain": [
       "<Figure size 432x288 with 1 Axes>"
      ]
     },
     "metadata": {
      "needs_background": "light"
     },
     "output_type": "display_data"
    },
    {
     "data": {
      "image/png": "[encoded data removed]",
      "text/plain": [
       "<Figure size 432x288 with 1 Axes>"
      ]
     },
     "metadata": {
      "needs_background": "light"
     },
     "output_type": "display_data"
    },
    {
     "data": {
      "image/png": "[encoded data removed]",
      "text/plain": [
       "<Figure size 432x288 with 1 Axes>"
      ]
     },
     "metadata": {
      "needs_background": "light"
     },
     "output_type": "display_data"
    },
    {
     "data": {
      "image/png": "[encoded data removed]",
      "text/plain": [
       "<Figure size 432x288 with 1 Axes>"
      ]
     },
     "metadata": {
      "needs_background": "light"
     },
     "output_type": "display_data"
    }
   ],
   "source": [
    "for item in datasets:\n",
    "    sns.histplot(item.observations)\n",
    "    plt.title('Observation')\n",
    "    plt.show()\n",
    "\n",
    "    sns.boxplot(x = item.observations)\n",
    "    plt.title('Observation')\n",
    "    plt.show()"
   ]
  },
  {
   "cell_type": "code",
   "execution_count": 11,
   "metadata": {},
   "outputs": [
    {
     "data": {
      "image/png": "[encoded data removed]",
      "text/plain": [
       "<Figure size 432x288 with 1 Axes>"
      ]
     },
     "metadata": {
      "needs_background": "light"
     },
     "output_type": "display_data"
    },
    {
     "data": {
      "image/png": "[encoded data removed]",
      "text/plain": [
       "<Figure size 432x288 with 1 Axes>"
      ]
     },
     "metadata": {
      "needs_background": "light"
     },
     "output_type": "display_data"
    },
    {
     "data": {
      "image/png": "[encoded data removed]",
      "text/plain": [
       "<Figure size 432x288 with 1 Axes>"
      ]
     },
     "metadata": {
      "needs_background": "light"
     },
     "output_type": "display_data"
    },
    {
     "data": {
      "image/png": "[encoded data removed]",
      "text/plain": [
       "<Figure size 432x288 with 1 Axes>"
      ]
     },
     "metadata": {
      "needs_background": "light"
     },
     "output_type": "display_data"
    },
    {
     "data": {
      "image/png": "[encoded data removed]",
      "text/plain": [
       "<Figure size 432x288 with 1 Axes>"
      ]
     },
     "metadata": {
      "needs_background": "light"
     },
     "output_type": "display_data"
    },
    {
     "data": {
      "image/png": "[encoded data removed]",
      "text/plain": [
       "<Figure size 432x288 with 1 Axes>"
      ]
     },
     "metadata": {
      "needs_background": "light"
     },
     "output_type": "display_data"
    }
   ],
   "source": [
    "for item in datasets:\n",
    "    sns.histplot(item.gridpp)\n",
    "    plt.title('Gridpp')\n",
    "    plt.show()\n",
    "\n",
    "    sns.boxplot(x = item.gridpp)\n",
    "    plt.title('Gridpp')\n",
    "    plt.show()"
   ]
  },
  {
   "cell_type": "code",
   "execution_count": 12,
   "metadata": {},
   "outputs": [],
   "source": [
    "# print(df.shape)\n",
    "# df.drop(df[df.observation > 30].index, inplace=True)\n",
    "# df.drop(df[df.observation < -20].index, inplace=True)\n",
    "# print(df.shape)"
   ]
  },
  {
   "cell_type": "markdown",
   "metadata": {
    "id": "HnNChMxpqEYS"
   },
   "source": [
    "<strong>Parece não haver problemas aqui. Talvez seja interessante posteriormente analisar as diferenças das 2 colunas, pois isso pode indicar algum erro nos dados</strong>"
   ]
  },
  {
   "cell_type": "code",
   "execution_count": 13,
   "metadata": {
    "colab": {
     "base_uri": "https://localhost:8080/",
     "height": 111
    },
    "id": "war4_MynqCFK",
    "outputId": "436eddef-9141-4d0a-8eae-df10a4488eba"
   },
   "outputs": [],
   "source": [
    "for item in datasets:\n",
    "    item.drop(item[item.forecast < -260].index, inplace=True)"
   ]
  },
  {
   "cell_type": "code",
   "execution_count": 14,
   "metadata": {
    "colab": {
     "base_uri": "https://localhost:8080/"
    },
    "id": "4aT9LXNAqDpJ",
    "outputId": "3dd2b9cd-3dac-446c-8126-2c972da7431a"
   },
   "outputs": [
    {
     "name": "stdout",
     "output_type": "stream",
     "text": [
      "(307810, 10)\n",
      "(308107, 10)\n",
      "(310159, 10)\n"
     ]
    }
   ],
   "source": [
    "for item in datasets:\n",
    "    print(item.shape)"
   ]
  },
  {
   "cell_type": "code",
   "execution_count": 15,
   "metadata": {},
   "outputs": [
    {
     "data": {
      "image/png": "[encoded data removed]",
      "text/plain": [
       "<Figure size 432x288 with 1 Axes>"
      ]
     },
     "metadata": {
      "needs_background": "light"
     },
     "output_type": "display_data"
    },
    {
     "data": {
      "image/png": "[encoded data removed]",
      "text/plain": [
       "<Figure size 432x288 with 1 Axes>"
      ]
     },
     "metadata": {
      "needs_background": "light"
     },
     "output_type": "display_data"
    },
    {
     "data": {
      "image/png": "[encoded data removed]",
      "text/plain": [
       "<Figure size 432x288 with 1 Axes>"
      ]
     },
     "metadata": {
      "needs_background": "light"
     },
     "output_type": "display_data"
    },
    {
     "data": {
      "image/png": "[encoded data removed]",
      "text/plain": [
       "<Figure size 432x288 with 1 Axes>"
      ]
     },
     "metadata": {
      "needs_background": "light"
     },
     "output_type": "display_data"
    },
    {
     "data": {
      "image/png": "[encoded data removed]",
      "text/plain": [
       "<Figure size 432x288 with 1 Axes>"
      ]
     },
     "metadata": {
      "needs_background": "light"
     },
     "output_type": "display_data"
    },
    {
     "data": {
      "image/png": "[encoded data removed]",
      "text/plain": [
       "<Figure size 432x288 with 1 Axes>"
      ]
     },
     "metadata": {
      "needs_background": "light"
     },
     "output_type": "display_data"
    }
   ],
   "source": [
    "for item in datasets:\n",
    "    sns.histplot(item.forecast)\n",
    "    plt.title('Forecast')\n",
    "    plt.show()\n",
    "\n",
    "    sns.boxplot(x = item.forecast)\n",
    "    plt.title('Forecast')\n",
    "    plt.show()"
   ]
  },
  {
   "cell_type": "markdown",
   "metadata": {},
   "source": [
    "### Vendo erro de medição do gridpp e cortando outliers\n",
    "Definido outlier entradas com diferença entre observation e gridpp > 5"
   ]
  },
  {
   "cell_type": "code",
   "execution_count": 16,
   "metadata": {},
   "outputs": [
    {
     "data": {
      "text/html": [
       "<div>\n",
       "<style scoped>\n",
       "    .dataframe tbody tr th:only-of-type {\n",
       "        vertical-align: middle;\n",
       "    }\n",
       "\n",
       "    .dataframe tbody tr th {\n",
       "        vertical-align: top;\n",
       "    }\n",
       "\n",
       "    .dataframe thead th {\n",
       "        text-align: right;\n",
       "    }\n",
       "</style>\n",
       "<table border=\"1\" class=\"dataframe\">\n",
       "  <thead>\n",
       "    <tr style=\"text-align: right;\">\n",
       "      <th></th>\n",
       "      <th>station_id</th>\n",
       "      <th>lat</th>\n",
       "      <th>long</th>\n",
       "      <th>forecast</th>\n",
       "      <th>gridpp</th>\n",
       "      <th>observations</th>\n",
       "      <th>year</th>\n",
       "      <th>month</th>\n",
       "      <th>day</th>\n",
       "      <th>hour</th>\n",
       "      <th>gridpp_error</th>\n",
       "    </tr>\n",
       "  </thead>\n",
       "  <tbody>\n",
       "    <tr>\n",
       "      <th>0</th>\n",
       "      <td>SN18700</td>\n",
       "      <td>59.9423</td>\n",
       "      <td>10.7200</td>\n",
       "      <td>22.148926</td>\n",
       "      <td>20.850006</td>\n",
       "      <td>20.7</td>\n",
       "      <td>2019</td>\n",
       "      <td>6</td>\n",
       "      <td>28</td>\n",
       "      <td>18</td>\n",
       "      <td>0.150006</td>\n",
       "    </tr>\n",
       "    <tr>\n",
       "      <th>1</th>\n",
       "      <td>SN78910</td>\n",
       "      <td>64.6933</td>\n",
       "      <td>12.3295</td>\n",
       "      <td>10.692871</td>\n",
       "      <td>11.356781</td>\n",
       "      <td>11.4</td>\n",
       "      <td>2019</td>\n",
       "      <td>6</td>\n",
       "      <td>28</td>\n",
       "      <td>18</td>\n",
       "      <td>0.043219</td>\n",
       "    </tr>\n",
       "    <tr>\n",
       "      <th>2</th>\n",
       "      <td>SN50810</td>\n",
       "      <td>60.4742</td>\n",
       "      <td>5.3418</td>\n",
       "      <td>15.672363</td>\n",
       "      <td>18.380768</td>\n",
       "      <td>15.6</td>\n",
       "      <td>2019</td>\n",
       "      <td>6</td>\n",
       "      <td>28</td>\n",
       "      <td>18</td>\n",
       "      <td>2.780768</td>\n",
       "    </tr>\n",
       "    <tr>\n",
       "      <th>3</th>\n",
       "      <td>SN51010</td>\n",
       "      <td>60.5205</td>\n",
       "      <td>5.7243</td>\n",
       "      <td>16.461426</td>\n",
       "      <td>17.142456</td>\n",
       "      <td>17.8</td>\n",
       "      <td>2019</td>\n",
       "      <td>6</td>\n",
       "      <td>28</td>\n",
       "      <td>18</td>\n",
       "      <td>0.657544</td>\n",
       "    </tr>\n",
       "    <tr>\n",
       "      <th>4</th>\n",
       "      <td>SN44640</td>\n",
       "      <td>58.9563</td>\n",
       "      <td>5.7278</td>\n",
       "      <td>16.282715</td>\n",
       "      <td>16.750000</td>\n",
       "      <td>16.6</td>\n",
       "      <td>2019</td>\n",
       "      <td>6</td>\n",
       "      <td>28</td>\n",
       "      <td>18</td>\n",
       "      <td>0.150000</td>\n",
       "    </tr>\n",
       "  </tbody>\n",
       "</table>\n",
       "</div>"
      ],
      "text/plain": [
       "  station_id      lat     long   forecast     gridpp  observations  year  \\\n",
       "0    SN18700  59.9423  10.7200  22.148926  20.850006          20.7  2019   \n",
       "1    SN78910  64.6933  12.3295  10.692871  11.356781          11.4  2019   \n",
       "2    SN50810  60.4742   5.3418  15.672363  18.380768          15.6  2019   \n",
       "3    SN51010  60.5205   5.7243  16.461426  17.142456          17.8  2019   \n",
       "4    SN44640  58.9563   5.7278  16.282715  16.750000          16.6  2019   \n",
       "\n",
       "   month  day  hour  gridpp_error  \n",
       "0      6   28    18      0.150006  \n",
       "1      6   28    18      0.043219  \n",
       "2      6   28    18      2.780768  \n",
       "3      6   28    18      0.657544  \n",
       "4      6   28    18      0.150000  "
      ]
     },
     "execution_count": 16,
     "metadata": {},
     "output_type": "execute_result"
    }
   ],
   "source": [
    "train['gridpp_error'] = np.sqrt((train['observations'] - train['gridpp'])**2)\n",
    "train.head()"
   ]
  },
  {
   "cell_type": "code",
   "execution_count": 17,
   "metadata": {},
   "outputs": [
    {
     "data": {
      "text/html": [
       "<div>\n",
       "<style scoped>\n",
       "    .dataframe tbody tr th:only-of-type {\n",
       "        vertical-align: middle;\n",
       "    }\n",
       "\n",
       "    .dataframe tbody tr th {\n",
       "        vertical-align: top;\n",
       "    }\n",
       "\n",
       "    .dataframe thead th {\n",
       "        text-align: right;\n",
       "    }\n",
       "</style>\n",
       "<table border=\"1\" class=\"dataframe\">\n",
       "  <thead>\n",
       "    <tr style=\"text-align: right;\">\n",
       "      <th></th>\n",
       "      <th>station_id</th>\n",
       "      <th>lat</th>\n",
       "      <th>long</th>\n",
       "      <th>forecast</th>\n",
       "      <th>gridpp</th>\n",
       "      <th>observations</th>\n",
       "      <th>year</th>\n",
       "      <th>month</th>\n",
       "      <th>day</th>\n",
       "      <th>hour</th>\n",
       "      <th>gridpp_error</th>\n",
       "    </tr>\n",
       "  </thead>\n",
       "  <tbody>\n",
       "    <tr>\n",
       "      <th>33</th>\n",
       "      <td>SN50850</td>\n",
       "      <td>60.3570</td>\n",
       "      <td>5.4515</td>\n",
       "      <td>14.879395</td>\n",
       "      <td>18.162292</td>\n",
       "      <td>24.3</td>\n",
       "      <td>2019</td>\n",
       "      <td>6</td>\n",
       "      <td>28</td>\n",
       "      <td>18</td>\n",
       "      <td>6.137708</td>\n",
       "    </tr>\n",
       "    <tr>\n",
       "      <th>845</th>\n",
       "      <td>SN39040</td>\n",
       "      <td>58.2000</td>\n",
       "      <td>8.0767</td>\n",
       "      <td>15.283203</td>\n",
       "      <td>15.878662</td>\n",
       "      <td>10.4</td>\n",
       "      <td>2019</td>\n",
       "      <td>6</td>\n",
       "      <td>28</td>\n",
       "      <td>0</td>\n",
       "      <td>5.478662</td>\n",
       "    </tr>\n",
       "    <tr>\n",
       "      <th>864</th>\n",
       "      <td>SN26996</td>\n",
       "      <td>59.6473</td>\n",
       "      <td>10.1052</td>\n",
       "      <td>12.253418</td>\n",
       "      <td>13.691803</td>\n",
       "      <td>4.7</td>\n",
       "      <td>2019</td>\n",
       "      <td>6</td>\n",
       "      <td>28</td>\n",
       "      <td>0</td>\n",
       "      <td>8.991803</td>\n",
       "    </tr>\n",
       "    <tr>\n",
       "      <th>899</th>\n",
       "      <td>SN50850</td>\n",
       "      <td>60.3570</td>\n",
       "      <td>5.4515</td>\n",
       "      <td>13.398926</td>\n",
       "      <td>16.047211</td>\n",
       "      <td>22.5</td>\n",
       "      <td>2019</td>\n",
       "      <td>6</td>\n",
       "      <td>27</td>\n",
       "      <td>18</td>\n",
       "      <td>6.452789</td>\n",
       "    </tr>\n",
       "    <tr>\n",
       "      <th>911</th>\n",
       "      <td>SN40250</td>\n",
       "      <td>59.1972</td>\n",
       "      <td>7.5273</td>\n",
       "      <td>17.608887</td>\n",
       "      <td>23.547791</td>\n",
       "      <td>18.1</td>\n",
       "      <td>2019</td>\n",
       "      <td>6</td>\n",
       "      <td>27</td>\n",
       "      <td>18</td>\n",
       "      <td>5.447791</td>\n",
       "    </tr>\n",
       "    <tr>\n",
       "      <th>...</th>\n",
       "      <td>...</td>\n",
       "      <td>...</td>\n",
       "      <td>...</td>\n",
       "      <td>...</td>\n",
       "      <td>...</td>\n",
       "      <td>...</td>\n",
       "      <td>...</td>\n",
       "      <td>...</td>\n",
       "      <td>...</td>\n",
       "      <td>...</td>\n",
       "      <td>...</td>\n",
       "    </tr>\n",
       "    <tr>\n",
       "      <th>307326</th>\n",
       "      <td>SN63940</td>\n",
       "      <td>62.2767</td>\n",
       "      <td>9.5877</td>\n",
       "      <td>-9.177002</td>\n",
       "      <td>-7.644165</td>\n",
       "      <td>-15.3</td>\n",
       "      <td>2019</td>\n",
       "      <td>12</td>\n",
       "      <td>13</td>\n",
       "      <td>6</td>\n",
       "      <td>7.655835</td>\n",
       "    </tr>\n",
       "    <tr>\n",
       "      <th>307342</th>\n",
       "      <td>SN9160</td>\n",
       "      <td>62.1282</td>\n",
       "      <td>9.9947</td>\n",
       "      <td>-6.249756</td>\n",
       "      <td>-7.312317</td>\n",
       "      <td>-14.0</td>\n",
       "      <td>2019</td>\n",
       "      <td>12</td>\n",
       "      <td>13</td>\n",
       "      <td>6</td>\n",
       "      <td>6.687683</td>\n",
       "    </tr>\n",
       "    <tr>\n",
       "      <th>307441</th>\n",
       "      <td>SN70960</td>\n",
       "      <td>64.3333</td>\n",
       "      <td>12.3410</td>\n",
       "      <td>-1.467041</td>\n",
       "      <td>-0.020355</td>\n",
       "      <td>-5.3</td>\n",
       "      <td>2019</td>\n",
       "      <td>12</td>\n",
       "      <td>13</td>\n",
       "      <td>0</td>\n",
       "      <td>5.279645</td>\n",
       "    </tr>\n",
       "    <tr>\n",
       "      <th>307444</th>\n",
       "      <td>SN65275</td>\n",
       "      <td>63.2280</td>\n",
       "      <td>9.3853</td>\n",
       "      <td>-2.355713</td>\n",
       "      <td>-3.005493</td>\n",
       "      <td>2.0</td>\n",
       "      <td>2019</td>\n",
       "      <td>12</td>\n",
       "      <td>13</td>\n",
       "      <td>0</td>\n",
       "      <td>5.005493</td>\n",
       "    </tr>\n",
       "    <tr>\n",
       "      <th>307572</th>\n",
       "      <td>SN26996</td>\n",
       "      <td>59.6473</td>\n",
       "      <td>10.1052</td>\n",
       "      <td>-1.208252</td>\n",
       "      <td>0.091003</td>\n",
       "      <td>-5.2</td>\n",
       "      <td>2019</td>\n",
       "      <td>12</td>\n",
       "      <td>13</td>\n",
       "      <td>0</td>\n",
       "      <td>5.291003</td>\n",
       "    </tr>\n",
       "  </tbody>\n",
       "</table>\n",
       "<p>2372 rows × 11 columns</p>\n",
       "</div>"
      ],
      "text/plain": [
       "       station_id      lat     long   forecast     gridpp  observations  year  \\\n",
       "33        SN50850  60.3570   5.4515  14.879395  18.162292          24.3  2019   \n",
       "845       SN39040  58.2000   8.0767  15.283203  15.878662          10.4  2019   \n",
       "864       SN26996  59.6473  10.1052  12.253418  13.691803           4.7  2019   \n",
       "899       SN50850  60.3570   5.4515  13.398926  16.047211          22.5  2019   \n",
       "911       SN40250  59.1972   7.5273  17.608887  23.547791          18.1  2019   \n",
       "...           ...      ...      ...        ...        ...           ...   ...   \n",
       "307326    SN63940  62.2767   9.5877  -9.177002  -7.644165         -15.3  2019   \n",
       "307342     SN9160  62.1282   9.9947  -6.249756  -7.312317         -14.0  2019   \n",
       "307441    SN70960  64.3333  12.3410  -1.467041  -0.020355          -5.3  2019   \n",
       "307444    SN65275  63.2280   9.3853  -2.355713  -3.005493           2.0  2019   \n",
       "307572    SN26996  59.6473  10.1052  -1.208252   0.091003          -5.2  2019   \n",
       "\n",
       "        month  day  hour  gridpp_error  \n",
       "33          6   28    18      6.137708  \n",
       "845         6   28     0      5.478662  \n",
       "864         6   28     0      8.991803  \n",
       "899         6   27    18      6.452789  \n",
       "911         6   27    18      5.447791  \n",
       "...       ...  ...   ...           ...  \n",
       "307326     12   13     6      7.655835  \n",
       "307342     12   13     6      6.687683  \n",
       "307441     12   13     0      5.279645  \n",
       "307444     12   13     0      5.005493  \n",
       "307572     12   13     0      5.291003  \n",
       "\n",
       "[2372 rows x 11 columns]"
      ]
     },
     "execution_count": 17,
     "metadata": {},
     "output_type": "execute_result"
    }
   ],
   "source": [
    "train[train.gridpp_error > 5]"
   ]
  },
  {
   "cell_type": "code",
   "execution_count": 18,
   "metadata": {},
   "outputs": [],
   "source": [
    "train = train[train.gridpp_error < 5]"
   ]
  },
  {
   "cell_type": "markdown",
   "metadata": {},
   "source": [
    "## Bencmarks"
   ]
  },
  {
   "cell_type": "markdown",
   "metadata": {},
   "source": [
    "Observation"
   ]
  },
  {
   "cell_type": "code",
   "execution_count": 19,
   "metadata": {},
   "outputs": [
    {
     "name": "stdout",
     "output_type": "stream",
     "text": [
      "1.8201417129528206\n",
      "4.333871112170521\n",
      "5.163140507233536\n"
     ]
    }
   ],
   "source": [
    "for item in datasets:\n",
    "    print(np.sqrt(mean_squared_error(item.observations, item.forecast)))\n"
   ]
  },
  {
   "cell_type": "markdown",
   "metadata": {},
   "source": [
    "Gridpp"
   ]
  },
  {
   "cell_type": "code",
   "execution_count": 20,
   "metadata": {},
   "outputs": [
    {
     "name": "stdout",
     "output_type": "stream",
     "text": [
      "1.2474142010513587\n",
      "1.2252011567650094\n",
      "1.5691188233092717\n"
     ]
    }
   ],
   "source": [
    "for item in datasets:\n",
    "    print(np.sqrt(mean_squared_error(item.observations, item.gridpp)))"
   ]
  },
  {
   "cell_type": "markdown",
   "metadata": {
    "id": "EU7eNDsVqI7D"
   },
   "source": [
    "## *Separando Train, Test e Validation*"
   ]
  },
  {
   "cell_type": "code",
   "execution_count": 22,
   "metadata": {
    "colab": {
     "base_uri": "https://localhost:8080/"
    },
    "id": "K8V30lsmqd1e",
    "outputId": "698403b6-ebf5-4fb2-d6f5-385850cec1f8"
   },
   "outputs": [],
   "source": [
    "#Variáveis de tempo serão tratadas como categóricas por enquanto\n",
    "list_to_object = ['year', 'month', 'day', 'hour']\n",
    "\n",
    "\n",
    "for column in list_to_object:\n",
    "    train = train.astype({column: 'object'})\n",
    "\n",
    "for column in list_to_object:\n",
    "    val = val.astype({column: 'object'})\n",
    "\n",
    "for column in list_to_object:\n",
    "    test = test.astype({column: 'object'})"
   ]
  },
  {
   "cell_type": "code",
   "execution_count": 21,
   "metadata": {},
   "outputs": [
    {
     "name": "stdout",
     "output_type": "stream",
     "text": [
      "<class 'pandas.core.frame.DataFrame'>\n",
      "Int64Index: 305438 entries, 0 to 308031\n",
      "Data columns (total 11 columns):\n",
      " #   Column        Non-Null Count   Dtype  \n",
      "---  ------        --------------   -----  \n",
      " 0   station_id    305438 non-null  object \n",
      " 1   lat           305438 non-null  float64\n",
      " 2   long          305438 non-null  float64\n",
      " 3   forecast      305438 non-null  float64\n",
      " 4   gridpp        305438 non-null  float64\n",
      " 5   observations  305438 non-null  float64\n",
      " 6   year          305438 non-null  object \n",
      " 7   month         305438 non-null  object \n",
      " 8   day           305438 non-null  object \n",
      " 9   hour          305438 non-null  object \n",
      " 10  gridpp_error  305438 non-null  float64\n",
      "dtypes: float64(6), object(5)\n",
      "memory usage: 28.0+ MB\n"
     ]
    }
   ],
   "source": [
    "train.info()"
   ]
  },
  {
   "cell_type": "code",
   "execution_count": 23,
   "metadata": {
    "id": "sqMGMQ6JqlcZ"
   },
   "outputs": [],
   "source": [
    "train.drop(['station_id', 'year', 'gridpp_error'], axis=1, inplace=True)\n",
    "val.drop(['station_id', 'year'], axis=1, inplace=True)\n",
    "test.drop(['station_id', 'year'], axis=1, inplace=True)\n"
   ]
  },
  {
   "cell_type": "code",
   "execution_count": 24,
   "metadata": {},
   "outputs": [
    {
     "name": "stdout",
     "output_type": "stream",
     "text": [
      "Index(['lat', 'long', 'forecast', 'gridpp', 'observations', 'month', 'day',\n",
      "       'hour'],\n",
      "      dtype='object')\n",
      "Index(['lat', 'long', 'forecast', 'gridpp', 'observations', 'month', 'day',\n",
      "       'hour'],\n",
      "      dtype='object')\n",
      "Index(['lat', 'long', 'forecast', 'gridpp', 'observations', 'month', 'day',\n",
      "       'hour'],\n",
      "      dtype='object')\n"
     ]
    }
   ],
   "source": [
    "print(train.columns)\n",
    "print(val.columns)\n",
    "print(test.columns)"
   ]
  },
  {
   "cell_type": "code",
   "execution_count": null,
   "metadata": {},
   "outputs": [],
   "source": []
  },
  {
   "cell_type": "code",
   "execution_count": 25,
   "metadata": {
    "id": "f4z6RXa-qG-p"
   },
   "outputs": [],
   "source": [
    "X_train = train.drop(columns=['observations'])\n",
    "y_train = train['observations']\n",
    "\n",
    "X_val = val.drop(columns=['observations'])\n",
    "y_val = val['observations']\n",
    "\n",
    "X_test = test.drop(columns=['observations'])\n",
    "y_test = test['observations']"
   ]
  },
  {
   "cell_type": "code",
   "execution_count": 26,
   "metadata": {
    "colab": {
     "base_uri": "https://localhost:8080/"
    },
    "id": "NamZqDmXrZf6",
    "outputId": "391666b2-f845-459e-84d0-da9711a1aabb"
   },
   "outputs": [
    {
     "name": "stdout",
     "output_type": "stream",
     "text": [
      "(305438, 7)\n",
      "(310159, 7)\n",
      "(308107, 7)\n",
      "(305438,)\n",
      "(310159,)\n",
      "(308107,)\n"
     ]
    }
   ],
   "source": [
    "print(X_train.shape)\n",
    "print(X_test.shape)\n",
    "print(X_val.shape)\n",
    "\n",
    "print(y_train.shape)\n",
    "print(y_test.shape)\n",
    "print(y_val.shape)"
   ]
  },
  {
   "cell_type": "code",
   "execution_count": 27,
   "metadata": {
    "id": "ims4qaVhqWvj"
   },
   "outputs": [],
   "source": [
    "def prepare_data(X, y, encoder = None, scaler = None, scaler_y = None):\n",
    "    cat = X.select_dtypes(include='object')\n",
    "    num = X.select_dtypes('float64')\n",
    "\n",
    "    if encoder is not None:\n",
    "        cat_encoded = encoder.transform(cat)\n",
    "        cat_encoded = cat_encoded.toarray()\n",
    "\n",
    "        num_scaled = scaler.transform(num)\n",
    "        y = scaler_y.transform(y.values.reshape(-1, 1))\n",
    "    else:\n",
    "        encoder = OneHotEncoder(handle_unknown='ignore')\n",
    "        encoder.fit(cat)\n",
    "        cat_encoded = encoder.transform(cat)\n",
    "        cat_encoded = cat_encoded.toarray()\n",
    "\n",
    "        scaler = StandardScaler()\n",
    "        scaler.fit(num)\n",
    "        num_scaled = scaler.transform(num)\n",
    "\n",
    "        scaler_y = StandardScaler()\n",
    "        scaler_y.fit(np.array(y).reshape(-1, 1))\n",
    "        y = scaler_y.transform(np.array(y).reshape(-1, 1))\n",
    "\n",
    "    t = np.append(num_scaled, cat_encoded, axis = 1)\n",
    "\n",
    "    return t, y, encoder, scaler, scaler_y\n"
   ]
  },
  {
   "cell_type": "code",
   "execution_count": 28,
   "metadata": {},
   "outputs": [
    {
     "name": "stdout",
     "output_type": "stream",
     "text": [
      "<class 'pandas.core.frame.DataFrame'>\n",
      "Int64Index: 305438 entries, 0 to 308031\n",
      "Data columns (total 8 columns):\n",
      " #   Column        Non-Null Count   Dtype  \n",
      "---  ------        --------------   -----  \n",
      " 0   lat           305438 non-null  float64\n",
      " 1   long          305438 non-null  float64\n",
      " 2   forecast      305438 non-null  float64\n",
      " 3   gridpp        305438 non-null  float64\n",
      " 4   observations  305438 non-null  float64\n",
      " 5   month         305438 non-null  object \n",
      " 6   day           305438 non-null  object \n",
      " 7   hour          305438 non-null  object \n",
      "dtypes: float64(5), object(3)\n",
      "memory usage: 21.0+ MB\n"
     ]
    }
   ],
   "source": [
    "train.info()"
   ]
  },
  {
   "cell_type": "code",
   "execution_count": 29,
   "metadata": {
    "id": "EX8oO6NRs7a9"
   },
   "outputs": [],
   "source": [
    "X_train_enc, y_train_enc, encoder, scaler, scaler_y = prepare_data(X_train, y_train)"
   ]
  },
  {
   "cell_type": "code",
   "execution_count": 30,
   "metadata": {},
   "outputs": [
    {
     "data": {
      "text/plain": [
       "array([[-0.6943464 ,  0.04721351,  2.20871426, ...,  0.        ,\n",
       "         0.        ,  1.        ],\n",
       "       [ 0.63753216,  0.33543449,  0.75087502, ...,  0.        ,\n",
       "         0.        ,  1.        ],\n",
       "       [-0.54523544, -0.91588689,  1.38453986, ...,  0.        ,\n",
       "         0.        ,  1.        ],\n",
       "       ...,\n",
       "       [-0.08155892, -0.08266948, -0.79656461, ...,  0.        ,\n",
       "         1.        ,  0.        ],\n",
       "       [-0.77704566, -0.06288171, -0.51452845, ...,  0.        ,\n",
       "         1.        ,  0.        ],\n",
       "       [ 0.04434019,  0.16035301, -0.6976438 , ...,  0.        ,\n",
       "         1.        ,  0.        ]])"
      ]
     },
     "execution_count": 30,
     "metadata": {},
     "output_type": "execute_result"
    }
   ],
   "source": [
    "X_train_enc"
   ]
  },
  {
   "cell_type": "code",
   "execution_count": 31,
   "metadata": {
    "id": "QWMQybDStz3i"
   },
   "outputs": [],
   "source": [
    "X_test_enc, y_test_enc, _, _, _ = prepare_data(X_test, y_test, encoder, scaler, scaler_y)\n",
    "X_val_enc, y_val_enc, _, _, _ = prepare_data(X_val, y_val, encoder, scaler, scaler_y)"
   ]
  },
  {
   "cell_type": "code",
   "execution_count": 32,
   "metadata": {
    "colab": {
     "base_uri": "https://localhost:8080/"
    },
    "id": "O4At75L9q3g2",
    "outputId": "4e7ffa58-50bc-450d-cd7e-4f30e556ae12"
   },
   "outputs": [],
   "source": [
    "from pickle import dump"
   ]
  },
  {
   "cell_type": "code",
   "execution_count": 34,
   "metadata": {},
   "outputs": [],
   "source": [
    "dump(encoder, open('../data/v4/encoder.pkl', 'wb'))"
   ]
  },
  {
   "cell_type": "code",
   "execution_count": 35,
   "metadata": {},
   "outputs": [],
   "source": [
    "dump(scaler, open('../data/v4/scaler.pkl', 'wb'))\n",
    "dump(scaler_y, open('../data/v4/scaler_y.pkl', 'wb'))"
   ]
  },
  {
   "cell_type": "markdown",
   "metadata": {
    "id": "dMn6WPniuTD8"
   },
   "source": [
    "# Contruindo a Rede Neural"
   ]
  },
  {
   "cell_type": "markdown",
   "metadata": {},
   "source": [
    "### MLP"
   ]
  },
  {
   "cell_type": "code",
   "execution_count": 33,
   "metadata": {
    "id": "dcwadmA_uW1h"
   },
   "outputs": [],
   "source": [
    "from models import MLP0, CNN, UsefullModel\n",
    "from torch import nn, optim"
   ]
  },
  {
   "cell_type": "code",
   "execution_count": 34,
   "metadata": {
    "colab": {
     "base_uri": "https://localhost:8080/"
    },
    "id": "tVnljFkKu016",
    "outputId": "f2faf8f5-9dcd-4d83-d15e-5786f9ea4dc9"
   },
   "outputs": [],
   "source": [
    "input_size = X_train_enc.shape[1]\n",
    "h1, h2 = 64, 16\n",
    "model = MLP0(input_size, h1, h2)"
   ]
  },
  {
   "cell_type": "code",
   "execution_count": 35,
   "metadata": {},
   "outputs": [
    {
     "data": {
      "text/plain": [
       "MLP0(\n",
       "  (layer1): Linear(in_features=51, out_features=64, bias=True)\n",
       "  (layer2): Linear(in_features=64, out_features=16, bias=True)\n",
       "  (output): Linear(in_features=16, out_features=1, bias=True)\n",
       ")"
      ]
     },
     "execution_count": 35,
     "metadata": {},
     "output_type": "execute_result"
    }
   ],
   "source": [
    "model"
   ]
  },
  {
   "cell_type": "code",
   "execution_count": 36,
   "metadata": {},
   "outputs": [
    {
     "name": "stdout",
     "output_type": "stream",
     "text": [
      "Device --> cuda\n"
     ]
    }
   ],
   "source": [
    "mlp = UsefullModel(model)"
   ]
  },
  {
   "cell_type": "code",
   "execution_count": 37,
   "metadata": {
    "colab": {
     "background_save": true,
     "base_uri": "https://localhost:8080/"
    },
    "id": "PjVO00k2vy10",
    "outputId": "7c99410e-5cb1-4307-a4d4-d6383e2923dd",
    "scrolled": true,
    "tags": []
   },
   "outputs": [
    {
     "data": {
      "application/vnd.jupyter.widget-view+json": {
       "model_id": "253154c07306493ba62b162737791b1a",
       "version_major": 2,
       "version_minor": 0
      },
      "text/plain": [
       "  0%|          | 0/10000 [00:00<?, ?it/s]"
      ]
     },
     "metadata": {},
     "output_type": "display_data"
    }
   ],
   "source": [
    "mlp.fit('runs/mestrado/v4/MLP_64_16_Adam_1e3',\n",
    "        X_train = X_train_enc, \n",
    "        y_train = y_train_enc, \n",
    "        X_val = X_val_enc, \n",
    "        y_val = y_val_enc, \n",
    "        epochs = 10000,\n",
    "        optim = optim.Adam, \n",
    "        loss_function = nn.MSELoss())"
   ]
  },
  {
   "cell_type": "code",
   "execution_count": 38,
   "metadata": {},
   "outputs": [
    {
     "data": {
      "image/png": "[encoded data removed]",
      "text/plain": [
       "<Figure size 864x576 with 1 Axes>"
      ]
     },
     "metadata": {
      "needs_background": "light"
     },
     "output_type": "display_data"
    }
   ],
   "source": [
    "#Real vs. Previsto\n",
    "mlp.plot_example(X_train_enc, y_train_enc, 0, 800)"
   ]
  },
  {
   "cell_type": "code",
   "execution_count": 39,
   "metadata": {},
   "outputs": [
    {
     "name": "stdout",
     "output_type": "stream",
     "text": [
      "Train ---> RMSE: 0.9703627056233722\n",
      "Validation ---> RMSE: 1.1722764262444287\n",
      "Test ---> RMSE: 1.4711007803551344\n"
     ]
    }
   ],
   "source": [
    "mlp.evaluate(scaler_y, X_train_enc, y_train_enc, X_val_enc, y_val_enc, X_test_enc, y_test_enc)"
   ]
  },
  {
   "cell_type": "markdown",
   "metadata": {},
   "source": [
    "### Salva modelo"
   ]
  },
  {
   "cell_type": "code",
   "execution_count": 42,
   "metadata": {},
   "outputs": [
    {
     "name": "stdout",
     "output_type": "stream",
     "text": [
      "Saved as ../trained_models/MLP_64_16_Adam_1e3.pt!\n"
     ]
    }
   ],
   "source": [
    "mlp.save('../trained_models/v4/MLP_64_16_Adam_1e3.pt')"
   ]
  },
  {
   "cell_type": "markdown",
   "metadata": {},
   "source": [
    "### CNN"
   ]
  },
  {
   "cell_type": "code",
   "execution_count": null,
   "metadata": {},
   "outputs": [],
   "source": [
    "input_size = X_train_enc.shape[1]\n",
    "h1, h2 = 64, 16\n",
    "n_conv = 16\n",
    "kernel_size = 3\n",
    "model_cnn = CNN(input_size, n_conv, kernel_size, h1, h2)\n",
    "\n",
    "model_cnn"
   ]
  },
  {
   "cell_type": "code",
   "execution_count": null,
   "metadata": {},
   "outputs": [],
   "source": [
    "cnn = UsefullModel(model_cnn)"
   ]
  },
  {
   "cell_type": "code",
   "execution_count": null,
   "metadata": {},
   "outputs": [],
   "source": [
    "cnn.fit('runs/mestrado/v4/CNN_16C_64_16_Adam_1e3', \n",
    "        X_train = X_train_enc, \n",
    "        y_train = y_train_enc, \n",
    "        X_val = X_val_enc, \n",
    "        y_val = y_val_enc, \n",
    "        epochs = 10000,\n",
    "        optim = optim.Adam, \n",
    "        loss_function = nn.MSELoss())"
   ]
  },
  {
   "cell_type": "code",
   "execution_count": null,
   "metadata": {},
   "outputs": [],
   "source": [
    "#Real vs. Previsto\n",
    "cnn.plot_example(X_train_enc, y_train_enc, 0, 800)"
   ]
  },
  {
   "cell_type": "code",
   "execution_count": null,
   "metadata": {},
   "outputs": [],
   "source": [
    "cnn.evaluate(scaler_y, X_train_enc, y_train_enc, X_val_enc, y_val_enc, X_test_enc, y_test_enc)"
   ]
  },
  {
   "cell_type": "code",
   "execution_count": 41,
   "metadata": {},
   "outputs": [],
   "source": [
    "#mlp.load('teste_teste.pt')"
   ]
  },
  {
   "cell_type": "markdown",
   "metadata": {
    "collapsed": false
   },
   "source": [
    "### Extraindo para analisar labels"
   ]
  },
  {
   "cell_type": "code",
   "execution_count": 43,
   "metadata": {},
   "outputs": [
    {
     "data": {
      "text/html": [
       "<div>\n",
       "<style scoped>\n",
       "    .dataframe tbody tr th:only-of-type {\n",
       "        vertical-align: middle;\n",
       "    }\n",
       "\n",
       "    .dataframe tbody tr th {\n",
       "        vertical-align: top;\n",
       "    }\n",
       "\n",
       "    .dataframe thead th {\n",
       "        text-align: right;\n",
       "    }\n",
       "</style>\n",
       "<table border=\"1\" class=\"dataframe\">\n",
       "  <thead>\n",
       "    <tr style=\"text-align: right;\">\n",
       "      <th></th>\n",
       "      <th>lat</th>\n",
       "      <th>long</th>\n",
       "      <th>month</th>\n",
       "      <th>day</th>\n",
       "      <th>hour</th>\n",
       "      <th>forecast</th>\n",
       "      <th>gridpp</th>\n",
       "      <th>label</th>\n",
       "      <th>prediction</th>\n",
       "    </tr>\n",
       "  </thead>\n",
       "  <tbody>\n",
       "    <tr>\n",
       "      <th>0</th>\n",
       "      <td>59.2173</td>\n",
       "      <td>10.4103</td>\n",
       "      <td>9</td>\n",
       "      <td>18</td>\n",
       "      <td>12</td>\n",
       "      <td>15.777100</td>\n",
       "      <td>15.35254</td>\n",
       "      <td>16.0</td>\n",
       "      <td>15.008988</td>\n",
       "    </tr>\n",
       "    <tr>\n",
       "      <th>1</th>\n",
       "      <td>59.7310</td>\n",
       "      <td>10.2142</td>\n",
       "      <td>7</td>\n",
       "      <td>16</td>\n",
       "      <td>12</td>\n",
       "      <td>21.154300</td>\n",
       "      <td>21.37570</td>\n",
       "      <td>21.5</td>\n",
       "      <td>20.618235</td>\n",
       "    </tr>\n",
       "    <tr>\n",
       "      <th>2</th>\n",
       "      <td>62.2943</td>\n",
       "      <td>8.1255</td>\n",
       "      <td>1</td>\n",
       "      <td>31</td>\n",
       "      <td>0</td>\n",
       "      <td>-6.549620</td>\n",
       "      <td>-4.38705</td>\n",
       "      <td>-4.2</td>\n",
       "      <td>-4.054106</td>\n",
       "    </tr>\n",
       "    <tr>\n",
       "      <th>3</th>\n",
       "      <td>59.5310</td>\n",
       "      <td>10.2643</td>\n",
       "      <td>4</td>\n",
       "      <td>7</td>\n",
       "      <td>6</td>\n",
       "      <td>1.531000</td>\n",
       "      <td>1.50204</td>\n",
       "      <td>4.3</td>\n",
       "      <td>1.475455</td>\n",
       "    </tr>\n",
       "    <tr>\n",
       "      <th>4</th>\n",
       "      <td>61.5832</td>\n",
       "      <td>5.0278</td>\n",
       "      <td>2</td>\n",
       "      <td>20</td>\n",
       "      <td>0</td>\n",
       "      <td>4.130600</td>\n",
       "      <td>4.55000</td>\n",
       "      <td>4.4</td>\n",
       "      <td>4.475904</td>\n",
       "    </tr>\n",
       "    <tr>\n",
       "      <th>...</th>\n",
       "      <td>...</td>\n",
       "      <td>...</td>\n",
       "      <td>...</td>\n",
       "      <td>...</td>\n",
       "      <td>...</td>\n",
       "      <td>...</td>\n",
       "      <td>...</td>\n",
       "      <td>...</td>\n",
       "      <td>...</td>\n",
       "    </tr>\n",
       "    <tr>\n",
       "      <th>84386</th>\n",
       "      <td>60.8548</td>\n",
       "      <td>8.5930</td>\n",
       "      <td>1</td>\n",
       "      <td>23</td>\n",
       "      <td>0</td>\n",
       "      <td>-9.725520</td>\n",
       "      <td>-9.36844</td>\n",
       "      <td>-10.6</td>\n",
       "      <td>-9.638906</td>\n",
       "    </tr>\n",
       "    <tr>\n",
       "      <th>84387</th>\n",
       "      <td>69.6767</td>\n",
       "      <td>18.9133</td>\n",
       "      <td>6</td>\n",
       "      <td>4</td>\n",
       "      <td>6</td>\n",
       "      <td>10.546880</td>\n",
       "      <td>8.75000</td>\n",
       "      <td>8.6</td>\n",
       "      <td>8.430120</td>\n",
       "    </tr>\n",
       "    <tr>\n",
       "      <th>84388</th>\n",
       "      <td>60.5878</td>\n",
       "      <td>11.1470</td>\n",
       "      <td>10</td>\n",
       "      <td>5</td>\n",
       "      <td>18</td>\n",
       "      <td>3.680908</td>\n",
       "      <td>1.71164</td>\n",
       "      <td>0.4</td>\n",
       "      <td>0.663525</td>\n",
       "    </tr>\n",
       "    <tr>\n",
       "      <th>84389</th>\n",
       "      <td>60.8935</td>\n",
       "      <td>7.0557</td>\n",
       "      <td>3</td>\n",
       "      <td>26</td>\n",
       "      <td>6</td>\n",
       "      <td>-4.182740</td>\n",
       "      <td>-0.81143</td>\n",
       "      <td>-0.4</td>\n",
       "      <td>-0.627813</td>\n",
       "    </tr>\n",
       "    <tr>\n",
       "      <th>84390</th>\n",
       "      <td>59.5923</td>\n",
       "      <td>11.0950</td>\n",
       "      <td>3</td>\n",
       "      <td>10</td>\n",
       "      <td>6</td>\n",
       "      <td>-8.706480</td>\n",
       "      <td>-9.20407</td>\n",
       "      <td>-13.4</td>\n",
       "      <td>-10.544230</td>\n",
       "    </tr>\n",
       "  </tbody>\n",
       "</table>\n",
       "<p>84391 rows × 9 columns</p>\n",
       "</div>"
      ],
      "text/plain": [
       "           lat     long month day hour   forecast    gridpp  label  prediction\n",
       "0      59.2173  10.4103     9  18   12  15.777100  15.35254   16.0   15.008988\n",
       "1      59.7310  10.2142     7  16   12  21.154300  21.37570   21.5   20.618235\n",
       "2      62.2943   8.1255     1  31    0  -6.549620  -4.38705   -4.2   -4.054106\n",
       "3      59.5310  10.2643     4   7    6   1.531000   1.50204    4.3    1.475455\n",
       "4      61.5832   5.0278     2  20    0   4.130600   4.55000    4.4    4.475904\n",
       "...        ...      ...   ...  ..  ...        ...       ...    ...         ...\n",
       "84386  60.8548   8.5930     1  23    0  -9.725520  -9.36844  -10.6   -9.638906\n",
       "84387  69.6767  18.9133     6   4    6  10.546880   8.75000    8.6    8.430120\n",
       "84388  60.5878  11.1470    10   5   18   3.680908   1.71164    0.4    0.663525\n",
       "84389  60.8935   7.0557     3  26    6  -4.182740  -0.81143   -0.4   -0.627813\n",
       "84390  59.5923  11.0950     3  10    6  -8.706480  -9.20407  -13.4  -10.544230\n",
       "\n",
       "[84391 rows x 9 columns]"
      ]
     },
     "execution_count": 43,
     "metadata": {},
     "output_type": "execute_result"
    }
   ],
   "source": [
    "y_pred = mlp.predict(X_test_enc)\n",
    "y_pred = scaler_y.inverse_transform(y_pred)\n",
    "\n",
    "comparacao_test = pd.DataFrame(y_pred, columns=['prediction'])\n",
    "\n",
    "_y_test = y_test.reset_index(drop=True)\n",
    "comparacao_test['label'] = _y_test\n",
    "\n",
    "X_test.reset_index(drop=True, inplace=True)\n",
    "\n",
    "X_test['label'] = comparacao_test['label']\n",
    "X_test['prediction'] = comparacao_test['prediction']\n",
    "\n",
    "X_test"
   ]
  },
  {
   "cell_type": "code",
   "execution_count": 44,
   "metadata": {
    "collapsed": false,
    "pycharm": {
     "name": "#%%\n"
    }
   },
   "outputs": [],
   "source": [
    "X_test.to_csv('../data/predict/prediction_mlp_to_look.csv', index=False)"
   ]
  },
  {
   "cell_type": "markdown",
   "metadata": {
    "collapsed": false
   },
   "source": [
    "### Análise pos-processamento"
   ]
  },
  {
   "cell_type": "code",
   "execution_count": 42,
   "metadata": {
    "collapsed": false,
    "pycharm": {
     "name": "#%%\n"
    }
   },
   "outputs": [
    {
     "data": {
      "text/html": [
       "<div>\n",
       "<style scoped>\n",
       "    .dataframe tbody tr th:only-of-type {\n",
       "        vertical-align: middle;\n",
       "    }\n",
       "\n",
       "    .dataframe tbody tr th {\n",
       "        vertical-align: top;\n",
       "    }\n",
       "\n",
       "    .dataframe thead th {\n",
       "        text-align: right;\n",
       "    }\n",
       "</style>\n",
       "<table border=\"1\" class=\"dataframe\">\n",
       "  <thead>\n",
       "    <tr style=\"text-align: right;\">\n",
       "      <th></th>\n",
       "      <th>lat</th>\n",
       "      <th>long</th>\n",
       "      <th>month</th>\n",
       "      <th>day</th>\n",
       "      <th>hour</th>\n",
       "      <th>forecast</th>\n",
       "      <th>gridpp</th>\n",
       "      <th>observation</th>\n",
       "    </tr>\n",
       "  </thead>\n",
       "  <tbody>\n",
       "    <tr>\n",
       "      <th>0</th>\n",
       "      <td>59.9423</td>\n",
       "      <td>10.7200</td>\n",
       "      <td>5</td>\n",
       "      <td>13</td>\n",
       "      <td>12</td>\n",
       "      <td>12.47900</td>\n",
       "      <td>11.2500</td>\n",
       "      <td>11.1</td>\n",
       "    </tr>\n",
       "    <tr>\n",
       "      <th>1</th>\n",
       "      <td>66.9035</td>\n",
       "      <td>13.6460</td>\n",
       "      <td>5</td>\n",
       "      <td>13</td>\n",
       "      <td>12</td>\n",
       "      <td>4.09424</td>\n",
       "      <td>6.1500</td>\n",
       "      <td>6.0</td>\n",
       "    </tr>\n",
       "    <tr>\n",
       "      <th>2</th>\n",
       "      <td>62.2583</td>\n",
       "      <td>8.2000</td>\n",
       "      <td>5</td>\n",
       "      <td>13</td>\n",
       "      <td>12</td>\n",
       "      <td>1.81200</td>\n",
       "      <td>4.4500</td>\n",
       "      <td>4.3</td>\n",
       "    </tr>\n",
       "    <tr>\n",
       "      <th>3</th>\n",
       "      <td>61.4255</td>\n",
       "      <td>11.0803</td>\n",
       "      <td>5</td>\n",
       "      <td>13</td>\n",
       "      <td>12</td>\n",
       "      <td>8.86768</td>\n",
       "      <td>9.6500</td>\n",
       "      <td>9.5</td>\n",
       "    </tr>\n",
       "    <tr>\n",
       "      <th>4</th>\n",
       "      <td>61.1220</td>\n",
       "      <td>9.0630</td>\n",
       "      <td>5</td>\n",
       "      <td>13</td>\n",
       "      <td>12</td>\n",
       "      <td>7.61084</td>\n",
       "      <td>9.6586</td>\n",
       "      <td>8.6</td>\n",
       "    </tr>\n",
       "  </tbody>\n",
       "</table>\n",
       "</div>"
      ],
      "text/plain": [
       "       lat     long month day hour  forecast   gridpp  observation\n",
       "0  59.9423  10.7200     5  13   12  12.47900  11.2500         11.1\n",
       "1  66.9035  13.6460     5  13   12   4.09424   6.1500          6.0\n",
       "2  62.2583   8.2000     5  13   12   1.81200   4.4500          4.3\n",
       "3  61.4255  11.0803     5  13   12   8.86768   9.6500          9.5\n",
       "4  61.1220   9.0630     5  13   12   7.61084   9.6586          8.6"
      ]
     },
     "execution_count": 42,
     "metadata": {},
     "output_type": "execute_result"
    }
   ],
   "source": [
    "df.head()"
   ]
  },
  {
   "cell_type": "code",
   "execution_count": 43,
   "metadata": {
    "collapsed": false,
    "pycharm": {
     "name": "#%%\n"
    }
   },
   "outputs": [
    {
     "data": {
      "text/html": [
       "<div>\n",
       "<style scoped>\n",
       "    .dataframe tbody tr th:only-of-type {\n",
       "        vertical-align: middle;\n",
       "    }\n",
       "\n",
       "    .dataframe tbody tr th {\n",
       "        vertical-align: top;\n",
       "    }\n",
       "\n",
       "    .dataframe thead th {\n",
       "        text-align: right;\n",
       "    }\n",
       "</style>\n",
       "<table border=\"1\" class=\"dataframe\">\n",
       "  <thead>\n",
       "    <tr style=\"text-align: right;\">\n",
       "      <th></th>\n",
       "      <th>lat</th>\n",
       "      <th>long</th>\n",
       "      <th>month</th>\n",
       "      <th>day</th>\n",
       "      <th>hour</th>\n",
       "      <th>forecast</th>\n",
       "      <th>gridpp</th>\n",
       "    </tr>\n",
       "  </thead>\n",
       "  <tbody>\n",
       "    <tr>\n",
       "      <th>0</th>\n",
       "      <td>59.9423</td>\n",
       "      <td>10.7200</td>\n",
       "      <td>5</td>\n",
       "      <td>13</td>\n",
       "      <td>12</td>\n",
       "      <td>12.47900</td>\n",
       "      <td>11.2500</td>\n",
       "    </tr>\n",
       "    <tr>\n",
       "      <th>1</th>\n",
       "      <td>66.9035</td>\n",
       "      <td>13.6460</td>\n",
       "      <td>5</td>\n",
       "      <td>13</td>\n",
       "      <td>12</td>\n",
       "      <td>4.09424</td>\n",
       "      <td>6.1500</td>\n",
       "    </tr>\n",
       "    <tr>\n",
       "      <th>2</th>\n",
       "      <td>62.2583</td>\n",
       "      <td>8.2000</td>\n",
       "      <td>5</td>\n",
       "      <td>13</td>\n",
       "      <td>12</td>\n",
       "      <td>1.81200</td>\n",
       "      <td>4.4500</td>\n",
       "    </tr>\n",
       "    <tr>\n",
       "      <th>3</th>\n",
       "      <td>61.4255</td>\n",
       "      <td>11.0803</td>\n",
       "      <td>5</td>\n",
       "      <td>13</td>\n",
       "      <td>12</td>\n",
       "      <td>8.86768</td>\n",
       "      <td>9.6500</td>\n",
       "    </tr>\n",
       "    <tr>\n",
       "      <th>4</th>\n",
       "      <td>61.1220</td>\n",
       "      <td>9.0630</td>\n",
       "      <td>5</td>\n",
       "      <td>13</td>\n",
       "      <td>12</td>\n",
       "      <td>7.61084</td>\n",
       "      <td>9.6586</td>\n",
       "    </tr>\n",
       "  </tbody>\n",
       "</table>\n",
       "</div>"
      ],
      "text/plain": [
       "       lat     long month day hour  forecast   gridpp\n",
       "0  59.9423  10.7200     5  13   12  12.47900  11.2500\n",
       "1  66.9035  13.6460     5  13   12   4.09424   6.1500\n",
       "2  62.2583   8.2000     5  13   12   1.81200   4.4500\n",
       "3  61.4255  11.0803     5  13   12   8.86768   9.6500\n",
       "4  61.1220   9.0630     5  13   12   7.61084   9.6586"
      ]
     },
     "execution_count": 43,
     "metadata": {},
     "output_type": "execute_result"
    }
   ],
   "source": [
    "X.head()"
   ]
  },
  {
   "cell_type": "code",
   "execution_count": 44,
   "metadata": {
    "collapsed": false,
    "pycharm": {
     "name": "#%%\n"
    }
   },
   "outputs": [],
   "source": [
    "teste = X.iloc[0][:]"
   ]
  },
  {
   "cell_type": "code",
   "execution_count": 55,
   "metadata": {
    "collapsed": false,
    "pycharm": {
     "name": "#%%\n"
    }
   },
   "outputs": [
    {
     "data": {
      "text/plain": [
       "numpy.float64"
      ]
     },
     "execution_count": 55,
     "metadata": {},
     "output_type": "execute_result"
    }
   ],
   "source": [
    "type(y[0])"
   ]
  },
  {
   "cell_type": "code",
   "execution_count": 46,
   "metadata": {
    "collapsed": false,
    "pycharm": {
     "name": "#%%\n"
    }
   },
   "outputs": [
    {
     "data": {
      "text/plain": [
       "lat         59.9423\n",
       "long          10.72\n",
       "month             5\n",
       "day              13\n",
       "hour             12\n",
       "forecast     12.479\n",
       "gridpp        11.25\n",
       "Name: 0, dtype: object"
      ]
     },
     "execution_count": 46,
     "metadata": {},
     "output_type": "execute_result"
    }
   ],
   "source": [
    "teste"
   ]
  },
  {
   "cell_type": "code",
   "execution_count": 47,
   "metadata": {
    "collapsed": false,
    "pycharm": {
     "name": "#%%\n"
    }
   },
   "outputs": [
    {
     "data": {
      "text/plain": [
       "array([59.9423, 10.72, 5, 13, 12, 12.478999999999983, 11.25], dtype=object)"
      ]
     },
     "execution_count": 47,
     "metadata": {},
     "output_type": "execute_result"
    }
   ],
   "source": [
    "teste.to_numpy()"
   ]
  },
  {
   "cell_type": "code",
   "execution_count": 48,
   "metadata": {
    "collapsed": false,
    "pycharm": {
     "name": "#%%\n"
    }
   },
   "outputs": [
    {
     "data": {
      "text/plain": [
       "[59.9423, 10.72, 5, 13, 12, 12.478999999999983, 11.25]"
      ]
     },
     "execution_count": 48,
     "metadata": {},
     "output_type": "execute_result"
    }
   ],
   "source": [
    "teste.to_list()"
   ]
  },
  {
   "cell_type": "code",
   "execution_count": 49,
   "metadata": {
    "collapsed": false,
    "pycharm": {
     "name": "#%%\n"
    }
   },
   "outputs": [
    {
     "data": {
      "text/html": [
       "<div>\n",
       "<style scoped>\n",
       "    .dataframe tbody tr th:only-of-type {\n",
       "        vertical-align: middle;\n",
       "    }\n",
       "\n",
       "    .dataframe tbody tr th {\n",
       "        vertical-align: top;\n",
       "    }\n",
       "\n",
       "    .dataframe thead th {\n",
       "        text-align: right;\n",
       "    }\n",
       "</style>\n",
       "<table border=\"1\" class=\"dataframe\">\n",
       "  <thead>\n",
       "    <tr style=\"text-align: right;\">\n",
       "      <th></th>\n",
       "      <th>lat</th>\n",
       "      <th>long</th>\n",
       "      <th>month</th>\n",
       "      <th>day</th>\n",
       "      <th>hour</th>\n",
       "      <th>forecast</th>\n",
       "      <th>gridpp</th>\n",
       "    </tr>\n",
       "  </thead>\n",
       "  <tbody>\n",
       "    <tr>\n",
       "      <th>0</th>\n",
       "      <td>59.9423</td>\n",
       "      <td>10.72</td>\n",
       "      <td>5</td>\n",
       "      <td>13</td>\n",
       "      <td>12</td>\n",
       "      <td>12.479</td>\n",
       "      <td>11.25</td>\n",
       "    </tr>\n",
       "  </tbody>\n",
       "</table>\n",
       "</div>"
      ],
      "text/plain": [
       "       lat   long month day hour forecast gridpp\n",
       "0  59.9423  10.72     5  13   12   12.479  11.25"
      ]
     },
     "execution_count": 49,
     "metadata": {},
     "output_type": "execute_result"
    }
   ],
   "source": [
    "pd.DataFrame(teste.to_numpy().reshape(1,-1), columns=X.columns)"
   ]
  },
  {
   "cell_type": "code",
   "execution_count": 50,
   "metadata": {
    "collapsed": false,
    "pycharm": {
     "name": "#%%\n"
    }
   },
   "outputs": [
    {
     "data": {
      "text/html": [
       "<div>\n",
       "<style scoped>\n",
       "    .dataframe tbody tr th:only-of-type {\n",
       "        vertical-align: middle;\n",
       "    }\n",
       "\n",
       "    .dataframe tbody tr th {\n",
       "        vertical-align: top;\n",
       "    }\n",
       "\n",
       "    .dataframe thead th {\n",
       "        text-align: right;\n",
       "    }\n",
       "</style>\n",
       "<table border=\"1\" class=\"dataframe\">\n",
       "  <thead>\n",
       "    <tr style=\"text-align: right;\">\n",
       "      <th></th>\n",
       "      <th>lat</th>\n",
       "      <th>long</th>\n",
       "      <th>month</th>\n",
       "      <th>day</th>\n",
       "      <th>hour</th>\n",
       "      <th>forecast</th>\n",
       "      <th>gridpp</th>\n",
       "    </tr>\n",
       "  </thead>\n",
       "  <tbody>\n",
       "    <tr>\n",
       "      <th>332553</th>\n",
       "      <td>59.1895</td>\n",
       "      <td>5.1837</td>\n",
       "      <td>10</td>\n",
       "      <td>27</td>\n",
       "      <td>6</td>\n",
       "      <td>7.396480</td>\n",
       "      <td>5.96063</td>\n",
       "    </tr>\n",
       "    <tr>\n",
       "      <th>171409</th>\n",
       "      <td>64.1587</td>\n",
       "      <td>12.4692</td>\n",
       "      <td>7</td>\n",
       "      <td>3</td>\n",
       "      <td>18</td>\n",
       "      <td>5.749760</td>\n",
       "      <td>5.81186</td>\n",
       "    </tr>\n",
       "    <tr>\n",
       "      <th>663594</th>\n",
       "      <td>61.4582</td>\n",
       "      <td>10.1872</td>\n",
       "      <td>2</td>\n",
       "      <td>7</td>\n",
       "      <td>12</td>\n",
       "      <td>-5.336120</td>\n",
       "      <td>-10.65000</td>\n",
       "    </tr>\n",
       "    <tr>\n",
       "      <th>178261</th>\n",
       "      <td>71.0330</td>\n",
       "      <td>27.8298</td>\n",
       "      <td>8</td>\n",
       "      <td>31</td>\n",
       "      <td>12</td>\n",
       "      <td>16.599370</td>\n",
       "      <td>13.25000</td>\n",
       "    </tr>\n",
       "    <tr>\n",
       "      <th>305658</th>\n",
       "      <td>60.7022</td>\n",
       "      <td>6.9373</td>\n",
       "      <td>9</td>\n",
       "      <td>7</td>\n",
       "      <td>6</td>\n",
       "      <td>3.744870</td>\n",
       "      <td>5.69266</td>\n",
       "    </tr>\n",
       "    <tr>\n",
       "      <th>...</th>\n",
       "      <td>...</td>\n",
       "      <td>...</td>\n",
       "      <td>...</td>\n",
       "      <td>...</td>\n",
       "      <td>...</td>\n",
       "      <td>...</td>\n",
       "      <td>...</td>\n",
       "    </tr>\n",
       "    <tr>\n",
       "      <th>259178</th>\n",
       "      <td>62.5082</td>\n",
       "      <td>6.0762</td>\n",
       "      <td>9</td>\n",
       "      <td>26</td>\n",
       "      <td>18</td>\n",
       "      <td>11.987550</td>\n",
       "      <td>12.59985</td>\n",
       "    </tr>\n",
       "    <tr>\n",
       "      <th>366458</th>\n",
       "      <td>60.8562</td>\n",
       "      <td>5.9733</td>\n",
       "      <td>10</td>\n",
       "      <td>11</td>\n",
       "      <td>0</td>\n",
       "      <td>4.137207</td>\n",
       "      <td>6.35000</td>\n",
       "    </tr>\n",
       "    <tr>\n",
       "      <th>131932</th>\n",
       "      <td>59.8558</td>\n",
       "      <td>10.4358</td>\n",
       "      <td>7</td>\n",
       "      <td>19</td>\n",
       "      <td>18</td>\n",
       "      <td>16.840580</td>\n",
       "      <td>18.39590</td>\n",
       "    </tr>\n",
       "    <tr>\n",
       "      <th>671775</th>\n",
       "      <td>65.1103</td>\n",
       "      <td>6.7912</td>\n",
       "      <td>2</td>\n",
       "      <td>4</td>\n",
       "      <td>6</td>\n",
       "      <td>3.232500</td>\n",
       "      <td>2.99136</td>\n",
       "    </tr>\n",
       "    <tr>\n",
       "      <th>121958</th>\n",
       "      <td>59.9127</td>\n",
       "      <td>5.4880</td>\n",
       "      <td>7</td>\n",
       "      <td>24</td>\n",
       "      <td>0</td>\n",
       "      <td>16.813230</td>\n",
       "      <td>16.19666</td>\n",
       "    </tr>\n",
       "  </tbody>\n",
       "</table>\n",
       "<p>681520 rows × 7 columns</p>\n",
       "</div>"
      ],
      "text/plain": [
       "            lat     long month day hour   forecast    gridpp\n",
       "332553  59.1895   5.1837    10  27    6   7.396480   5.96063\n",
       "171409  64.1587  12.4692     7   3   18   5.749760   5.81186\n",
       "663594  61.4582  10.1872     2   7   12  -5.336120 -10.65000\n",
       "178261  71.0330  27.8298     8  31   12  16.599370  13.25000\n",
       "305658  60.7022   6.9373     9   7    6   3.744870   5.69266\n",
       "...         ...      ...   ...  ..  ...        ...       ...\n",
       "259178  62.5082   6.0762     9  26   18  11.987550  12.59985\n",
       "366458  60.8562   5.9733    10  11    0   4.137207   6.35000\n",
       "131932  59.8558  10.4358     7  19   18  16.840580  18.39590\n",
       "671775  65.1103   6.7912     2   4    6   3.232500   2.99136\n",
       "121958  59.9127   5.4880     7  24    0  16.813230  16.19666\n",
       "\n",
       "[681520 rows x 7 columns]"
      ]
     },
     "execution_count": 50,
     "metadata": {},
     "output_type": "execute_result"
    }
   ],
   "source": [
    "X_train"
   ]
  },
  {
   "cell_type": "code",
   "execution_count": 51,
   "metadata": {
    "collapsed": false,
    "pycharm": {
     "name": "#%%\n"
    }
   },
   "outputs": [],
   "source": [
    "d = {\n",
    "    'lat': [59.9423],\n",
    "    'long': [10.7200],\n",
    "    'month': [5],\n",
    "    'day': [13],\n",
    "    'hour': [12],\n",
    "    'forecast': [12.49],\n",
    "    'gridpp': [11.25]\n",
    "}"
   ]
  },
  {
   "cell_type": "code",
   "execution_count": 52,
   "metadata": {
    "collapsed": false,
    "pycharm": {
     "name": "#%%\n"
    }
   },
   "outputs": [
    {
     "data": {
      "text/plain": [
       "{'lat': [59.9423],\n",
       " 'long': [10.72],\n",
       " 'month': [5],\n",
       " 'day': [13],\n",
       " 'hour': [12],\n",
       " 'forecast': [12.49],\n",
       " 'gridpp': [11.25]}"
      ]
     },
     "execution_count": 52,
     "metadata": {},
     "output_type": "execute_result"
    }
   ],
   "source": [
    "d"
   ]
  },
  {
   "cell_type": "code",
   "execution_count": 53,
   "metadata": {
    "collapsed": false,
    "pycharm": {
     "name": "#%%\n"
    }
   },
   "outputs": [
    {
     "data": {
      "text/html": [
       "<div>\n",
       "<style scoped>\n",
       "    .dataframe tbody tr th:only-of-type {\n",
       "        vertical-align: middle;\n",
       "    }\n",
       "\n",
       "    .dataframe tbody tr th {\n",
       "        vertical-align: top;\n",
       "    }\n",
       "\n",
       "    .dataframe thead th {\n",
       "        text-align: right;\n",
       "    }\n",
       "</style>\n",
       "<table border=\"1\" class=\"dataframe\">\n",
       "  <thead>\n",
       "    <tr style=\"text-align: right;\">\n",
       "      <th></th>\n",
       "      <th>lat</th>\n",
       "      <th>long</th>\n",
       "      <th>month</th>\n",
       "      <th>day</th>\n",
       "      <th>hour</th>\n",
       "      <th>forecast</th>\n",
       "      <th>gridpp</th>\n",
       "    </tr>\n",
       "  </thead>\n",
       "  <tbody>\n",
       "    <tr>\n",
       "      <th>0</th>\n",
       "      <td>59.9423</td>\n",
       "      <td>10.72</td>\n",
       "      <td>5</td>\n",
       "      <td>13</td>\n",
       "      <td>12</td>\n",
       "      <td>12.49</td>\n",
       "      <td>11.25</td>\n",
       "    </tr>\n",
       "  </tbody>\n",
       "</table>\n",
       "</div>"
      ],
      "text/plain": [
       "       lat   long  month  day  hour  forecast  gridpp\n",
       "0  59.9423  10.72      5   13    12     12.49   11.25"
      ]
     },
     "execution_count": 53,
     "metadata": {},
     "output_type": "execute_result"
    }
   ],
   "source": [
    "pd.DataFrame(d)"
   ]
  },
  {
   "cell_type": "code",
   "execution_count": 54,
   "metadata": {
    "collapsed": false,
    "pycharm": {
     "name": "#%%\n"
    }
   },
   "outputs": [
    {
     "data": {
      "text/html": [
       "<div>\n",
       "<style scoped>\n",
       "    .dataframe tbody tr th:only-of-type {\n",
       "        vertical-align: middle;\n",
       "    }\n",
       "\n",
       "    .dataframe tbody tr th {\n",
       "        vertical-align: top;\n",
       "    }\n",
       "\n",
       "    .dataframe thead th {\n",
       "        text-align: right;\n",
       "    }\n",
       "</style>\n",
       "<table border=\"1\" class=\"dataframe\">\n",
       "  <thead>\n",
       "    <tr style=\"text-align: right;\">\n",
       "      <th></th>\n",
       "      <th>lat</th>\n",
       "      <th>long</th>\n",
       "      <th>month</th>\n",
       "      <th>day</th>\n",
       "      <th>hour</th>\n",
       "      <th>forecast</th>\n",
       "      <th>gridpp</th>\n",
       "    </tr>\n",
       "  </thead>\n",
       "  <tbody>\n",
       "    <tr>\n",
       "      <th>0</th>\n",
       "      <td>59.9423</td>\n",
       "      <td>10.72</td>\n",
       "      <td>5</td>\n",
       "      <td>13</td>\n",
       "      <td>12</td>\n",
       "      <td>12.49</td>\n",
       "      <td>11.25</td>\n",
       "    </tr>\n",
       "  </tbody>\n",
       "</table>\n",
       "</div>"
      ],
      "text/plain": [
       "       lat   long  month  day  hour  forecast  gridpp\n",
       "0  59.9423  10.72      5   13    12     12.49   11.25"
      ]
     },
     "execution_count": 54,
     "metadata": {},
     "output_type": "execute_result"
    }
   ],
   "source": [
    "to_test = pd.DataFrame(d)\n",
    "to_test"
   ]
  },
  {
   "cell_type": "code",
   "execution_count": 60,
   "metadata": {
    "collapsed": false,
    "pycharm": {
     "name": "#%%\n"
    }
   },
   "outputs": [],
   "source": [
    "def set_types(df):\n",
    "    df = df.astype({'month': 'object'})\n",
    "    df = df.astype({'day': 'object'})\n",
    "    df = df.astype({'hour': 'object'})\n",
    "\n",
    "    return df"
   ]
  },
  {
   "cell_type": "code",
   "execution_count": 61,
   "metadata": {
    "collapsed": false,
    "pycharm": {
     "name": "#%%\n"
    }
   },
   "outputs": [
    {
     "data": {
      "text/plain": [
       "lat         float64\n",
       "long        float64\n",
       "month        object\n",
       "day          object\n",
       "hour         object\n",
       "forecast    float64\n",
       "gridpp      float64\n",
       "dtype: object"
      ]
     },
     "execution_count": 61,
     "metadata": {},
     "output_type": "execute_result"
    }
   ],
   "source": [
    "to_test = set_types(to_test)\n",
    "to_test.dtypes"
   ]
  },
  {
   "cell_type": "code",
   "execution_count": 66,
   "metadata": {
    "collapsed": false,
    "pycharm": {
     "name": "#%%\n"
    }
   },
   "outputs": [],
   "source": [
    "_x, _y, _, _, _ = prepare_data(to_test, pd.Series(11), encoder, scaler, scaler_y)"
   ]
  },
  {
   "cell_type": "code",
   "execution_count": 67,
   "metadata": {
    "collapsed": false,
    "pycharm": {
     "name": "#%%\n"
    }
   },
   "outputs": [
    {
     "data": {
      "text/plain": [
       "array([[-0.68935078,  0.03367807,  0.97259308,  0.74305766,  0.        ,\n",
       "         0.        ,  0.        ,  0.        ,  1.        ,  0.        ,\n",
       "         0.        ,  0.        ,  0.        ,  0.        ,  0.        ,\n",
       "         0.        ,  0.        ,  0.        ,  0.        ,  0.        ,\n",
       "         0.        ,  0.        ,  0.        ,  0.        ,  0.        ,\n",
       "         0.        ,  0.        ,  0.        ,  1.        ,  0.        ,\n",
       "         0.        ,  0.        ,  0.        ,  0.        ,  0.        ,\n",
       "         0.        ,  0.        ,  0.        ,  0.        ,  0.        ,\n",
       "         0.        ,  0.        ,  0.        ,  0.        ,  0.        ,\n",
       "         0.        ,  0.        ,  0.        ,  0.        ,  1.        ,\n",
       "         0.        ]])"
      ]
     },
     "execution_count": 67,
     "metadata": {},
     "output_type": "execute_result"
    }
   ],
   "source": [
    "_x"
   ]
  },
  {
   "cell_type": "code",
   "execution_count": 68,
   "metadata": {
    "collapsed": false,
    "pycharm": {
     "name": "#%%\n"
    }
   },
   "outputs": [
    {
     "data": {
      "text/plain": [
       "array([[0.75413472]])"
      ]
     },
     "execution_count": 68,
     "metadata": {},
     "output_type": "execute_result"
    }
   ],
   "source": [
    "_y"
   ]
  },
  {
   "cell_type": "code",
   "execution_count": 70,
   "metadata": {
    "collapsed": false,
    "pycharm": {
     "name": "#%%\n"
    }
   },
   "outputs": [],
   "source": [
    "_pred = mlp.predict(_x)"
   ]
  },
  {
   "cell_type": "code",
   "execution_count": 71,
   "metadata": {
    "collapsed": false,
    "pycharm": {
     "name": "#%%\n"
    }
   },
   "outputs": [
    {
     "data": {
      "text/plain": [
       "array([[11.]])"
      ]
     },
     "execution_count": 71,
     "metadata": {},
     "output_type": "execute_result"
    }
   ],
   "source": [
    "scaler_y.inverse_transform(_y)"
   ]
  },
  {
   "cell_type": "code",
   "execution_count": 84,
   "metadata": {
    "collapsed": false,
    "pycharm": {
     "name": "#%%\n"
    }
   },
   "outputs": [
    {
     "data": {
      "text/plain": [
       "array([[0.70605177]], dtype=float32)"
      ]
     },
     "execution_count": 84,
     "metadata": {},
     "output_type": "execute_result"
    }
   ],
   "source": [
    "_pred"
   ]
  },
  {
   "cell_type": "code",
   "execution_count": 72,
   "metadata": {
    "collapsed": false,
    "pycharm": {
     "name": "#%%\n"
    }
   },
   "outputs": [
    {
     "data": {
      "text/plain": [
       "array([[10.614629]], dtype=float32)"
      ]
     },
     "execution_count": 72,
     "metadata": {},
     "output_type": "execute_result"
    }
   ],
   "source": [
    "scaler_y.inverse_transform(_pred)"
   ]
  },
  {
   "cell_type": "code",
   "execution_count": 89,
   "metadata": {
    "collapsed": false,
    "pycharm": {
     "name": "#%%\n"
    }
   },
   "outputs": [],
   "source": [
    "def unit_test(model, lat, long, month, day, hour, forecast, gridpp, encoder, scaler):\n",
    "    d = {\n",
    "        'lat': [lat],\n",
    "        'long': [long],\n",
    "        'month': [month],\n",
    "        'day': [day],\n",
    "        'hour': [hour],\n",
    "        'forecast': [forecast],\n",
    "        'gridpp': [gridpp]\n",
    "    }\n",
    "\n",
    "    df = pd.DataFrame(d)\n",
    "\n",
    "\n",
    "    df = set_types(df)\n",
    "    print(df)\n",
    "\n",
    "    _x, _, _, _, _ = prepare_data(df, pd.Series(11), encoder, scaler, scaler_y)\n",
    "\n",
    "    return model.predict(_x)"
   ]
  },
  {
   "cell_type": "code",
   "execution_count": 90,
   "metadata": {
    "collapsed": false,
    "pycharm": {
     "name": "#%%\n"
    }
   },
   "outputs": [
    {
     "name": "stdout",
     "output_type": "stream",
     "text": [
      "    lat  long month day hour  forecast  gridpp\n",
      "0  60.0  10.0     5  13   12      12.5   11.25\n"
     ]
    },
    {
     "data": {
      "text/plain": [
       "array([[0.7168124]], dtype=float32)"
      ]
     },
     "execution_count": 90,
     "metadata": {},
     "output_type": "execute_result"
    }
   ],
   "source": [
    "unit_test(mlp, 60.0, 10.0, 5, 13, 12, 12.5, 11.25, encoder, scaler)"
   ]
  }
 ],
 "metadata": {
  "accelerator": "TPU",
  "colab": {
   "collapsed_sections": [],
   "name": "met_no_2008_only.ipynb",
   "provenance": []
  },
  "kernelspec": {
   "display_name": "Python 3 (ipykernel)",
   "language": "python",
   "name": "python3"
  },
  "language_info": {
   "codemirror_mode": {
    "name": "ipython",
    "version": 3
   },
   "file_extension": ".py",
   "mimetype": "text/x-python",
   "name": "python",
   "nbconvert_exporter": "python",
   "pygments_lexer": "ipython3",
   "version": "3.9.7"
  }
 },
 "nbformat": 4,
 "nbformat_minor": 4
}
