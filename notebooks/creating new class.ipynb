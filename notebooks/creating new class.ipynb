{
 "cells": [
  {
   "cell_type": "code",
   "execution_count": 21,
   "metadata": {
    "collapsed": true
   },
   "outputs": [],
   "source": [
    "import numpy as np\n",
    "import pandas as pd\n",
    "import torch\n",
    "import utm\n",
    "import dgl\n",
    "from sklearn.preprocessing import StandardScaler\n",
    "import pickle"
   ]
  },
  {
   "cell_type": "code",
   "execution_count": 57,
   "outputs": [],
   "source": [
    "class WeatherDataset:\n",
    "    def __init__(self, name):\n",
    "        self.graph = None\n",
    "        self.features_columns = ['lat', 'long', 'year', 'month', 'day', 'hour', 'forecast', 'gridpp']\n",
    "        self.label_column = ['observation']\n",
    "        self.stations_dict = None\n",
    "        self.edges = None\n",
    "        self.distances = None\n",
    "        self.stations = None\n",
    "        self.n_nearest = None\n",
    "        self.dataframe = None\n",
    "        self.name = name\n",
    "        \n",
    "    def create(self, path=None, n_nearest: int = 5):\n",
    "        self.dataframe = pd.read_csv(path)\n",
    "        self.n_nearest = n_nearest\n",
    "        self.stations = self.dataframe.copy()\n",
    "        self.stations.drop_duplicates(subset=['station_id'], inplace=True)\n",
    "        self.__calculate_utm()\n",
    "        self.distances = self.calculate_stations_distances(np.array(self.stations.utm_x), np.array(self.stations.utm_y))\n",
    "        self.edges = self.__calculate_graph_structure_dataframe()\n",
    "        self.stations_dict = self.__create_stations_dict()\n",
    "\n",
    "        self.graph = self.__create_graph()\n",
    "\n",
    "    def to_utm(self, x):\n",
    "        \"\"\"\n",
    "        Transform lat/long coordinates in UTM\n",
    "        :param x: [lat, long]\n",
    "        :return: utm\n",
    "        \"\"\"\n",
    "        return utm.from_latlon(x[0], x[1])\n",
    "\n",
    "    def __calculate_utm(self):\n",
    "        self.stations['utm'] = self.stations[['lat', 'long']].apply(lambda x: self.to_utm(x), axis=1)\n",
    "        self.stations['utm_x'] = self.stations['utm'].apply(lambda x: x[0])\n",
    "        self.stations['utm_y'] = self.stations['utm'].apply(lambda x: x[1])\n",
    "\n",
    "    def calculate_stations_distances(self, x, y):\n",
    "        \"\"\"\n",
    "        Get arrays of coordinates and calculate the distance between each other\n",
    "        :param x: np.array\n",
    "        :param y: np.array\n",
    "        :return:\n",
    "        \"\"\"\n",
    "        distances = np.ndarray(shape=(x.shape[0] - 1, x.shape[0]))\n",
    "\n",
    "        for i in range(x.shape[0] - 1):\n",
    "            next_x = np.concatenate((x[i + 1:], x[:i + 1]), axis=None)\n",
    "            next_y = np.concatenate((y[i + 1:], y[:i + 1]), axis=None)\n",
    "\n",
    "            diff_x = x - next_x\n",
    "            diff_y = y - next_y\n",
    "\n",
    "            diff_x_square = diff_x ** 2\n",
    "            diff_y_square = diff_y ** 2\n",
    "\n",
    "            sum_square = diff_x_square + diff_y_square\n",
    "\n",
    "            distances[i] = np.sqrt(sum_square)\n",
    "\n",
    "        distances = distances.transpose()\n",
    "\n",
    "        return distances\n",
    "\n",
    "    def __calculate_graph_structure_dataframe(self):\n",
    "        \"\"\"\n",
    "        Get a distance array and the n_nearest param and return a DataFrame with the graph structure with edges\n",
    "        linking the n_nearest stations from each station\n",
    "\n",
    "        \"\"\"\n",
    "        distances = self.distances\n",
    "        n_nearest = self.n_nearest\n",
    "\n",
    "        i = 0\n",
    "        src = []\n",
    "        dst = []\n",
    "        weight = []\n",
    "        for r in distances.argsort()[:, :n_nearest]:\n",
    "            for value in r:\n",
    "                src.append(i)\n",
    "                dst.append(value)\n",
    "                weight.append(distances[i, value] / 1000)\n",
    "\n",
    "            i += 1\n",
    "\n",
    "        to_df = {\n",
    "            'src': src,\n",
    "            'dst': dst,\n",
    "            'weight': weight\n",
    "        }\n",
    "\n",
    "        return pd.DataFrame(to_df)\n",
    "\n",
    "    def __create_stations_dict(self):\n",
    "        stations_dict = self.stations[['station_id']].reset_index(drop=True).to_dict()['station_id']\n",
    "        new_dict = dict([(value, key) for key, value in stations_dict.items()])\n",
    "        self.dataframe['node'] = self.dataframe.station_id.apply(lambda x: new_dict[x])\n",
    "\n",
    "        return new_dict\n",
    "\n",
    "    def create_graph_structure(self, edges_data):\n",
    "        src = edges_data['src'].to_numpy()\n",
    "        dst = edges_data['dst'].to_numpy()\n",
    "\n",
    "        g = dgl.graph((src, dst))\n",
    "        return g\n",
    "\n",
    "    def __scale_data(self, features, labels):\n",
    "        self.scaler_x = StandardScaler()\n",
    "        self.scaler_y = StandardScaler()\n",
    "\n",
    "        self.scaler_x.fit(features.reshape(-1, features.shape[-1]))\n",
    "        self.scaler_y.fit(labels)\n",
    "\n",
    "        return self.scaler_x.transform(features.reshape(-1, features.shape[-1])).reshape(features.shape), self.scaler_y.transform(labels)\n",
    "\n",
    "    def __calculate_features_and_labels(self):\n",
    "        shape = np.array(self.stations.utm_x).shape[0]\n",
    "        max_rows = 1400 # Change that\n",
    "\n",
    "        features = np.ndarray(shape=(shape, max_rows, len(self.features_columns)))\n",
    "        labels = np.ndarray(shape=(shape, max_rows))\n",
    "\n",
    "\n",
    "        for node in self.dataframe.node.unique():\n",
    "\n",
    "            node_label = self.dataframe[self.dataframe.node == node][self.label_column].to_numpy()\n",
    "            node_feature = self.dataframe[self.dataframe.node == node][self.features_columns].to_numpy()\n",
    "\n",
    "            to_complete = int(max_rows - node_feature.shape[0])\n",
    "\n",
    "            if to_complete > node_feature.shape[0]:\n",
    "                time_to_repeat = np.floor(to_complete / node_feature.shape[0])\n",
    "\n",
    "                node_to_add = np.repeat(node_feature, time_to_repeat, axis=0)\n",
    "                label_to_add = np.repeat(node_label, time_to_repeat, axis=0)\n",
    "\n",
    "                left_to_add = to_complete - node_to_add.shape[0]\n",
    "\n",
    "                node_to_add = np.concatenate((node_to_add, node_feature[:left_to_add]))\n",
    "                label_to_add = np.concatenate((label_to_add, node_label[:left_to_add]))\n",
    "\n",
    "                features[node] = np.concatenate((node_feature, node_to_add), axis=0)\n",
    "                labels[node] = np.concatenate((node_label, label_to_add), axis=0).reshape(max_rows)\n",
    "                continue\n",
    "\n",
    "            features[node] = np.concatenate((node_feature, node_feature[:to_complete]), axis=0)\n",
    "            labels[node] = np.concatenate((node_label, node_label[:to_complete]), axis=0).reshape(max_rows)\n",
    "\n",
    "        return features, labels\n",
    "\n",
    "    def __create_graph(self):\n",
    "        features, labels = self.__calculate_features_and_labels()\n",
    "        features, labels = self.__scale_data(features, labels)\n",
    "        graph = self.create_graph_structure(self.edges)\n",
    "        graph.ndata['x'] = torch.from_numpy(features)\n",
    "        graph.ndata['y'] = torch.from_numpy(labels)\n",
    "\n",
    "        return graph\n",
    "    \n",
    "    def save(self):\n",
    "        pickle.dump(self, open(f'{self.name}.pkl', 'wb'))\n",
    "\n",
    "\n",
    "def read_weather_dataset(path):\n",
    "    return pickle.load(open(path, 'rb'))"
   ],
   "metadata": {
    "collapsed": false,
    "pycharm": {
     "name": "#%%\n"
    }
   }
  },
  {
   "cell_type": "code",
   "execution_count": 54,
   "outputs": [],
   "source": [
    "z = WeatherDataset('test1')"
   ],
   "metadata": {
    "collapsed": false,
    "pycharm": {
     "name": "#%%\n"
    }
   }
  },
  {
   "cell_type": "code",
   "execution_count": 55,
   "outputs": [],
   "source": [
    "z.create('../data/data_initial_preprocessing.csv')"
   ],
   "metadata": {
    "collapsed": false,
    "pycharm": {
     "name": "#%%\n"
    }
   }
  },
  {
   "cell_type": "code",
   "execution_count": 56,
   "outputs": [
    {
     "data": {
      "text/plain": "       station_id      lat     long  year  month  day  hour  forecast  \\\n0         SN18700  59.9423  10.7200  2019      5   13    12  12.47900   \n1         SN80740  66.9035  13.6460  2019      5   13    12   4.09424   \n2         SN61630  62.2583   8.2000  2019      5   13    12   1.81200   \n3          SN8140  61.4255  11.0803  2019      5   13    12   8.86768   \n4         SN23500  61.1220   9.0630  2019      5   13    12   7.61084   \n...           ...      ...      ...   ...    ...  ...   ...       ...   \n843910    SN61580  62.2943   8.1255  2019      5   13    18   2.25586   \n843911    SN24670  60.2684   9.6919  2019      5   13    18   9.25342   \n843912    SN90490  69.6767  18.9133  2019      5   13    18   3.75146   \n843913    SN77490  65.3143  13.4483  2019      5   13    18  -0.56055   \n843914    SN86740  68.6072  14.4347  2019      5   13    18   4.98193   \n\n          gridpp  observation  observation_quality  gridpp_error  node  \n0       11.25000         11.1                    0       0.15000     0  \n1        6.15000          6.0                    0       0.15000     1  \n2        4.45000          4.3                    0       0.15000     2  \n3        9.65000          9.5                    0       0.15000     3  \n4        9.65860          8.6                    0       1.05860     4  \n...          ...          ...                  ...           ...   ...  \n843910   5.17270          5.8                    0       0.62730   628  \n843911  11.92026         11.0                    0       0.92026   629  \n843912   3.25000          3.1                    0       0.15000   630  \n843913  -2.15744         -2.6                    0       0.44256   631  \n843914   5.31020          4.8                    0       0.51020   632  \n\n[843915 rows x 13 columns]",
      "text/html": "<div>\n<style scoped>\n    .dataframe tbody tr th:only-of-type {\n        vertical-align: middle;\n    }\n\n    .dataframe tbody tr th {\n        vertical-align: top;\n    }\n\n    .dataframe thead th {\n        text-align: right;\n    }\n</style>\n<table border=\"1\" class=\"dataframe\">\n  <thead>\n    <tr style=\"text-align: right;\">\n      <th></th>\n      <th>station_id</th>\n      <th>lat</th>\n      <th>long</th>\n      <th>year</th>\n      <th>month</th>\n      <th>day</th>\n      <th>hour</th>\n      <th>forecast</th>\n      <th>gridpp</th>\n      <th>observation</th>\n      <th>observation_quality</th>\n      <th>gridpp_error</th>\n      <th>node</th>\n    </tr>\n  </thead>\n  <tbody>\n    <tr>\n      <th>0</th>\n      <td>SN18700</td>\n      <td>59.9423</td>\n      <td>10.7200</td>\n      <td>2019</td>\n      <td>5</td>\n      <td>13</td>\n      <td>12</td>\n      <td>12.47900</td>\n      <td>11.25000</td>\n      <td>11.1</td>\n      <td>0</td>\n      <td>0.15000</td>\n      <td>0</td>\n    </tr>\n    <tr>\n      <th>1</th>\n      <td>SN80740</td>\n      <td>66.9035</td>\n      <td>13.6460</td>\n      <td>2019</td>\n      <td>5</td>\n      <td>13</td>\n      <td>12</td>\n      <td>4.09424</td>\n      <td>6.15000</td>\n      <td>6.0</td>\n      <td>0</td>\n      <td>0.15000</td>\n      <td>1</td>\n    </tr>\n    <tr>\n      <th>2</th>\n      <td>SN61630</td>\n      <td>62.2583</td>\n      <td>8.2000</td>\n      <td>2019</td>\n      <td>5</td>\n      <td>13</td>\n      <td>12</td>\n      <td>1.81200</td>\n      <td>4.45000</td>\n      <td>4.3</td>\n      <td>0</td>\n      <td>0.15000</td>\n      <td>2</td>\n    </tr>\n    <tr>\n      <th>3</th>\n      <td>SN8140</td>\n      <td>61.4255</td>\n      <td>11.0803</td>\n      <td>2019</td>\n      <td>5</td>\n      <td>13</td>\n      <td>12</td>\n      <td>8.86768</td>\n      <td>9.65000</td>\n      <td>9.5</td>\n      <td>0</td>\n      <td>0.15000</td>\n      <td>3</td>\n    </tr>\n    <tr>\n      <th>4</th>\n      <td>SN23500</td>\n      <td>61.1220</td>\n      <td>9.0630</td>\n      <td>2019</td>\n      <td>5</td>\n      <td>13</td>\n      <td>12</td>\n      <td>7.61084</td>\n      <td>9.65860</td>\n      <td>8.6</td>\n      <td>0</td>\n      <td>1.05860</td>\n      <td>4</td>\n    </tr>\n    <tr>\n      <th>...</th>\n      <td>...</td>\n      <td>...</td>\n      <td>...</td>\n      <td>...</td>\n      <td>...</td>\n      <td>...</td>\n      <td>...</td>\n      <td>...</td>\n      <td>...</td>\n      <td>...</td>\n      <td>...</td>\n      <td>...</td>\n      <td>...</td>\n    </tr>\n    <tr>\n      <th>843910</th>\n      <td>SN61580</td>\n      <td>62.2943</td>\n      <td>8.1255</td>\n      <td>2019</td>\n      <td>5</td>\n      <td>13</td>\n      <td>18</td>\n      <td>2.25586</td>\n      <td>5.17270</td>\n      <td>5.8</td>\n      <td>0</td>\n      <td>0.62730</td>\n      <td>628</td>\n    </tr>\n    <tr>\n      <th>843911</th>\n      <td>SN24670</td>\n      <td>60.2684</td>\n      <td>9.6919</td>\n      <td>2019</td>\n      <td>5</td>\n      <td>13</td>\n      <td>18</td>\n      <td>9.25342</td>\n      <td>11.92026</td>\n      <td>11.0</td>\n      <td>0</td>\n      <td>0.92026</td>\n      <td>629</td>\n    </tr>\n    <tr>\n      <th>843912</th>\n      <td>SN90490</td>\n      <td>69.6767</td>\n      <td>18.9133</td>\n      <td>2019</td>\n      <td>5</td>\n      <td>13</td>\n      <td>18</td>\n      <td>3.75146</td>\n      <td>3.25000</td>\n      <td>3.1</td>\n      <td>0</td>\n      <td>0.15000</td>\n      <td>630</td>\n    </tr>\n    <tr>\n      <th>843913</th>\n      <td>SN77490</td>\n      <td>65.3143</td>\n      <td>13.4483</td>\n      <td>2019</td>\n      <td>5</td>\n      <td>13</td>\n      <td>18</td>\n      <td>-0.56055</td>\n      <td>-2.15744</td>\n      <td>-2.6</td>\n      <td>0</td>\n      <td>0.44256</td>\n      <td>631</td>\n    </tr>\n    <tr>\n      <th>843914</th>\n      <td>SN86740</td>\n      <td>68.6072</td>\n      <td>14.4347</td>\n      <td>2019</td>\n      <td>5</td>\n      <td>13</td>\n      <td>18</td>\n      <td>4.98193</td>\n      <td>5.31020</td>\n      <td>4.8</td>\n      <td>0</td>\n      <td>0.51020</td>\n      <td>632</td>\n    </tr>\n  </tbody>\n</table>\n<p>843915 rows × 13 columns</p>\n</div>"
     },
     "execution_count": 56,
     "metadata": {},
     "output_type": "execute_result"
    }
   ],
   "source": [
    "z.dataframe"
   ],
   "metadata": {
    "collapsed": false,
    "pycharm": {
     "name": "#%%\n"
    }
   }
  },
  {
   "cell_type": "code",
   "execution_count": 47,
   "outputs": [],
   "source": [
    "z.save()"
   ],
   "metadata": {
    "collapsed": false,
    "pycharm": {
     "name": "#%%\n"
    }
   }
  },
  {
   "cell_type": "code",
   "execution_count": 60,
   "outputs": [],
   "source": [
    "zzz = read_weather_dataset('test1.pkl')"
   ],
   "metadata": {
    "collapsed": false,
    "pycharm": {
     "name": "#%%\n"
    }
   }
  },
  {
   "cell_type": "code",
   "execution_count": 61,
   "outputs": [
    {
     "data": {
      "text/plain": "       station_id      lat     long  year  month  day  hour  forecast  \\\n0         SN18700  59.9423  10.7200  2019      5   13    12  12.47900   \n1         SN80740  66.9035  13.6460  2019      5   13    12   4.09424   \n2         SN61630  62.2583   8.2000  2019      5   13    12   1.81200   \n3          SN8140  61.4255  11.0803  2019      5   13    12   8.86768   \n4         SN23500  61.1220   9.0630  2019      5   13    12   7.61084   \n...           ...      ...      ...   ...    ...  ...   ...       ...   \n843910    SN61580  62.2943   8.1255  2019      5   13    18   2.25586   \n843911    SN24670  60.2684   9.6919  2019      5   13    18   9.25342   \n843912    SN90490  69.6767  18.9133  2019      5   13    18   3.75146   \n843913    SN77490  65.3143  13.4483  2019      5   13    18  -0.56055   \n843914    SN86740  68.6072  14.4347  2019      5   13    18   4.98193   \n\n          gridpp  observation  observation_quality  gridpp_error  node  \n0       11.25000         11.1                    0       0.15000     0  \n1        6.15000          6.0                    0       0.15000     1  \n2        4.45000          4.3                    0       0.15000     2  \n3        9.65000          9.5                    0       0.15000     3  \n4        9.65860          8.6                    0       1.05860     4  \n...          ...          ...                  ...           ...   ...  \n843910   5.17270          5.8                    0       0.62730   628  \n843911  11.92026         11.0                    0       0.92026   629  \n843912   3.25000          3.1                    0       0.15000   630  \n843913  -2.15744         -2.6                    0       0.44256   631  \n843914   5.31020          4.8                    0       0.51020   632  \n\n[843915 rows x 13 columns]",
      "text/html": "<div>\n<style scoped>\n    .dataframe tbody tr th:only-of-type {\n        vertical-align: middle;\n    }\n\n    .dataframe tbody tr th {\n        vertical-align: top;\n    }\n\n    .dataframe thead th {\n        text-align: right;\n    }\n</style>\n<table border=\"1\" class=\"dataframe\">\n  <thead>\n    <tr style=\"text-align: right;\">\n      <th></th>\n      <th>station_id</th>\n      <th>lat</th>\n      <th>long</th>\n      <th>year</th>\n      <th>month</th>\n      <th>day</th>\n      <th>hour</th>\n      <th>forecast</th>\n      <th>gridpp</th>\n      <th>observation</th>\n      <th>observation_quality</th>\n      <th>gridpp_error</th>\n      <th>node</th>\n    </tr>\n  </thead>\n  <tbody>\n    <tr>\n      <th>0</th>\n      <td>SN18700</td>\n      <td>59.9423</td>\n      <td>10.7200</td>\n      <td>2019</td>\n      <td>5</td>\n      <td>13</td>\n      <td>12</td>\n      <td>12.47900</td>\n      <td>11.25000</td>\n      <td>11.1</td>\n      <td>0</td>\n      <td>0.15000</td>\n      <td>0</td>\n    </tr>\n    <tr>\n      <th>1</th>\n      <td>SN80740</td>\n      <td>66.9035</td>\n      <td>13.6460</td>\n      <td>2019</td>\n      <td>5</td>\n      <td>13</td>\n      <td>12</td>\n      <td>4.09424</td>\n      <td>6.15000</td>\n      <td>6.0</td>\n      <td>0</td>\n      <td>0.15000</td>\n      <td>1</td>\n    </tr>\n    <tr>\n      <th>2</th>\n      <td>SN61630</td>\n      <td>62.2583</td>\n      <td>8.2000</td>\n      <td>2019</td>\n      <td>5</td>\n      <td>13</td>\n      <td>12</td>\n      <td>1.81200</td>\n      <td>4.45000</td>\n      <td>4.3</td>\n      <td>0</td>\n      <td>0.15000</td>\n      <td>2</td>\n    </tr>\n    <tr>\n      <th>3</th>\n      <td>SN8140</td>\n      <td>61.4255</td>\n      <td>11.0803</td>\n      <td>2019</td>\n      <td>5</td>\n      <td>13</td>\n      <td>12</td>\n      <td>8.86768</td>\n      <td>9.65000</td>\n      <td>9.5</td>\n      <td>0</td>\n      <td>0.15000</td>\n      <td>3</td>\n    </tr>\n    <tr>\n      <th>4</th>\n      <td>SN23500</td>\n      <td>61.1220</td>\n      <td>9.0630</td>\n      <td>2019</td>\n      <td>5</td>\n      <td>13</td>\n      <td>12</td>\n      <td>7.61084</td>\n      <td>9.65860</td>\n      <td>8.6</td>\n      <td>0</td>\n      <td>1.05860</td>\n      <td>4</td>\n    </tr>\n    <tr>\n      <th>...</th>\n      <td>...</td>\n      <td>...</td>\n      <td>...</td>\n      <td>...</td>\n      <td>...</td>\n      <td>...</td>\n      <td>...</td>\n      <td>...</td>\n      <td>...</td>\n      <td>...</td>\n      <td>...</td>\n      <td>...</td>\n      <td>...</td>\n    </tr>\n    <tr>\n      <th>843910</th>\n      <td>SN61580</td>\n      <td>62.2943</td>\n      <td>8.1255</td>\n      <td>2019</td>\n      <td>5</td>\n      <td>13</td>\n      <td>18</td>\n      <td>2.25586</td>\n      <td>5.17270</td>\n      <td>5.8</td>\n      <td>0</td>\n      <td>0.62730</td>\n      <td>628</td>\n    </tr>\n    <tr>\n      <th>843911</th>\n      <td>SN24670</td>\n      <td>60.2684</td>\n      <td>9.6919</td>\n      <td>2019</td>\n      <td>5</td>\n      <td>13</td>\n      <td>18</td>\n      <td>9.25342</td>\n      <td>11.92026</td>\n      <td>11.0</td>\n      <td>0</td>\n      <td>0.92026</td>\n      <td>629</td>\n    </tr>\n    <tr>\n      <th>843912</th>\n      <td>SN90490</td>\n      <td>69.6767</td>\n      <td>18.9133</td>\n      <td>2019</td>\n      <td>5</td>\n      <td>13</td>\n      <td>18</td>\n      <td>3.75146</td>\n      <td>3.25000</td>\n      <td>3.1</td>\n      <td>0</td>\n      <td>0.15000</td>\n      <td>630</td>\n    </tr>\n    <tr>\n      <th>843913</th>\n      <td>SN77490</td>\n      <td>65.3143</td>\n      <td>13.4483</td>\n      <td>2019</td>\n      <td>5</td>\n      <td>13</td>\n      <td>18</td>\n      <td>-0.56055</td>\n      <td>-2.15744</td>\n      <td>-2.6</td>\n      <td>0</td>\n      <td>0.44256</td>\n      <td>631</td>\n    </tr>\n    <tr>\n      <th>843914</th>\n      <td>SN86740</td>\n      <td>68.6072</td>\n      <td>14.4347</td>\n      <td>2019</td>\n      <td>5</td>\n      <td>13</td>\n      <td>18</td>\n      <td>4.98193</td>\n      <td>5.31020</td>\n      <td>4.8</td>\n      <td>0</td>\n      <td>0.51020</td>\n      <td>632</td>\n    </tr>\n  </tbody>\n</table>\n<p>843915 rows × 13 columns</p>\n</div>"
     },
     "execution_count": 61,
     "metadata": {},
     "output_type": "execute_result"
    }
   ],
   "source": [
    "zzz.dataframe"
   ],
   "metadata": {
    "collapsed": false,
    "pycharm": {
     "name": "#%%\n"
    }
   }
  },
  {
   "cell_type": "code",
   "execution_count": 63,
   "outputs": [
    {
     "data": {
      "text/plain": "'test1'"
     },
     "execution_count": 63,
     "metadata": {},
     "output_type": "execute_result"
    }
   ],
   "source": [
    "zzz.name"
   ],
   "metadata": {
    "collapsed": false,
    "pycharm": {
     "name": "#%%\n"
    }
   }
  },
  {
   "cell_type": "code",
   "execution_count": 25,
   "outputs": [],
   "source": [
    "teste = WeatherDataset('../data/data_initial_preprocessing.csv')"
   ],
   "metadata": {
    "collapsed": false,
    "pycharm": {
     "name": "#%%\n"
    }
   }
  },
  {
   "cell_type": "code",
   "execution_count": 26,
   "outputs": [
    {
     "data": {
      "text/plain": "       station_id      lat     long  year  month  day  hour  forecast  \\\n0         SN18700  59.9423  10.7200  2019      5   13    12  12.47900   \n1         SN80740  66.9035  13.6460  2019      5   13    12   4.09424   \n2         SN61630  62.2583   8.2000  2019      5   13    12   1.81200   \n3          SN8140  61.4255  11.0803  2019      5   13    12   8.86768   \n4         SN23500  61.1220   9.0630  2019      5   13    12   7.61084   \n...           ...      ...      ...   ...    ...  ...   ...       ...   \n843910    SN61580  62.2943   8.1255  2019      5   13    18   2.25586   \n843911    SN24670  60.2684   9.6919  2019      5   13    18   9.25342   \n843912    SN90490  69.6767  18.9133  2019      5   13    18   3.75146   \n843913    SN77490  65.3143  13.4483  2019      5   13    18  -0.56055   \n843914    SN86740  68.6072  14.4347  2019      5   13    18   4.98193   \n\n          gridpp  observation  observation_quality  gridpp_error  node  \n0       11.25000         11.1                    0       0.15000     0  \n1        6.15000          6.0                    0       0.15000     1  \n2        4.45000          4.3                    0       0.15000     2  \n3        9.65000          9.5                    0       0.15000     3  \n4        9.65860          8.6                    0       1.05860     4  \n...          ...          ...                  ...           ...   ...  \n843910   5.17270          5.8                    0       0.62730   628  \n843911  11.92026         11.0                    0       0.92026   629  \n843912   3.25000          3.1                    0       0.15000   630  \n843913  -2.15744         -2.6                    0       0.44256   631  \n843914   5.31020          4.8                    0       0.51020   632  \n\n[843915 rows x 13 columns]",
      "text/html": "<div>\n<style scoped>\n    .dataframe tbody tr th:only-of-type {\n        vertical-align: middle;\n    }\n\n    .dataframe tbody tr th {\n        vertical-align: top;\n    }\n\n    .dataframe thead th {\n        text-align: right;\n    }\n</style>\n<table border=\"1\" class=\"dataframe\">\n  <thead>\n    <tr style=\"text-align: right;\">\n      <th></th>\n      <th>station_id</th>\n      <th>lat</th>\n      <th>long</th>\n      <th>year</th>\n      <th>month</th>\n      <th>day</th>\n      <th>hour</th>\n      <th>forecast</th>\n      <th>gridpp</th>\n      <th>observation</th>\n      <th>observation_quality</th>\n      <th>gridpp_error</th>\n      <th>node</th>\n    </tr>\n  </thead>\n  <tbody>\n    <tr>\n      <th>0</th>\n      <td>SN18700</td>\n      <td>59.9423</td>\n      <td>10.7200</td>\n      <td>2019</td>\n      <td>5</td>\n      <td>13</td>\n      <td>12</td>\n      <td>12.47900</td>\n      <td>11.25000</td>\n      <td>11.1</td>\n      <td>0</td>\n      <td>0.15000</td>\n      <td>0</td>\n    </tr>\n    <tr>\n      <th>1</th>\n      <td>SN80740</td>\n      <td>66.9035</td>\n      <td>13.6460</td>\n      <td>2019</td>\n      <td>5</td>\n      <td>13</td>\n      <td>12</td>\n      <td>4.09424</td>\n      <td>6.15000</td>\n      <td>6.0</td>\n      <td>0</td>\n      <td>0.15000</td>\n      <td>1</td>\n    </tr>\n    <tr>\n      <th>2</th>\n      <td>SN61630</td>\n      <td>62.2583</td>\n      <td>8.2000</td>\n      <td>2019</td>\n      <td>5</td>\n      <td>13</td>\n      <td>12</td>\n      <td>1.81200</td>\n      <td>4.45000</td>\n      <td>4.3</td>\n      <td>0</td>\n      <td>0.15000</td>\n      <td>2</td>\n    </tr>\n    <tr>\n      <th>3</th>\n      <td>SN8140</td>\n      <td>61.4255</td>\n      <td>11.0803</td>\n      <td>2019</td>\n      <td>5</td>\n      <td>13</td>\n      <td>12</td>\n      <td>8.86768</td>\n      <td>9.65000</td>\n      <td>9.5</td>\n      <td>0</td>\n      <td>0.15000</td>\n      <td>3</td>\n    </tr>\n    <tr>\n      <th>4</th>\n      <td>SN23500</td>\n      <td>61.1220</td>\n      <td>9.0630</td>\n      <td>2019</td>\n      <td>5</td>\n      <td>13</td>\n      <td>12</td>\n      <td>7.61084</td>\n      <td>9.65860</td>\n      <td>8.6</td>\n      <td>0</td>\n      <td>1.05860</td>\n      <td>4</td>\n    </tr>\n    <tr>\n      <th>...</th>\n      <td>...</td>\n      <td>...</td>\n      <td>...</td>\n      <td>...</td>\n      <td>...</td>\n      <td>...</td>\n      <td>...</td>\n      <td>...</td>\n      <td>...</td>\n      <td>...</td>\n      <td>...</td>\n      <td>...</td>\n      <td>...</td>\n    </tr>\n    <tr>\n      <th>843910</th>\n      <td>SN61580</td>\n      <td>62.2943</td>\n      <td>8.1255</td>\n      <td>2019</td>\n      <td>5</td>\n      <td>13</td>\n      <td>18</td>\n      <td>2.25586</td>\n      <td>5.17270</td>\n      <td>5.8</td>\n      <td>0</td>\n      <td>0.62730</td>\n      <td>628</td>\n    </tr>\n    <tr>\n      <th>843911</th>\n      <td>SN24670</td>\n      <td>60.2684</td>\n      <td>9.6919</td>\n      <td>2019</td>\n      <td>5</td>\n      <td>13</td>\n      <td>18</td>\n      <td>9.25342</td>\n      <td>11.92026</td>\n      <td>11.0</td>\n      <td>0</td>\n      <td>0.92026</td>\n      <td>629</td>\n    </tr>\n    <tr>\n      <th>843912</th>\n      <td>SN90490</td>\n      <td>69.6767</td>\n      <td>18.9133</td>\n      <td>2019</td>\n      <td>5</td>\n      <td>13</td>\n      <td>18</td>\n      <td>3.75146</td>\n      <td>3.25000</td>\n      <td>3.1</td>\n      <td>0</td>\n      <td>0.15000</td>\n      <td>630</td>\n    </tr>\n    <tr>\n      <th>843913</th>\n      <td>SN77490</td>\n      <td>65.3143</td>\n      <td>13.4483</td>\n      <td>2019</td>\n      <td>5</td>\n      <td>13</td>\n      <td>18</td>\n      <td>-0.56055</td>\n      <td>-2.15744</td>\n      <td>-2.6</td>\n      <td>0</td>\n      <td>0.44256</td>\n      <td>631</td>\n    </tr>\n    <tr>\n      <th>843914</th>\n      <td>SN86740</td>\n      <td>68.6072</td>\n      <td>14.4347</td>\n      <td>2019</td>\n      <td>5</td>\n      <td>13</td>\n      <td>18</td>\n      <td>4.98193</td>\n      <td>5.31020</td>\n      <td>4.8</td>\n      <td>0</td>\n      <td>0.51020</td>\n      <td>632</td>\n    </tr>\n  </tbody>\n</table>\n<p>843915 rows × 13 columns</p>\n</div>"
     },
     "execution_count": 26,
     "metadata": {},
     "output_type": "execute_result"
    }
   ],
   "source": [
    "teste.dataframe"
   ],
   "metadata": {
    "collapsed": false,
    "pycharm": {
     "name": "#%%\n"
    }
   }
  },
  {
   "cell_type": "code",
   "execution_count": 27,
   "outputs": [
    {
     "data": {
      "text/plain": "tensor([[ 0.9972,  1.2596,  0.1644,  ..., -0.4117, -0.3488, -0.0306],\n        [-0.2573,  0.2713,  0.7956,  ..., -0.7745, -0.6684, -0.1543],\n        [-0.6754, -0.7470, -0.7251,  ..., -0.3209, -0.8663, -2.0702],\n        ...,\n        [-3.7009, -3.3526, -2.3320,  ..., -2.6039, -2.6772, -2.5337],\n        [-3.2089, -3.5922, -3.6806,  ..., -1.4246, -1.5967, -2.0084],\n        [-2.2988, -1.7653, -1.2416,  ..., -1.5758, -1.5815, -1.6066]],\n       dtype=torch.float64)"
     },
     "execution_count": 27,
     "metadata": {},
     "output_type": "execute_result"
    }
   ],
   "source": [
    "teste.graph.ndata['y']"
   ],
   "metadata": {
    "collapsed": false,
    "pycharm": {
     "name": "#%%\n"
    }
   }
  },
  {
   "cell_type": "code",
   "execution_count": 28,
   "outputs": [
    {
     "data": {
      "text/plain": "Graph(num_nodes=667, num_edges=3335,\n      ndata_schemes={'x': Scheme(shape=(1400, 8), dtype=torch.float64), 'y': Scheme(shape=(1400,), dtype=torch.float64)}\n      edata_schemes={})"
     },
     "execution_count": 28,
     "metadata": {},
     "output_type": "execute_result"
    }
   ],
   "source": [
    "teste.graph"
   ],
   "metadata": {
    "collapsed": false,
    "pycharm": {
     "name": "#%%\n"
    }
   }
  },
  {
   "cell_type": "code",
   "execution_count": 29,
   "outputs": [],
   "source": [
    "g = teste.graph"
   ],
   "metadata": {
    "collapsed": false,
    "pycharm": {
     "name": "#%%\n"
    }
   }
  },
  {
   "cell_type": "code",
   "execution_count": 30,
   "outputs": [
    {
     "data": {
      "text/plain": "tensor([[-0.6825,  0.0338,  0.0000,  ...,  0.4375,  0.9626,  0.7316],\n        [-0.6825,  0.0338,  0.0000,  ..., -0.4589,  0.1257,  0.3143],\n        [-0.6825,  0.0338,  0.0000,  ..., -1.3554,  0.0291, -0.3434],\n        ...,\n        [-0.6825,  0.0338,  0.0000,  ..., -0.4589,  0.0096,  0.0108],\n        [-0.6825,  0.0338,  0.0000,  ..., -1.3554, -0.0342,  0.0613],\n        [-0.6825,  0.0338,  0.0000,  ...,  1.3340,  0.2528,  0.3269]],\n       dtype=torch.float64)"
     },
     "execution_count": 30,
     "metadata": {},
     "output_type": "execute_result"
    }
   ],
   "source": [
    "g.ndata['x'][0]"
   ],
   "metadata": {
    "collapsed": false,
    "pycharm": {
     "name": "#%%\n"
    }
   }
  },
  {
   "cell_type": "code",
   "execution_count": 31,
   "outputs": [
    {
     "data": {
      "text/plain": "<__main__.WeatherDataset at 0x7f5b5c6908b0>"
     },
     "execution_count": 31,
     "metadata": {},
     "output_type": "execute_result"
    }
   ],
   "source": [
    "teste"
   ],
   "metadata": {
    "collapsed": false,
    "pycharm": {
     "name": "#%%\n"
    }
   }
  },
  {
   "cell_type": "code",
   "execution_count": 32,
   "outputs": [],
   "source": [],
   "metadata": {
    "collapsed": false,
    "pycharm": {
     "name": "#%%\n"
    }
   }
  },
  {
   "cell_type": "code",
   "execution_count": 35,
   "outputs": [],
   "source": [
    "pickle.dump(teste, open('asd.pkl', 'wb'))"
   ],
   "metadata": {
    "collapsed": false,
    "pycharm": {
     "name": "#%%\n"
    }
   }
  },
  {
   "cell_type": "code",
   "execution_count": 37,
   "outputs": [],
   "source": [
    "az = pickle.load(open('asd.pkl', 'rb'))"
   ],
   "metadata": {
    "collapsed": false,
    "pycharm": {
     "name": "#%%\n"
    }
   }
  },
  {
   "cell_type": "code",
   "execution_count": 38,
   "outputs": [
    {
     "data": {
      "text/plain": "<__main__.WeatherDataset at 0x7f5b5e184ee0>"
     },
     "execution_count": 38,
     "metadata": {},
     "output_type": "execute_result"
    }
   ],
   "source": [
    "az"
   ],
   "metadata": {
    "collapsed": false,
    "pycharm": {
     "name": "#%%\n"
    }
   }
  },
  {
   "cell_type": "code",
   "execution_count": 39,
   "outputs": [
    {
     "data": {
      "text/plain": "       station_id      lat     long  year  month  day  hour  forecast  \\\n0         SN18700  59.9423  10.7200  2019      5   13    12  12.47900   \n1         SN80740  66.9035  13.6460  2019      5   13    12   4.09424   \n2         SN61630  62.2583   8.2000  2019      5   13    12   1.81200   \n3          SN8140  61.4255  11.0803  2019      5   13    12   8.86768   \n4         SN23500  61.1220   9.0630  2019      5   13    12   7.61084   \n...           ...      ...      ...   ...    ...  ...   ...       ...   \n843910    SN61580  62.2943   8.1255  2019      5   13    18   2.25586   \n843911    SN24670  60.2684   9.6919  2019      5   13    18   9.25342   \n843912    SN90490  69.6767  18.9133  2019      5   13    18   3.75146   \n843913    SN77490  65.3143  13.4483  2019      5   13    18  -0.56055   \n843914    SN86740  68.6072  14.4347  2019      5   13    18   4.98193   \n\n          gridpp  observation  observation_quality  gridpp_error  node  \n0       11.25000         11.1                    0       0.15000     0  \n1        6.15000          6.0                    0       0.15000     1  \n2        4.45000          4.3                    0       0.15000     2  \n3        9.65000          9.5                    0       0.15000     3  \n4        9.65860          8.6                    0       1.05860     4  \n...          ...          ...                  ...           ...   ...  \n843910   5.17270          5.8                    0       0.62730   628  \n843911  11.92026         11.0                    0       0.92026   629  \n843912   3.25000          3.1                    0       0.15000   630  \n843913  -2.15744         -2.6                    0       0.44256   631  \n843914   5.31020          4.8                    0       0.51020   632  \n\n[843915 rows x 13 columns]",
      "text/html": "<div>\n<style scoped>\n    .dataframe tbody tr th:only-of-type {\n        vertical-align: middle;\n    }\n\n    .dataframe tbody tr th {\n        vertical-align: top;\n    }\n\n    .dataframe thead th {\n        text-align: right;\n    }\n</style>\n<table border=\"1\" class=\"dataframe\">\n  <thead>\n    <tr style=\"text-align: right;\">\n      <th></th>\n      <th>station_id</th>\n      <th>lat</th>\n      <th>long</th>\n      <th>year</th>\n      <th>month</th>\n      <th>day</th>\n      <th>hour</th>\n      <th>forecast</th>\n      <th>gridpp</th>\n      <th>observation</th>\n      <th>observation_quality</th>\n      <th>gridpp_error</th>\n      <th>node</th>\n    </tr>\n  </thead>\n  <tbody>\n    <tr>\n      <th>0</th>\n      <td>SN18700</td>\n      <td>59.9423</td>\n      <td>10.7200</td>\n      <td>2019</td>\n      <td>5</td>\n      <td>13</td>\n      <td>12</td>\n      <td>12.47900</td>\n      <td>11.25000</td>\n      <td>11.1</td>\n      <td>0</td>\n      <td>0.15000</td>\n      <td>0</td>\n    </tr>\n    <tr>\n      <th>1</th>\n      <td>SN80740</td>\n      <td>66.9035</td>\n      <td>13.6460</td>\n      <td>2019</td>\n      <td>5</td>\n      <td>13</td>\n      <td>12</td>\n      <td>4.09424</td>\n      <td>6.15000</td>\n      <td>6.0</td>\n      <td>0</td>\n      <td>0.15000</td>\n      <td>1</td>\n    </tr>\n    <tr>\n      <th>2</th>\n      <td>SN61630</td>\n      <td>62.2583</td>\n      <td>8.2000</td>\n      <td>2019</td>\n      <td>5</td>\n      <td>13</td>\n      <td>12</td>\n      <td>1.81200</td>\n      <td>4.45000</td>\n      <td>4.3</td>\n      <td>0</td>\n      <td>0.15000</td>\n      <td>2</td>\n    </tr>\n    <tr>\n      <th>3</th>\n      <td>SN8140</td>\n      <td>61.4255</td>\n      <td>11.0803</td>\n      <td>2019</td>\n      <td>5</td>\n      <td>13</td>\n      <td>12</td>\n      <td>8.86768</td>\n      <td>9.65000</td>\n      <td>9.5</td>\n      <td>0</td>\n      <td>0.15000</td>\n      <td>3</td>\n    </tr>\n    <tr>\n      <th>4</th>\n      <td>SN23500</td>\n      <td>61.1220</td>\n      <td>9.0630</td>\n      <td>2019</td>\n      <td>5</td>\n      <td>13</td>\n      <td>12</td>\n      <td>7.61084</td>\n      <td>9.65860</td>\n      <td>8.6</td>\n      <td>0</td>\n      <td>1.05860</td>\n      <td>4</td>\n    </tr>\n    <tr>\n      <th>...</th>\n      <td>...</td>\n      <td>...</td>\n      <td>...</td>\n      <td>...</td>\n      <td>...</td>\n      <td>...</td>\n      <td>...</td>\n      <td>...</td>\n      <td>...</td>\n      <td>...</td>\n      <td>...</td>\n      <td>...</td>\n      <td>...</td>\n    </tr>\n    <tr>\n      <th>843910</th>\n      <td>SN61580</td>\n      <td>62.2943</td>\n      <td>8.1255</td>\n      <td>2019</td>\n      <td>5</td>\n      <td>13</td>\n      <td>18</td>\n      <td>2.25586</td>\n      <td>5.17270</td>\n      <td>5.8</td>\n      <td>0</td>\n      <td>0.62730</td>\n      <td>628</td>\n    </tr>\n    <tr>\n      <th>843911</th>\n      <td>SN24670</td>\n      <td>60.2684</td>\n      <td>9.6919</td>\n      <td>2019</td>\n      <td>5</td>\n      <td>13</td>\n      <td>18</td>\n      <td>9.25342</td>\n      <td>11.92026</td>\n      <td>11.0</td>\n      <td>0</td>\n      <td>0.92026</td>\n      <td>629</td>\n    </tr>\n    <tr>\n      <th>843912</th>\n      <td>SN90490</td>\n      <td>69.6767</td>\n      <td>18.9133</td>\n      <td>2019</td>\n      <td>5</td>\n      <td>13</td>\n      <td>18</td>\n      <td>3.75146</td>\n      <td>3.25000</td>\n      <td>3.1</td>\n      <td>0</td>\n      <td>0.15000</td>\n      <td>630</td>\n    </tr>\n    <tr>\n      <th>843913</th>\n      <td>SN77490</td>\n      <td>65.3143</td>\n      <td>13.4483</td>\n      <td>2019</td>\n      <td>5</td>\n      <td>13</td>\n      <td>18</td>\n      <td>-0.56055</td>\n      <td>-2.15744</td>\n      <td>-2.6</td>\n      <td>0</td>\n      <td>0.44256</td>\n      <td>631</td>\n    </tr>\n    <tr>\n      <th>843914</th>\n      <td>SN86740</td>\n      <td>68.6072</td>\n      <td>14.4347</td>\n      <td>2019</td>\n      <td>5</td>\n      <td>13</td>\n      <td>18</td>\n      <td>4.98193</td>\n      <td>5.31020</td>\n      <td>4.8</td>\n      <td>0</td>\n      <td>0.51020</td>\n      <td>632</td>\n    </tr>\n  </tbody>\n</table>\n<p>843915 rows × 13 columns</p>\n</div>"
     },
     "execution_count": 39,
     "metadata": {},
     "output_type": "execute_result"
    }
   ],
   "source": [
    "az.dataframe"
   ],
   "metadata": {
    "collapsed": false,
    "pycharm": {
     "name": "#%%\n"
    }
   }
  },
  {
   "cell_type": "code",
   "execution_count": 40,
   "outputs": [
    {
     "data": {
      "text/plain": "Graph(num_nodes=667, num_edges=3335,\n      ndata_schemes={'x': Scheme(shape=(1400, 8), dtype=torch.float64), 'y': Scheme(shape=(1400,), dtype=torch.float64)}\n      edata_schemes={})"
     },
     "execution_count": 40,
     "metadata": {},
     "output_type": "execute_result"
    }
   ],
   "source": [
    "az.graph"
   ],
   "metadata": {
    "collapsed": false,
    "pycharm": {
     "name": "#%%\n"
    }
   }
  },
  {
   "cell_type": "code",
   "execution_count": 41,
   "outputs": [
    {
     "data": {
      "text/plain": "tensor([[[-0.6825,  0.0338,  0.0000,  ...,  0.4375,  0.9626,  0.7316],\n         [-0.6825,  0.0338,  0.0000,  ..., -0.4589,  0.1257,  0.3143],\n         [-0.6825,  0.0338,  0.0000,  ..., -1.3554,  0.0291, -0.3434],\n         ...,\n         [-0.6825,  0.0338,  0.0000,  ..., -0.4589,  0.0096,  0.0108],\n         [-0.6825,  0.0338,  0.0000,  ..., -1.3554, -0.0342,  0.0613],\n         [-0.6825,  0.0338,  0.0000,  ...,  1.3340,  0.2528,  0.3269]],\n\n        [[ 1.2653,  0.5924,  0.0000,  ...,  0.4375, -0.1192,  0.0866],\n         [ 1.2653,  0.5924,  0.0000,  ..., -0.4589, -0.1317, -0.1031],\n         [ 1.2653,  0.5924,  0.0000,  ..., -1.3554, -0.1765, -0.0651],\n         ...,\n         [ 1.2653,  0.5924,  0.0000,  ..., -0.4589, -0.1996, -0.2928],\n         [ 1.2653,  0.5924,  0.0000,  ..., -1.3554, -0.1468, -0.2043],\n         [ 1.2653,  0.5924,  0.0000,  ...,  1.3340,  0.1298,  0.2258]],\n\n        [[-0.0345, -0.4473,  0.0000,  ...,  0.4375, -0.4137, -0.1284],\n         [-0.0345, -0.4473,  0.0000,  ..., -0.4589, -0.7466, -0.5331],\n         [-0.0345, -0.4473,  0.0000,  ..., -1.3554, -0.8596, -0.7354],\n         ...,\n         [-0.0345, -0.4473,  0.0000,  ...,  0.4375, -0.2180,  0.0866],\n         [-0.0345, -0.4473,  0.0000,  ..., -0.4589, -0.6701, -0.3687],\n         [-0.0345, -0.4473,  0.0000,  ..., -1.3554, -1.1494, -1.3425]],\n\n        ...,\n\n        [[-0.3097, -0.4591,  0.0000,  ...,  1.3340, -1.7245, -1.6549],\n         [-0.3097, -0.4591,  0.0000,  ...,  0.4375, -1.6235, -1.5659],\n         [-0.3097, -0.4591,  0.0000,  ..., -0.4589, -1.7046, -1.4782],\n         ...,\n         [-0.3097, -0.4591,  0.0000,  ..., -0.4589, -1.8426, -1.8224],\n         [-0.3097, -0.4591,  0.0000,  ..., -1.3554, -1.8451, -1.8049],\n         [-0.3097, -0.4591,  0.0000,  ...,  1.3340, -1.8798, -1.7228]],\n\n        [[-0.8942, -0.1914,  0.0000,  ..., -0.4589, -1.7166, -1.4005],\n         [-0.8942, -0.1914,  0.0000,  ..., -1.3554, -1.8898, -1.5345],\n         [-0.8942, -0.1914,  0.0000,  ...,  1.3340, -1.5402, -1.4989],\n         ...,\n         [-0.8942, -0.1914,  0.0000,  ...,  0.4375, -0.7359, -0.7430],\n         [-0.8942, -0.1914,  0.0000,  ..., -0.4589, -0.8783, -0.8660],\n         [-0.8942, -0.1914,  0.0000,  ..., -1.3554, -0.9986, -1.2617]],\n\n        [[-0.7320, -0.0926,  0.0000,  ..., -0.4589, -0.7894, -0.7837],\n         [-0.7320, -0.0926,  0.0000,  ..., -0.4589, -0.7894, -0.7837],\n         [-0.7320, -0.0926,  0.0000,  ..., -0.4589, -0.7894, -0.7837],\n         ...,\n         [-0.7320, -0.0926,  0.0000,  ..., -0.4589, -0.7894, -0.7837],\n         [-0.7320, -0.0926,  0.0000,  ..., -0.4589, -0.7894, -0.7837],\n         [-0.7320, -0.0926,  0.0000,  ..., -0.4589, -0.7894, -0.7837]]],\n       dtype=torch.float64)"
     },
     "execution_count": 41,
     "metadata": {},
     "output_type": "execute_result"
    }
   ],
   "source": [
    "az.graph.ndata['x']"
   ],
   "metadata": {
    "collapsed": false,
    "pycharm": {
     "name": "#%%\n"
    }
   }
  },
  {
   "cell_type": "code",
   "execution_count": null,
   "outputs": [],
   "source": [],
   "metadata": {
    "collapsed": false,
    "pycharm": {
     "name": "#%%\n"
    }
   }
  }
 ],
 "metadata": {
  "kernelspec": {
   "display_name": "Python 3",
   "language": "python",
   "name": "python3"
  },
  "language_info": {
   "codemirror_mode": {
    "name": "ipython",
    "version": 2
   },
   "file_extension": ".py",
   "mimetype": "text/x-python",
   "name": "python",
   "nbconvert_exporter": "python",
   "pygments_lexer": "ipython2",
   "version": "2.7.6"
  }
 },
 "nbformat": 4,
 "nbformat_minor": 0
}