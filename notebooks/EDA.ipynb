{
 "cells": [
  {
   "cell_type": "code",
   "execution_count": 1,
   "metadata": {
    "collapsed": true
   },
   "outputs": [],
   "source": [
    "import pandas as pd\n",
    "import matplotlib.pyplot as plt\n",
    "import seaborn as sns"
   ]
  },
  {
   "cell_type": "code",
   "execution_count": 2,
   "outputs": [
    {
     "data": {
      "text/plain": "(843915, 12)"
     },
     "execution_count": 2,
     "metadata": {},
     "output_type": "execute_result"
    }
   ],
   "source": [
    "df = pd.read_csv('../data/data_initial_preprocessing.csv')\n",
    "df.shape"
   ],
   "metadata": {
    "collapsed": false,
    "pycharm": {
     "name": "#%%\n"
    }
   }
  },
  {
   "cell_type": "code",
   "execution_count": 3,
   "outputs": [
    {
     "data": {
      "text/plain": "       station_id      lat     long  year  month  day  hour  forecast  \\\n0         SN18700  59.9423  10.7200  2019      5   13    12  12.47900   \n1         SN80740  66.9035  13.6460  2019      5   13    12   4.09424   \n2         SN61630  62.2583   8.2000  2019      5   13    12   1.81200   \n3          SN8140  61.4255  11.0803  2019      5   13    12   8.86768   \n4         SN23500  61.1220   9.0630  2019      5   13    12   7.61084   \n...           ...      ...      ...   ...    ...  ...   ...       ...   \n843910    SN61580  62.2943   8.1255  2019      5   13    18   2.25586   \n843911    SN24670  60.2684   9.6919  2019      5   13    18   9.25342   \n843912    SN90490  69.6767  18.9133  2019      5   13    18   3.75146   \n843913    SN77490  65.3143  13.4483  2019      5   13    18  -0.56055   \n843914    SN86740  68.6072  14.4347  2019      5   13    18   4.98193   \n\n          gridpp  observation  observation_quality  gridpp_error  \n0       11.25000         11.1                    0       0.15000  \n1        6.15000          6.0                    0       0.15000  \n2        4.45000          4.3                    0       0.15000  \n3        9.65000          9.5                    0       0.15000  \n4        9.65860          8.6                    0       1.05860  \n...          ...          ...                  ...           ...  \n843910   5.17270          5.8                    0       0.62730  \n843911  11.92026         11.0                    0       0.92026  \n843912   3.25000          3.1                    0       0.15000  \n843913  -2.15744         -2.6                    0       0.44256  \n843914   5.31020          4.8                    0       0.51020  \n\n[843915 rows x 12 columns]",
      "text/html": "<div>\n<style scoped>\n    .dataframe tbody tr th:only-of-type {\n        vertical-align: middle;\n    }\n\n    .dataframe tbody tr th {\n        vertical-align: top;\n    }\n\n    .dataframe thead th {\n        text-align: right;\n    }\n</style>\n<table border=\"1\" class=\"dataframe\">\n  <thead>\n    <tr style=\"text-align: right;\">\n      <th></th>\n      <th>station_id</th>\n      <th>lat</th>\n      <th>long</th>\n      <th>year</th>\n      <th>month</th>\n      <th>day</th>\n      <th>hour</th>\n      <th>forecast</th>\n      <th>gridpp</th>\n      <th>observation</th>\n      <th>observation_quality</th>\n      <th>gridpp_error</th>\n    </tr>\n  </thead>\n  <tbody>\n    <tr>\n      <th>0</th>\n      <td>SN18700</td>\n      <td>59.9423</td>\n      <td>10.7200</td>\n      <td>2019</td>\n      <td>5</td>\n      <td>13</td>\n      <td>12</td>\n      <td>12.47900</td>\n      <td>11.25000</td>\n      <td>11.1</td>\n      <td>0</td>\n      <td>0.15000</td>\n    </tr>\n    <tr>\n      <th>1</th>\n      <td>SN80740</td>\n      <td>66.9035</td>\n      <td>13.6460</td>\n      <td>2019</td>\n      <td>5</td>\n      <td>13</td>\n      <td>12</td>\n      <td>4.09424</td>\n      <td>6.15000</td>\n      <td>6.0</td>\n      <td>0</td>\n      <td>0.15000</td>\n    </tr>\n    <tr>\n      <th>2</th>\n      <td>SN61630</td>\n      <td>62.2583</td>\n      <td>8.2000</td>\n      <td>2019</td>\n      <td>5</td>\n      <td>13</td>\n      <td>12</td>\n      <td>1.81200</td>\n      <td>4.45000</td>\n      <td>4.3</td>\n      <td>0</td>\n      <td>0.15000</td>\n    </tr>\n    <tr>\n      <th>3</th>\n      <td>SN8140</td>\n      <td>61.4255</td>\n      <td>11.0803</td>\n      <td>2019</td>\n      <td>5</td>\n      <td>13</td>\n      <td>12</td>\n      <td>8.86768</td>\n      <td>9.65000</td>\n      <td>9.5</td>\n      <td>0</td>\n      <td>0.15000</td>\n    </tr>\n    <tr>\n      <th>4</th>\n      <td>SN23500</td>\n      <td>61.1220</td>\n      <td>9.0630</td>\n      <td>2019</td>\n      <td>5</td>\n      <td>13</td>\n      <td>12</td>\n      <td>7.61084</td>\n      <td>9.65860</td>\n      <td>8.6</td>\n      <td>0</td>\n      <td>1.05860</td>\n    </tr>\n    <tr>\n      <th>...</th>\n      <td>...</td>\n      <td>...</td>\n      <td>...</td>\n      <td>...</td>\n      <td>...</td>\n      <td>...</td>\n      <td>...</td>\n      <td>...</td>\n      <td>...</td>\n      <td>...</td>\n      <td>...</td>\n      <td>...</td>\n    </tr>\n    <tr>\n      <th>843910</th>\n      <td>SN61580</td>\n      <td>62.2943</td>\n      <td>8.1255</td>\n      <td>2019</td>\n      <td>5</td>\n      <td>13</td>\n      <td>18</td>\n      <td>2.25586</td>\n      <td>5.17270</td>\n      <td>5.8</td>\n      <td>0</td>\n      <td>0.62730</td>\n    </tr>\n    <tr>\n      <th>843911</th>\n      <td>SN24670</td>\n      <td>60.2684</td>\n      <td>9.6919</td>\n      <td>2019</td>\n      <td>5</td>\n      <td>13</td>\n      <td>18</td>\n      <td>9.25342</td>\n      <td>11.92026</td>\n      <td>11.0</td>\n      <td>0</td>\n      <td>0.92026</td>\n    </tr>\n    <tr>\n      <th>843912</th>\n      <td>SN90490</td>\n      <td>69.6767</td>\n      <td>18.9133</td>\n      <td>2019</td>\n      <td>5</td>\n      <td>13</td>\n      <td>18</td>\n      <td>3.75146</td>\n      <td>3.25000</td>\n      <td>3.1</td>\n      <td>0</td>\n      <td>0.15000</td>\n    </tr>\n    <tr>\n      <th>843913</th>\n      <td>SN77490</td>\n      <td>65.3143</td>\n      <td>13.4483</td>\n      <td>2019</td>\n      <td>5</td>\n      <td>13</td>\n      <td>18</td>\n      <td>-0.56055</td>\n      <td>-2.15744</td>\n      <td>-2.6</td>\n      <td>0</td>\n      <td>0.44256</td>\n    </tr>\n    <tr>\n      <th>843914</th>\n      <td>SN86740</td>\n      <td>68.6072</td>\n      <td>14.4347</td>\n      <td>2019</td>\n      <td>5</td>\n      <td>13</td>\n      <td>18</td>\n      <td>4.98193</td>\n      <td>5.31020</td>\n      <td>4.8</td>\n      <td>0</td>\n      <td>0.51020</td>\n    </tr>\n  </tbody>\n</table>\n<p>843915 rows × 12 columns</p>\n</div>"
     },
     "execution_count": 3,
     "metadata": {},
     "output_type": "execute_result"
    }
   ],
   "source": [
    "df"
   ],
   "metadata": {
    "collapsed": false,
    "pycharm": {
     "name": "#%%\n"
    }
   }
  },
  {
   "cell_type": "code",
   "execution_count": 4,
   "outputs": [
    {
     "data": {
      "text/plain": "       station_id      lat     long  year  month  day  hour  forecast  \\\n19        SN76957  60.7735   3.5010  2019      5   13    12   6.52588   \n73        SN62295  62.7560   7.2088  2019      5   13    12   8.61670   \n142       SN50505  60.3452   5.3713  2019      5   13    12  10.31592   \n334       SN52555  60.7928   5.0218  2019      5   13    12  10.64404   \n364          SN90  61.1185  12.0647  2019      5   13    12   6.89502   \n...           ...      ...      ...   ...    ...  ...   ...       ...   \n843645       SN90  61.1185  12.0647  2019      5   13    18   6.26220   \n843709    SN34095  58.9817   9.6068  2019      5   13    18  10.48828   \n843763    SN11440  60.5878  11.1470  2019      5   13    18   8.68700   \n843831    SN17895  59.7940  10.7600  2019      5   13    18  12.37012   \n843859    SN18690  59.9112  10.7043  2019      5   13    18  10.76220   \n\n          gridpp  observation  observation_quality  gridpp_error  \n19       6.48862         10.8                    0       4.31138  \n73       8.89587          5.7                    0       3.19587  \n142     10.68980          7.5                    0       3.18980  \n334     11.35538          8.0                    0       3.35538  \n364      6.81122          1.9                    0       4.91122  \n...          ...          ...                  ...           ...  \n843645   7.41064          3.4                    0       4.01064  \n843709  11.61120          8.0                    0       3.61120  \n843763  10.13577          7.0                    0       3.13577  \n843831  13.36237         10.0                    0       3.36237  \n843859  14.48676          9.6                    0       4.88676  \n\n[26659 rows x 12 columns]",
      "text/html": "<div>\n<style scoped>\n    .dataframe tbody tr th:only-of-type {\n        vertical-align: middle;\n    }\n\n    .dataframe tbody tr th {\n        vertical-align: top;\n    }\n\n    .dataframe thead th {\n        text-align: right;\n    }\n</style>\n<table border=\"1\" class=\"dataframe\">\n  <thead>\n    <tr style=\"text-align: right;\">\n      <th></th>\n      <th>station_id</th>\n      <th>lat</th>\n      <th>long</th>\n      <th>year</th>\n      <th>month</th>\n      <th>day</th>\n      <th>hour</th>\n      <th>forecast</th>\n      <th>gridpp</th>\n      <th>observation</th>\n      <th>observation_quality</th>\n      <th>gridpp_error</th>\n    </tr>\n  </thead>\n  <tbody>\n    <tr>\n      <th>19</th>\n      <td>SN76957</td>\n      <td>60.7735</td>\n      <td>3.5010</td>\n      <td>2019</td>\n      <td>5</td>\n      <td>13</td>\n      <td>12</td>\n      <td>6.52588</td>\n      <td>6.48862</td>\n      <td>10.8</td>\n      <td>0</td>\n      <td>4.31138</td>\n    </tr>\n    <tr>\n      <th>73</th>\n      <td>SN62295</td>\n      <td>62.7560</td>\n      <td>7.2088</td>\n      <td>2019</td>\n      <td>5</td>\n      <td>13</td>\n      <td>12</td>\n      <td>8.61670</td>\n      <td>8.89587</td>\n      <td>5.7</td>\n      <td>0</td>\n      <td>3.19587</td>\n    </tr>\n    <tr>\n      <th>142</th>\n      <td>SN50505</td>\n      <td>60.3452</td>\n      <td>5.3713</td>\n      <td>2019</td>\n      <td>5</td>\n      <td>13</td>\n      <td>12</td>\n      <td>10.31592</td>\n      <td>10.68980</td>\n      <td>7.5</td>\n      <td>0</td>\n      <td>3.18980</td>\n    </tr>\n    <tr>\n      <th>334</th>\n      <td>SN52555</td>\n      <td>60.7928</td>\n      <td>5.0218</td>\n      <td>2019</td>\n      <td>5</td>\n      <td>13</td>\n      <td>12</td>\n      <td>10.64404</td>\n      <td>11.35538</td>\n      <td>8.0</td>\n      <td>0</td>\n      <td>3.35538</td>\n    </tr>\n    <tr>\n      <th>364</th>\n      <td>SN90</td>\n      <td>61.1185</td>\n      <td>12.0647</td>\n      <td>2019</td>\n      <td>5</td>\n      <td>13</td>\n      <td>12</td>\n      <td>6.89502</td>\n      <td>6.81122</td>\n      <td>1.9</td>\n      <td>0</td>\n      <td>4.91122</td>\n    </tr>\n    <tr>\n      <th>...</th>\n      <td>...</td>\n      <td>...</td>\n      <td>...</td>\n      <td>...</td>\n      <td>...</td>\n      <td>...</td>\n      <td>...</td>\n      <td>...</td>\n      <td>...</td>\n      <td>...</td>\n      <td>...</td>\n      <td>...</td>\n    </tr>\n    <tr>\n      <th>843645</th>\n      <td>SN90</td>\n      <td>61.1185</td>\n      <td>12.0647</td>\n      <td>2019</td>\n      <td>5</td>\n      <td>13</td>\n      <td>18</td>\n      <td>6.26220</td>\n      <td>7.41064</td>\n      <td>3.4</td>\n      <td>0</td>\n      <td>4.01064</td>\n    </tr>\n    <tr>\n      <th>843709</th>\n      <td>SN34095</td>\n      <td>58.9817</td>\n      <td>9.6068</td>\n      <td>2019</td>\n      <td>5</td>\n      <td>13</td>\n      <td>18</td>\n      <td>10.48828</td>\n      <td>11.61120</td>\n      <td>8.0</td>\n      <td>0</td>\n      <td>3.61120</td>\n    </tr>\n    <tr>\n      <th>843763</th>\n      <td>SN11440</td>\n      <td>60.5878</td>\n      <td>11.1470</td>\n      <td>2019</td>\n      <td>5</td>\n      <td>13</td>\n      <td>18</td>\n      <td>8.68700</td>\n      <td>10.13577</td>\n      <td>7.0</td>\n      <td>0</td>\n      <td>3.13577</td>\n    </tr>\n    <tr>\n      <th>843831</th>\n      <td>SN17895</td>\n      <td>59.7940</td>\n      <td>10.7600</td>\n      <td>2019</td>\n      <td>5</td>\n      <td>13</td>\n      <td>18</td>\n      <td>12.37012</td>\n      <td>13.36237</td>\n      <td>10.0</td>\n      <td>0</td>\n      <td>3.36237</td>\n    </tr>\n    <tr>\n      <th>843859</th>\n      <td>SN18690</td>\n      <td>59.9112</td>\n      <td>10.7043</td>\n      <td>2019</td>\n      <td>5</td>\n      <td>13</td>\n      <td>18</td>\n      <td>10.76220</td>\n      <td>14.48676</td>\n      <td>9.6</td>\n      <td>0</td>\n      <td>4.88676</td>\n    </tr>\n  </tbody>\n</table>\n<p>26659 rows × 12 columns</p>\n</div>"
     },
     "execution_count": 4,
     "metadata": {},
     "output_type": "execute_result"
    }
   ],
   "source": [
    "df[df.gridpp_error > 3]"
   ],
   "metadata": {
    "collapsed": false,
    "pycharm": {
     "name": "#%%\n"
    }
   }
  },
  {
   "cell_type": "code",
   "execution_count": 19,
   "outputs": [
    {
     "data": {
      "text/plain": "<Figure size 864x576 with 1 Axes>",
      "image/png": "[encoded data removed]"
     },
     "metadata": {
      "needs_background": "light"
     },
     "output_type": "display_data"
    }
   ],
   "source": [
    "font = {\n",
    "    'color': 'red',\n",
    "    'weight': 'bold',\n",
    "    'size': 16,\n",
    "}\n",
    "\n",
    "gt3qty = df[df.gridpp_error > 3].shape[0]\n",
    "\n",
    "plt.figure(figsize=(12,8))\n",
    "plt.hist(df.gridpp_error)\n",
    "plt.axvline(3, color='red')\n",
    "plt.grid()\n",
    "plt.title('Error Histogram')\n",
    "plt.xlabel('Error in Celsius')\n",
    "plt.text(3.1, 310000, f'Limite: {gt3qty}', fontdict=font)\n",
    "plt.show()"
   ],
   "metadata": {
    "collapsed": false,
    "pycharm": {
     "name": "#%%\n"
    }
   }
  },
  {
   "cell_type": "code",
   "execution_count": null,
   "outputs": [],
   "source": [],
   "metadata": {
    "collapsed": false,
    "pycharm": {
     "name": "#%%\n"
    }
   }
  }
 ],
 "metadata": {
  "kernelspec": {
   "display_name": "Python 3",
   "language": "python",
   "name": "python3"
  },
  "language_info": {
   "codemirror_mode": {
    "name": "ipython",
    "version": 2
   },
   "file_extension": ".py",
   "mimetype": "text/x-python",
   "name": "python",
   "nbconvert_exporter": "python",
   "pygments_lexer": "ipython2",
   "version": "2.7.6"
  }
 },
 "nbformat": 4,
 "nbformat_minor": 0
}