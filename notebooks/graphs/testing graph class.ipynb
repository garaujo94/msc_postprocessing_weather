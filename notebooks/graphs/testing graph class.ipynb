{
 "cells": [
  {
   "cell_type": "code",
   "execution_count": 1,
   "metadata": {
    "collapsed": true
   },
   "outputs": [
    {
     "name": "stderr",
     "output_type": "stream",
     "text": [
      "Using backend: pytorch\n"
     ]
    }
   ],
   "source": [
    "from graph_class import WeatherDataset, read_weather_dataset"
   ]
  },
  {
   "cell_type": "code",
   "execution_count": 2,
   "outputs": [],
   "source": [
    "dataset = WeatherDataset('try1')"
   ],
   "metadata": {
    "collapsed": false,
    "pycharm": {
     "name": "#%%\n"
    }
   }
  },
  {
   "cell_type": "code",
   "execution_count": 3,
   "outputs": [],
   "source": [
    "dataset.create('../data/data_initial_preprocessing.csv')"
   ],
   "metadata": {
    "collapsed": false,
    "pycharm": {
     "name": "#%%\n"
    }
   }
  },
  {
   "cell_type": "code",
   "execution_count": 5,
   "outputs": [
    {
     "data": {
      "text/plain": "<graph_class.WeatherDataset at 0x7f94e56e6c70>"
     },
     "execution_count": 5,
     "metadata": {},
     "output_type": "execute_result"
    }
   ],
   "source": [
    "dataset"
   ],
   "metadata": {
    "collapsed": false,
    "pycharm": {
     "name": "#%%\n"
    }
   }
  },
  {
   "cell_type": "code",
   "execution_count": 6,
   "outputs": [
    {
     "data": {
      "text/plain": "       station_id      lat     long  year  month  day  hour  forecast  \\\n0         SN18700  59.9423  10.7200  2019      5   13    12  12.47900   \n1         SN80740  66.9035  13.6460  2019      5   13    12   4.09424   \n2         SN61630  62.2583   8.2000  2019      5   13    12   1.81200   \n3          SN8140  61.4255  11.0803  2019      5   13    12   8.86768   \n4         SN23500  61.1220   9.0630  2019      5   13    12   7.61084   \n...           ...      ...      ...   ...    ...  ...   ...       ...   \n843910    SN61580  62.2943   8.1255  2019      5   13    18   2.25586   \n843911    SN24670  60.2684   9.6919  2019      5   13    18   9.25342   \n843912    SN90490  69.6767  18.9133  2019      5   13    18   3.75146   \n843913    SN77490  65.3143  13.4483  2019      5   13    18  -0.56055   \n843914    SN86740  68.6072  14.4347  2019      5   13    18   4.98193   \n\n          gridpp  observation  observation_quality  gridpp_error  node  \n0       11.25000         11.1                    0       0.15000     0  \n1        6.15000          6.0                    0       0.15000     1  \n2        4.45000          4.3                    0       0.15000     2  \n3        9.65000          9.5                    0       0.15000     3  \n4        9.65860          8.6                    0       1.05860     4  \n...          ...          ...                  ...           ...   ...  \n843910   5.17270          5.8                    0       0.62730   628  \n843911  11.92026         11.0                    0       0.92026   629  \n843912   3.25000          3.1                    0       0.15000   630  \n843913  -2.15744         -2.6                    0       0.44256   631  \n843914   5.31020          4.8                    0       0.51020   632  \n\n[843915 rows x 13 columns]",
      "text/html": "<div>\n<style scoped>\n    .dataframe tbody tr th:only-of-type {\n        vertical-align: middle;\n    }\n\n    .dataframe tbody tr th {\n        vertical-align: top;\n    }\n\n    .dataframe thead th {\n        text-align: right;\n    }\n</style>\n<table border=\"1\" class=\"dataframe\">\n  <thead>\n    <tr style=\"text-align: right;\">\n      <th></th>\n      <th>station_id</th>\n      <th>lat</th>\n      <th>long</th>\n      <th>year</th>\n      <th>month</th>\n      <th>day</th>\n      <th>hour</th>\n      <th>forecast</th>\n      <th>gridpp</th>\n      <th>observation</th>\n      <th>observation_quality</th>\n      <th>gridpp_error</th>\n      <th>node</th>\n    </tr>\n  </thead>\n  <tbody>\n    <tr>\n      <th>0</th>\n      <td>SN18700</td>\n      <td>59.9423</td>\n      <td>10.7200</td>\n      <td>2019</td>\n      <td>5</td>\n      <td>13</td>\n      <td>12</td>\n      <td>12.47900</td>\n      <td>11.25000</td>\n      <td>11.1</td>\n      <td>0</td>\n      <td>0.15000</td>\n      <td>0</td>\n    </tr>\n    <tr>\n      <th>1</th>\n      <td>SN80740</td>\n      <td>66.9035</td>\n      <td>13.6460</td>\n      <td>2019</td>\n      <td>5</td>\n      <td>13</td>\n      <td>12</td>\n      <td>4.09424</td>\n      <td>6.15000</td>\n      <td>6.0</td>\n      <td>0</td>\n      <td>0.15000</td>\n      <td>1</td>\n    </tr>\n    <tr>\n      <th>2</th>\n      <td>SN61630</td>\n      <td>62.2583</td>\n      <td>8.2000</td>\n      <td>2019</td>\n      <td>5</td>\n      <td>13</td>\n      <td>12</td>\n      <td>1.81200</td>\n      <td>4.45000</td>\n      <td>4.3</td>\n      <td>0</td>\n      <td>0.15000</td>\n      <td>2</td>\n    </tr>\n    <tr>\n      <th>3</th>\n      <td>SN8140</td>\n      <td>61.4255</td>\n      <td>11.0803</td>\n      <td>2019</td>\n      <td>5</td>\n      <td>13</td>\n      <td>12</td>\n      <td>8.86768</td>\n      <td>9.65000</td>\n      <td>9.5</td>\n      <td>0</td>\n      <td>0.15000</td>\n      <td>3</td>\n    </tr>\n    <tr>\n      <th>4</th>\n      <td>SN23500</td>\n      <td>61.1220</td>\n      <td>9.0630</td>\n      <td>2019</td>\n      <td>5</td>\n      <td>13</td>\n      <td>12</td>\n      <td>7.61084</td>\n      <td>9.65860</td>\n      <td>8.6</td>\n      <td>0</td>\n      <td>1.05860</td>\n      <td>4</td>\n    </tr>\n    <tr>\n      <th>...</th>\n      <td>...</td>\n      <td>...</td>\n      <td>...</td>\n      <td>...</td>\n      <td>...</td>\n      <td>...</td>\n      <td>...</td>\n      <td>...</td>\n      <td>...</td>\n      <td>...</td>\n      <td>...</td>\n      <td>...</td>\n      <td>...</td>\n    </tr>\n    <tr>\n      <th>843910</th>\n      <td>SN61580</td>\n      <td>62.2943</td>\n      <td>8.1255</td>\n      <td>2019</td>\n      <td>5</td>\n      <td>13</td>\n      <td>18</td>\n      <td>2.25586</td>\n      <td>5.17270</td>\n      <td>5.8</td>\n      <td>0</td>\n      <td>0.62730</td>\n      <td>628</td>\n    </tr>\n    <tr>\n      <th>843911</th>\n      <td>SN24670</td>\n      <td>60.2684</td>\n      <td>9.6919</td>\n      <td>2019</td>\n      <td>5</td>\n      <td>13</td>\n      <td>18</td>\n      <td>9.25342</td>\n      <td>11.92026</td>\n      <td>11.0</td>\n      <td>0</td>\n      <td>0.92026</td>\n      <td>629</td>\n    </tr>\n    <tr>\n      <th>843912</th>\n      <td>SN90490</td>\n      <td>69.6767</td>\n      <td>18.9133</td>\n      <td>2019</td>\n      <td>5</td>\n      <td>13</td>\n      <td>18</td>\n      <td>3.75146</td>\n      <td>3.25000</td>\n      <td>3.1</td>\n      <td>0</td>\n      <td>0.15000</td>\n      <td>630</td>\n    </tr>\n    <tr>\n      <th>843913</th>\n      <td>SN77490</td>\n      <td>65.3143</td>\n      <td>13.4483</td>\n      <td>2019</td>\n      <td>5</td>\n      <td>13</td>\n      <td>18</td>\n      <td>-0.56055</td>\n      <td>-2.15744</td>\n      <td>-2.6</td>\n      <td>0</td>\n      <td>0.44256</td>\n      <td>631</td>\n    </tr>\n    <tr>\n      <th>843914</th>\n      <td>SN86740</td>\n      <td>68.6072</td>\n      <td>14.4347</td>\n      <td>2019</td>\n      <td>5</td>\n      <td>13</td>\n      <td>18</td>\n      <td>4.98193</td>\n      <td>5.31020</td>\n      <td>4.8</td>\n      <td>0</td>\n      <td>0.51020</td>\n      <td>632</td>\n    </tr>\n  </tbody>\n</table>\n<p>843915 rows × 13 columns</p>\n</div>"
     },
     "execution_count": 6,
     "metadata": {},
     "output_type": "execute_result"
    }
   ],
   "source": [
    "dataset.dataframe"
   ],
   "metadata": {
    "collapsed": false,
    "pycharm": {
     "name": "#%%\n"
    }
   }
  },
  {
   "cell_type": "code",
   "execution_count": 7,
   "outputs": [
    {
     "data": {
      "text/plain": "5"
     },
     "execution_count": 7,
     "metadata": {},
     "output_type": "execute_result"
    }
   ],
   "source": [
    "dataset.n_nearest"
   ],
   "metadata": {
    "collapsed": false,
    "pycharm": {
     "name": "#%%\n"
    }
   }
  },
  {
   "cell_type": "code",
   "execution_count": 8,
   "outputs": [
    {
     "data": {
      "text/plain": "{'SN18700': 0,\n 'SN80740': 1,\n 'SN61630': 2,\n 'SN8140': 3,\n 'SN23500': 4,\n 'SN50810': 5,\n 'SN50245': 6,\n 'SN52452': 7,\n 'SN51010': 8,\n 'SN51800': 9,\n 'SN57380': 10,\n 'SN44640': 11,\n 'SN53280': 12,\n 'SN65060': 13,\n 'SN54330': 14,\n 'SN26840': 15,\n 'SN12180': 16,\n 'SN90495': 17,\n 'SN66630': 18,\n 'SN76957': 19,\n 'SN50526': 20,\n 'SN29400': 21,\n 'SN80880': 22,\n 'SN19710': 23,\n 'SN69190': 24,\n 'SN45675': 25,\n 'SN23550': 26,\n 'SN32220': 27,\n 'SN79600': 28,\n 'SN68125': 29,\n 'SN28380': 30,\n 'SN64330': 31,\n 'SN76965': 32,\n 'SN57030': 33,\n 'SN45770': 34,\n 'SN17150': 35,\n 'SN27315': 36,\n 'SN33990': 37,\n 'SN1135': 38,\n 'SN90100': 39,\n 'SN90450': 40,\n 'SN55705': 41,\n 'SN61070': 42,\n 'SN8800': 43,\n 'SN18265': 44,\n 'SN37070': 45,\n 'SN76968': 46,\n 'SN80700': 47,\n 'SN84630': 48,\n 'SN17090': 49,\n 'SN76995': 50,\n 'SN12290': 51,\n 'SN51470': 52,\n 'SN17000': 53,\n 'SN17380': 54,\n 'SN46610': 55,\n 'SN80102': 56,\n 'SN57789': 57,\n 'SN69150': 58,\n 'SN51440': 59,\n 'SN94280': 60,\n 'SN41825': 61,\n 'SN62200': 62,\n 'SN725': 63,\n 'SN30305': 64,\n 'SN17870': 65,\n 'SN77425': 66,\n 'SN51990': 67,\n 'SN56960': 68,\n 'SN76450': 69,\n 'SN76961': 70,\n 'SN77350': 71,\n 'SN69661': 72,\n 'SN62295': 73,\n 'SN64242': 74,\n 'SN82410': 75,\n 'SN76928': 76,\n 'SN6840': 77,\n 'SN69625': 78,\n 'SN93140': 79,\n 'SN20280': 80,\n 'SN71850': 81,\n 'SN72200': 82,\n 'SN17050': 83,\n 'SN81650': 84,\n 'SN85840': 85,\n 'SN26500': 86,\n 'SN20301': 87,\n 'SN53990': 88,\n 'SN51460': 89,\n 'SN76240': 90,\n 'SN19825': 91,\n 'SN69655': 92,\n 'SN50850': 93,\n 'SN69520': 94,\n 'SN25630': 95,\n 'SN62980': 96,\n 'SN43520': 97,\n 'SN99540': 98,\n 'SN55928': 99,\n 'SN76530': 100,\n 'SN60650': 101,\n 'SN700': 102,\n 'SN89010': 103,\n 'SN27403': 104,\n 'SN67005': 105,\n 'SN41480': 106,\n 'SN38250': 107,\n 'SN91695': 108,\n 'SN18270': 109,\n 'SN42700': 110,\n 'SN26820': 111,\n 'SN57710': 112,\n 'SN26802': 113,\n 'SN37580': 114,\n 'SN69035': 115,\n 'SN65940': 116,\n 'SN21700': 117,\n 'SN27406': 118,\n 'SN54770': 119,\n 'SN670': 120,\n 'SN27065': 121,\n 'SN36010': 122,\n 'SN85645': 123,\n 'SN76969': 124,\n 'SN97470': 125,\n 'SN49955': 126,\n 'SN11340': 127,\n 'SN35860': 128,\n 'SN91728': 129,\n 'SN25040': 130,\n 'SN71990': 131,\n 'SN45460': 132,\n 'SN11690': 133,\n 'SN18410': 134,\n 'SN89350': 135,\n 'SN57790': 136,\n 'SN40250': 137,\n 'SN49240': 138,\n 'SN5350': 139,\n 'SN26990': 140,\n 'SN55520': 141,\n 'SN50505': 142,\n 'SN64510': 143,\n 'SN17650': 144,\n 'SN30330': 145,\n 'SN71385': 146,\n 'SN59695': 147,\n 'SN20470': 148,\n 'SN27785': 149,\n 'SN68230': 150,\n 'SN91530': 151,\n 'SN91180': 152,\n 'SN9303': 153,\n 'SN3480': 154,\n 'SN41090': 155,\n 'SN67560': 156,\n 'SN26810': 157,\n 'SN90510': 158,\n 'SN41990': 159,\n 'SN47445': 160,\n 'SN30650': 161,\n 'SN55735': 162,\n 'SN91120': 163,\n 'SN90360': 164,\n 'SN50310': 165,\n 'SN76938': 166,\n 'SN58860': 167,\n 'SN50175': 168,\n 'SN63705': 169,\n 'SN27055': 170,\n 'SN35210': 171,\n 'SN91715': 172,\n 'SN46930': 173,\n 'SN5660': 174,\n 'SN66175': 175,\n 'SN50770': 176,\n 'SN76923': 177,\n 'SN18920': 178,\n 'SN94230': 179,\n 'SN12030': 180,\n 'SN2980': 181,\n 'SN98790': 182,\n 'SN60310': 183,\n 'SN34130': 184,\n 'SN68860': 185,\n 'SN50540': 186,\n 'SN18950': 187,\n 'SN44780': 188,\n 'SN13390': 189,\n 'SN85380': 190,\n 'SN76920': 191,\n 'SN9380': 192,\n 'SN16611': 193,\n 'SN18280': 194,\n 'SN51610': 195,\n 'SN41795': 196,\n 'SN15050': 197,\n 'SN93000': 198,\n 'SN61410': 199,\n 'SN93700': 200,\n 'SN68175': 201,\n 'SN16560': 202,\n 'SN43350': 203,\n 'SN72580': 204,\n 'SN26450': 205,\n 'SN69380': 206,\n 'SN4460': 207,\n 'SN66150': 208,\n 'SN54110': 209,\n 'SN81420': 210,\n 'SN87315': 211,\n 'SN93900': 212,\n 'SN12050': 213,\n 'SN82210': 214,\n 'SN33950': 215,\n 'SN18315': 216,\n 'SN41005': 217,\n 'SN24820': 218,\n 'SN44567': 219,\n 'SN17400': 220,\n 'SN4920': 221,\n 'SN87120': 222,\n 'SN74670': 223,\n 'SN76931': 224,\n 'SN96400': 225,\n 'SN76922': 226,\n 'SN76330': 227,\n 'SN96310': 228,\n 'SN84880': 229,\n 'SN11060': 230,\n 'SN76934': 231,\n 'SN57770': 232,\n 'SN52360': 233,\n 'SN53230': 234,\n 'SN5590': 235,\n 'SN92500': 236,\n 'SN75220': 237,\n 'SN24350': 238,\n 'SN60850': 239,\n 'SN49420': 240,\n 'SN22890': 241,\n 'SN31620': 242,\n 'SN84500': 243,\n 'SN2560': 244,\n 'SN80050': 245,\n 'SN80705': 246,\n 'SN75190': 247,\n 'SN39150': 248,\n 'SN3720': 249,\n 'SN37230': 250,\n 'SN66810': 251,\n 'SN60835': 252,\n 'SN70390': 253,\n 'SN44300': 254,\n 'SN41770': 255,\n 'SN19430': 256,\n 'SN44605': 257,\n 'SN40005': 258,\n 'SN63000': 259,\n 'SN71550': 260,\n 'SN82020': 261,\n 'SN84900': 262,\n 'SN54710': 263,\n 'SN25112': 264,\n 'SN82720': 265,\n 'SN61065': 266,\n 'SN27295': 267,\n 'SN76963': 268,\n 'SN62240': 269,\n 'SN90250': 270,\n 'SN76954': 271,\n 'SN46432': 272,\n 'SN85890': 273,\n 'SN12680': 274,\n 'SN4590': 275,\n 'SN56420': 276,\n 'SN26580': 277,\n 'SN47260': 278,\n 'SN54590': 279,\n 'SN19815': 280,\n 'SN8780': 281,\n 'SN96850': 282,\n 'SN57365': 283,\n 'SN13125': 284,\n 'SN43010': 285,\n 'SN16265': 286,\n 'SN53480': 287,\n 'SN25165': 288,\n 'SN32890': 289,\n 'SN29950': 290,\n 'SN27420': 291,\n 'SN13110': 292,\n 'SN30255': 293,\n 'SN46090': 294,\n 'SN44610': 295,\n 'SN31855': 296,\n 'SN32061': 297,\n 'SN27010': 298,\n 'SN65275': 299,\n 'SN79253': 300,\n 'SN50830': 301,\n 'SN43895': 302,\n 'SN56895': 303,\n 'SN18020': 304,\n 'SN84905': 305,\n 'SN39750': 306,\n 'SN76956': 307,\n 'SN61408': 308,\n 'SN60980': 309,\n 'SN12550': 310,\n 'SN68050': 311,\n 'SN1380': 312,\n 'SN76959': 313,\n 'SN36200': 314,\n 'SN58100': 315,\n 'SN78170': 316,\n 'SN61420': 317,\n 'SN44080': 318,\n 'SN76926': 319,\n 'SN89980': 320,\n 'SN83960': 321,\n 'SN58770': 322,\n 'SN79764': 323,\n 'SN50480': 324,\n 'SN1960': 325,\n 'SN57810': 326,\n 'SN65310': 327,\n 'SN52310': 328,\n 'SN79791': 329,\n 'SN59586': 330,\n 'SN25110': 331,\n 'SN10800': 332,\n 'SN6700': 333,\n 'SN52555': 334,\n 'SN28923': 335,\n 'SN27470': 336,\n 'SN24240': 337,\n 'SN15950': 338,\n 'SN30242': 339,\n 'SN73630': 340,\n 'SN38140': 341,\n 'SN50539': 342,\n 'SN11790': 343,\n 'SN39100': 344,\n 'SN55770': 345,\n 'SN58910': 346,\n 'SN91675': 347,\n 'SN26970': 348,\n 'SN70980': 349,\n 'SN44190': 350,\n 'SN99950': 351,\n 'SN37150': 352,\n 'SN4950': 353,\n 'SN61060': 354,\n 'SN6170': 355,\n 'SN3290': 356,\n 'SN52940': 357,\n 'SN50500': 358,\n 'SN3730': 359,\n 'SN9310': 360,\n 'SN84970': 361,\n 'SN9400': 362,\n 'SN45350': 363,\n 'SN90': 364,\n 'SN87000': 365,\n 'SN49085': 366,\n 'SN87763': 367,\n 'SN87117': 368,\n 'SN44985': 369,\n 'SN67280': 370,\n 'SN26790': 371,\n 'SN82290': 372,\n 'SN50503': 373,\n 'SN77230': 374,\n 'SN22690': 375,\n 'SN48170': 376,\n 'SN67890': 377,\n 'SN35110': 378,\n 'SN61810': 379,\n 'SN91740': 380,\n 'SN60240': 381,\n 'SN36330': 382,\n 'SN27780': 383,\n 'SN90110': 384,\n 'SN19663': 385,\n 'SN47350': 386,\n 'SN27433': 387,\n 'SN3810': 388,\n 'SN53101': 389,\n 'SN24230': 390,\n 'SN44560': 391,\n 'SN90400': 392,\n 'SN36560': 393,\n 'SN11125': 394,\n 'SN49865': 395,\n 'SN78360': 396,\n 'SN44563': 397,\n 'SN65530': 398,\n 'SN94195': 399,\n 'SN61340': 400,\n 'SN13655': 401,\n 'SN59450': 402,\n 'SN12590': 403,\n 'SN18269': 404,\n 'SN87110': 405,\n 'SN40905': 406,\n 'SN43220': 407,\n 'SN71230': 408,\n 'SN63595': 409,\n 'SN76245': 410,\n 'SN59800': 411,\n 'SN3370': 412,\n 'SN16271': 413,\n 'SN19923': 414,\n 'SN88010': 415,\n 'SN90630': 416,\n 'SN33300': 417,\n 'SN76939': 418,\n 'SN56250': 419,\n 'SN27450': 420,\n 'SN98265': 421,\n 'SN34370': 422,\n 'SN42490': 423,\n 'SN89233': 424,\n 'SN3005': 425,\n 'SN32540': 426,\n 'SN37600': 427,\n 'SN57000': 428,\n 'SN98360': 429,\n 'SN38150': 430,\n 'SN63630': 431,\n 'SN24890': 432,\n 'SN82130': 433,\n 'SN85040': 434,\n 'SN3190': 435,\n 'SN50525': 436,\n 'SN50507': 437,\n 'SN90800': 438,\n 'SN52535': 439,\n 'SN43007': 440,\n 'SN46425': 441,\n 'SN85560': 442,\n 'SN82970': 443,\n 'SN38730': 444,\n 'SN26950': 445,\n 'SN64300': 446,\n 'SN31400': 447,\n 'SN86810': 448,\n 'SN4960': 449,\n 'SN50815': 450,\n 'SN16040': 451,\n 'SN66740': 452,\n 'SN43530': 453,\n 'SN84920': 454,\n 'SN26630': 455,\n 'SN87970': 456,\n 'SN81340': 457,\n 'SN47220': 458,\n 'SN4200': 459,\n 'SN42160': 460,\n 'SN27500': 461,\n 'SN27285': 462,\n 'SN52415': 463,\n 'SN76935': 464,\n 'SN65451': 465,\n 'SN16620': 466,\n 'SN64700': 467,\n 'SN53010': 468,\n 'SN40880': 469,\n 'SN21680': 470,\n 'SN22990': 471,\n 'SN52860': 472,\n 'SN90560': 473,\n 'SN48069': 474,\n 'SN9580': 475,\n 'SN60190': 476,\n 'SN99370': 477,\n 'SN4825': 478,\n 'SN45530': 479,\n 'SN11500': 480,\n 'SN11440': 481,\n 'SN39450': 482,\n 'SN15890': 483,\n 'SN92895': 484,\n 'SN18815': 485,\n 'SN33430': 486,\n 'SN5680': 487,\n 'SN61790': 488,\n 'SN47480': 489,\n 'SN5330': 490,\n 'SN7950': 491,\n 'SN85640': 492,\n 'SN27870': 493,\n 'SN49860': 494,\n 'SN90305': 495,\n 'SN120': 496,\n 'SN10070': 497,\n 'SN38735': 498,\n 'SN2480': 499,\n 'SN98580': 500,\n 'SN66120': 501,\n 'SN67340': 502,\n 'SN26590': 503,\n 'SN54645': 504,\n 'SN97710': 505,\n 'SN89940': 506,\n 'SN76958': 507,\n 'SN27460': 508,\n 'SN3990': 509,\n 'SN27400': 510,\n 'SN84910': 511,\n 'SN28450': 512,\n 'SN47300': 513,\n 'SN11000': 514,\n 'SN30280': 515,\n 'SN94680': 516,\n 'SN23300': 517,\n 'SN84210': 518,\n 'SN25830': 519,\n 'SN33555': 520,\n 'SN16610': 521,\n 'SN91480': 522,\n 'SN8230': 523,\n 'SN4543': 524,\n 'SN55700': 525,\n 'SN58670': 526,\n 'SN87640': 527,\n 'SN60880': 528,\n 'SN60225': 529,\n 'SN26060': 530,\n 'SN6690': 531,\n 'SN58350': 532,\n 'SN91420': 533,\n 'SN94500': 534,\n 'SN76960': 535,\n 'SN6020': 536,\n 'SN77041': 537,\n 'SN60990': 538,\n 'SN81760': 539,\n 'SN19830': 540,\n 'SN44485': 541,\n 'SN26900': 542,\n 'SN31700': 543,\n 'SN50514': 544,\n 'SN82310': 545,\n 'SN15730': 546,\n 'SN98630': 547,\n 'SN44730': 548,\n 'SN17895': 549,\n 'SN71780': 550,\n 'SN29720': 551,\n 'SN62270': 552,\n 'SN39212': 553,\n 'SN76930': 554,\n 'SN97251': 555,\n 'SN73550': 556,\n 'SN27130': 557,\n 'SN70850': 558,\n 'SN59680': 559,\n 'SN60640': 560,\n 'SN67210': 561,\n 'SN75410': 562,\n 'SN82220': 563,\n 'SN49087': 564,\n 'SN64590': 565,\n 'SN17850': 566,\n 'SN16845': 567,\n 'SN86520': 568,\n 'SN27270': 569,\n 'SN48330': 570,\n 'SN62290': 571,\n 'SN13160': 572,\n 'SN76932': 573,\n 'SN79220': 574,\n 'SN4260': 575,\n 'SN64760': 576,\n 'SN18690': 577,\n 'SN91505': 578,\n 'SN60247': 579,\n 'SN25580': 580,\n 'SN80730': 581,\n 'SN60947': 582,\n 'SN17640': 583,\n 'SN88628': 584,\n 'SN48120': 585,\n 'SN53530': 586,\n 'SN32240': 587,\n 'SN5495': 588,\n 'SN4780': 589,\n 'SN34100': 590,\n 'SN80870': 591,\n 'SN12666': 592,\n 'SN8880': 593,\n 'SN99460': 594,\n 'SN63725': 595,\n 'SN27075': 596,\n 'SN80610': 597,\n 'SN58165': 598,\n 'SN50360': 599,\n 'SN17550': 600,\n 'SN180': 601,\n 'SN80200': 602,\n 'SN46430': 603,\n 'SN98090': 604,\n 'SN50865': 605,\n 'SN62950': 606,\n 'SN6580': 607,\n 'SN33890': 608,\n 'SN64870': 609,\n 'SN98550': 610,\n 'SN20540': 611,\n 'SN86600': 612,\n 'SN67140': 613,\n 'SN59110': 614,\n 'SN52390': 615,\n 'SN20361': 616,\n 'SN71805': 617,\n 'SN55970': 618,\n 'SN39040': 619,\n 'SN47055': 620,\n 'SN95350': 621,\n 'SN76967': 622,\n 'SN55820': 623,\n 'SN13150': 624,\n 'SN63940': 625,\n 'SN89985': 626,\n 'SN14200': 627,\n 'SN61580': 628,\n 'SN24670': 629,\n 'SN90490': 630,\n 'SN77490': 631,\n 'SN86740': 632,\n 'SN13750': 633,\n 'SN40510': 634,\n 'SN92860': 635,\n 'SN34095': 636,\n 'SN30246': 637,\n 'SN67153': 638,\n 'SN32060': 639,\n 'SN15262': 640,\n 'SN57150': 641,\n 'SN27415': 642,\n 'SN26750': 643,\n 'SN27320': 644,\n 'SN94430': 645,\n 'SN94805': 646,\n 'SN91729': 647,\n 'SN78910': 648,\n 'SN96650': 649,\n 'SN70960': 650,\n 'SN94235': 651,\n 'SN87772': 652,\n 'SN48070': 653,\n 'SN27730': 654,\n 'SN60890': 655,\n 'SN75550': 656,\n 'SN60670': 657,\n 'SN55425': 658,\n 'SN80707': 659,\n 'SN68238': 660,\n 'SN1600': 661,\n 'SN30244': 662,\n 'SN25541': 663,\n 'SN54815': 664,\n 'SN30428': 665,\n 'SN26780': 666}"
     },
     "execution_count": 8,
     "metadata": {},
     "output_type": "execute_result"
    }
   ],
   "source": [
    "dataset.stations_dict"
   ],
   "metadata": {
    "collapsed": false,
    "pycharm": {
     "name": "#%%\n"
    }
   }
  },
  {
   "cell_type": "code",
   "execution_count": 9,
   "outputs": [
    {
     "data": {
      "text/plain": "Graph(num_nodes=667, num_edges=3335,\n      ndata_schemes={'x': Scheme(shape=(1400, 8), dtype=torch.float64), 'y': Scheme(shape=(1400,), dtype=torch.float64)}\n      edata_schemes={})"
     },
     "execution_count": 9,
     "metadata": {},
     "output_type": "execute_result"
    }
   ],
   "source": [
    "dataset.graph"
   ],
   "metadata": {
    "collapsed": false,
    "pycharm": {
     "name": "#%%\n"
    }
   }
  },
  {
   "cell_type": "code",
   "execution_count": 12,
   "outputs": [
    {
     "data": {
      "text/plain": "torch.Size([667, 1400, 8])"
     },
     "execution_count": 12,
     "metadata": {},
     "output_type": "execute_result"
    }
   ],
   "source": [
    "dataset.graph.ndata['x'].shape"
   ],
   "metadata": {
    "collapsed": false,
    "pycharm": {
     "name": "#%%\n"
    }
   }
  },
  {
   "cell_type": "code",
   "execution_count": 13,
   "outputs": [
    {
     "data": {
      "text/plain": "tensor([[[-0.6825,  0.0338,  0.0000,  ...,  0.4375,  0.9626,  0.7316],\n         [-0.6825,  0.0338,  0.0000,  ..., -0.4589,  0.1257,  0.3143],\n         [-0.6825,  0.0338,  0.0000,  ..., -1.3554,  0.0291, -0.3434],\n         ...,\n         [-0.6825,  0.0338,  0.0000,  ..., -0.4589,  0.0096,  0.0108],\n         [-0.6825,  0.0338,  0.0000,  ..., -1.3554, -0.0342,  0.0613],\n         [-0.6825,  0.0338,  0.0000,  ...,  1.3340,  0.2528,  0.3269]],\n\n        [[ 1.2653,  0.5924,  0.0000,  ...,  0.4375, -0.1192,  0.0866],\n         [ 1.2653,  0.5924,  0.0000,  ..., -0.4589, -0.1317, -0.1031],\n         [ 1.2653,  0.5924,  0.0000,  ..., -1.3554, -0.1765, -0.0651],\n         ...,\n         [ 1.2653,  0.5924,  0.0000,  ..., -0.4589, -0.1996, -0.2928],\n         [ 1.2653,  0.5924,  0.0000,  ..., -1.3554, -0.1468, -0.2043],\n         [ 1.2653,  0.5924,  0.0000,  ...,  1.3340,  0.1298,  0.2258]],\n\n        [[-0.0345, -0.4473,  0.0000,  ...,  0.4375, -0.4137, -0.1284],\n         [-0.0345, -0.4473,  0.0000,  ..., -0.4589, -0.7466, -0.5331],\n         [-0.0345, -0.4473,  0.0000,  ..., -1.3554, -0.8596, -0.7354],\n         ...,\n         [-0.0345, -0.4473,  0.0000,  ...,  0.4375, -0.2180,  0.0866],\n         [-0.0345, -0.4473,  0.0000,  ..., -0.4589, -0.6701, -0.3687],\n         [-0.0345, -0.4473,  0.0000,  ..., -1.3554, -1.1494, -1.3425]],\n\n        ...,\n\n        [[-0.3097, -0.4591,  0.0000,  ...,  1.3340, -1.7245, -1.6549],\n         [-0.3097, -0.4591,  0.0000,  ...,  0.4375, -1.6235, -1.5659],\n         [-0.3097, -0.4591,  0.0000,  ..., -0.4589, -1.7046, -1.4782],\n         ...,\n         [-0.3097, -0.4591,  0.0000,  ..., -0.4589, -1.8426, -1.8224],\n         [-0.3097, -0.4591,  0.0000,  ..., -1.3554, -1.8451, -1.8049],\n         [-0.3097, -0.4591,  0.0000,  ...,  1.3340, -1.8798, -1.7228]],\n\n        [[-0.8942, -0.1914,  0.0000,  ..., -0.4589, -1.7166, -1.4005],\n         [-0.8942, -0.1914,  0.0000,  ..., -1.3554, -1.8898, -1.5345],\n         [-0.8942, -0.1914,  0.0000,  ...,  1.3340, -1.5402, -1.4989],\n         ...,\n         [-0.8942, -0.1914,  0.0000,  ...,  0.4375, -0.7359, -0.7430],\n         [-0.8942, -0.1914,  0.0000,  ..., -0.4589, -0.8783, -0.8660],\n         [-0.8942, -0.1914,  0.0000,  ..., -1.3554, -0.9986, -1.2617]],\n\n        [[-0.7320, -0.0926,  0.0000,  ..., -0.4589, -0.7894, -0.7837],\n         [-0.7320, -0.0926,  0.0000,  ..., -0.4589, -0.7894, -0.7837],\n         [-0.7320, -0.0926,  0.0000,  ..., -0.4589, -0.7894, -0.7837],\n         ...,\n         [-0.7320, -0.0926,  0.0000,  ..., -0.4589, -0.7894, -0.7837],\n         [-0.7320, -0.0926,  0.0000,  ..., -0.4589, -0.7894, -0.7837],\n         [-0.7320, -0.0926,  0.0000,  ..., -0.4589, -0.7894, -0.7837]]],\n       dtype=torch.float64)"
     },
     "execution_count": 13,
     "metadata": {},
     "output_type": "execute_result"
    }
   ],
   "source": [
    "dataset.graph.ndata['x']"
   ],
   "metadata": {
    "collapsed": false,
    "pycharm": {
     "name": "#%%\n"
    }
   }
  },
  {
   "cell_type": "code",
   "execution_count": 14,
   "outputs": [],
   "source": [
    "dataset.save()"
   ],
   "metadata": {
    "collapsed": false,
    "pycharm": {
     "name": "#%%\n"
    }
   }
  },
  {
   "cell_type": "code",
   "execution_count": 15,
   "outputs": [],
   "source": [
    "d2 = read_weather_dataset('try1.pkl')"
   ],
   "metadata": {
    "collapsed": false,
    "pycharm": {
     "name": "#%%\n"
    }
   }
  },
  {
   "cell_type": "code",
   "execution_count": 16,
   "outputs": [
    {
     "data": {
      "text/plain": "<graph_class.WeatherDataset at 0x7f94e54ec910>"
     },
     "execution_count": 16,
     "metadata": {},
     "output_type": "execute_result"
    }
   ],
   "source": [
    "d2"
   ],
   "metadata": {
    "collapsed": false,
    "pycharm": {
     "name": "#%%\n"
    }
   }
  },
  {
   "cell_type": "code",
   "execution_count": 17,
   "outputs": [
    {
     "data": {
      "text/plain": "'try1'"
     },
     "execution_count": 17,
     "metadata": {},
     "output_type": "execute_result"
    }
   ],
   "source": [
    "d2.name"
   ],
   "metadata": {
    "collapsed": false,
    "pycharm": {
     "name": "#%%\n"
    }
   }
  },
  {
   "cell_type": "code",
   "execution_count": 18,
   "outputs": [
    {
     "data": {
      "text/plain": "       station_id      lat     long  year  month  day  hour  forecast  \\\n0         SN18700  59.9423  10.7200  2019      5   13    12  12.47900   \n1         SN80740  66.9035  13.6460  2019      5   13    12   4.09424   \n2         SN61630  62.2583   8.2000  2019      5   13    12   1.81200   \n3          SN8140  61.4255  11.0803  2019      5   13    12   8.86768   \n4         SN23500  61.1220   9.0630  2019      5   13    12   7.61084   \n...           ...      ...      ...   ...    ...  ...   ...       ...   \n843910    SN61580  62.2943   8.1255  2019      5   13    18   2.25586   \n843911    SN24670  60.2684   9.6919  2019      5   13    18   9.25342   \n843912    SN90490  69.6767  18.9133  2019      5   13    18   3.75146   \n843913    SN77490  65.3143  13.4483  2019      5   13    18  -0.56055   \n843914    SN86740  68.6072  14.4347  2019      5   13    18   4.98193   \n\n          gridpp  observation  observation_quality  gridpp_error  node  \n0       11.25000         11.1                    0       0.15000     0  \n1        6.15000          6.0                    0       0.15000     1  \n2        4.45000          4.3                    0       0.15000     2  \n3        9.65000          9.5                    0       0.15000     3  \n4        9.65860          8.6                    0       1.05860     4  \n...          ...          ...                  ...           ...   ...  \n843910   5.17270          5.8                    0       0.62730   628  \n843911  11.92026         11.0                    0       0.92026   629  \n843912   3.25000          3.1                    0       0.15000   630  \n843913  -2.15744         -2.6                    0       0.44256   631  \n843914   5.31020          4.8                    0       0.51020   632  \n\n[843915 rows x 13 columns]",
      "text/html": "<div>\n<style scoped>\n    .dataframe tbody tr th:only-of-type {\n        vertical-align: middle;\n    }\n\n    .dataframe tbody tr th {\n        vertical-align: top;\n    }\n\n    .dataframe thead th {\n        text-align: right;\n    }\n</style>\n<table border=\"1\" class=\"dataframe\">\n  <thead>\n    <tr style=\"text-align: right;\">\n      <th></th>\n      <th>station_id</th>\n      <th>lat</th>\n      <th>long</th>\n      <th>year</th>\n      <th>month</th>\n      <th>day</th>\n      <th>hour</th>\n      <th>forecast</th>\n      <th>gridpp</th>\n      <th>observation</th>\n      <th>observation_quality</th>\n      <th>gridpp_error</th>\n      <th>node</th>\n    </tr>\n  </thead>\n  <tbody>\n    <tr>\n      <th>0</th>\n      <td>SN18700</td>\n      <td>59.9423</td>\n      <td>10.7200</td>\n      <td>2019</td>\n      <td>5</td>\n      <td>13</td>\n      <td>12</td>\n      <td>12.47900</td>\n      <td>11.25000</td>\n      <td>11.1</td>\n      <td>0</td>\n      <td>0.15000</td>\n      <td>0</td>\n    </tr>\n    <tr>\n      <th>1</th>\n      <td>SN80740</td>\n      <td>66.9035</td>\n      <td>13.6460</td>\n      <td>2019</td>\n      <td>5</td>\n      <td>13</td>\n      <td>12</td>\n      <td>4.09424</td>\n      <td>6.15000</td>\n      <td>6.0</td>\n      <td>0</td>\n      <td>0.15000</td>\n      <td>1</td>\n    </tr>\n    <tr>\n      <th>2</th>\n      <td>SN61630</td>\n      <td>62.2583</td>\n      <td>8.2000</td>\n      <td>2019</td>\n      <td>5</td>\n      <td>13</td>\n      <td>12</td>\n      <td>1.81200</td>\n      <td>4.45000</td>\n      <td>4.3</td>\n      <td>0</td>\n      <td>0.15000</td>\n      <td>2</td>\n    </tr>\n    <tr>\n      <th>3</th>\n      <td>SN8140</td>\n      <td>61.4255</td>\n      <td>11.0803</td>\n      <td>2019</td>\n      <td>5</td>\n      <td>13</td>\n      <td>12</td>\n      <td>8.86768</td>\n      <td>9.65000</td>\n      <td>9.5</td>\n      <td>0</td>\n      <td>0.15000</td>\n      <td>3</td>\n    </tr>\n    <tr>\n      <th>4</th>\n      <td>SN23500</td>\n      <td>61.1220</td>\n      <td>9.0630</td>\n      <td>2019</td>\n      <td>5</td>\n      <td>13</td>\n      <td>12</td>\n      <td>7.61084</td>\n      <td>9.65860</td>\n      <td>8.6</td>\n      <td>0</td>\n      <td>1.05860</td>\n      <td>4</td>\n    </tr>\n    <tr>\n      <th>...</th>\n      <td>...</td>\n      <td>...</td>\n      <td>...</td>\n      <td>...</td>\n      <td>...</td>\n      <td>...</td>\n      <td>...</td>\n      <td>...</td>\n      <td>...</td>\n      <td>...</td>\n      <td>...</td>\n      <td>...</td>\n      <td>...</td>\n    </tr>\n    <tr>\n      <th>843910</th>\n      <td>SN61580</td>\n      <td>62.2943</td>\n      <td>8.1255</td>\n      <td>2019</td>\n      <td>5</td>\n      <td>13</td>\n      <td>18</td>\n      <td>2.25586</td>\n      <td>5.17270</td>\n      <td>5.8</td>\n      <td>0</td>\n      <td>0.62730</td>\n      <td>628</td>\n    </tr>\n    <tr>\n      <th>843911</th>\n      <td>SN24670</td>\n      <td>60.2684</td>\n      <td>9.6919</td>\n      <td>2019</td>\n      <td>5</td>\n      <td>13</td>\n      <td>18</td>\n      <td>9.25342</td>\n      <td>11.92026</td>\n      <td>11.0</td>\n      <td>0</td>\n      <td>0.92026</td>\n      <td>629</td>\n    </tr>\n    <tr>\n      <th>843912</th>\n      <td>SN90490</td>\n      <td>69.6767</td>\n      <td>18.9133</td>\n      <td>2019</td>\n      <td>5</td>\n      <td>13</td>\n      <td>18</td>\n      <td>3.75146</td>\n      <td>3.25000</td>\n      <td>3.1</td>\n      <td>0</td>\n      <td>0.15000</td>\n      <td>630</td>\n    </tr>\n    <tr>\n      <th>843913</th>\n      <td>SN77490</td>\n      <td>65.3143</td>\n      <td>13.4483</td>\n      <td>2019</td>\n      <td>5</td>\n      <td>13</td>\n      <td>18</td>\n      <td>-0.56055</td>\n      <td>-2.15744</td>\n      <td>-2.6</td>\n      <td>0</td>\n      <td>0.44256</td>\n      <td>631</td>\n    </tr>\n    <tr>\n      <th>843914</th>\n      <td>SN86740</td>\n      <td>68.6072</td>\n      <td>14.4347</td>\n      <td>2019</td>\n      <td>5</td>\n      <td>13</td>\n      <td>18</td>\n      <td>4.98193</td>\n      <td>5.31020</td>\n      <td>4.8</td>\n      <td>0</td>\n      <td>0.51020</td>\n      <td>632</td>\n    </tr>\n  </tbody>\n</table>\n<p>843915 rows × 13 columns</p>\n</div>"
     },
     "execution_count": 18,
     "metadata": {},
     "output_type": "execute_result"
    }
   ],
   "source": [
    "d2.dataframe"
   ],
   "metadata": {
    "collapsed": false,
    "pycharm": {
     "name": "#%%\n"
    }
   }
  },
  {
   "cell_type": "code",
   "execution_count": null,
   "outputs": [],
   "source": [],
   "metadata": {
    "collapsed": false,
    "pycharm": {
     "name": "#%%\n"
    }
   }
  }
 ],
 "metadata": {
  "kernelspec": {
   "display_name": "Python 3",
   "language": "python",
   "name": "python3"
  },
  "language_info": {
   "codemirror_mode": {
    "name": "ipython",
    "version": 2
   },
   "file_extension": ".py",
   "mimetype": "text/x-python",
   "name": "python",
   "nbconvert_exporter": "python",
   "pygments_lexer": "ipython2",
   "version": "2.7.6"
  }
 },
 "nbformat": 4,
 "nbformat_minor": 0
}