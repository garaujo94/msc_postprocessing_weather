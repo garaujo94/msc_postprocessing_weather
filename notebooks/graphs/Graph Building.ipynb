{
 "cells": [
  {
   "cell_type": "markdown",
   "source": [
    "# Graph Building\n",
    "(Work in progress...)"
   ],
   "metadata": {
    "collapsed": false,
    "pycharm": {
     "name": "#%% md\n"
    }
   }
  },
  {
   "cell_type": "code",
   "execution_count": 25,
   "outputs": [],
   "source": [
    "import numpy as np\n",
    "import pandas as pd\n",
    "import matplotlib.pyplot as plt\n",
    "import dgl\n",
    "import torch\n",
    "\n",
    "from graph_utils import to_utm, calculate_stations_distance, calculate_graph_structure_dataframe, calculate_features_and_labels, create_graph_structure, print_graph"
   ],
   "metadata": {
    "collapsed": false,
    "pycharm": {
     "name": "#%%\n"
    }
   }
  },
  {
   "cell_type": "code",
   "execution_count": 6,
   "outputs": [
    {
     "data": {
      "text/plain": "(843915, 12)"
     },
     "execution_count": 6,
     "metadata": {},
     "output_type": "execute_result"
    }
   ],
   "source": [
    "df = pd.read_csv('../../data/data_initial_preprocessing.csv')\n",
    "df.shape"
   ],
   "metadata": {
    "collapsed": false,
    "pycharm": {
     "name": "#%%\n"
    }
   }
  },
  {
   "cell_type": "code",
   "execution_count": 7,
   "outputs": [
    {
     "data": {
      "text/plain": "       station_id      lat     long  year  month  day  hour  forecast  \\\n0         SN18700  59.9423  10.7200  2019      5   13    12  12.47900   \n1         SN80740  66.9035  13.6460  2019      5   13    12   4.09424   \n2         SN61630  62.2583   8.2000  2019      5   13    12   1.81200   \n3          SN8140  61.4255  11.0803  2019      5   13    12   8.86768   \n4         SN23500  61.1220   9.0630  2019      5   13    12   7.61084   \n...           ...      ...      ...   ...    ...  ...   ...       ...   \n843910    SN61580  62.2943   8.1255  2019      5   13    18   2.25586   \n843911    SN24670  60.2684   9.6919  2019      5   13    18   9.25342   \n843912    SN90490  69.6767  18.9133  2019      5   13    18   3.75146   \n843913    SN77490  65.3143  13.4483  2019      5   13    18  -0.56055   \n843914    SN86740  68.6072  14.4347  2019      5   13    18   4.98193   \n\n          gridpp  observation  observation_quality  gridpp_error  \n0       11.25000         11.1                    0       0.15000  \n1        6.15000          6.0                    0       0.15000  \n2        4.45000          4.3                    0       0.15000  \n3        9.65000          9.5                    0       0.15000  \n4        9.65860          8.6                    0       1.05860  \n...          ...          ...                  ...           ...  \n843910   5.17270          5.8                    0       0.62730  \n843911  11.92026         11.0                    0       0.92026  \n843912   3.25000          3.1                    0       0.15000  \n843913  -2.15744         -2.6                    0       0.44256  \n843914   5.31020          4.8                    0       0.51020  \n\n[843915 rows x 12 columns]",
      "text/html": "<div>\n<style scoped>\n    .dataframe tbody tr th:only-of-type {\n        vertical-align: middle;\n    }\n\n    .dataframe tbody tr th {\n        vertical-align: top;\n    }\n\n    .dataframe thead th {\n        text-align: right;\n    }\n</style>\n<table border=\"1\" class=\"dataframe\">\n  <thead>\n    <tr style=\"text-align: right;\">\n      <th></th>\n      <th>station_id</th>\n      <th>lat</th>\n      <th>long</th>\n      <th>year</th>\n      <th>month</th>\n      <th>day</th>\n      <th>hour</th>\n      <th>forecast</th>\n      <th>gridpp</th>\n      <th>observation</th>\n      <th>observation_quality</th>\n      <th>gridpp_error</th>\n    </tr>\n  </thead>\n  <tbody>\n    <tr>\n      <th>0</th>\n      <td>SN18700</td>\n      <td>59.9423</td>\n      <td>10.7200</td>\n      <td>2019</td>\n      <td>5</td>\n      <td>13</td>\n      <td>12</td>\n      <td>12.47900</td>\n      <td>11.25000</td>\n      <td>11.1</td>\n      <td>0</td>\n      <td>0.15000</td>\n    </tr>\n    <tr>\n      <th>1</th>\n      <td>SN80740</td>\n      <td>66.9035</td>\n      <td>13.6460</td>\n      <td>2019</td>\n      <td>5</td>\n      <td>13</td>\n      <td>12</td>\n      <td>4.09424</td>\n      <td>6.15000</td>\n      <td>6.0</td>\n      <td>0</td>\n      <td>0.15000</td>\n    </tr>\n    <tr>\n      <th>2</th>\n      <td>SN61630</td>\n      <td>62.2583</td>\n      <td>8.2000</td>\n      <td>2019</td>\n      <td>5</td>\n      <td>13</td>\n      <td>12</td>\n      <td>1.81200</td>\n      <td>4.45000</td>\n      <td>4.3</td>\n      <td>0</td>\n      <td>0.15000</td>\n    </tr>\n    <tr>\n      <th>3</th>\n      <td>SN8140</td>\n      <td>61.4255</td>\n      <td>11.0803</td>\n      <td>2019</td>\n      <td>5</td>\n      <td>13</td>\n      <td>12</td>\n      <td>8.86768</td>\n      <td>9.65000</td>\n      <td>9.5</td>\n      <td>0</td>\n      <td>0.15000</td>\n    </tr>\n    <tr>\n      <th>4</th>\n      <td>SN23500</td>\n      <td>61.1220</td>\n      <td>9.0630</td>\n      <td>2019</td>\n      <td>5</td>\n      <td>13</td>\n      <td>12</td>\n      <td>7.61084</td>\n      <td>9.65860</td>\n      <td>8.6</td>\n      <td>0</td>\n      <td>1.05860</td>\n    </tr>\n    <tr>\n      <th>...</th>\n      <td>...</td>\n      <td>...</td>\n      <td>...</td>\n      <td>...</td>\n      <td>...</td>\n      <td>...</td>\n      <td>...</td>\n      <td>...</td>\n      <td>...</td>\n      <td>...</td>\n      <td>...</td>\n      <td>...</td>\n    </tr>\n    <tr>\n      <th>843910</th>\n      <td>SN61580</td>\n      <td>62.2943</td>\n      <td>8.1255</td>\n      <td>2019</td>\n      <td>5</td>\n      <td>13</td>\n      <td>18</td>\n      <td>2.25586</td>\n      <td>5.17270</td>\n      <td>5.8</td>\n      <td>0</td>\n      <td>0.62730</td>\n    </tr>\n    <tr>\n      <th>843911</th>\n      <td>SN24670</td>\n      <td>60.2684</td>\n      <td>9.6919</td>\n      <td>2019</td>\n      <td>5</td>\n      <td>13</td>\n      <td>18</td>\n      <td>9.25342</td>\n      <td>11.92026</td>\n      <td>11.0</td>\n      <td>0</td>\n      <td>0.92026</td>\n    </tr>\n    <tr>\n      <th>843912</th>\n      <td>SN90490</td>\n      <td>69.6767</td>\n      <td>18.9133</td>\n      <td>2019</td>\n      <td>5</td>\n      <td>13</td>\n      <td>18</td>\n      <td>3.75146</td>\n      <td>3.25000</td>\n      <td>3.1</td>\n      <td>0</td>\n      <td>0.15000</td>\n    </tr>\n    <tr>\n      <th>843913</th>\n      <td>SN77490</td>\n      <td>65.3143</td>\n      <td>13.4483</td>\n      <td>2019</td>\n      <td>5</td>\n      <td>13</td>\n      <td>18</td>\n      <td>-0.56055</td>\n      <td>-2.15744</td>\n      <td>-2.6</td>\n      <td>0</td>\n      <td>0.44256</td>\n    </tr>\n    <tr>\n      <th>843914</th>\n      <td>SN86740</td>\n      <td>68.6072</td>\n      <td>14.4347</td>\n      <td>2019</td>\n      <td>5</td>\n      <td>13</td>\n      <td>18</td>\n      <td>4.98193</td>\n      <td>5.31020</td>\n      <td>4.8</td>\n      <td>0</td>\n      <td>0.51020</td>\n    </tr>\n  </tbody>\n</table>\n<p>843915 rows × 12 columns</p>\n</div>"
     },
     "execution_count": 7,
     "metadata": {},
     "output_type": "execute_result"
    }
   ],
   "source": [
    "df"
   ],
   "metadata": {
    "collapsed": false,
    "pycharm": {
     "name": "#%%\n"
    }
   }
  },
  {
   "cell_type": "code",
   "execution_count": 8,
   "outputs": [
    {
     "data": {
      "text/plain": "(667, 12)"
     },
     "execution_count": 8,
     "metadata": {},
     "output_type": "execute_result"
    }
   ],
   "source": [
    "stations = df.copy()\n",
    "stations.drop_duplicates(subset=['station_id'], inplace=True)\n",
    "stations.shape"
   ],
   "metadata": {
    "collapsed": false,
    "pycharm": {
     "name": "#%%\n"
    }
   }
  },
  {
   "cell_type": "code",
   "execution_count": 9,
   "outputs": [
    {
     "data": {
      "text/plain": "       station_id       lat      long  year  month  day  hour   forecast  \\\n0         SN18700  59.94230  10.72000  2019      5   13    12  12.479000   \n1         SN80740  66.90350  13.64600  2019      5   13    12   4.094240   \n2         SN61630  62.25830   8.20000  2019      5   13    12   1.812000   \n3          SN8140  61.42550  11.08030  2019      5   13    12   8.867680   \n4         SN23500  61.12200   9.06300  2019      5   13    12   7.610840   \n...           ...       ...       ...   ...    ...  ...   ...        ...   \n324578    SN30244  59.07270   9.92300  2019     10   29    18   0.979500   \n325893    SN25541  60.68108   8.00375  2019     10   29     0  -6.306150   \n388852    SN54815  61.27470   8.13850  2019     11   30    18  -8.348236   \n556356    SN30428  59.18550   9.54030  2019      1   22     6  -8.286380   \n646815    SN26780  59.76550  10.05820  2019      2   11     6  -1.100520   \n\n          gridpp  observation  observation_quality  gridpp_error  \n0       11.25000         11.1                    0       0.15000  \n1        6.15000          6.0                    0       0.15000  \n2        4.45000          4.3                    0       0.15000  \n3        9.65000          9.5                    0       0.15000  \n4        9.65860          8.6                    0       1.05860  \n...          ...          ...                  ...           ...  \n324578   2.56567          0.7                    0       1.86567  \n325893  -3.95193         -4.5                    0       0.54807  \n388852  -7.62027         -8.0                    0       0.37973  \n556356  -5.60867         -6.0                    0       0.39133  \n646815  -0.73170         -2.3                    0       1.56830  \n\n[667 rows x 12 columns]",
      "text/html": "<div>\n<style scoped>\n    .dataframe tbody tr th:only-of-type {\n        vertical-align: middle;\n    }\n\n    .dataframe tbody tr th {\n        vertical-align: top;\n    }\n\n    .dataframe thead th {\n        text-align: right;\n    }\n</style>\n<table border=\"1\" class=\"dataframe\">\n  <thead>\n    <tr style=\"text-align: right;\">\n      <th></th>\n      <th>station_id</th>\n      <th>lat</th>\n      <th>long</th>\n      <th>year</th>\n      <th>month</th>\n      <th>day</th>\n      <th>hour</th>\n      <th>forecast</th>\n      <th>gridpp</th>\n      <th>observation</th>\n      <th>observation_quality</th>\n      <th>gridpp_error</th>\n    </tr>\n  </thead>\n  <tbody>\n    <tr>\n      <th>0</th>\n      <td>SN18700</td>\n      <td>59.94230</td>\n      <td>10.72000</td>\n      <td>2019</td>\n      <td>5</td>\n      <td>13</td>\n      <td>12</td>\n      <td>12.479000</td>\n      <td>11.25000</td>\n      <td>11.1</td>\n      <td>0</td>\n      <td>0.15000</td>\n    </tr>\n    <tr>\n      <th>1</th>\n      <td>SN80740</td>\n      <td>66.90350</td>\n      <td>13.64600</td>\n      <td>2019</td>\n      <td>5</td>\n      <td>13</td>\n      <td>12</td>\n      <td>4.094240</td>\n      <td>6.15000</td>\n      <td>6.0</td>\n      <td>0</td>\n      <td>0.15000</td>\n    </tr>\n    <tr>\n      <th>2</th>\n      <td>SN61630</td>\n      <td>62.25830</td>\n      <td>8.20000</td>\n      <td>2019</td>\n      <td>5</td>\n      <td>13</td>\n      <td>12</td>\n      <td>1.812000</td>\n      <td>4.45000</td>\n      <td>4.3</td>\n      <td>0</td>\n      <td>0.15000</td>\n    </tr>\n    <tr>\n      <th>3</th>\n      <td>SN8140</td>\n      <td>61.42550</td>\n      <td>11.08030</td>\n      <td>2019</td>\n      <td>5</td>\n      <td>13</td>\n      <td>12</td>\n      <td>8.867680</td>\n      <td>9.65000</td>\n      <td>9.5</td>\n      <td>0</td>\n      <td>0.15000</td>\n    </tr>\n    <tr>\n      <th>4</th>\n      <td>SN23500</td>\n      <td>61.12200</td>\n      <td>9.06300</td>\n      <td>2019</td>\n      <td>5</td>\n      <td>13</td>\n      <td>12</td>\n      <td>7.610840</td>\n      <td>9.65860</td>\n      <td>8.6</td>\n      <td>0</td>\n      <td>1.05860</td>\n    </tr>\n    <tr>\n      <th>...</th>\n      <td>...</td>\n      <td>...</td>\n      <td>...</td>\n      <td>...</td>\n      <td>...</td>\n      <td>...</td>\n      <td>...</td>\n      <td>...</td>\n      <td>...</td>\n      <td>...</td>\n      <td>...</td>\n      <td>...</td>\n    </tr>\n    <tr>\n      <th>324578</th>\n      <td>SN30244</td>\n      <td>59.07270</td>\n      <td>9.92300</td>\n      <td>2019</td>\n      <td>10</td>\n      <td>29</td>\n      <td>18</td>\n      <td>0.979500</td>\n      <td>2.56567</td>\n      <td>0.7</td>\n      <td>0</td>\n      <td>1.86567</td>\n    </tr>\n    <tr>\n      <th>325893</th>\n      <td>SN25541</td>\n      <td>60.68108</td>\n      <td>8.00375</td>\n      <td>2019</td>\n      <td>10</td>\n      <td>29</td>\n      <td>0</td>\n      <td>-6.306150</td>\n      <td>-3.95193</td>\n      <td>-4.5</td>\n      <td>0</td>\n      <td>0.54807</td>\n    </tr>\n    <tr>\n      <th>388852</th>\n      <td>SN54815</td>\n      <td>61.27470</td>\n      <td>8.13850</td>\n      <td>2019</td>\n      <td>11</td>\n      <td>30</td>\n      <td>18</td>\n      <td>-8.348236</td>\n      <td>-7.62027</td>\n      <td>-8.0</td>\n      <td>0</td>\n      <td>0.37973</td>\n    </tr>\n    <tr>\n      <th>556356</th>\n      <td>SN30428</td>\n      <td>59.18550</td>\n      <td>9.54030</td>\n      <td>2019</td>\n      <td>1</td>\n      <td>22</td>\n      <td>6</td>\n      <td>-8.286380</td>\n      <td>-5.60867</td>\n      <td>-6.0</td>\n      <td>0</td>\n      <td>0.39133</td>\n    </tr>\n    <tr>\n      <th>646815</th>\n      <td>SN26780</td>\n      <td>59.76550</td>\n      <td>10.05820</td>\n      <td>2019</td>\n      <td>2</td>\n      <td>11</td>\n      <td>6</td>\n      <td>-1.100520</td>\n      <td>-0.73170</td>\n      <td>-2.3</td>\n      <td>0</td>\n      <td>1.56830</td>\n    </tr>\n  </tbody>\n</table>\n<p>667 rows × 12 columns</p>\n</div>"
     },
     "execution_count": 9,
     "metadata": {},
     "output_type": "execute_result"
    }
   ],
   "source": [
    "stations"
   ],
   "metadata": {
    "collapsed": false,
    "pycharm": {
     "name": "#%%\n"
    }
   }
  },
  {
   "cell_type": "code",
   "execution_count": 10,
   "outputs": [],
   "source": [
    "stations['utm'] = stations[['lat', 'long']].apply(lambda x: to_utm(x), axis=1)"
   ],
   "metadata": {
    "collapsed": false,
    "pycharm": {
     "name": "#%%\n"
    }
   }
  },
  {
   "cell_type": "code",
   "execution_count": 11,
   "outputs": [],
   "source": [
    "stations['utm_x'] = stations['utm'].apply(lambda x: x[0])\n",
    "stations['utm_y'] = stations['utm'].apply(lambda x: x[1])"
   ],
   "metadata": {
    "collapsed": false,
    "pycharm": {
     "name": "#%%\n"
    }
   }
  },
  {
   "cell_type": "code",
   "execution_count": 12,
   "outputs": [
    {
     "data": {
      "text/plain": "       station_id       lat      long  year  month  day  hour   forecast  \\\n0         SN18700  59.94230  10.72000  2019      5   13    12  12.479000   \n1         SN80740  66.90350  13.64600  2019      5   13    12   4.094240   \n2         SN61630  62.25830   8.20000  2019      5   13    12   1.812000   \n3          SN8140  61.42550  11.08030  2019      5   13    12   8.867680   \n4         SN23500  61.12200   9.06300  2019      5   13    12   7.610840   \n...           ...       ...       ...   ...    ...  ...   ...        ...   \n324578    SN30244  59.07270   9.92300  2019     10   29    18   0.979500   \n325893    SN25541  60.68108   8.00375  2019     10   29     0  -6.306150   \n388852    SN54815  61.27470   8.13850  2019     11   30    18  -8.348236   \n556356    SN30428  59.18550   9.54030  2019      1   22     6  -8.286380   \n646815    SN26780  59.76550  10.05820  2019      2   11     6  -1.100520   \n\n          gridpp  observation  observation_quality  gridpp_error  \\\n0       11.25000         11.1                    0       0.15000   \n1        6.15000          6.0                    0       0.15000   \n2        4.45000          4.3                    0       0.15000   \n3        9.65000          9.5                    0       0.15000   \n4        9.65860          8.6                    0       1.05860   \n...          ...          ...                  ...           ...   \n324578   2.56567          0.7                    0       1.86567   \n325893  -3.95193         -4.5                    0       0.54807   \n388852  -7.62027         -8.0                    0       0.37973   \n556356  -5.60867         -6.0                    0       0.39133   \n646815  -0.73170         -2.3                    0       1.56830   \n\n                                                    utm          utm_x  \\\n0          (596097.435011151, 6646233.876457353, 32, V)  596097.435011   \n1        (440732.20032325835, 7421266.829027383, 33, W)  440732.200323   \n2        (458454.11108216754, 6903212.279337059, 32, V)  458454.111082   \n3          (610993.369200744, 6811952.803180132, 32, V)  610993.369201   \n4       (503394.33104674995, 6776378.0222047465, 32, V)  503394.331047   \n...                                                 ...            ...   \n324578    (552915.5778018576, 6548512.881481115, 32, V)  552915.577802   \n325893    (445579.0407999647, 6727677.984216568, 32, V)  445579.040800   \n388852    (453808.909393533, 6793689.8468205035, 32, V)  453808.909394   \n556356    (530874.1403040809, 6560832.869152451, 32, V)  530874.140304   \n646815     (559439.489113781, 6625770.179108868, 32, V)  559439.489114   \n\n               utm_y  \n0       6.646234e+06  \n1       7.421267e+06  \n2       6.903212e+06  \n3       6.811953e+06  \n4       6.776378e+06  \n...              ...  \n324578  6.548513e+06  \n325893  6.727678e+06  \n388852  6.793690e+06  \n556356  6.560833e+06  \n646815  6.625770e+06  \n\n[667 rows x 15 columns]",
      "text/html": "<div>\n<style scoped>\n    .dataframe tbody tr th:only-of-type {\n        vertical-align: middle;\n    }\n\n    .dataframe tbody tr th {\n        vertical-align: top;\n    }\n\n    .dataframe thead th {\n        text-align: right;\n    }\n</style>\n<table border=\"1\" class=\"dataframe\">\n  <thead>\n    <tr style=\"text-align: right;\">\n      <th></th>\n      <th>station_id</th>\n      <th>lat</th>\n      <th>long</th>\n      <th>year</th>\n      <th>month</th>\n      <th>day</th>\n      <th>hour</th>\n      <th>forecast</th>\n      <th>gridpp</th>\n      <th>observation</th>\n      <th>observation_quality</th>\n      <th>gridpp_error</th>\n      <th>utm</th>\n      <th>utm_x</th>\n      <th>utm_y</th>\n    </tr>\n  </thead>\n  <tbody>\n    <tr>\n      <th>0</th>\n      <td>SN18700</td>\n      <td>59.94230</td>\n      <td>10.72000</td>\n      <td>2019</td>\n      <td>5</td>\n      <td>13</td>\n      <td>12</td>\n      <td>12.479000</td>\n      <td>11.25000</td>\n      <td>11.1</td>\n      <td>0</td>\n      <td>0.15000</td>\n      <td>(596097.435011151, 6646233.876457353, 32, V)</td>\n      <td>596097.435011</td>\n      <td>6.646234e+06</td>\n    </tr>\n    <tr>\n      <th>1</th>\n      <td>SN80740</td>\n      <td>66.90350</td>\n      <td>13.64600</td>\n      <td>2019</td>\n      <td>5</td>\n      <td>13</td>\n      <td>12</td>\n      <td>4.094240</td>\n      <td>6.15000</td>\n      <td>6.0</td>\n      <td>0</td>\n      <td>0.15000</td>\n      <td>(440732.20032325835, 7421266.829027383, 33, W)</td>\n      <td>440732.200323</td>\n      <td>7.421267e+06</td>\n    </tr>\n    <tr>\n      <th>2</th>\n      <td>SN61630</td>\n      <td>62.25830</td>\n      <td>8.20000</td>\n      <td>2019</td>\n      <td>5</td>\n      <td>13</td>\n      <td>12</td>\n      <td>1.812000</td>\n      <td>4.45000</td>\n      <td>4.3</td>\n      <td>0</td>\n      <td>0.15000</td>\n      <td>(458454.11108216754, 6903212.279337059, 32, V)</td>\n      <td>458454.111082</td>\n      <td>6.903212e+06</td>\n    </tr>\n    <tr>\n      <th>3</th>\n      <td>SN8140</td>\n      <td>61.42550</td>\n      <td>11.08030</td>\n      <td>2019</td>\n      <td>5</td>\n      <td>13</td>\n      <td>12</td>\n      <td>8.867680</td>\n      <td>9.65000</td>\n      <td>9.5</td>\n      <td>0</td>\n      <td>0.15000</td>\n      <td>(610993.369200744, 6811952.803180132, 32, V)</td>\n      <td>610993.369201</td>\n      <td>6.811953e+06</td>\n    </tr>\n    <tr>\n      <th>4</th>\n      <td>SN23500</td>\n      <td>61.12200</td>\n      <td>9.06300</td>\n      <td>2019</td>\n      <td>5</td>\n      <td>13</td>\n      <td>12</td>\n      <td>7.610840</td>\n      <td>9.65860</td>\n      <td>8.6</td>\n      <td>0</td>\n      <td>1.05860</td>\n      <td>(503394.33104674995, 6776378.0222047465, 32, V)</td>\n      <td>503394.331047</td>\n      <td>6.776378e+06</td>\n    </tr>\n    <tr>\n      <th>...</th>\n      <td>...</td>\n      <td>...</td>\n      <td>...</td>\n      <td>...</td>\n      <td>...</td>\n      <td>...</td>\n      <td>...</td>\n      <td>...</td>\n      <td>...</td>\n      <td>...</td>\n      <td>...</td>\n      <td>...</td>\n      <td>...</td>\n      <td>...</td>\n      <td>...</td>\n    </tr>\n    <tr>\n      <th>324578</th>\n      <td>SN30244</td>\n      <td>59.07270</td>\n      <td>9.92300</td>\n      <td>2019</td>\n      <td>10</td>\n      <td>29</td>\n      <td>18</td>\n      <td>0.979500</td>\n      <td>2.56567</td>\n      <td>0.7</td>\n      <td>0</td>\n      <td>1.86567</td>\n      <td>(552915.5778018576, 6548512.881481115, 32, V)</td>\n      <td>552915.577802</td>\n      <td>6.548513e+06</td>\n    </tr>\n    <tr>\n      <th>325893</th>\n      <td>SN25541</td>\n      <td>60.68108</td>\n      <td>8.00375</td>\n      <td>2019</td>\n      <td>10</td>\n      <td>29</td>\n      <td>0</td>\n      <td>-6.306150</td>\n      <td>-3.95193</td>\n      <td>-4.5</td>\n      <td>0</td>\n      <td>0.54807</td>\n      <td>(445579.0407999647, 6727677.984216568, 32, V)</td>\n      <td>445579.040800</td>\n      <td>6.727678e+06</td>\n    </tr>\n    <tr>\n      <th>388852</th>\n      <td>SN54815</td>\n      <td>61.27470</td>\n      <td>8.13850</td>\n      <td>2019</td>\n      <td>11</td>\n      <td>30</td>\n      <td>18</td>\n      <td>-8.348236</td>\n      <td>-7.62027</td>\n      <td>-8.0</td>\n      <td>0</td>\n      <td>0.37973</td>\n      <td>(453808.909393533, 6793689.8468205035, 32, V)</td>\n      <td>453808.909394</td>\n      <td>6.793690e+06</td>\n    </tr>\n    <tr>\n      <th>556356</th>\n      <td>SN30428</td>\n      <td>59.18550</td>\n      <td>9.54030</td>\n      <td>2019</td>\n      <td>1</td>\n      <td>22</td>\n      <td>6</td>\n      <td>-8.286380</td>\n      <td>-5.60867</td>\n      <td>-6.0</td>\n      <td>0</td>\n      <td>0.39133</td>\n      <td>(530874.1403040809, 6560832.869152451, 32, V)</td>\n      <td>530874.140304</td>\n      <td>6.560833e+06</td>\n    </tr>\n    <tr>\n      <th>646815</th>\n      <td>SN26780</td>\n      <td>59.76550</td>\n      <td>10.05820</td>\n      <td>2019</td>\n      <td>2</td>\n      <td>11</td>\n      <td>6</td>\n      <td>-1.100520</td>\n      <td>-0.73170</td>\n      <td>-2.3</td>\n      <td>0</td>\n      <td>1.56830</td>\n      <td>(559439.489113781, 6625770.179108868, 32, V)</td>\n      <td>559439.489114</td>\n      <td>6.625770e+06</td>\n    </tr>\n  </tbody>\n</table>\n<p>667 rows × 15 columns</p>\n</div>"
     },
     "execution_count": 12,
     "metadata": {},
     "output_type": "execute_result"
    }
   ],
   "source": [
    "stations"
   ],
   "metadata": {
    "collapsed": false,
    "pycharm": {
     "name": "#%%\n"
    }
   }
  },
  {
   "cell_type": "code",
   "execution_count": 13,
   "outputs": [],
   "source": [
    "x = np.array(stations.utm_x)\n",
    "y = np.array(stations.utm_y)"
   ],
   "metadata": {
    "collapsed": false,
    "pycharm": {
     "name": "#%%\n"
    }
   }
  },
  {
   "cell_type": "code",
   "execution_count": 14,
   "outputs": [
    {
     "data": {
      "text/plain": "(667,)"
     },
     "execution_count": 14,
     "metadata": {},
     "output_type": "execute_result"
    }
   ],
   "source": [
    "x.shape"
   ],
   "metadata": {
    "collapsed": false,
    "pycharm": {
     "name": "#%%\n"
    }
   }
  },
  {
   "cell_type": "code",
   "execution_count": 15,
   "outputs": [
    {
     "name": "stdout",
     "output_type": "stream",
     "text": [
      "CPU times: user 9.11 ms, sys: 3.4 ms, total: 12.5 ms\n",
      "Wall time: 11.3 ms\n"
     ]
    }
   ],
   "source": [
    "%%time\n",
    "\n",
    "distances = calculate_stations_distance(x, y)"
   ],
   "metadata": {
    "collapsed": false,
    "pycharm": {
     "name": "#%%\n"
    }
   }
  },
  {
   "cell_type": "code",
   "execution_count": 16,
   "outputs": [
    {
     "data": {
      "text/plain": "array([[177, 215, 576, 133, 484],\n       [579, 657, 244,  45,  20],\n       [625, 314, 564, 196, 305],\n       ...,\n       [179, 265, 506, 228, 233],\n       [146, 516,  65, 294, 427],\n       [371,  15, 542, 113, 298]])"
     },
     "execution_count": 16,
     "metadata": {},
     "output_type": "execute_result"
    }
   ],
   "source": [
    "distances.argsort()[:, :5]"
   ],
   "metadata": {
    "collapsed": false,
    "pycharm": {
     "name": "#%%\n"
    }
   }
  },
  {
   "cell_type": "code",
   "execution_count": 17,
   "outputs": [
    {
     "name": "stdout",
     "output_type": "stream",
     "text": [
      "3207.079200729402\n",
      "3510.8581129298104\n",
      "3573.3656167363115\n",
      "--------------------\n",
      "2627.1202886985902\n",
      "14043.75675569658\n",
      "15719.658541234314\n"
     ]
    }
   ],
   "source": [
    "print(distances[0,177])\n",
    "print(distances[0,215])\n",
    "print(distances[0,576])\n",
    "\n",
    "print('-'*20)\n",
    "\n",
    "print(distances[1,579])\n",
    "print(distances[1,657])\n",
    "print(distances[1,244])"
   ],
   "metadata": {
    "collapsed": false,
    "pycharm": {
     "name": "#%%\n"
    }
   }
  },
  {
   "cell_type": "code",
   "execution_count": 18,
   "outputs": [
    {
     "data": {
      "text/plain": "      src  dst    weight\n0       0  177  3.207079\n1       0  215  3.510858\n2       0  576  3.573366\n3       0  133  4.361238\n4       0  484  4.673445\n...   ...  ...       ...\n3330  666  371  2.456148\n3331  666   15  2.578604\n3332  666  542  3.745481\n3333  666  113  4.071617\n3334  666  298  7.651777\n\n[3335 rows x 3 columns]",
      "text/html": "<div>\n<style scoped>\n    .dataframe tbody tr th:only-of-type {\n        vertical-align: middle;\n    }\n\n    .dataframe tbody tr th {\n        vertical-align: top;\n    }\n\n    .dataframe thead th {\n        text-align: right;\n    }\n</style>\n<table border=\"1\" class=\"dataframe\">\n  <thead>\n    <tr style=\"text-align: right;\">\n      <th></th>\n      <th>src</th>\n      <th>dst</th>\n      <th>weight</th>\n    </tr>\n  </thead>\n  <tbody>\n    <tr>\n      <th>0</th>\n      <td>0</td>\n      <td>177</td>\n      <td>3.207079</td>\n    </tr>\n    <tr>\n      <th>1</th>\n      <td>0</td>\n      <td>215</td>\n      <td>3.510858</td>\n    </tr>\n    <tr>\n      <th>2</th>\n      <td>0</td>\n      <td>576</td>\n      <td>3.573366</td>\n    </tr>\n    <tr>\n      <th>3</th>\n      <td>0</td>\n      <td>133</td>\n      <td>4.361238</td>\n    </tr>\n    <tr>\n      <th>4</th>\n      <td>0</td>\n      <td>484</td>\n      <td>4.673445</td>\n    </tr>\n    <tr>\n      <th>...</th>\n      <td>...</td>\n      <td>...</td>\n      <td>...</td>\n    </tr>\n    <tr>\n      <th>3330</th>\n      <td>666</td>\n      <td>371</td>\n      <td>2.456148</td>\n    </tr>\n    <tr>\n      <th>3331</th>\n      <td>666</td>\n      <td>15</td>\n      <td>2.578604</td>\n    </tr>\n    <tr>\n      <th>3332</th>\n      <td>666</td>\n      <td>542</td>\n      <td>3.745481</td>\n    </tr>\n    <tr>\n      <th>3333</th>\n      <td>666</td>\n      <td>113</td>\n      <td>4.071617</td>\n    </tr>\n    <tr>\n      <th>3334</th>\n      <td>666</td>\n      <td>298</td>\n      <td>7.651777</td>\n    </tr>\n  </tbody>\n</table>\n<p>3335 rows × 3 columns</p>\n</div>"
     },
     "execution_count": 18,
     "metadata": {},
     "output_type": "execute_result"
    }
   ],
   "source": [
    "edges = calculate_graph_structure_dataframe(distances)\n",
    "edges"
   ],
   "metadata": {
    "collapsed": false,
    "pycharm": {
     "name": "#%%\n"
    }
   }
  },
  {
   "cell_type": "code",
   "execution_count": 19,
   "outputs": [
    {
     "data": {
      "text/plain": "src\n0       3.865197\n1      16.266483\n2      25.525325\n3      35.266952\n4      27.741689\n         ...    \n662     9.712948\n663    25.281873\n664    13.636205\n665    10.520446\n666     4.100726\nName: weight, Length: 667, dtype: float64"
     },
     "execution_count": 19,
     "metadata": {},
     "output_type": "execute_result"
    }
   ],
   "source": [
    "edges.groupby(['src'])['weight'].mean()"
   ],
   "metadata": {
    "collapsed": false,
    "pycharm": {
     "name": "#%%\n"
    }
   }
  },
  {
   "cell_type": "markdown",
   "source": [
    "Para trazer o conteudo acho que vai ser necessário agrupar todos os dados de cada estação. Vendo a documentação fazer parecer que o caminho vai ser agrupar como vetores multidimensionais. <br><br>Provavel shape <strong>(quantidade de nodes, quantidade de features por entrada, quantidade de entradas por estação)</strong>"
   ],
   "metadata": {
    "collapsed": false,
    "pycharm": {
     "name": "#%% md\n"
    }
   }
  },
  {
   "cell_type": "markdown",
   "source": [
    "Faltaria conferir se existem rows iguais que só trocam src com dst"
   ],
   "metadata": {
    "collapsed": false,
    "pycharm": {
     "name": "#%% md\n"
    }
   }
  },
  {
   "cell_type": "code",
   "execution_count": 20,
   "outputs": [],
   "source": [
    "stations_dict = stations[['station_id']].reset_index(drop=True).to_dict()['station_id']"
   ],
   "metadata": {
    "collapsed": false,
    "pycharm": {
     "name": "#%%\n"
    }
   }
  },
  {
   "cell_type": "code",
   "execution_count": 21,
   "outputs": [],
   "source": [
    "new_dict = dict([(value, key) for key, value in stations_dict.items()])"
   ],
   "metadata": {
    "collapsed": false,
    "pycharm": {
     "name": "#%%\n"
    }
   }
  },
  {
   "cell_type": "code",
   "execution_count": 22,
   "outputs": [],
   "source": [
    "df['node'] = df.station_id.apply(lambda x: new_dict[x])"
   ],
   "metadata": {
    "collapsed": false,
    "pycharm": {
     "name": "#%%\n"
    }
   }
  },
  {
   "cell_type": "code",
   "execution_count": 23,
   "outputs": [
    {
     "data": {
      "text/plain": "Index(['station_id', 'lat', 'long', 'year', 'month', 'day', 'hour', 'forecast',\n       'gridpp', 'observation', 'observation_quality', 'gridpp_error', 'node'],\n      dtype='object')"
     },
     "execution_count": 23,
     "metadata": {},
     "output_type": "execute_result"
    }
   ],
   "source": [
    "df.columns"
   ],
   "metadata": {
    "collapsed": false,
    "pycharm": {
     "name": "#%%\n"
    }
   }
  },
  {
   "cell_type": "code",
   "execution_count": 31,
   "outputs": [
    {
     "data": {
      "text/plain": "node\n0      1392\n1      1392\n2      1381\n3      1387\n4      1383\n       ... \n662      37\n663     223\n664     469\n665      74\n666       1\nName: station_id, Length: 667, dtype: int64"
     },
     "execution_count": 31,
     "metadata": {},
     "output_type": "execute_result"
    }
   ],
   "source": [
    "missing_analysis = df.groupby(['node']).count()['station_id'].copy()\n",
    "missing_analysis"
   ],
   "metadata": {
    "collapsed": false,
    "pycharm": {
     "name": "#%%\n"
    }
   }
  },
  {
   "cell_type": "code",
   "execution_count": 38,
   "outputs": [
    {
     "data": {
      "text/plain": "node\n0      1392\n1      1392\n2      1381\n3      1387\n4      1383\n       ... \n630    1393\n631    1388\n632    1310\n634    1353\n639    1333\nName: station_id, Length: 507, dtype: int64"
     },
     "execution_count": 38,
     "metadata": {},
     "output_type": "execute_result"
    }
   ],
   "source": [
    "missing_analysis[missing_analysis > limite]"
   ],
   "metadata": {
    "collapsed": false,
    "pycharm": {
     "name": "#%%\n"
    }
   }
  },
  {
   "cell_type": "code",
   "execution_count": 39,
   "outputs": [
    {
     "data": {
      "text/plain": "<Figure size 864x576 with 1 Axes>",
      "image/png": "[encoded data removed]"
     },
     "metadata": {
      "needs_background": "light"
     },
     "output_type": "display_data"
    }
   ],
   "source": [
    "limite = missing_analysis.max()*0.9\n",
    "\n",
    "plt.figure(figsize=(12,8))\n",
    "plt.barh(missing_analysis[missing_analysis > limite].index, missing_analysis[missing_analysis > limite], color='green')\n",
    "plt.barh(missing_analysis[missing_analysis < limite].index, missing_analysis[missing_analysis < limite])\n",
    "plt.axvline(limite, color='red')\n",
    "plt.show()"
   ],
   "metadata": {
    "collapsed": false,
    "pycharm": {
     "name": "#%%\n"
    }
   }
  },
  {
   "cell_type": "code",
   "execution_count": 41,
   "outputs": [
    {
     "name": "stdout",
     "output_type": "stream",
     "text": [
      "0.760119940029985% of data has less than 10% missing values\n"
     ]
    }
   ],
   "source": [
    "print(f'{missing_analysis[missing_analysis > limite].shape[0]/missing_analysis.shape[0]}% of data has less than 10% missing values')"
   ],
   "metadata": {
    "collapsed": false,
    "pycharm": {
     "name": "#%%\n"
    }
   }
  },
  {
   "cell_type": "code",
   "execution_count": 22,
   "outputs": [
    {
     "data": {
      "text/plain": "1393"
     },
     "execution_count": 22,
     "metadata": {},
     "output_type": "execute_result"
    }
   ],
   "source": [
    "df.groupby(['node']).count()['station_id'].max()"
   ],
   "metadata": {
    "collapsed": false,
    "pycharm": {
     "name": "#%%\n"
    }
   }
  },
  {
   "cell_type": "code",
   "execution_count": 20,
   "outputs": [],
   "source": [
    "features_columns = ['lat', 'long', 'year', 'month', 'day', 'hour', 'forecast',\n",
    "       'gridpp']\n",
    "label_column = ['observation']"
   ],
   "metadata": {
    "collapsed": false,
    "pycharm": {
     "name": "#%%\n"
    }
   }
  },
  {
   "cell_type": "code",
   "execution_count": 21,
   "outputs": [
    {
     "name": "stdout",
     "output_type": "stream",
     "text": [
      "CPU times: user 2.96 s, sys: 0 ns, total: 2.96 s\n",
      "Wall time: 2.96 s\n"
     ]
    }
   ],
   "source": [
    "%%time\n",
    "features, labels = calculate_features_and_labels(df, 1400, x.shape[0], features_columns, label_column)"
   ],
   "metadata": {
    "collapsed": false,
    "pycharm": {
     "name": "#%%\n"
    }
   }
  },
  {
   "cell_type": "code",
   "execution_count": 24,
   "outputs": [],
   "source": [
    "graph = create_graph_structure(edges)"
   ],
   "metadata": {
    "collapsed": false,
    "pycharm": {
     "name": "#%%\n"
    }
   }
  },
  {
   "cell_type": "code",
   "execution_count": 25,
   "outputs": [
    {
     "data": {
      "text/plain": "Graph(num_nodes=667, num_edges=3335,\n      ndata_schemes={}\n      edata_schemes={})"
     },
     "execution_count": 25,
     "metadata": {},
     "output_type": "execute_result"
    }
   ],
   "source": [
    "graph"
   ],
   "metadata": {
    "collapsed": false,
    "pycharm": {
     "name": "#%%\n"
    }
   }
  },
  {
   "cell_type": "code",
   "execution_count": 26,
   "outputs": [],
   "source": [
    "graph.ndata['x'] = torch.from_numpy(features)\n",
    "graph.ndata['y'] = torch.from_numpy(labels)\n"
   ],
   "metadata": {
    "collapsed": false,
    "pycharm": {
     "name": "#%%\n"
    }
   }
  },
  {
   "cell_type": "code",
   "execution_count": 27,
   "outputs": [
    {
     "data": {
      "text/plain": "Graph(num_nodes=667, num_edges=3335,\n      ndata_schemes={'x': Scheme(shape=(1400, 8), dtype=torch.float64), 'y': Scheme(shape=(1400,), dtype=torch.float64)}\n      edata_schemes={})"
     },
     "execution_count": 27,
     "metadata": {},
     "output_type": "execute_result"
    }
   ],
   "source": [
    "graph"
   ],
   "metadata": {
    "collapsed": false,
    "pycharm": {
     "name": "#%%\n"
    }
   }
  },
  {
   "cell_type": "code",
   "execution_count": null,
   "outputs": [],
   "source": [],
   "metadata": {
    "collapsed": false,
    "pycharm": {
     "name": "#%%\n"
    }
   }
  },
  {
   "cell_type": "code",
   "execution_count": null,
   "outputs": [],
   "source": [
    "# class WeatherDataset(dgl.data.DGLDataset):\n",
    "#     def __init__(self):\n",
    "#         super().__init__(name='weather_dataset')\n",
    "#\n",
    "#     def process(self):\n",
    "#         nodes_data = pd.read_csv('members.csv')\n",
    "#         edges_data = pd.read_csv('interactions.csv')\n",
    "#         node_features = torch.from_numpy(nodes_data['Age'].to_numpy())\n",
    "#         node_labels = torch.from_numpy(nodes_data['Club'].astype('category').cat.codes.to_numpy())\n",
    "#         edge_features = torch.from_numpy(edges_data['Weight'].to_numpy())\n",
    "#         edges_src = torch.from_numpy(edges_data['Src'].to_numpy())\n",
    "#         edges_dst = torch.from_numpy(edges_data['Dst'].to_numpy())\n",
    "#\n",
    "#         self.graph = dgl.graph((edges_src, edges_dst), num_nodes=nodes_data.shape[0])\n",
    "#         self.graph.ndata['feat'] = node_features\n",
    "#         self.graph.ndata['label'] = node_labels\n",
    "#         self.graph.edata['weight'] = edge_features\n",
    "#\n",
    "#         # If your dataset is a node classification dataset, you will need to assign\n",
    "#         # masks indicating whether a node belongs to training, validation, and test set.\n",
    "#         n_nodes = nodes_data.shape[0]\n",
    "#         n_train = int(n_nodes * 0.6)\n",
    "#         n_val = int(n_nodes * 0.2)\n",
    "#         train_mask = torch.zeros(n_nodes, dtype=torch.bool)\n",
    "#         val_mask = torch.zeros(n_nodes, dtype=torch.bool)\n",
    "#         test_mask = torch.zeros(n_nodes, dtype=torch.bool)\n",
    "#         train_mask[:n_train] = True\n",
    "#         val_mask[n_train:n_train + n_val] = True\n",
    "#         test_mask[n_train + n_val:] = True\n",
    "#         self.graph.ndata['train_mask'] = train_mask\n",
    "#         self.graph.ndata['val_mask'] = val_mask\n",
    "#         self.graph.ndata['test_mask'] = test_mask\n",
    "#\n",
    "#     def __getitem__(self, i):\n",
    "#         return self.graph\n",
    "#\n",
    "#     def __len__(self):\n",
    "#         return 1\n"
   ],
   "metadata": {
    "collapsed": false,
    "pycharm": {
     "name": "#%%\n"
    }
   }
  }
 ],
 "metadata": {
  "kernelspec": {
   "display_name": "Python 3",
   "language": "python",
   "name": "python3"
  },
  "language_info": {
   "codemirror_mode": {
    "name": "ipython",
    "version": 2
   },
   "file_extension": ".py",
   "mimetype": "text/x-python",
   "name": "python",
   "nbconvert_exporter": "python",
   "pygments_lexer": "ipython2",
   "version": "2.7.6"
  }
 },
 "nbformat": 4,
 "nbformat_minor": 0
}