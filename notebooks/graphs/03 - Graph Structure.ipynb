{
 "cells": [
  {
   "cell_type": "markdown",
   "source": [
    "# Graph Structure"
   ],
   "metadata": {
    "collapsed": false
   }
  },
  {
   "cell_type": "code",
   "execution_count": 2,
   "metadata": {
    "collapsed": true
   },
   "outputs": [],
   "source": [
    "import numpy as np\n",
    "import pandas as pd\n",
    "import matplotlib.pyplot as plt\n",
    "import dgl\n",
    "import torch\n",
    "import os"
   ]
  },
  {
   "cell_type": "code",
   "execution_count": 4,
   "outputs": [],
   "source": [
    "files_list = os.listdir('test')"
   ],
   "metadata": {
    "collapsed": false,
    "pycharm": {
     "name": "#%%\n"
    }
   }
  },
  {
   "cell_type": "code",
   "execution_count": 7,
   "outputs": [],
   "source": [
    "df = pd.DataFrame()\n",
    "\n",
    "for file in files_list:\n",
    "    df_temp = pd.read_csv(f'test/{file}')\n",
    "    df = df.append(df_temp)\n",
    "    del df_temp"
   ],
   "metadata": {
    "collapsed": false,
    "pycharm": {
     "name": "#%%\n"
    }
   }
  },
  {
   "cell_type": "code",
   "execution_count": 8,
   "outputs": [
    {
     "data": {
      "text/plain": "      index             datetime station_id      lat     long  year  month  \\\n0         0  2019-01-01 00:00:00     SN2980  59.1105  11.2753  2019      1   \n1         1  2019-01-01 06:00:00     SN2980  59.1105  11.2753  2019      1   \n2         2  2019-01-01 12:00:00     SN2980  59.1105  11.2753  2019      1   \n3         3  2019-01-01 18:00:00     SN2980  59.1105  11.2753  2019      1   \n4         4  2019-01-02 00:00:00     SN2980  59.1105  11.2753  2019      1   \n...     ...                  ...        ...      ...      ...   ...    ...   \n1455   1455  2019-12-30 18:00:00    SN25165  60.9757   8.1557  2019     12   \n1456   1456  2019-12-31 00:00:00    SN25165  60.9757   8.1557  2019     12   \n1457   1457  2019-12-31 06:00:00    SN25165  60.9757   8.1557  2019     12   \n1458   1458  2019-12-31 12:00:00    SN25165  60.9757   8.1557  2019     12   \n1459   1459  2019-12-31 18:00:00    SN25165  60.9757   8.1557  2019     12   \n\n      day  hour  forecast  gridpp  observation  observation_quality  \\\n0       1     0    6.5563  6.0908          6.6                  0.0   \n1       1     6    5.2700  4.9146          5.8                  0.0   \n2       1    12    6.4729  7.0836          7.6                  0.0   \n3       1    18    4.1855  4.4685          4.9                  0.0   \n4       2     0    2.2222  2.4722          2.5                  0.0   \n...   ...   ...       ...     ...          ...                  ...   \n1455   30    18   -2.7214 -1.6283         -1.7                  0.0   \n1456   31     0   -3.7344 -2.3598         -2.6                  0.0   \n1457   31     6   -5.7153 -4.7495         -5.1                  0.0   \n1458   31    12   -6.4749 -5.1123         -5.1                  0.0   \n1459   31    18   -3.9243 -2.5003         -2.3                  0.0   \n\n      gridpp_error  number_of_observations  filled  \n0          0.50915                  1300.0       0  \n1          0.88545                  1300.0       0  \n2          0.51640                  1300.0       0  \n3          0.43146                  1300.0       0  \n4          0.02777                  1300.0       0  \n...            ...                     ...     ...  \n1455       0.07170                  1319.0       0  \n1456       0.24020                  1319.0       0  \n1457       0.35052                  1319.0       0  \n1458       0.01230                  1319.0       0  \n1459       0.20030                  1319.0       0  \n\n[737300 rows x 16 columns]",
      "text/html": "<div>\n<style scoped>\n    .dataframe tbody tr th:only-of-type {\n        vertical-align: middle;\n    }\n\n    .dataframe tbody tr th {\n        vertical-align: top;\n    }\n\n    .dataframe thead th {\n        text-align: right;\n    }\n</style>\n<table border=\"1\" class=\"dataframe\">\n  <thead>\n    <tr style=\"text-align: right;\">\n      <th></th>\n      <th>index</th>\n      <th>datetime</th>\n      <th>station_id</th>\n      <th>lat</th>\n      <th>long</th>\n      <th>year</th>\n      <th>month</th>\n      <th>day</th>\n      <th>hour</th>\n      <th>forecast</th>\n      <th>gridpp</th>\n      <th>observation</th>\n      <th>observation_quality</th>\n      <th>gridpp_error</th>\n      <th>number_of_observations</th>\n      <th>filled</th>\n    </tr>\n  </thead>\n  <tbody>\n    <tr>\n      <th>0</th>\n      <td>0</td>\n      <td>2019-01-01 00:00:00</td>\n      <td>SN2980</td>\n      <td>59.1105</td>\n      <td>11.2753</td>\n      <td>2019</td>\n      <td>1</td>\n      <td>1</td>\n      <td>0</td>\n      <td>6.5563</td>\n      <td>6.0908</td>\n      <td>6.6</td>\n      <td>0.0</td>\n      <td>0.50915</td>\n      <td>1300.0</td>\n      <td>0</td>\n    </tr>\n    <tr>\n      <th>1</th>\n      <td>1</td>\n      <td>2019-01-01 06:00:00</td>\n      <td>SN2980</td>\n      <td>59.1105</td>\n      <td>11.2753</td>\n      <td>2019</td>\n      <td>1</td>\n      <td>1</td>\n      <td>6</td>\n      <td>5.2700</td>\n      <td>4.9146</td>\n      <td>5.8</td>\n      <td>0.0</td>\n      <td>0.88545</td>\n      <td>1300.0</td>\n      <td>0</td>\n    </tr>\n    <tr>\n      <th>2</th>\n      <td>2</td>\n      <td>2019-01-01 12:00:00</td>\n      <td>SN2980</td>\n      <td>59.1105</td>\n      <td>11.2753</td>\n      <td>2019</td>\n      <td>1</td>\n      <td>1</td>\n      <td>12</td>\n      <td>6.4729</td>\n      <td>7.0836</td>\n      <td>7.6</td>\n      <td>0.0</td>\n      <td>0.51640</td>\n      <td>1300.0</td>\n      <td>0</td>\n    </tr>\n    <tr>\n      <th>3</th>\n      <td>3</td>\n      <td>2019-01-01 18:00:00</td>\n      <td>SN2980</td>\n      <td>59.1105</td>\n      <td>11.2753</td>\n      <td>2019</td>\n      <td>1</td>\n      <td>1</td>\n      <td>18</td>\n      <td>4.1855</td>\n      <td>4.4685</td>\n      <td>4.9</td>\n      <td>0.0</td>\n      <td>0.43146</td>\n      <td>1300.0</td>\n      <td>0</td>\n    </tr>\n    <tr>\n      <th>4</th>\n      <td>4</td>\n      <td>2019-01-02 00:00:00</td>\n      <td>SN2980</td>\n      <td>59.1105</td>\n      <td>11.2753</td>\n      <td>2019</td>\n      <td>1</td>\n      <td>2</td>\n      <td>0</td>\n      <td>2.2222</td>\n      <td>2.4722</td>\n      <td>2.5</td>\n      <td>0.0</td>\n      <td>0.02777</td>\n      <td>1300.0</td>\n      <td>0</td>\n    </tr>\n    <tr>\n      <th>...</th>\n      <td>...</td>\n      <td>...</td>\n      <td>...</td>\n      <td>...</td>\n      <td>...</td>\n      <td>...</td>\n      <td>...</td>\n      <td>...</td>\n      <td>...</td>\n      <td>...</td>\n      <td>...</td>\n      <td>...</td>\n      <td>...</td>\n      <td>...</td>\n      <td>...</td>\n      <td>...</td>\n    </tr>\n    <tr>\n      <th>1455</th>\n      <td>1455</td>\n      <td>2019-12-30 18:00:00</td>\n      <td>SN25165</td>\n      <td>60.9757</td>\n      <td>8.1557</td>\n      <td>2019</td>\n      <td>12</td>\n      <td>30</td>\n      <td>18</td>\n      <td>-2.7214</td>\n      <td>-1.6283</td>\n      <td>-1.7</td>\n      <td>0.0</td>\n      <td>0.07170</td>\n      <td>1319.0</td>\n      <td>0</td>\n    </tr>\n    <tr>\n      <th>1456</th>\n      <td>1456</td>\n      <td>2019-12-31 00:00:00</td>\n      <td>SN25165</td>\n      <td>60.9757</td>\n      <td>8.1557</td>\n      <td>2019</td>\n      <td>12</td>\n      <td>31</td>\n      <td>0</td>\n      <td>-3.7344</td>\n      <td>-2.3598</td>\n      <td>-2.6</td>\n      <td>0.0</td>\n      <td>0.24020</td>\n      <td>1319.0</td>\n      <td>0</td>\n    </tr>\n    <tr>\n      <th>1457</th>\n      <td>1457</td>\n      <td>2019-12-31 06:00:00</td>\n      <td>SN25165</td>\n      <td>60.9757</td>\n      <td>8.1557</td>\n      <td>2019</td>\n      <td>12</td>\n      <td>31</td>\n      <td>6</td>\n      <td>-5.7153</td>\n      <td>-4.7495</td>\n      <td>-5.1</td>\n      <td>0.0</td>\n      <td>0.35052</td>\n      <td>1319.0</td>\n      <td>0</td>\n    </tr>\n    <tr>\n      <th>1458</th>\n      <td>1458</td>\n      <td>2019-12-31 12:00:00</td>\n      <td>SN25165</td>\n      <td>60.9757</td>\n      <td>8.1557</td>\n      <td>2019</td>\n      <td>12</td>\n      <td>31</td>\n      <td>12</td>\n      <td>-6.4749</td>\n      <td>-5.1123</td>\n      <td>-5.1</td>\n      <td>0.0</td>\n      <td>0.01230</td>\n      <td>1319.0</td>\n      <td>0</td>\n    </tr>\n    <tr>\n      <th>1459</th>\n      <td>1459</td>\n      <td>2019-12-31 18:00:00</td>\n      <td>SN25165</td>\n      <td>60.9757</td>\n      <td>8.1557</td>\n      <td>2019</td>\n      <td>12</td>\n      <td>31</td>\n      <td>18</td>\n      <td>-3.9243</td>\n      <td>-2.5003</td>\n      <td>-2.3</td>\n      <td>0.0</td>\n      <td>0.20030</td>\n      <td>1319.0</td>\n      <td>0</td>\n    </tr>\n  </tbody>\n</table>\n<p>737300 rows × 16 columns</p>\n</div>"
     },
     "execution_count": 8,
     "metadata": {},
     "output_type": "execute_result"
    }
   ],
   "source": [
    "df"
   ],
   "metadata": {
    "collapsed": false,
    "pycharm": {
     "name": "#%%\n"
    }
   }
  },
  {
   "cell_type": "code",
   "execution_count": 9,
   "outputs": [
    {
     "data": {
      "text/plain": "(505, 16)"
     },
     "execution_count": 9,
     "metadata": {},
     "output_type": "execute_result"
    }
   ],
   "source": [
    "stations = df.copy()\n",
    "stations.drop_duplicates(subset=['station_id'], inplace=True)\n",
    "stations.shape"
   ],
   "metadata": {
    "collapsed": false,
    "pycharm": {
     "name": "#%%\n"
    }
   }
  },
  {
   "cell_type": "code",
   "execution_count": null,
   "outputs": [],
   "source": [],
   "metadata": {
    "collapsed": false,
    "pycharm": {
     "name": "#%%\n"
    }
   }
  }
 ],
 "metadata": {
  "kernelspec": {
   "display_name": "Python 3",
   "language": "python",
   "name": "python3"
  },
  "language_info": {
   "codemirror_mode": {
    "name": "ipython",
    "version": 2
   },
   "file_extension": ".py",
   "mimetype": "text/x-python",
   "name": "python",
   "nbconvert_exporter": "python",
   "pygments_lexer": "ipython2",
   "version": "2.7.6"
  }
 },
 "nbformat": 4,
 "nbformat_minor": 0
}