{
 "cells": [
  {
   "cell_type": "code",
   "execution_count": 1,
   "metadata": {
    "id": "snMRK52poOgF"
   },
   "outputs": [],
   "source": [
    "import numpy as np\n",
    "import pandas as pd\n",
    "import matplotlib.pyplot as plt\n",
    "import seaborn as sns\n",
    "\n",
    "\n",
    "from sklearn.preprocessing import OneHotEncoder, StandardScaler\n",
    "from sklearn.model_selection import train_test_split\n",
    "from sklearn.metrics import mean_squared_error\n",
    "\n",
    "from train_utils import full_report"
   ]
  },
  {
   "cell_type": "code",
   "execution_count": 2,
   "metadata": {
    "id": "5Iz3YlaQpqnq"
   },
   "outputs": [],
   "source": [
    "df = pd.read_csv('../data/final_data_2019_only.csv')"
   ]
  },
  {
   "cell_type": "code",
   "execution_count": 3,
   "metadata": {
    "colab": {
     "base_uri": "https://localhost:8080/",
     "height": 204
    },
    "id": "vFf0f8LKpuMM",
    "outputId": "66fbb2da-79a8-4466-83f9-551347e14d04"
   },
   "outputs": [
    {
     "data": {
      "text/plain": "  station_id      lat     long  year  month  day  hour  forecast   gridpp  \\\n0    SN18700  59.9423  10.7200  2019      5   13    12  12.47900  11.2500   \n1    SN80740  66.9035  13.6460  2019      5   13    12   4.09424   6.1500   \n2    SN61630  62.2583   8.2000  2019      5   13    12   1.81200   4.4500   \n3     SN8140  61.4255  11.0803  2019      5   13    12   8.86768   9.6500   \n4    SN23500  61.1220   9.0630  2019      5   13    12   7.61084   9.6586   \n\n   observation  observation_quality  \n0         11.1                    0  \n1          6.0                    0  \n2          4.3                    0  \n3          9.5                    0  \n4          8.6                    0  ",
      "text/html": "<div>\n<style scoped>\n    .dataframe tbody tr th:only-of-type {\n        vertical-align: middle;\n    }\n\n    .dataframe tbody tr th {\n        vertical-align: top;\n    }\n\n    .dataframe thead th {\n        text-align: right;\n    }\n</style>\n<table border=\"1\" class=\"dataframe\">\n  <thead>\n    <tr style=\"text-align: right;\">\n      <th></th>\n      <th>station_id</th>\n      <th>lat</th>\n      <th>long</th>\n      <th>year</th>\n      <th>month</th>\n      <th>day</th>\n      <th>hour</th>\n      <th>forecast</th>\n      <th>gridpp</th>\n      <th>observation</th>\n      <th>observation_quality</th>\n    </tr>\n  </thead>\n  <tbody>\n    <tr>\n      <th>0</th>\n      <td>SN18700</td>\n      <td>59.9423</td>\n      <td>10.7200</td>\n      <td>2019</td>\n      <td>5</td>\n      <td>13</td>\n      <td>12</td>\n      <td>12.47900</td>\n      <td>11.2500</td>\n      <td>11.1</td>\n      <td>0</td>\n    </tr>\n    <tr>\n      <th>1</th>\n      <td>SN80740</td>\n      <td>66.9035</td>\n      <td>13.6460</td>\n      <td>2019</td>\n      <td>5</td>\n      <td>13</td>\n      <td>12</td>\n      <td>4.09424</td>\n      <td>6.1500</td>\n      <td>6.0</td>\n      <td>0</td>\n    </tr>\n    <tr>\n      <th>2</th>\n      <td>SN61630</td>\n      <td>62.2583</td>\n      <td>8.2000</td>\n      <td>2019</td>\n      <td>5</td>\n      <td>13</td>\n      <td>12</td>\n      <td>1.81200</td>\n      <td>4.4500</td>\n      <td>4.3</td>\n      <td>0</td>\n    </tr>\n    <tr>\n      <th>3</th>\n      <td>SN8140</td>\n      <td>61.4255</td>\n      <td>11.0803</td>\n      <td>2019</td>\n      <td>5</td>\n      <td>13</td>\n      <td>12</td>\n      <td>8.86768</td>\n      <td>9.6500</td>\n      <td>9.5</td>\n      <td>0</td>\n    </tr>\n    <tr>\n      <th>4</th>\n      <td>SN23500</td>\n      <td>61.1220</td>\n      <td>9.0630</td>\n      <td>2019</td>\n      <td>5</td>\n      <td>13</td>\n      <td>12</td>\n      <td>7.61084</td>\n      <td>9.6586</td>\n      <td>8.6</td>\n      <td>0</td>\n    </tr>\n  </tbody>\n</table>\n</div>"
     },
     "execution_count": 3,
     "metadata": {},
     "output_type": "execute_result"
    }
   ],
   "source": [
    "df.head()"
   ]
  },
  {
   "cell_type": "code",
   "execution_count": 4,
   "metadata": {
    "colab": {
     "base_uri": "https://localhost:8080/"
    },
    "id": "yopL0whSpvC4",
    "outputId": "b1c0bd08-364b-4046-acfe-3c7e18e2598e"
   },
   "outputs": [
    {
     "name": "stdout",
     "output_type": "stream",
     "text": [
      "(852521, 11)\n",
      "(852521, 11)\n"
     ]
    }
   ],
   "source": [
    "print(df.shape)\n",
    "df = df[df.observation_quality == 0]\n",
    "print(df.shape)"
   ]
  },
  {
   "cell_type": "code",
   "execution_count": 5,
   "metadata": {},
   "outputs": [
    {
     "name": "stdout",
     "output_type": "stream",
     "text": [
      "(852521, 11)\n",
      "(852521, 11)\n",
      "(852521, 11)\n"
     ]
    }
   ],
   "source": [
    "print(df.shape)\n",
    "df = df[df.lat < 72]\n",
    "print(df.shape)\n",
    "df = df[df.lat > 0]\n",
    "print(df.shape)"
   ]
  },
  {
   "cell_type": "code",
   "execution_count": 6,
   "metadata": {},
   "outputs": [
    {
     "data": {
      "text/plain": "<Figure size 432x288 with 1 Axes>",
      "image/png": "[encoded data removed]"
     },
     "metadata": {
      "needs_background": "light"
     },
     "output_type": "display_data"
    }
   ],
   "source": [
    "plt.hist(df.long);"
   ]
  },
  {
   "cell_type": "markdown",
   "metadata": {
    "id": "TvB0VTDpp2qc"
   },
   "source": [
    "# Formato dos Dados"
   ]
  },
  {
   "cell_type": "code",
   "execution_count": 7,
   "metadata": {
    "colab": {
     "base_uri": "https://localhost:8080/",
     "height": 297
    },
    "id": "o2TPkJKLp0KZ",
    "outputId": "7c11cdce-4d0a-4474-8dfe-9dc01c6e93dc"
   },
   "outputs": [
    {
     "data": {
      "text/plain": "            forecast         gridpp    observation\ncount  852521.000000  852521.000000  852521.000000\nmean        4.683359       5.323064       4.958439\nstd        10.826527       7.976094       8.008851\nmin      -273.000000     -39.450000     -40.000000\n25%        -0.381042       0.000240      -0.300000\n50%         4.585700       5.050000       4.800000\n75%        10.516850      11.039250      10.700000\nmax        35.032230      33.850000      33.700000",
      "text/html": "<div>\n<style scoped>\n    .dataframe tbody tr th:only-of-type {\n        vertical-align: middle;\n    }\n\n    .dataframe tbody tr th {\n        vertical-align: top;\n    }\n\n    .dataframe thead th {\n        text-align: right;\n    }\n</style>\n<table border=\"1\" class=\"dataframe\">\n  <thead>\n    <tr style=\"text-align: right;\">\n      <th></th>\n      <th>forecast</th>\n      <th>gridpp</th>\n      <th>observation</th>\n    </tr>\n  </thead>\n  <tbody>\n    <tr>\n      <th>count</th>\n      <td>852521.000000</td>\n      <td>852521.000000</td>\n      <td>852521.000000</td>\n    </tr>\n    <tr>\n      <th>mean</th>\n      <td>4.683359</td>\n      <td>5.323064</td>\n      <td>4.958439</td>\n    </tr>\n    <tr>\n      <th>std</th>\n      <td>10.826527</td>\n      <td>7.976094</td>\n      <td>8.008851</td>\n    </tr>\n    <tr>\n      <th>min</th>\n      <td>-273.000000</td>\n      <td>-39.450000</td>\n      <td>-40.000000</td>\n    </tr>\n    <tr>\n      <th>25%</th>\n      <td>-0.381042</td>\n      <td>0.000240</td>\n      <td>-0.300000</td>\n    </tr>\n    <tr>\n      <th>50%</th>\n      <td>4.585700</td>\n      <td>5.050000</td>\n      <td>4.800000</td>\n    </tr>\n    <tr>\n      <th>75%</th>\n      <td>10.516850</td>\n      <td>11.039250</td>\n      <td>10.700000</td>\n    </tr>\n    <tr>\n      <th>max</th>\n      <td>35.032230</td>\n      <td>33.850000</td>\n      <td>33.700000</td>\n    </tr>\n  </tbody>\n</table>\n</div>"
     },
     "execution_count": 7,
     "metadata": {},
     "output_type": "execute_result"
    }
   ],
   "source": [
    "df.describe()[['forecast', 'gridpp', 'observation']]"
   ]
  },
  {
   "cell_type": "code",
   "execution_count": 8,
   "metadata": {
    "colab": {
     "base_uri": "https://localhost:8080/",
     "height": 573
    },
    "id": "6jRUjPlIp4_3",
    "outputId": "9c8f5d90-c714-4c76-f1cf-86c778c6a48c"
   },
   "outputs": [
    {
     "data": {
      "text/plain": "<Figure size 432x288 with 1 Axes>",
      "image/png": "[encoded data removed]"
     },
     "metadata": {
      "needs_background": "light"
     },
     "output_type": "display_data"
    },
    {
     "data": {
      "text/plain": "<Figure size 432x288 with 1 Axes>",
      "image/png": "[encoded data removed]"
     },
     "metadata": {
      "needs_background": "light"
     },
     "output_type": "display_data"
    }
   ],
   "source": [
    "sns.histplot(df.forecast)\n",
    "plt.title('Forecast')\n",
    "plt.show()\n",
    "\n",
    "sns.boxplot(x = df.forecast)\n",
    "plt.title('Forecast')\n",
    "plt.show()"
   ]
  },
  {
   "cell_type": "code",
   "execution_count": 9,
   "metadata": {},
   "outputs": [],
   "source": [
    "# print(df.shape)\n",
    "# df.drop(df[df.forecast > 30].index, inplace=True)\n",
    "# df.drop(df[df.forecast < -20].index, inplace=True)\n",
    "# print(df.shape)"
   ]
  },
  {
   "cell_type": "code",
   "execution_count": 10,
   "metadata": {
    "colab": {
     "base_uri": "https://localhost:8080/"
    },
    "id": "OBGVh2YXp59O",
    "outputId": "ef2517a2-155f-425f-89d1-ce4e288815e5"
   },
   "outputs": [
    {
     "data": {
      "text/plain": "[-273.0,\n -273.0,\n -273.0,\n -273.0,\n -273.0,\n -273.0,\n -273.0,\n -273.0,\n -273.0,\n -273.0]"
     },
     "execution_count": 10,
     "metadata": {},
     "output_type": "execute_result"
    }
   ],
   "source": [
    "a = list(df.forecast)\n",
    "a.sort()\n",
    "a[:10]"
   ]
  },
  {
   "cell_type": "code",
   "execution_count": 11,
   "metadata": {
    "colab": {
     "base_uri": "https://localhost:8080/",
     "height": 573
    },
    "id": "mwOuvRY5p7sr",
    "outputId": "05c605ea-6be9-4068-bdbf-fc084dd8f492"
   },
   "outputs": [
    {
     "data": {
      "text/plain": "<Figure size 432x288 with 1 Axes>",
      "image/png": "[encoded data removed]"
     },
     "metadata": {
      "needs_background": "light"
     },
     "output_type": "display_data"
    },
    {
     "data": {
      "text/plain": "<Figure size 432x288 with 1 Axes>",
      "image/png": "[encoded data removed]"
     },
     "metadata": {
      "needs_background": "light"
     },
     "output_type": "display_data"
    }
   ],
   "source": [
    "sns.histplot(df.observation)\n",
    "plt.title('Observation')\n",
    "plt.show()\n",
    "\n",
    "sns.boxplot(x = df.observation)\n",
    "plt.title('Observation')\n",
    "plt.show()"
   ]
  },
  {
   "cell_type": "code",
   "execution_count": 12,
   "metadata": {},
   "outputs": [
    {
     "data": {
      "text/plain": "<Figure size 432x288 with 1 Axes>",
      "image/png": "[encoded data removed]"
     },
     "metadata": {
      "needs_background": "light"
     },
     "output_type": "display_data"
    },
    {
     "data": {
      "text/plain": "<Figure size 432x288 with 1 Axes>",
      "image/png": "[encoded data removed]"
     },
     "metadata": {
      "needs_background": "light"
     },
     "output_type": "display_data"
    }
   ],
   "source": [
    "sns.histplot(df.gridpp)\n",
    "plt.title('Gridpp')\n",
    "plt.show()\n",
    "\n",
    "sns.boxplot(x = df.gridpp)\n",
    "plt.title('Gridpp')\n",
    "plt.show()"
   ]
  },
  {
   "cell_type": "code",
   "execution_count": 13,
   "metadata": {},
   "outputs": [],
   "source": [
    "# print(df.shape)\n",
    "# df.drop(df[df.observation > 30].index, inplace=True)\n",
    "# df.drop(df[df.observation < -20].index, inplace=True)\n",
    "# print(df.shape)"
   ]
  },
  {
   "cell_type": "markdown",
   "metadata": {
    "id": "HnNChMxpqEYS"
   },
   "source": [
    "<strong>Parece não haver problemas aqui. Talvez seja interessante posteriormente analisar as diferenças das 2 colunas, pois isso pode indicar algum erro nos dados</strong>"
   ]
  },
  {
   "cell_type": "code",
   "execution_count": 14,
   "metadata": {
    "colab": {
     "base_uri": "https://localhost:8080/",
     "height": 111
    },
    "id": "war4_MynqCFK",
    "outputId": "436eddef-9141-4d0a-8eae-df10a4488eba"
   },
   "outputs": [
    {
     "data": {
      "text/plain": "       station_id      lat     long  year  month  day  hour  forecast  \\\n358637    SN18700  59.9423  10.7200  2019     10   14     0    -273.0   \n358638    SN80740  66.9035  13.6460  2019     10   14     0    -273.0   \n358639    SN61630  62.2583   8.2000  2019     10   14     0    -273.0   \n358640    SN78910  64.6933  12.3295  2019     10   14     0    -273.0   \n358641     SN8140  61.4255  11.0803  2019     10   14     0    -273.0   \n...           ...      ...      ...   ...    ...  ...   ...       ...   \n359252    SN61580  62.2943   8.1255  2019     10   14     0    -273.0   \n359253    SN24670  60.2684   9.6919  2019     10   14     0    -273.0   \n359254    SN90490  69.6767  18.9133  2019     10   14     0    -273.0   \n359255    SN77490  65.3143  13.4483  2019     10   14     0    -273.0   \n359256    SN86740  68.6072  14.4347  2019     10   14     0    -273.0   \n\n         gridpp  observation  observation_quality  \n358637  6.85000          6.7                    0  \n358638  0.95000          0.8                    0  \n358639 -7.75000         -7.9                    0  \n358640  0.47916          1.2                    0  \n358641  3.25000          3.1                    0  \n...         ...          ...                  ...  \n359252 -4.26886         -2.7                    0  \n359253  4.70868          4.7                    0  \n359254 -2.45000         -2.6                    0  \n359255 -2.17786         -3.2                    0  \n359256  4.11978          3.9                    0  \n\n[620 rows x 11 columns]",
      "text/html": "<div>\n<style scoped>\n    .dataframe tbody tr th:only-of-type {\n        vertical-align: middle;\n    }\n\n    .dataframe tbody tr th {\n        vertical-align: top;\n    }\n\n    .dataframe thead th {\n        text-align: right;\n    }\n</style>\n<table border=\"1\" class=\"dataframe\">\n  <thead>\n    <tr style=\"text-align: right;\">\n      <th></th>\n      <th>station_id</th>\n      <th>lat</th>\n      <th>long</th>\n      <th>year</th>\n      <th>month</th>\n      <th>day</th>\n      <th>hour</th>\n      <th>forecast</th>\n      <th>gridpp</th>\n      <th>observation</th>\n      <th>observation_quality</th>\n    </tr>\n  </thead>\n  <tbody>\n    <tr>\n      <th>358637</th>\n      <td>SN18700</td>\n      <td>59.9423</td>\n      <td>10.7200</td>\n      <td>2019</td>\n      <td>10</td>\n      <td>14</td>\n      <td>0</td>\n      <td>-273.0</td>\n      <td>6.85000</td>\n      <td>6.7</td>\n      <td>0</td>\n    </tr>\n    <tr>\n      <th>358638</th>\n      <td>SN80740</td>\n      <td>66.9035</td>\n      <td>13.6460</td>\n      <td>2019</td>\n      <td>10</td>\n      <td>14</td>\n      <td>0</td>\n      <td>-273.0</td>\n      <td>0.95000</td>\n      <td>0.8</td>\n      <td>0</td>\n    </tr>\n    <tr>\n      <th>358639</th>\n      <td>SN61630</td>\n      <td>62.2583</td>\n      <td>8.2000</td>\n      <td>2019</td>\n      <td>10</td>\n      <td>14</td>\n      <td>0</td>\n      <td>-273.0</td>\n      <td>-7.75000</td>\n      <td>-7.9</td>\n      <td>0</td>\n    </tr>\n    <tr>\n      <th>358640</th>\n      <td>SN78910</td>\n      <td>64.6933</td>\n      <td>12.3295</td>\n      <td>2019</td>\n      <td>10</td>\n      <td>14</td>\n      <td>0</td>\n      <td>-273.0</td>\n      <td>0.47916</td>\n      <td>1.2</td>\n      <td>0</td>\n    </tr>\n    <tr>\n      <th>358641</th>\n      <td>SN8140</td>\n      <td>61.4255</td>\n      <td>11.0803</td>\n      <td>2019</td>\n      <td>10</td>\n      <td>14</td>\n      <td>0</td>\n      <td>-273.0</td>\n      <td>3.25000</td>\n      <td>3.1</td>\n      <td>0</td>\n    </tr>\n    <tr>\n      <th>...</th>\n      <td>...</td>\n      <td>...</td>\n      <td>...</td>\n      <td>...</td>\n      <td>...</td>\n      <td>...</td>\n      <td>...</td>\n      <td>...</td>\n      <td>...</td>\n      <td>...</td>\n      <td>...</td>\n    </tr>\n    <tr>\n      <th>359252</th>\n      <td>SN61580</td>\n      <td>62.2943</td>\n      <td>8.1255</td>\n      <td>2019</td>\n      <td>10</td>\n      <td>14</td>\n      <td>0</td>\n      <td>-273.0</td>\n      <td>-4.26886</td>\n      <td>-2.7</td>\n      <td>0</td>\n    </tr>\n    <tr>\n      <th>359253</th>\n      <td>SN24670</td>\n      <td>60.2684</td>\n      <td>9.6919</td>\n      <td>2019</td>\n      <td>10</td>\n      <td>14</td>\n      <td>0</td>\n      <td>-273.0</td>\n      <td>4.70868</td>\n      <td>4.7</td>\n      <td>0</td>\n    </tr>\n    <tr>\n      <th>359254</th>\n      <td>SN90490</td>\n      <td>69.6767</td>\n      <td>18.9133</td>\n      <td>2019</td>\n      <td>10</td>\n      <td>14</td>\n      <td>0</td>\n      <td>-273.0</td>\n      <td>-2.45000</td>\n      <td>-2.6</td>\n      <td>0</td>\n    </tr>\n    <tr>\n      <th>359255</th>\n      <td>SN77490</td>\n      <td>65.3143</td>\n      <td>13.4483</td>\n      <td>2019</td>\n      <td>10</td>\n      <td>14</td>\n      <td>0</td>\n      <td>-273.0</td>\n      <td>-2.17786</td>\n      <td>-3.2</td>\n      <td>0</td>\n    </tr>\n    <tr>\n      <th>359256</th>\n      <td>SN86740</td>\n      <td>68.6072</td>\n      <td>14.4347</td>\n      <td>2019</td>\n      <td>10</td>\n      <td>14</td>\n      <td>0</td>\n      <td>-273.0</td>\n      <td>4.11978</td>\n      <td>3.9</td>\n      <td>0</td>\n    </tr>\n  </tbody>\n</table>\n<p>620 rows × 11 columns</p>\n</div>"
     },
     "execution_count": 14,
     "metadata": {},
     "output_type": "execute_result"
    }
   ],
   "source": [
    "df[df.forecast < -260]"
   ]
  },
  {
   "cell_type": "code",
   "execution_count": 15,
   "metadata": {
    "colab": {
     "base_uri": "https://localhost:8080/"
    },
    "id": "4aT9LXNAqDpJ",
    "outputId": "3dd2b9cd-3dac-446c-8126-2c972da7431a"
   },
   "outputs": [
    {
     "name": "stdout",
     "output_type": "stream",
     "text": [
      "(852521, 11)\n",
      "(851901, 11)\n"
     ]
    }
   ],
   "source": [
    "print(df.shape)\n",
    "df.drop(df[df.forecast < -260].index, inplace=True)\n",
    "print(df.shape)"
   ]
  },
  {
   "cell_type": "code",
   "execution_count": 16,
   "metadata": {},
   "outputs": [
    {
     "data": {
      "text/plain": "<Figure size 432x288 with 1 Axes>",
      "image/png": "[encoded data removed]"
     },
     "metadata": {
      "needs_background": "light"
     },
     "output_type": "display_data"
    },
    {
     "data": {
      "text/plain": "<Figure size 432x288 with 1 Axes>",
      "image/png": "[encoded data removed]"
     },
     "metadata": {
      "needs_background": "light"
     },
     "output_type": "display_data"
    }
   ],
   "source": [
    "sns.histplot(df.forecast)\n",
    "plt.title('Forecast')\n",
    "plt.show()\n",
    "\n",
    "sns.boxplot(x = df.forecast)\n",
    "plt.title('Forecast')\n",
    "plt.show()"
   ]
  },
  {
   "cell_type": "markdown",
   "metadata": {},
   "source": [
    "### Vendo erro de medição do gridpp e cortando outliers\n",
    "Definido outlier entradas com diferença entre observation e gridpp > 5"
   ]
  },
  {
   "cell_type": "code",
   "execution_count": 17,
   "metadata": {},
   "outputs": [
    {
     "data": {
      "text/plain": "  station_id      lat     long  year  month  day  hour  forecast   gridpp  \\\n0    SN18700  59.9423  10.7200  2019      5   13    12  12.47900  11.2500   \n1    SN80740  66.9035  13.6460  2019      5   13    12   4.09424   6.1500   \n2    SN61630  62.2583   8.2000  2019      5   13    12   1.81200   4.4500   \n3     SN8140  61.4255  11.0803  2019      5   13    12   8.86768   9.6500   \n4    SN23500  61.1220   9.0630  2019      5   13    12   7.61084   9.6586   \n\n   observation  observation_quality  gridpp_error  \n0         11.1                    0        0.1500  \n1          6.0                    0        0.1500  \n2          4.3                    0        0.1500  \n3          9.5                    0        0.1500  \n4          8.6                    0        1.0586  ",
      "text/html": "<div>\n<style scoped>\n    .dataframe tbody tr th:only-of-type {\n        vertical-align: middle;\n    }\n\n    .dataframe tbody tr th {\n        vertical-align: top;\n    }\n\n    .dataframe thead th {\n        text-align: right;\n    }\n</style>\n<table border=\"1\" class=\"dataframe\">\n  <thead>\n    <tr style=\"text-align: right;\">\n      <th></th>\n      <th>station_id</th>\n      <th>lat</th>\n      <th>long</th>\n      <th>year</th>\n      <th>month</th>\n      <th>day</th>\n      <th>hour</th>\n      <th>forecast</th>\n      <th>gridpp</th>\n      <th>observation</th>\n      <th>observation_quality</th>\n      <th>gridpp_error</th>\n    </tr>\n  </thead>\n  <tbody>\n    <tr>\n      <th>0</th>\n      <td>SN18700</td>\n      <td>59.9423</td>\n      <td>10.7200</td>\n      <td>2019</td>\n      <td>5</td>\n      <td>13</td>\n      <td>12</td>\n      <td>12.47900</td>\n      <td>11.2500</td>\n      <td>11.1</td>\n      <td>0</td>\n      <td>0.1500</td>\n    </tr>\n    <tr>\n      <th>1</th>\n      <td>SN80740</td>\n      <td>66.9035</td>\n      <td>13.6460</td>\n      <td>2019</td>\n      <td>5</td>\n      <td>13</td>\n      <td>12</td>\n      <td>4.09424</td>\n      <td>6.1500</td>\n      <td>6.0</td>\n      <td>0</td>\n      <td>0.1500</td>\n    </tr>\n    <tr>\n      <th>2</th>\n      <td>SN61630</td>\n      <td>62.2583</td>\n      <td>8.2000</td>\n      <td>2019</td>\n      <td>5</td>\n      <td>13</td>\n      <td>12</td>\n      <td>1.81200</td>\n      <td>4.4500</td>\n      <td>4.3</td>\n      <td>0</td>\n      <td>0.1500</td>\n    </tr>\n    <tr>\n      <th>3</th>\n      <td>SN8140</td>\n      <td>61.4255</td>\n      <td>11.0803</td>\n      <td>2019</td>\n      <td>5</td>\n      <td>13</td>\n      <td>12</td>\n      <td>8.86768</td>\n      <td>9.6500</td>\n      <td>9.5</td>\n      <td>0</td>\n      <td>0.1500</td>\n    </tr>\n    <tr>\n      <th>4</th>\n      <td>SN23500</td>\n      <td>61.1220</td>\n      <td>9.0630</td>\n      <td>2019</td>\n      <td>5</td>\n      <td>13</td>\n      <td>12</td>\n      <td>7.61084</td>\n      <td>9.6586</td>\n      <td>8.6</td>\n      <td>0</td>\n      <td>1.0586</td>\n    </tr>\n  </tbody>\n</table>\n</div>"
     },
     "execution_count": 17,
     "metadata": {},
     "output_type": "execute_result"
    }
   ],
   "source": [
    "df['gridpp_error'] = np.sqrt((df['observation'] - df['gridpp'])**2)\n",
    "df.head()"
   ]
  },
  {
   "cell_type": "code",
   "execution_count": 18,
   "metadata": {},
   "outputs": [
    {
     "data": {
      "text/plain": "       station_id      lat     long  year  month  day  hour  forecast  \\\n47        SN67153  63.3237  10.2438  2019      5   13    12   7.25050   \n149       SN13750  61.4183   8.8945  2019      5   13    12  -0.53857   \n430       SN34095  58.9817   9.6068  2019      5   13    12  12.21924   \n683       SN67153  63.3237  10.2438  2019      5   13     6   3.04663   \n1187      SN39212  58.1412   7.9397  2019      5   13     6   7.80396   \n...           ...      ...      ...   ...    ...  ...   ...       ...   \n850377    SN12590  60.9280  10.6725  2019      5   14    12  12.51270   \n850402    SN34095  58.9817   9.6068  2019      5   14    12  14.35254   \n850653    SN67153  63.3237  10.2438  2019      5   14     6   2.65894   \n851291    SN67153  63.3237  10.2438  2019      5   14     0   1.14820   \n851929    SN67153  63.3237  10.2438  2019      5   13    18   6.66602   \n\n          gridpp  observation  observation_quality  gridpp_error  \n47       6.60013         12.5                    0       5.89987  \n149      1.07086          7.0                    0       5.92914  \n430     14.22920          9.1                    0       5.12920  \n683      5.10275         10.3                    0       5.19725  \n1187     7.45038         19.2                    0      11.74962  \n...          ...          ...                  ...           ...  \n850377  15.90436         10.4                    0       5.50436  \n850402  15.52365          9.4                    0       6.12365  \n850653   3.22134          9.5                    0       6.27866  \n851291   3.52292          9.7                    0       6.17708  \n851929   7.72390         14.1                    0       6.37610  \n\n[7986 rows x 12 columns]",
      "text/html": "<div>\n<style scoped>\n    .dataframe tbody tr th:only-of-type {\n        vertical-align: middle;\n    }\n\n    .dataframe tbody tr th {\n        vertical-align: top;\n    }\n\n    .dataframe thead th {\n        text-align: right;\n    }\n</style>\n<table border=\"1\" class=\"dataframe\">\n  <thead>\n    <tr style=\"text-align: right;\">\n      <th></th>\n      <th>station_id</th>\n      <th>lat</th>\n      <th>long</th>\n      <th>year</th>\n      <th>month</th>\n      <th>day</th>\n      <th>hour</th>\n      <th>forecast</th>\n      <th>gridpp</th>\n      <th>observation</th>\n      <th>observation_quality</th>\n      <th>gridpp_error</th>\n    </tr>\n  </thead>\n  <tbody>\n    <tr>\n      <th>47</th>\n      <td>SN67153</td>\n      <td>63.3237</td>\n      <td>10.2438</td>\n      <td>2019</td>\n      <td>5</td>\n      <td>13</td>\n      <td>12</td>\n      <td>7.25050</td>\n      <td>6.60013</td>\n      <td>12.5</td>\n      <td>0</td>\n      <td>5.89987</td>\n    </tr>\n    <tr>\n      <th>149</th>\n      <td>SN13750</td>\n      <td>61.4183</td>\n      <td>8.8945</td>\n      <td>2019</td>\n      <td>5</td>\n      <td>13</td>\n      <td>12</td>\n      <td>-0.53857</td>\n      <td>1.07086</td>\n      <td>7.0</td>\n      <td>0</td>\n      <td>5.92914</td>\n    </tr>\n    <tr>\n      <th>430</th>\n      <td>SN34095</td>\n      <td>58.9817</td>\n      <td>9.6068</td>\n      <td>2019</td>\n      <td>5</td>\n      <td>13</td>\n      <td>12</td>\n      <td>12.21924</td>\n      <td>14.22920</td>\n      <td>9.1</td>\n      <td>0</td>\n      <td>5.12920</td>\n    </tr>\n    <tr>\n      <th>683</th>\n      <td>SN67153</td>\n      <td>63.3237</td>\n      <td>10.2438</td>\n      <td>2019</td>\n      <td>5</td>\n      <td>13</td>\n      <td>6</td>\n      <td>3.04663</td>\n      <td>5.10275</td>\n      <td>10.3</td>\n      <td>0</td>\n      <td>5.19725</td>\n    </tr>\n    <tr>\n      <th>1187</th>\n      <td>SN39212</td>\n      <td>58.1412</td>\n      <td>7.9397</td>\n      <td>2019</td>\n      <td>5</td>\n      <td>13</td>\n      <td>6</td>\n      <td>7.80396</td>\n      <td>7.45038</td>\n      <td>19.2</td>\n      <td>0</td>\n      <td>11.74962</td>\n    </tr>\n    <tr>\n      <th>...</th>\n      <td>...</td>\n      <td>...</td>\n      <td>...</td>\n      <td>...</td>\n      <td>...</td>\n      <td>...</td>\n      <td>...</td>\n      <td>...</td>\n      <td>...</td>\n      <td>...</td>\n      <td>...</td>\n      <td>...</td>\n    </tr>\n    <tr>\n      <th>850377</th>\n      <td>SN12590</td>\n      <td>60.9280</td>\n      <td>10.6725</td>\n      <td>2019</td>\n      <td>5</td>\n      <td>14</td>\n      <td>12</td>\n      <td>12.51270</td>\n      <td>15.90436</td>\n      <td>10.4</td>\n      <td>0</td>\n      <td>5.50436</td>\n    </tr>\n    <tr>\n      <th>850402</th>\n      <td>SN34095</td>\n      <td>58.9817</td>\n      <td>9.6068</td>\n      <td>2019</td>\n      <td>5</td>\n      <td>14</td>\n      <td>12</td>\n      <td>14.35254</td>\n      <td>15.52365</td>\n      <td>9.4</td>\n      <td>0</td>\n      <td>6.12365</td>\n    </tr>\n    <tr>\n      <th>850653</th>\n      <td>SN67153</td>\n      <td>63.3237</td>\n      <td>10.2438</td>\n      <td>2019</td>\n      <td>5</td>\n      <td>14</td>\n      <td>6</td>\n      <td>2.65894</td>\n      <td>3.22134</td>\n      <td>9.5</td>\n      <td>0</td>\n      <td>6.27866</td>\n    </tr>\n    <tr>\n      <th>851291</th>\n      <td>SN67153</td>\n      <td>63.3237</td>\n      <td>10.2438</td>\n      <td>2019</td>\n      <td>5</td>\n      <td>14</td>\n      <td>0</td>\n      <td>1.14820</td>\n      <td>3.52292</td>\n      <td>9.7</td>\n      <td>0</td>\n      <td>6.17708</td>\n    </tr>\n    <tr>\n      <th>851929</th>\n      <td>SN67153</td>\n      <td>63.3237</td>\n      <td>10.2438</td>\n      <td>2019</td>\n      <td>5</td>\n      <td>13</td>\n      <td>18</td>\n      <td>6.66602</td>\n      <td>7.72390</td>\n      <td>14.1</td>\n      <td>0</td>\n      <td>6.37610</td>\n    </tr>\n  </tbody>\n</table>\n<p>7986 rows × 12 columns</p>\n</div>"
     },
     "execution_count": 18,
     "metadata": {},
     "output_type": "execute_result"
    }
   ],
   "source": [
    "df[df.gridpp_error > 5]"
   ]
  },
  {
   "cell_type": "code",
   "execution_count": 19,
   "metadata": {},
   "outputs": [],
   "source": [
    "df = df[df.gridpp_error < 5]"
   ]
  },
  {
   "cell_type": "code",
   "execution_count": 20,
   "metadata": {},
   "outputs": [
    {
     "data": {
      "text/plain": "(843915, 12)"
     },
     "execution_count": 20,
     "metadata": {},
     "output_type": "execute_result"
    }
   ],
   "source": [
    "df.shape"
   ]
  },
  {
   "cell_type": "markdown",
   "metadata": {},
   "source": [
    "## Bencmarks"
   ]
  },
  {
   "cell_type": "markdown",
   "metadata": {},
   "source": [
    "Observation"
   ]
  },
  {
   "cell_type": "code",
   "execution_count": 21,
   "metadata": {},
   "outputs": [
    {
     "data": {
      "text/plain": "1.7558999395995927"
     },
     "execution_count": 21,
     "metadata": {},
     "output_type": "execute_result"
    }
   ],
   "source": [
    "np.sqrt(mean_squared_error(df.observation, df.forecast))"
   ]
  },
  {
   "cell_type": "markdown",
   "metadata": {},
   "source": [
    "Gridpp"
   ]
  },
  {
   "cell_type": "code",
   "execution_count": 22,
   "metadata": {},
   "outputs": [
    {
     "data": {
      "text/plain": "1.1433886858167663"
     },
     "execution_count": 22,
     "metadata": {},
     "output_type": "execute_result"
    }
   ],
   "source": [
    "np.sqrt(mean_squared_error(df.observation, df.gridpp))"
   ]
  },
  {
   "cell_type": "markdown",
   "metadata": {
    "id": "EU7eNDsVqI7D"
   },
   "source": [
    "## *Separando Train, Test e Validation*"
   ]
  },
  {
   "cell_type": "code",
   "execution_count": 23,
   "metadata": {
    "colab": {
     "base_uri": "https://localhost:8080/"
    },
    "id": "K8V30lsmqd1e",
    "outputId": "698403b6-ebf5-4fb2-d6f5-385850cec1f8"
   },
   "outputs": [
    {
     "name": "stdout",
     "output_type": "stream",
     "text": [
      "<class 'pandas.core.frame.DataFrame'>\n",
      "Int64Index: 843915 entries, 0 to 852520\n",
      "Data columns (total 12 columns):\n",
      " #   Column               Non-Null Count   Dtype  \n",
      "---  ------               --------------   -----  \n",
      " 0   station_id           843915 non-null  object \n",
      " 1   lat                  843915 non-null  float64\n",
      " 2   long                 843915 non-null  float64\n",
      " 3   year                 843915 non-null  object \n",
      " 4   month                843915 non-null  object \n",
      " 5   day                  843915 non-null  object \n",
      " 6   hour                 843915 non-null  object \n",
      " 7   forecast             843915 non-null  float64\n",
      " 8   gridpp               843915 non-null  float64\n",
      " 9   observation          843915 non-null  float64\n",
      " 10  observation_quality  843915 non-null  int64  \n",
      " 11  gridpp_error         843915 non-null  float64\n",
      "dtypes: float64(6), int64(1), object(5)\n",
      "memory usage: 83.7+ MB\n",
      "None\n"
     ]
    }
   ],
   "source": [
    "#Variáveis de tempo serão tratadas como categóricas por enquanto\n",
    "df = df.astype({'month': 'object'})\n",
    "df = df.astype({'year': 'object'})\n",
    "df = df.astype({'day': 'object'})\n",
    "df = df.astype({'hour': 'object'})\n",
    "\n",
    "print(df.info())"
   ]
  },
  {
   "cell_type": "code",
   "execution_count": 24,
   "metadata": {
    "id": "sqMGMQ6JqlcZ"
   },
   "outputs": [],
   "source": [
    "df.drop(['station_id','year', 'observation_quality', 'gridpp_error'], axis=1, inplace=True)"
   ]
  },
  {
   "cell_type": "code",
   "execution_count": 25,
   "metadata": {
    "id": "f4z6RXa-qG-p"
   },
   "outputs": [],
   "source": [
    "X = df.drop(columns=['observation'])\n",
    "y = df['observation']"
   ]
  },
  {
   "cell_type": "code",
   "execution_count": 26,
   "metadata": {
    "id": "v4qc8LU4q8_M"
   },
   "outputs": [],
   "source": [
    "X_train, X_test, y_train, y_test = train_test_split(X, y, train_size=0.8, shuffle=True, random_state=42)"
   ]
  },
  {
   "cell_type": "code",
   "execution_count": 27,
   "metadata": {
    "colab": {
     "base_uri": "https://localhost:8080/"
    },
    "id": "Tccl_RG8rZa8",
    "outputId": "542f5ce2-fcb7-42c5-c3f3-8a8bd6bf3e80"
   },
   "outputs": [
    {
     "name": "stdout",
     "output_type": "stream",
     "text": [
      "(675132, 7)\n",
      "(168783, 7)\n",
      "(675132,)\n",
      "(168783,)\n"
     ]
    }
   ],
   "source": [
    "print(X_train.shape)\n",
    "print(X_test.shape)\n",
    "print(y_train.shape)\n",
    "print(y_test.shape)"
   ]
  },
  {
   "cell_type": "code",
   "execution_count": 28,
   "metadata": {
    "id": "zMBhQ9ZwrZda"
   },
   "outputs": [],
   "source": [
    "X_test, X_val, y_test, y_val = train_test_split(X_test, y_test, train_size=0.5, shuffle=True, random_state=42)"
   ]
  },
  {
   "cell_type": "code",
   "execution_count": 29,
   "metadata": {},
   "outputs": [],
   "source": [
    "X_train.to_csv('../data/v2/X_train.csv', index = False)\n",
    "X_val.to_csv('../data/v2/X_val.csv', index = False)\n",
    "X_test.to_csv('../data/v2/X_test.csv', index = False)\n",
    "\n",
    "y_train.to_csv('../data/v2/y_train.csv', index = False)\n",
    "y_val.to_csv('../data/v2/y_val.csv', index = False)\n",
    "y_test.to_csv('../data/v2/y_test.csv', index = False)"
   ]
  },
  {
   "cell_type": "code",
   "execution_count": 30,
   "metadata": {
    "colab": {
     "base_uri": "https://localhost:8080/"
    },
    "id": "NamZqDmXrZf6",
    "outputId": "391666b2-f845-459e-84d0-da9711a1aabb"
   },
   "outputs": [
    {
     "name": "stdout",
     "output_type": "stream",
     "text": [
      "(675132, 7)\n",
      "(84391, 7)\n",
      "(84392, 7)\n",
      "(675132,)\n",
      "(84391,)\n",
      "(84392,)\n"
     ]
    }
   ],
   "source": [
    "print(X_train.shape)\n",
    "print(X_test.shape)\n",
    "print(X_val.shape)\n",
    "\n",
    "print(y_train.shape)\n",
    "print(y_test.shape)\n",
    "print(y_val.shape)"
   ]
  },
  {
   "cell_type": "code",
   "execution_count": 31,
   "metadata": {
    "id": "ims4qaVhqWvj"
   },
   "outputs": [],
   "source": [
    "def prepare_data(X, y, encoder = None, scaler = None, scaler_y = None):\n",
    "    cat = X.select_dtypes(include='object')\n",
    "    num = X.select_dtypes('float64')\n",
    "\n",
    "    if encoder is not None:\n",
    "        cat_encoded = encoder.transform(cat)\n",
    "        cat_encoded = cat_encoded.toarray()\n",
    "\n",
    "        num_scaled = scaler.transform(num)\n",
    "        y = scaler_y.transform(y.values.reshape(-1, 1))\n",
    "    else:\n",
    "        encoder = OneHotEncoder(handle_unknown='ignore')\n",
    "        encoder.fit(cat)\n",
    "        cat_encoded = encoder.transform(cat)\n",
    "        cat_encoded = cat_encoded.toarray()\n",
    "\n",
    "        scaler = StandardScaler()\n",
    "        scaler.fit(num)\n",
    "        num_scaled = scaler.transform(num)\n",
    "\n",
    "        scaler_y = StandardScaler()\n",
    "        scaler_y.fit(np.array(y).reshape(-1, 1))\n",
    "        y = scaler_y.transform(np.array(y).reshape(-1, 1))\n",
    "\n",
    "    t = np.append(num_scaled, cat_encoded, axis = 1)\n",
    "\n",
    "    return t, y, encoder, scaler, scaler_y\n"
   ]
  },
  {
   "cell_type": "code",
   "execution_count": 32,
   "metadata": {
    "id": "EX8oO6NRs7a9"
   },
   "outputs": [],
   "source": [
    "X_train_enc, y_train_enc, encoder, scaler, scaler_y = prepare_data(X_train, y_train)"
   ]
  },
  {
   "cell_type": "code",
   "execution_count": 33,
   "metadata": {
    "id": "QWMQybDStz3i"
   },
   "outputs": [],
   "source": [
    "X_test_enc, y_test_enc, _, _, _ = prepare_data(X_test, y_test, encoder, scaler, scaler_y)\n",
    "X_val_enc, y_val_enc, _, _, _ = prepare_data(X_val, y_val, encoder, scaler, scaler_y)"
   ]
  },
  {
   "cell_type": "code",
   "execution_count": 34,
   "metadata": {
    "colab": {
     "base_uri": "https://localhost:8080/"
    },
    "id": "O4At75L9q3g2",
    "outputId": "4e7ffa58-50bc-450d-cd7e-4f30e556ae12"
   },
   "outputs": [],
   "source": [
    "from pickle import dump"
   ]
  },
  {
   "cell_type": "code",
   "execution_count": 35,
   "metadata": {},
   "outputs": [],
   "source": [
    "dump(encoder, open('../data/v2/encoder.pkl', 'wb'))"
   ]
  },
  {
   "cell_type": "code",
   "execution_count": 36,
   "metadata": {},
   "outputs": [],
   "source": [
    "dump(scaler, open('../data/v2/scaler.pkl', 'wb'))\n",
    "dump(scaler_y, open('../data/v2/scaler_y.pkl', 'wb'))"
   ]
  },
  {
   "cell_type": "markdown",
   "metadata": {
    "id": "dMn6WPniuTD8"
   },
   "source": [
    "# Contruindo a Rede Neural"
   ]
  },
  {
   "cell_type": "code",
   "execution_count": 37,
   "metadata": {
    "id": "dcwadmA_uW1h"
   },
   "outputs": [],
   "source": [
    "from models import CNN, UsefullModel\n",
    "from torch import nn, optim"
   ]
  },
  {
   "cell_type": "code",
   "execution_count": 38,
   "metadata": {
    "colab": {
     "base_uri": "https://localhost:8080/"
    },
    "id": "tVnljFkKu016",
    "outputId": "f2faf8f5-9dcd-4d83-d15e-5786f9ea4dc9"
   },
   "outputs": [],
   "source": [
    "input_size = X_train_enc.shape[1]\n",
    "h1, h2 = 64, 16\n",
    "n_conv = 16\n",
    "kernel_size = 3\n",
    "model = CNN(input_size, n_conv, kernel_size, h1, h2)"
   ]
  },
  {
   "cell_type": "code",
   "execution_count": 39,
   "metadata": {},
   "outputs": [
    {
     "data": {
      "text/plain": "CNN(\n  (conv): Conv1d(1, 16, kernel_size=(3,), stride=(1,))\n  (layer1): Linear(in_features=784, out_features=64, bias=True)\n  (layer2): Linear(in_features=64, out_features=16, bias=True)\n  (output): Linear(in_features=16, out_features=1, bias=True)\n)"
     },
     "execution_count": 39,
     "metadata": {},
     "output_type": "execute_result"
    }
   ],
   "source": [
    "model"
   ]
  },
  {
   "cell_type": "code",
   "execution_count": 40,
   "metadata": {},
   "outputs": [
    {
     "name": "stdout",
     "output_type": "stream",
     "text": [
      "Device --> cuda\n"
     ]
    }
   ],
   "source": [
    "cnn = UsefullModel(model)"
   ]
  },
  {
   "cell_type": "code",
   "execution_count": null,
   "metadata": {
    "colab": {
     "background_save": true,
     "base_uri": "https://localhost:8080/"
    },
    "id": "PjVO00k2vy10",
    "outputId": "7c99410e-5cb1-4307-a4d4-d6383e2923dd",
    "scrolled": true,
    "tags": [],
    "pycharm": {
     "is_executing": true
    }
   },
   "outputs": [
    {
     "data": {
      "text/plain": "  0%|          | 0/10000 [00:00<?, ?it/s]",
      "application/vnd.jupyter.widget-view+json": {
       "version_major": 2,
       "version_minor": 0,
       "model_id": "784afc9d25df47bf86ab41fde12eae5d"
      }
     },
     "metadata": {},
     "output_type": "display_data"
    }
   ],
   "source": [
    "cnn.fit('runs/mestrado/v3/CNN_16C_64_16_Adam_1e3', \n",
    "        X_train = X_train_enc, \n",
    "        y_train = y_train_enc, \n",
    "        X_val = X_val_enc, \n",
    "        y_val = y_val_enc, \n",
    "        epochs = 10000,\n",
    "        optim = optim.Adam, \n",
    "        loss_function = nn.MSELoss())"
   ]
  },
  {
   "cell_type": "code",
   "execution_count": 42,
   "metadata": {},
   "outputs": [
    {
     "data": {
      "image/png": "[encoded data removed]",
      "text/plain": [
       "<Figure size 864x576 with 1 Axes>"
      ]
     },
     "metadata": {
      "needs_background": "light"
     },
     "output_type": "display_data"
    }
   ],
   "source": [
    "#Real vs. Previsto\n",
    "cnn.plot_example(X_train_enc, y_train_enc, 0, 800)"
   ]
  },
  {
   "cell_type": "code",
   "execution_count": 43,
   "metadata": {},
   "outputs": [
    {
     "name": "stdout",
     "output_type": "stream",
     "text": [
      "Train ---> RMSE: 1.0123842878084406\n",
      "Validation ---> RMSE: 1.0220311068836252\n",
      "Test ---> RMSE: 1.0190235758223847\n"
     ]
    }
   ],
   "source": [
    "cnn.evaluate(scaler_y, X_train_enc, y_train_enc, X_val_enc, y_val_enc, X_test_enc, y_test_enc)"
   ]
  },
  {
   "cell_type": "markdown",
   "metadata": {},
   "source": [
    "### Salva modelo"
   ]
  },
  {
   "cell_type": "code",
   "execution_count": 44,
   "metadata": {},
   "outputs": [
    {
     "name": "stdout",
     "output_type": "stream",
     "text": [
      "Saved as data/v2/CNN_16C_64_16_Adam_1e3.pt!\n"
     ]
    }
   ],
   "source": [
    "cnn.save('data/v2/CNN_16C_64_16_Adam_1e3.pt')"
   ]
  },
  {
   "cell_type": "code",
   "execution_count": 41,
   "metadata": {},
   "outputs": [],
   "source": [
    "#cnn.load('teste_teste.pt')"
   ]
  },
  {
   "cell_type": "markdown",
   "metadata": {},
   "source": [
    "### Análise pos-processamento"
   ]
  },
  {
   "cell_type": "code",
   "execution_count": 42,
   "metadata": {},
   "outputs": [
    {
     "data": {
      "text/html": [
       "<div>\n",
       "<style scoped>\n",
       "    .dataframe tbody tr th:only-of-type {\n",
       "        vertical-align: middle;\n",
       "    }\n",
       "\n",
       "    .dataframe tbody tr th {\n",
       "        vertical-align: top;\n",
       "    }\n",
       "\n",
       "    .dataframe thead th {\n",
       "        text-align: right;\n",
       "    }\n",
       "</style>\n",
       "<table border=\"1\" class=\"dataframe\">\n",
       "  <thead>\n",
       "    <tr style=\"text-align: right;\">\n",
       "      <th></th>\n",
       "      <th>lat</th>\n",
       "      <th>long</th>\n",
       "      <th>month</th>\n",
       "      <th>day</th>\n",
       "      <th>hour</th>\n",
       "      <th>forecast</th>\n",
       "      <th>gridpp</th>\n",
       "      <th>observation</th>\n",
       "    </tr>\n",
       "  </thead>\n",
       "  <tbody>\n",
       "    <tr>\n",
       "      <th>0</th>\n",
       "      <td>59.9423</td>\n",
       "      <td>10.7200</td>\n",
       "      <td>5</td>\n",
       "      <td>13</td>\n",
       "      <td>12</td>\n",
       "      <td>12.47900</td>\n",
       "      <td>11.2500</td>\n",
       "      <td>11.1</td>\n",
       "    </tr>\n",
       "    <tr>\n",
       "      <th>1</th>\n",
       "      <td>66.9035</td>\n",
       "      <td>13.6460</td>\n",
       "      <td>5</td>\n",
       "      <td>13</td>\n",
       "      <td>12</td>\n",
       "      <td>4.09424</td>\n",
       "      <td>6.1500</td>\n",
       "      <td>6.0</td>\n",
       "    </tr>\n",
       "    <tr>\n",
       "      <th>2</th>\n",
       "      <td>62.2583</td>\n",
       "      <td>8.2000</td>\n",
       "      <td>5</td>\n",
       "      <td>13</td>\n",
       "      <td>12</td>\n",
       "      <td>1.81200</td>\n",
       "      <td>4.4500</td>\n",
       "      <td>4.3</td>\n",
       "    </tr>\n",
       "    <tr>\n",
       "      <th>3</th>\n",
       "      <td>61.4255</td>\n",
       "      <td>11.0803</td>\n",
       "      <td>5</td>\n",
       "      <td>13</td>\n",
       "      <td>12</td>\n",
       "      <td>8.86768</td>\n",
       "      <td>9.6500</td>\n",
       "      <td>9.5</td>\n",
       "    </tr>\n",
       "    <tr>\n",
       "      <th>4</th>\n",
       "      <td>61.1220</td>\n",
       "      <td>9.0630</td>\n",
       "      <td>5</td>\n",
       "      <td>13</td>\n",
       "      <td>12</td>\n",
       "      <td>7.61084</td>\n",
       "      <td>9.6586</td>\n",
       "      <td>8.6</td>\n",
       "    </tr>\n",
       "  </tbody>\n",
       "</table>\n",
       "</div>"
      ],
      "text/plain": [
       "       lat     long month day hour  forecast   gridpp  observation\n",
       "0  59.9423  10.7200     5  13   12  12.47900  11.2500         11.1\n",
       "1  66.9035  13.6460     5  13   12   4.09424   6.1500          6.0\n",
       "2  62.2583   8.2000     5  13   12   1.81200   4.4500          4.3\n",
       "3  61.4255  11.0803     5  13   12   8.86768   9.6500          9.5\n",
       "4  61.1220   9.0630     5  13   12   7.61084   9.6586          8.6"
      ]
     },
     "execution_count": 42,
     "metadata": {},
     "output_type": "execute_result"
    }
   ],
   "source": [
    "df.head()"
   ]
  },
  {
   "cell_type": "code",
   "execution_count": 43,
   "metadata": {},
   "outputs": [
    {
     "data": {
      "text/html": [
       "<div>\n",
       "<style scoped>\n",
       "    .dataframe tbody tr th:only-of-type {\n",
       "        vertical-align: middle;\n",
       "    }\n",
       "\n",
       "    .dataframe tbody tr th {\n",
       "        vertical-align: top;\n",
       "    }\n",
       "\n",
       "    .dataframe thead th {\n",
       "        text-align: right;\n",
       "    }\n",
       "</style>\n",
       "<table border=\"1\" class=\"dataframe\">\n",
       "  <thead>\n",
       "    <tr style=\"text-align: right;\">\n",
       "      <th></th>\n",
       "      <th>lat</th>\n",
       "      <th>long</th>\n",
       "      <th>month</th>\n",
       "      <th>day</th>\n",
       "      <th>hour</th>\n",
       "      <th>forecast</th>\n",
       "      <th>gridpp</th>\n",
       "    </tr>\n",
       "  </thead>\n",
       "  <tbody>\n",
       "    <tr>\n",
       "      <th>0</th>\n",
       "      <td>59.9423</td>\n",
       "      <td>10.7200</td>\n",
       "      <td>5</td>\n",
       "      <td>13</td>\n",
       "      <td>12</td>\n",
       "      <td>12.47900</td>\n",
       "      <td>11.2500</td>\n",
       "    </tr>\n",
       "    <tr>\n",
       "      <th>1</th>\n",
       "      <td>66.9035</td>\n",
       "      <td>13.6460</td>\n",
       "      <td>5</td>\n",
       "      <td>13</td>\n",
       "      <td>12</td>\n",
       "      <td>4.09424</td>\n",
       "      <td>6.1500</td>\n",
       "    </tr>\n",
       "    <tr>\n",
       "      <th>2</th>\n",
       "      <td>62.2583</td>\n",
       "      <td>8.2000</td>\n",
       "      <td>5</td>\n",
       "      <td>13</td>\n",
       "      <td>12</td>\n",
       "      <td>1.81200</td>\n",
       "      <td>4.4500</td>\n",
       "    </tr>\n",
       "    <tr>\n",
       "      <th>3</th>\n",
       "      <td>61.4255</td>\n",
       "      <td>11.0803</td>\n",
       "      <td>5</td>\n",
       "      <td>13</td>\n",
       "      <td>12</td>\n",
       "      <td>8.86768</td>\n",
       "      <td>9.6500</td>\n",
       "    </tr>\n",
       "    <tr>\n",
       "      <th>4</th>\n",
       "      <td>61.1220</td>\n",
       "      <td>9.0630</td>\n",
       "      <td>5</td>\n",
       "      <td>13</td>\n",
       "      <td>12</td>\n",
       "      <td>7.61084</td>\n",
       "      <td>9.6586</td>\n",
       "    </tr>\n",
       "  </tbody>\n",
       "</table>\n",
       "</div>"
      ],
      "text/plain": [
       "       lat     long month day hour  forecast   gridpp\n",
       "0  59.9423  10.7200     5  13   12  12.47900  11.2500\n",
       "1  66.9035  13.6460     5  13   12   4.09424   6.1500\n",
       "2  62.2583   8.2000     5  13   12   1.81200   4.4500\n",
       "3  61.4255  11.0803     5  13   12   8.86768   9.6500\n",
       "4  61.1220   9.0630     5  13   12   7.61084   9.6586"
      ]
     },
     "execution_count": 43,
     "metadata": {},
     "output_type": "execute_result"
    }
   ],
   "source": [
    "X.head()"
   ]
  },
  {
   "cell_type": "code",
   "execution_count": 44,
   "metadata": {},
   "outputs": [],
   "source": [
    "teste = X.iloc[0][:]"
   ]
  },
  {
   "cell_type": "code",
   "execution_count": 55,
   "metadata": {},
   "outputs": [
    {
     "data": {
      "text/plain": [
       "numpy.float64"
      ]
     },
     "execution_count": 55,
     "metadata": {},
     "output_type": "execute_result"
    }
   ],
   "source": [
    "type(y[0])"
   ]
  },
  {
   "cell_type": "code",
   "execution_count": 46,
   "metadata": {},
   "outputs": [
    {
     "data": {
      "text/plain": [
       "lat         59.9423\n",
       "long          10.72\n",
       "month             5\n",
       "day              13\n",
       "hour             12\n",
       "forecast     12.479\n",
       "gridpp        11.25\n",
       "Name: 0, dtype: object"
      ]
     },
     "execution_count": 46,
     "metadata": {},
     "output_type": "execute_result"
    }
   ],
   "source": [
    "teste"
   ]
  },
  {
   "cell_type": "code",
   "execution_count": 47,
   "metadata": {},
   "outputs": [
    {
     "data": {
      "text/plain": [
       "array([59.9423, 10.72, 5, 13, 12, 12.478999999999983, 11.25], dtype=object)"
      ]
     },
     "execution_count": 47,
     "metadata": {},
     "output_type": "execute_result"
    }
   ],
   "source": [
    "teste.to_numpy()"
   ]
  },
  {
   "cell_type": "code",
   "execution_count": 48,
   "metadata": {},
   "outputs": [
    {
     "data": {
      "text/plain": [
       "[59.9423, 10.72, 5, 13, 12, 12.478999999999983, 11.25]"
      ]
     },
     "execution_count": 48,
     "metadata": {},
     "output_type": "execute_result"
    }
   ],
   "source": [
    "teste.to_list()"
   ]
  },
  {
   "cell_type": "code",
   "execution_count": 49,
   "metadata": {},
   "outputs": [
    {
     "data": {
      "text/html": [
       "<div>\n",
       "<style scoped>\n",
       "    .dataframe tbody tr th:only-of-type {\n",
       "        vertical-align: middle;\n",
       "    }\n",
       "\n",
       "    .dataframe tbody tr th {\n",
       "        vertical-align: top;\n",
       "    }\n",
       "\n",
       "    .dataframe thead th {\n",
       "        text-align: right;\n",
       "    }\n",
       "</style>\n",
       "<table border=\"1\" class=\"dataframe\">\n",
       "  <thead>\n",
       "    <tr style=\"text-align: right;\">\n",
       "      <th></th>\n",
       "      <th>lat</th>\n",
       "      <th>long</th>\n",
       "      <th>month</th>\n",
       "      <th>day</th>\n",
       "      <th>hour</th>\n",
       "      <th>forecast</th>\n",
       "      <th>gridpp</th>\n",
       "    </tr>\n",
       "  </thead>\n",
       "  <tbody>\n",
       "    <tr>\n",
       "      <th>0</th>\n",
       "      <td>59.9423</td>\n",
       "      <td>10.72</td>\n",
       "      <td>5</td>\n",
       "      <td>13</td>\n",
       "      <td>12</td>\n",
       "      <td>12.479</td>\n",
       "      <td>11.25</td>\n",
       "    </tr>\n",
       "  </tbody>\n",
       "</table>\n",
       "</div>"
      ],
      "text/plain": [
       "       lat   long month day hour forecast gridpp\n",
       "0  59.9423  10.72     5  13   12   12.479  11.25"
      ]
     },
     "execution_count": 49,
     "metadata": {},
     "output_type": "execute_result"
    }
   ],
   "source": [
    "pd.DataFrame(teste.to_numpy().reshape(1,-1), columns=X.columns)"
   ]
  },
  {
   "cell_type": "code",
   "execution_count": 50,
   "metadata": {},
   "outputs": [
    {
     "data": {
      "text/html": [
       "<div>\n",
       "<style scoped>\n",
       "    .dataframe tbody tr th:only-of-type {\n",
       "        vertical-align: middle;\n",
       "    }\n",
       "\n",
       "    .dataframe tbody tr th {\n",
       "        vertical-align: top;\n",
       "    }\n",
       "\n",
       "    .dataframe thead th {\n",
       "        text-align: right;\n",
       "    }\n",
       "</style>\n",
       "<table border=\"1\" class=\"dataframe\">\n",
       "  <thead>\n",
       "    <tr style=\"text-align: right;\">\n",
       "      <th></th>\n",
       "      <th>lat</th>\n",
       "      <th>long</th>\n",
       "      <th>month</th>\n",
       "      <th>day</th>\n",
       "      <th>hour</th>\n",
       "      <th>forecast</th>\n",
       "      <th>gridpp</th>\n",
       "    </tr>\n",
       "  </thead>\n",
       "  <tbody>\n",
       "    <tr>\n",
       "      <th>332553</th>\n",
       "      <td>59.1895</td>\n",
       "      <td>5.1837</td>\n",
       "      <td>10</td>\n",
       "      <td>27</td>\n",
       "      <td>6</td>\n",
       "      <td>7.396480</td>\n",
       "      <td>5.96063</td>\n",
       "    </tr>\n",
       "    <tr>\n",
       "      <th>171409</th>\n",
       "      <td>64.1587</td>\n",
       "      <td>12.4692</td>\n",
       "      <td>7</td>\n",
       "      <td>3</td>\n",
       "      <td>18</td>\n",
       "      <td>5.749760</td>\n",
       "      <td>5.81186</td>\n",
       "    </tr>\n",
       "    <tr>\n",
       "      <th>663594</th>\n",
       "      <td>61.4582</td>\n",
       "      <td>10.1872</td>\n",
       "      <td>2</td>\n",
       "      <td>7</td>\n",
       "      <td>12</td>\n",
       "      <td>-5.336120</td>\n",
       "      <td>-10.65000</td>\n",
       "    </tr>\n",
       "    <tr>\n",
       "      <th>178261</th>\n",
       "      <td>71.0330</td>\n",
       "      <td>27.8298</td>\n",
       "      <td>8</td>\n",
       "      <td>31</td>\n",
       "      <td>12</td>\n",
       "      <td>16.599370</td>\n",
       "      <td>13.25000</td>\n",
       "    </tr>\n",
       "    <tr>\n",
       "      <th>305658</th>\n",
       "      <td>60.7022</td>\n",
       "      <td>6.9373</td>\n",
       "      <td>9</td>\n",
       "      <td>7</td>\n",
       "      <td>6</td>\n",
       "      <td>3.744870</td>\n",
       "      <td>5.69266</td>\n",
       "    </tr>\n",
       "    <tr>\n",
       "      <th>...</th>\n",
       "      <td>...</td>\n",
       "      <td>...</td>\n",
       "      <td>...</td>\n",
       "      <td>...</td>\n",
       "      <td>...</td>\n",
       "      <td>...</td>\n",
       "      <td>...</td>\n",
       "    </tr>\n",
       "    <tr>\n",
       "      <th>259178</th>\n",
       "      <td>62.5082</td>\n",
       "      <td>6.0762</td>\n",
       "      <td>9</td>\n",
       "      <td>26</td>\n",
       "      <td>18</td>\n",
       "      <td>11.987550</td>\n",
       "      <td>12.59985</td>\n",
       "    </tr>\n",
       "    <tr>\n",
       "      <th>366458</th>\n",
       "      <td>60.8562</td>\n",
       "      <td>5.9733</td>\n",
       "      <td>10</td>\n",
       "      <td>11</td>\n",
       "      <td>0</td>\n",
       "      <td>4.137207</td>\n",
       "      <td>6.35000</td>\n",
       "    </tr>\n",
       "    <tr>\n",
       "      <th>131932</th>\n",
       "      <td>59.8558</td>\n",
       "      <td>10.4358</td>\n",
       "      <td>7</td>\n",
       "      <td>19</td>\n",
       "      <td>18</td>\n",
       "      <td>16.840580</td>\n",
       "      <td>18.39590</td>\n",
       "    </tr>\n",
       "    <tr>\n",
       "      <th>671775</th>\n",
       "      <td>65.1103</td>\n",
       "      <td>6.7912</td>\n",
       "      <td>2</td>\n",
       "      <td>4</td>\n",
       "      <td>6</td>\n",
       "      <td>3.232500</td>\n",
       "      <td>2.99136</td>\n",
       "    </tr>\n",
       "    <tr>\n",
       "      <th>121958</th>\n",
       "      <td>59.9127</td>\n",
       "      <td>5.4880</td>\n",
       "      <td>7</td>\n",
       "      <td>24</td>\n",
       "      <td>0</td>\n",
       "      <td>16.813230</td>\n",
       "      <td>16.19666</td>\n",
       "    </tr>\n",
       "  </tbody>\n",
       "</table>\n",
       "<p>681520 rows × 7 columns</p>\n",
       "</div>"
      ],
      "text/plain": [
       "            lat     long month day hour   forecast    gridpp\n",
       "332553  59.1895   5.1837    10  27    6   7.396480   5.96063\n",
       "171409  64.1587  12.4692     7   3   18   5.749760   5.81186\n",
       "663594  61.4582  10.1872     2   7   12  -5.336120 -10.65000\n",
       "178261  71.0330  27.8298     8  31   12  16.599370  13.25000\n",
       "305658  60.7022   6.9373     9   7    6   3.744870   5.69266\n",
       "...         ...      ...   ...  ..  ...        ...       ...\n",
       "259178  62.5082   6.0762     9  26   18  11.987550  12.59985\n",
       "366458  60.8562   5.9733    10  11    0   4.137207   6.35000\n",
       "131932  59.8558  10.4358     7  19   18  16.840580  18.39590\n",
       "671775  65.1103   6.7912     2   4    6   3.232500   2.99136\n",
       "121958  59.9127   5.4880     7  24    0  16.813230  16.19666\n",
       "\n",
       "[681520 rows x 7 columns]"
      ]
     },
     "execution_count": 50,
     "metadata": {},
     "output_type": "execute_result"
    }
   ],
   "source": [
    "X_train"
   ]
  },
  {
   "cell_type": "code",
   "execution_count": 51,
   "metadata": {},
   "outputs": [],
   "source": [
    "d = {\n",
    "    'lat': [59.9423],\n",
    "    'long': [10.7200],\n",
    "    'month': [5],\n",
    "    'day': [13],\n",
    "    'hour': [12],\n",
    "    'forecast': [12.49],\n",
    "    'gridpp': [11.25]\n",
    "}"
   ]
  },
  {
   "cell_type": "code",
   "execution_count": 52,
   "metadata": {},
   "outputs": [
    {
     "data": {
      "text/plain": [
       "{'lat': [59.9423],\n",
       " 'long': [10.72],\n",
       " 'month': [5],\n",
       " 'day': [13],\n",
       " 'hour': [12],\n",
       " 'forecast': [12.49],\n",
       " 'gridpp': [11.25]}"
      ]
     },
     "execution_count": 52,
     "metadata": {},
     "output_type": "execute_result"
    }
   ],
   "source": [
    "d"
   ]
  },
  {
   "cell_type": "code",
   "execution_count": 53,
   "metadata": {},
   "outputs": [
    {
     "data": {
      "text/html": [
       "<div>\n",
       "<style scoped>\n",
       "    .dataframe tbody tr th:only-of-type {\n",
       "        vertical-align: middle;\n",
       "    }\n",
       "\n",
       "    .dataframe tbody tr th {\n",
       "        vertical-align: top;\n",
       "    }\n",
       "\n",
       "    .dataframe thead th {\n",
       "        text-align: right;\n",
       "    }\n",
       "</style>\n",
       "<table border=\"1\" class=\"dataframe\">\n",
       "  <thead>\n",
       "    <tr style=\"text-align: right;\">\n",
       "      <th></th>\n",
       "      <th>lat</th>\n",
       "      <th>long</th>\n",
       "      <th>month</th>\n",
       "      <th>day</th>\n",
       "      <th>hour</th>\n",
       "      <th>forecast</th>\n",
       "      <th>gridpp</th>\n",
       "    </tr>\n",
       "  </thead>\n",
       "  <tbody>\n",
       "    <tr>\n",
       "      <th>0</th>\n",
       "      <td>59.9423</td>\n",
       "      <td>10.72</td>\n",
       "      <td>5</td>\n",
       "      <td>13</td>\n",
       "      <td>12</td>\n",
       "      <td>12.49</td>\n",
       "      <td>11.25</td>\n",
       "    </tr>\n",
       "  </tbody>\n",
       "</table>\n",
       "</div>"
      ],
      "text/plain": [
       "       lat   long  month  day  hour  forecast  gridpp\n",
       "0  59.9423  10.72      5   13    12     12.49   11.25"
      ]
     },
     "execution_count": 53,
     "metadata": {},
     "output_type": "execute_result"
    }
   ],
   "source": [
    "pd.DataFrame(d)"
   ]
  },
  {
   "cell_type": "code",
   "execution_count": 54,
   "metadata": {},
   "outputs": [
    {
     "data": {
      "text/html": [
       "<div>\n",
       "<style scoped>\n",
       "    .dataframe tbody tr th:only-of-type {\n",
       "        vertical-align: middle;\n",
       "    }\n",
       "\n",
       "    .dataframe tbody tr th {\n",
       "        vertical-align: top;\n",
       "    }\n",
       "\n",
       "    .dataframe thead th {\n",
       "        text-align: right;\n",
       "    }\n",
       "</style>\n",
       "<table border=\"1\" class=\"dataframe\">\n",
       "  <thead>\n",
       "    <tr style=\"text-align: right;\">\n",
       "      <th></th>\n",
       "      <th>lat</th>\n",
       "      <th>long</th>\n",
       "      <th>month</th>\n",
       "      <th>day</th>\n",
       "      <th>hour</th>\n",
       "      <th>forecast</th>\n",
       "      <th>gridpp</th>\n",
       "    </tr>\n",
       "  </thead>\n",
       "  <tbody>\n",
       "    <tr>\n",
       "      <th>0</th>\n",
       "      <td>59.9423</td>\n",
       "      <td>10.72</td>\n",
       "      <td>5</td>\n",
       "      <td>13</td>\n",
       "      <td>12</td>\n",
       "      <td>12.49</td>\n",
       "      <td>11.25</td>\n",
       "    </tr>\n",
       "  </tbody>\n",
       "</table>\n",
       "</div>"
      ],
      "text/plain": [
       "       lat   long  month  day  hour  forecast  gridpp\n",
       "0  59.9423  10.72      5   13    12     12.49   11.25"
      ]
     },
     "execution_count": 54,
     "metadata": {},
     "output_type": "execute_result"
    }
   ],
   "source": [
    "to_test = pd.DataFrame(d)\n",
    "to_test"
   ]
  },
  {
   "cell_type": "code",
   "execution_count": 60,
   "metadata": {},
   "outputs": [],
   "source": [
    "def set_types(df):\n",
    "    df = df.astype({'month': 'object'})\n",
    "    df = df.astype({'day': 'object'})\n",
    "    df = df.astype({'hour': 'object'})\n",
    "    \n",
    "    return df"
   ]
  },
  {
   "cell_type": "code",
   "execution_count": 61,
   "metadata": {},
   "outputs": [
    {
     "data": {
      "text/plain": [
       "lat         float64\n",
       "long        float64\n",
       "month        object\n",
       "day          object\n",
       "hour         object\n",
       "forecast    float64\n",
       "gridpp      float64\n",
       "dtype: object"
      ]
     },
     "execution_count": 61,
     "metadata": {},
     "output_type": "execute_result"
    }
   ],
   "source": [
    "to_test = set_types(to_test)\n",
    "to_test.dtypes"
   ]
  },
  {
   "cell_type": "code",
   "execution_count": 66,
   "metadata": {},
   "outputs": [],
   "source": [
    "_x, _y, _, _, _ = prepare_data(to_test, pd.Series(11), encoder, scaler, scaler_y)"
   ]
  },
  {
   "cell_type": "code",
   "execution_count": 67,
   "metadata": {},
   "outputs": [
    {
     "data": {
      "text/plain": [
       "array([[-0.68935078,  0.03367807,  0.97259308,  0.74305766,  0.        ,\n",
       "         0.        ,  0.        ,  0.        ,  1.        ,  0.        ,\n",
       "         0.        ,  0.        ,  0.        ,  0.        ,  0.        ,\n",
       "         0.        ,  0.        ,  0.        ,  0.        ,  0.        ,\n",
       "         0.        ,  0.        ,  0.        ,  0.        ,  0.        ,\n",
       "         0.        ,  0.        ,  0.        ,  1.        ,  0.        ,\n",
       "         0.        ,  0.        ,  0.        ,  0.        ,  0.        ,\n",
       "         0.        ,  0.        ,  0.        ,  0.        ,  0.        ,\n",
       "         0.        ,  0.        ,  0.        ,  0.        ,  0.        ,\n",
       "         0.        ,  0.        ,  0.        ,  0.        ,  1.        ,\n",
       "         0.        ]])"
      ]
     },
     "execution_count": 67,
     "metadata": {},
     "output_type": "execute_result"
    }
   ],
   "source": [
    "_x"
   ]
  },
  {
   "cell_type": "code",
   "execution_count": 68,
   "metadata": {},
   "outputs": [
    {
     "data": {
      "text/plain": [
       "array([[0.75413472]])"
      ]
     },
     "execution_count": 68,
     "metadata": {},
     "output_type": "execute_result"
    }
   ],
   "source": [
    "_y"
   ]
  },
  {
   "cell_type": "code",
   "execution_count": 70,
   "metadata": {},
   "outputs": [],
   "source": [
    "_pred = cnn.predict(_x)"
   ]
  },
  {
   "cell_type": "code",
   "execution_count": 71,
   "metadata": {},
   "outputs": [
    {
     "data": {
      "text/plain": [
       "array([[11.]])"
      ]
     },
     "execution_count": 71,
     "metadata": {},
     "output_type": "execute_result"
    }
   ],
   "source": [
    "scaler_y.inverse_transform(_y)"
   ]
  },
  {
   "cell_type": "code",
   "execution_count": 84,
   "metadata": {},
   "outputs": [
    {
     "data": {
      "text/plain": [
       "array([[0.70605177]], dtype=float32)"
      ]
     },
     "execution_count": 84,
     "metadata": {},
     "output_type": "execute_result"
    }
   ],
   "source": [
    "_pred"
   ]
  },
  {
   "cell_type": "code",
   "execution_count": 72,
   "metadata": {},
   "outputs": [
    {
     "data": {
      "text/plain": [
       "array([[10.614629]], dtype=float32)"
      ]
     },
     "execution_count": 72,
     "metadata": {},
     "output_type": "execute_result"
    }
   ],
   "source": [
    "scaler_y.inverse_transform(_pred)"
   ]
  },
  {
   "cell_type": "code",
   "execution_count": 89,
   "metadata": {},
   "outputs": [],
   "source": [
    "def unit_test(model, lat, long, month, day, hour, forecast, gridpp, encoder, scaler):\n",
    "    d = {\n",
    "        'lat': [lat],\n",
    "        'long': [long],\n",
    "        'month': [month],\n",
    "        'day': [day],\n",
    "        'hour': [hour],\n",
    "        'forecast': [forecast],\n",
    "        'gridpp': [gridpp]\n",
    "    }\n",
    "\n",
    "    df = pd.DataFrame(d)\n",
    "    \n",
    "    \n",
    "    df = set_types(df)\n",
    "    print(df)\n",
    "    \n",
    "    _x, _, _, _, _ = prepare_data(df, pd.Series(11), encoder, scaler, scaler_y)\n",
    "    \n",
    "    return model.predict(_x)"
   ]
  },
  {
   "cell_type": "code",
   "execution_count": 90,
   "metadata": {},
   "outputs": [
    {
     "name": "stdout",
     "output_type": "stream",
     "text": [
      "    lat  long month day hour  forecast  gridpp\n",
      "0  60.0  10.0     5  13   12      12.5   11.25\n"
     ]
    },
    {
     "data": {
      "text/plain": [
       "array([[0.7168124]], dtype=float32)"
      ]
     },
     "execution_count": 90,
     "metadata": {},
     "output_type": "execute_result"
    }
   ],
   "source": [
    "unit_test(cnn, 60.0, 10.0, 5, 13, 12, 12.5, 11.25, encoder, scaler)"
   ]
  },
  {
   "cell_type": "code",
   "execution_count": null,
   "metadata": {},
   "outputs": [],
   "source": []
  }
 ],
 "metadata": {
  "accelerator": "TPU",
  "colab": {
   "collapsed_sections": [],
   "name": "met_no_2008_only.ipynb",
   "provenance": []
  },
  "kernelspec": {
   "display_name": "Python 3 (ipykernel)",
   "language": "python",
   "name": "python3"
  },
  "language_info": {
   "codemirror_mode": {
    "name": "ipython",
    "version": 3
   },
   "file_extension": ".py",
   "mimetype": "text/x-python",
   "name": "python",
   "nbconvert_exporter": "python",
   "pygments_lexer": "ipython3",
   "version": "3.9.5"
  }
 },
 "nbformat": 4,
 "nbformat_minor": 4
}