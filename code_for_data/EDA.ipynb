{
 "cells": [
  {
   "cell_type": "markdown",
   "metadata": {},
   "source": [
    "# EDA for ETL Process"
   ]
  },
  {
   "cell_type": "code",
   "execution_count": 2,
   "metadata": {},
   "outputs": [],
   "source": [
    "import numpy as np\n",
    "import pandas as pd\n",
    "import json\n",
    "import os\n",
    "import matplotlib.pyplot as plt\n",
    "import seaborn as sns\n",
    "import re"
   ]
  },
  {
   "cell_type": "markdown",
   "metadata": {},
   "source": [
    "## Forecast Files"
   ]
  },
  {
   "cell_type": "markdown",
   "metadata": {},
   "source": [
    "### Grid 2.5km"
   ]
  },
  {
   "cell_type": "code",
   "execution_count": 3,
   "metadata": {},
   "outputs": [],
   "source": [
    "forecast_files = os.listdir('forecasts/2.5')\n",
    "\n",
    "def is_csv(x):\n",
    "    if x[-4:] == '.csv':\n",
    "        return True\n",
    "    return False\n",
    "\n",
    "forecast_files = list(filter(is_csv, forecast_files))\n",
    "\n",
    "forecast_files.sort()"
   ]
  },
  {
   "cell_type": "code",
   "execution_count": 4,
   "metadata": {},
   "outputs": [
    {
     "data": {
      "text/plain": [
       "['forecasts_2_5_km_0.csv',\n",
       " 'forecasts_2_5_km_1.csv',\n",
       " 'forecasts_2_5_km_10.csv',\n",
       " 'forecasts_2_5_km_11.csv',\n",
       " 'forecasts_2_5_km_12.csv',\n",
       " 'forecasts_2_5_km_13.csv',\n",
       " 'forecasts_2_5_km_14.csv',\n",
       " 'forecasts_2_5_km_15.csv',\n",
       " 'forecasts_2_5_km_16.csv',\n",
       " 'forecasts_2_5_km_17.csv',\n",
       " 'forecasts_2_5_km_18.csv',\n",
       " 'forecasts_2_5_km_19.csv',\n",
       " 'forecasts_2_5_km_2.csv',\n",
       " 'forecasts_2_5_km_20.csv',\n",
       " 'forecasts_2_5_km_21.csv',\n",
       " 'forecasts_2_5_km_3.csv',\n",
       " 'forecasts_2_5_km_4.csv',\n",
       " 'forecasts_2_5_km_5.csv',\n",
       " 'forecasts_2_5_km_6.csv',\n",
       " 'forecasts_2_5_km_7.csv',\n",
       " 'forecasts_2_5_km_8.csv',\n",
       " 'forecasts_2_5_km_9.csv']"
      ]
     },
     "execution_count": 4,
     "metadata": {},
     "output_type": "execute_result"
    }
   ],
   "source": [
    "forecast_files"
   ]
  },
  {
   "cell_type": "code",
   "execution_count": 5,
   "metadata": {},
   "outputs": [
    {
     "data": {
      "text/plain": [
       "22"
      ]
     },
     "execution_count": 5,
     "metadata": {},
     "output_type": "execute_result"
    }
   ],
   "source": [
    "len(forecast_files)"
   ]
  },
  {
   "cell_type": "code",
   "execution_count": 6,
   "metadata": {},
   "outputs": [],
   "source": [
    "def read_all_files(path, files):\n",
    "    df = pd.DataFrame()\n",
    "    for arquivo in files:\n",
    "        df_aux = pd.read_csv(f'{path}/{arquivo}')\n",
    "        df = df.append(df_aux)\n",
    "\n",
    "    return df"
   ]
  },
  {
   "cell_type": "code",
   "execution_count": 7,
   "metadata": {},
   "outputs": [],
   "source": [
    "forecasts = pd.DataFrame()\n",
    "\n",
    "for arquivo in forecast_files:\n",
    "    df_aux = pd.read_csv(f'forecasts/2.5/{arquivo}')\n",
    "    forecasts = forecasts.append(df_aux)\n",
    "\n"
   ]
  },
  {
   "cell_type": "code",
   "execution_count": 8,
   "metadata": {},
   "outputs": [
    {
     "data": {
      "text/html": [
       "<div>\n",
       "<style scoped>\n",
       "    .dataframe tbody tr th:only-of-type {\n",
       "        vertical-align: middle;\n",
       "    }\n",
       "\n",
       "    .dataframe tbody tr th {\n",
       "        vertical-align: top;\n",
       "    }\n",
       "\n",
       "    .dataframe thead th {\n",
       "        text-align: right;\n",
       "    }\n",
       "</style>\n",
       "<table border=\"1\" class=\"dataframe\">\n",
       "  <thead>\n",
       "    <tr style=\"text-align: right;\">\n",
       "      <th></th>\n",
       "      <th>nearest_forecast_long</th>\n",
       "      <th>nearest_forecast_lat</th>\n",
       "      <th>long</th>\n",
       "      <th>station_id</th>\n",
       "      <th>lat</th>\n",
       "      <th>forecast</th>\n",
       "      <th>indexes</th>\n",
       "      <th>year</th>\n",
       "      <th>month</th>\n",
       "      <th>day</th>\n",
       "      <th>hour</th>\n",
       "    </tr>\n",
       "  </thead>\n",
       "  <tbody>\n",
       "    <tr>\n",
       "      <th>0</th>\n",
       "      <td>10.738135</td>\n",
       "      <td>59.946386</td>\n",
       "      <td>10.7200</td>\n",
       "      <td>SN18700</td>\n",
       "      <td>59.9423</td>\n",
       "      <td>267.546997</td>\n",
       "      <td>[319 314]</td>\n",
       "      <td>2019.0</td>\n",
       "      <td>1.0</td>\n",
       "      <td>31</td>\n",
       "      <td>18</td>\n",
       "    </tr>\n",
       "    <tr>\n",
       "      <th>1</th>\n",
       "      <td>13.627744</td>\n",
       "      <td>66.909166</td>\n",
       "      <td>13.6460</td>\n",
       "      <td>SN80740</td>\n",
       "      <td>66.9035</td>\n",
       "      <td>268.538208</td>\n",
       "      <td>[626 385]</td>\n",
       "      <td>2019.0</td>\n",
       "      <td>1.0</td>\n",
       "      <td>31</td>\n",
       "      <td>18</td>\n",
       "    </tr>\n",
       "    <tr>\n",
       "      <th>2</th>\n",
       "      <td>8.178909</td>\n",
       "      <td>62.253197</td>\n",
       "      <td>8.2000</td>\n",
       "      <td>SN61630</td>\n",
       "      <td>62.2583</td>\n",
       "      <td>264.514771</td>\n",
       "      <td>[426 268]</td>\n",
       "      <td>2019.0</td>\n",
       "      <td>1.0</td>\n",
       "      <td>31</td>\n",
       "      <td>18</td>\n",
       "    </tr>\n",
       "    <tr>\n",
       "      <th>3</th>\n",
       "      <td>12.318575</td>\n",
       "      <td>64.690575</td>\n",
       "      <td>12.3295</td>\n",
       "      <td>SN78910</td>\n",
       "      <td>64.6933</td>\n",
       "      <td>262.824341</td>\n",
       "      <td>[528 358]</td>\n",
       "      <td>2019.0</td>\n",
       "      <td>1.0</td>\n",
       "      <td>31</td>\n",
       "      <td>18</td>\n",
       "    </tr>\n",
       "    <tr>\n",
       "      <th>4</th>\n",
       "      <td>11.098430</td>\n",
       "      <td>61.420746</td>\n",
       "      <td>11.0803</td>\n",
       "      <td>SN8140</td>\n",
       "      <td>61.4255</td>\n",
       "      <td>261.482544</td>\n",
       "      <td>[384 326]</td>\n",
       "      <td>2019.0</td>\n",
       "      <td>1.0</td>\n",
       "      <td>31</td>\n",
       "      <td>18</td>\n",
       "    </tr>\n",
       "    <tr>\n",
       "      <th>...</th>\n",
       "      <td>...</td>\n",
       "      <td>...</td>\n",
       "      <td>...</td>\n",
       "      <td>...</td>\n",
       "      <td>...</td>\n",
       "      <td>...</td>\n",
       "      <td>...</td>\n",
       "      <td>...</td>\n",
       "      <td>...</td>\n",
       "      <td>...</td>\n",
       "      <td>...</td>\n",
       "    </tr>\n",
       "    <tr>\n",
       "      <th>147795</th>\n",
       "      <td>6.572572</td>\n",
       "      <td>61.914556</td>\n",
       "      <td>6.5585</td>\n",
       "      <td>SN58900</td>\n",
       "      <td>61.9157</td>\n",
       "      <td>279.479767</td>\n",
       "      <td>[415 233]</td>\n",
       "      <td>2020.0</td>\n",
       "      <td>5.0</td>\n",
       "      <td>13</td>\n",
       "      <td>12</td>\n",
       "    </tr>\n",
       "    <tr>\n",
       "      <th>147796</th>\n",
       "      <td>17.247835</td>\n",
       "      <td>68.379074</td>\n",
       "      <td>17.2438</td>\n",
       "      <td>SN84380</td>\n",
       "      <td>68.3710</td>\n",
       "      <td>267.085236</td>\n",
       "      <td>[692 446]</td>\n",
       "      <td>2020.0</td>\n",
       "      <td>5.0</td>\n",
       "      <td>13</td>\n",
       "      <td>12</td>\n",
       "    </tr>\n",
       "    <tr>\n",
       "      <th>147797</th>\n",
       "      <td>11.337268</td>\n",
       "      <td>62.575780</td>\n",
       "      <td>11.3518</td>\n",
       "      <td>SN10380</td>\n",
       "      <td>62.5773</td>\n",
       "      <td>277.539337</td>\n",
       "      <td>[435 334]</td>\n",
       "      <td>2020.0</td>\n",
       "      <td>5.0</td>\n",
       "      <td>13</td>\n",
       "      <td>12</td>\n",
       "    </tr>\n",
       "    <tr>\n",
       "      <th>147798</th>\n",
       "      <td>26.148085</td>\n",
       "      <td>69.757811</td>\n",
       "      <td>26.1457</td>\n",
       "      <td>SN97120</td>\n",
       "      <td>69.7563</td>\n",
       "      <td>274.860626</td>\n",
       "      <td>[768 581]</td>\n",
       "      <td>2020.0</td>\n",
       "      <td>5.0</td>\n",
       "      <td>13</td>\n",
       "      <td>12</td>\n",
       "    </tr>\n",
       "    <tr>\n",
       "      <th>147799</th>\n",
       "      <td>8.356418</td>\n",
       "      <td>61.674283</td>\n",
       "      <td>8.3690</td>\n",
       "      <td>SN15270</td>\n",
       "      <td>61.6775</td>\n",
       "      <td>267.253204</td>\n",
       "      <td>[400 269]</td>\n",
       "      <td>2020.0</td>\n",
       "      <td>5.0</td>\n",
       "      <td>13</td>\n",
       "      <td>12</td>\n",
       "    </tr>\n",
       "  </tbody>\n",
       "</table>\n",
       "<p>3224257 rows × 11 columns</p>\n",
       "</div>"
      ],
      "text/plain": [
       "        nearest_forecast_long  nearest_forecast_lat     long station_id  \\\n",
       "0                   10.738135             59.946386  10.7200    SN18700   \n",
       "1                   13.627744             66.909166  13.6460    SN80740   \n",
       "2                    8.178909             62.253197   8.2000    SN61630   \n",
       "3                   12.318575             64.690575  12.3295    SN78910   \n",
       "4                   11.098430             61.420746  11.0803     SN8140   \n",
       "...                       ...                   ...      ...        ...   \n",
       "147795               6.572572             61.914556   6.5585    SN58900   \n",
       "147796              17.247835             68.379074  17.2438    SN84380   \n",
       "147797              11.337268             62.575780  11.3518    SN10380   \n",
       "147798              26.148085             69.757811  26.1457    SN97120   \n",
       "147799               8.356418             61.674283   8.3690    SN15270   \n",
       "\n",
       "            lat    forecast    indexes    year  month  day  hour  \n",
       "0       59.9423  267.546997  [319 314]  2019.0    1.0   31    18  \n",
       "1       66.9035  268.538208  [626 385]  2019.0    1.0   31    18  \n",
       "2       62.2583  264.514771  [426 268]  2019.0    1.0   31    18  \n",
       "3       64.6933  262.824341  [528 358]  2019.0    1.0   31    18  \n",
       "4       61.4255  261.482544  [384 326]  2019.0    1.0   31    18  \n",
       "...         ...         ...        ...     ...    ...  ...   ...  \n",
       "147795  61.9157  279.479767  [415 233]  2020.0    5.0   13    12  \n",
       "147796  68.3710  267.085236  [692 446]  2020.0    5.0   13    12  \n",
       "147797  62.5773  277.539337  [435 334]  2020.0    5.0   13    12  \n",
       "147798  69.7563  274.860626  [768 581]  2020.0    5.0   13    12  \n",
       "147799  61.6775  267.253204  [400 269]  2020.0    5.0   13    12  \n",
       "\n",
       "[3224257 rows x 11 columns]"
      ]
     },
     "execution_count": 8,
     "metadata": {},
     "output_type": "execute_result"
    }
   ],
   "source": [
    "forecasts"
   ]
  },
  {
   "cell_type": "code",
   "execution_count": 9,
   "metadata": {},
   "outputs": [
    {
     "data": {
      "text/plain": [
       "array([2019., 2020., 2021.])"
      ]
     },
     "execution_count": 9,
     "metadata": {},
     "output_type": "execute_result"
    }
   ],
   "source": [
    "forecasts.year.unique()"
   ]
  },
  {
   "cell_type": "code",
   "execution_count": 10,
   "metadata": {},
   "outputs": [
    {
     "data": {
      "text/plain": [
       "2020.0    1078201\n",
       "2021.0    1077462\n",
       "2019.0    1068594\n",
       "Name: year, dtype: int64"
      ]
     },
     "execution_count": 10,
     "metadata": {},
     "output_type": "execute_result"
    }
   ],
   "source": [
    "forecasts.year.value_counts()"
   ]
  },
  {
   "cell_type": "code",
   "execution_count": 11,
   "metadata": {},
   "outputs": [
    {
     "name": "stdout",
     "output_type": "stream",
     "text": [
      "<class 'pandas.core.frame.DataFrame'>\n",
      "Int64Index: 3224257 entries, 0 to 147799\n",
      "Data columns (total 11 columns):\n",
      " #   Column                 Dtype  \n",
      "---  ------                 -----  \n",
      " 0   nearest_forecast_long  float64\n",
      " 1   nearest_forecast_lat   float64\n",
      " 2   long                   float64\n",
      " 3   station_id             object \n",
      " 4   lat                    float64\n",
      " 5   forecast               float64\n",
      " 6   indexes                object \n",
      " 7   year                   float64\n",
      " 8   month                  float64\n",
      " 9   day                    int64  \n",
      " 10  hour                   int64  \n",
      "dtypes: float64(7), int64(2), object(2)\n",
      "memory usage: 295.2+ MB\n"
     ]
    }
   ],
   "source": [
    "forecasts.info()"
   ]
  },
  {
   "cell_type": "code",
   "execution_count": 12,
   "metadata": {},
   "outputs": [],
   "source": [
    "to_transform = ['year', 'month', 'day', 'hour']\n",
    "\n",
    "for item in to_transform:\n",
    "    forecasts = forecasts.astype({item: 'int32'})\n"
   ]
  },
  {
   "cell_type": "code",
   "execution_count": 13,
   "metadata": {},
   "outputs": [
    {
     "data": {
      "text/plain": [
       "array([18, 12,  6,  0], dtype=int32)"
      ]
     },
     "execution_count": 13,
     "metadata": {},
     "output_type": "execute_result"
    }
   ],
   "source": [
    "forecasts.hour.unique()"
   ]
  },
  {
   "cell_type": "code",
   "execution_count": 14,
   "metadata": {},
   "outputs": [
    {
     "data": {
      "image/png": "[encoded data removed]",
      "text/plain": [
       "<Figure size 432x288 with 1 Axes>"
      ]
     },
     "metadata": {
      "needs_background": "light"
     },
     "output_type": "display_data"
    },
    {
     "data": {
      "image/png": "[encoded data removed]",
      "text/plain": [
       "<Figure size 432x288 with 1 Axes>"
      ]
     },
     "metadata": {
      "needs_background": "light"
     },
     "output_type": "display_data"
    },
    {
     "data": {
      "image/png": "[encoded data removed]",
      "text/plain": [
       "<Figure size 432x288 with 1 Axes>"
      ]
     },
     "metadata": {
      "needs_background": "light"
     },
     "output_type": "display_data"
    }
   ],
   "source": [
    "column_list = ['long', 'lat', 'forecast']\n",
    "for column in column_list:\n",
    "    plt.figure()\n",
    "    plt.title(column)\n",
    "    plt.hist(forecasts[column], bins=50)\n",
    "    plt.show()"
   ]
  },
  {
   "cell_type": "code",
   "execution_count": 15,
   "metadata": {},
   "outputs": [],
   "source": [
    "def kelvin_to_celsius(k):\n",
    "    return k - 273\n",
    "\n",
    "forecasts['forecast'] = forecasts['forecast'].apply(lambda x: kelvin_to_celsius(x))"
   ]
  },
  {
   "cell_type": "code",
   "execution_count": 16,
   "metadata": {},
   "outputs": [],
   "source": [
    "# forecasts.apply(lambda x: np.datetime64([x['year'], x['month']]), axis=1)"
   ]
  },
  {
   "cell_type": "code",
   "execution_count": null,
   "metadata": {},
   "outputs": [],
   "source": []
  },
  {
   "cell_type": "code",
   "execution_count": 17,
   "metadata": {},
   "outputs": [
    {
     "data": {
      "text/html": [
       "<div>\n",
       "<style scoped>\n",
       "    .dataframe tbody tr th:only-of-type {\n",
       "        vertical-align: middle;\n",
       "    }\n",
       "\n",
       "    .dataframe tbody tr th {\n",
       "        vertical-align: top;\n",
       "    }\n",
       "\n",
       "    .dataframe thead th {\n",
       "        text-align: right;\n",
       "    }\n",
       "</style>\n",
       "<table border=\"1\" class=\"dataframe\">\n",
       "  <thead>\n",
       "    <tr style=\"text-align: right;\">\n",
       "      <th></th>\n",
       "      <th>nearest_forecast_long</th>\n",
       "      <th>nearest_forecast_lat</th>\n",
       "      <th>long</th>\n",
       "      <th>station_id</th>\n",
       "      <th>lat</th>\n",
       "      <th>forecast</th>\n",
       "      <th>indexes</th>\n",
       "      <th>year</th>\n",
       "      <th>month</th>\n",
       "      <th>day</th>\n",
       "      <th>hour</th>\n",
       "    </tr>\n",
       "  </thead>\n",
       "  <tbody>\n",
       "    <tr>\n",
       "      <th>0</th>\n",
       "      <td>10.738135</td>\n",
       "      <td>59.946386</td>\n",
       "      <td>10.7200</td>\n",
       "      <td>SN18700</td>\n",
       "      <td>59.9423</td>\n",
       "      <td>-5.453003</td>\n",
       "      <td>[319 314]</td>\n",
       "      <td>2019</td>\n",
       "      <td>1</td>\n",
       "      <td>31</td>\n",
       "      <td>18</td>\n",
       "    </tr>\n",
       "    <tr>\n",
       "      <th>1</th>\n",
       "      <td>13.627744</td>\n",
       "      <td>66.909166</td>\n",
       "      <td>13.6460</td>\n",
       "      <td>SN80740</td>\n",
       "      <td>66.9035</td>\n",
       "      <td>-4.461792</td>\n",
       "      <td>[626 385]</td>\n",
       "      <td>2019</td>\n",
       "      <td>1</td>\n",
       "      <td>31</td>\n",
       "      <td>18</td>\n",
       "    </tr>\n",
       "    <tr>\n",
       "      <th>2</th>\n",
       "      <td>8.178909</td>\n",
       "      <td>62.253197</td>\n",
       "      <td>8.2000</td>\n",
       "      <td>SN61630</td>\n",
       "      <td>62.2583</td>\n",
       "      <td>-8.485229</td>\n",
       "      <td>[426 268]</td>\n",
       "      <td>2019</td>\n",
       "      <td>1</td>\n",
       "      <td>31</td>\n",
       "      <td>18</td>\n",
       "    </tr>\n",
       "    <tr>\n",
       "      <th>3</th>\n",
       "      <td>12.318575</td>\n",
       "      <td>64.690575</td>\n",
       "      <td>12.3295</td>\n",
       "      <td>SN78910</td>\n",
       "      <td>64.6933</td>\n",
       "      <td>-10.175659</td>\n",
       "      <td>[528 358]</td>\n",
       "      <td>2019</td>\n",
       "      <td>1</td>\n",
       "      <td>31</td>\n",
       "      <td>18</td>\n",
       "    </tr>\n",
       "    <tr>\n",
       "      <th>4</th>\n",
       "      <td>11.098430</td>\n",
       "      <td>61.420746</td>\n",
       "      <td>11.0803</td>\n",
       "      <td>SN8140</td>\n",
       "      <td>61.4255</td>\n",
       "      <td>-11.517456</td>\n",
       "      <td>[384 326]</td>\n",
       "      <td>2019</td>\n",
       "      <td>1</td>\n",
       "      <td>31</td>\n",
       "      <td>18</td>\n",
       "    </tr>\n",
       "  </tbody>\n",
       "</table>\n",
       "</div>"
      ],
      "text/plain": [
       "   nearest_forecast_long  nearest_forecast_lat     long station_id      lat  \\\n",
       "0              10.738135             59.946386  10.7200    SN18700  59.9423   \n",
       "1              13.627744             66.909166  13.6460    SN80740  66.9035   \n",
       "2               8.178909             62.253197   8.2000    SN61630  62.2583   \n",
       "3              12.318575             64.690575  12.3295    SN78910  64.6933   \n",
       "4              11.098430             61.420746  11.0803     SN8140  61.4255   \n",
       "\n",
       "    forecast    indexes  year  month  day  hour  \n",
       "0  -5.453003  [319 314]  2019      1   31    18  \n",
       "1  -4.461792  [626 385]  2019      1   31    18  \n",
       "2  -8.485229  [426 268]  2019      1   31    18  \n",
       "3 -10.175659  [528 358]  2019      1   31    18  \n",
       "4 -11.517456  [384 326]  2019      1   31    18  "
      ]
     },
     "execution_count": 17,
     "metadata": {},
     "output_type": "execute_result"
    }
   ],
   "source": [
    "forecasts.head()"
   ]
  },
  {
   "cell_type": "markdown",
   "metadata": {},
   "source": [
    "### Grid 1km"
   ]
  },
  {
   "cell_type": "code",
   "execution_count": 18,
   "metadata": {},
   "outputs": [],
   "source": [
    "gridpp_files = os.listdir('forecasts/1')\n",
    "\n",
    "gridpp_files = list(filter(is_csv, gridpp_files))\n",
    "\n",
    "gridpp_files.sort()\n",
    "\n",
    "gridpp = pd.DataFrame()\n",
    "\n",
    "for arquivo in gridpp_files:\n",
    "    df_aux = pd.read_csv(f'forecasts/1/{arquivo}')\n",
    "    gridpp = gridpp.append(df_aux)\n",
    "\n",
    "del df_aux"
   ]
  },
  {
   "cell_type": "code",
   "execution_count": 19,
   "metadata": {},
   "outputs": [
    {
     "data": {
      "text/html": [
       "<div>\n",
       "<style scoped>\n",
       "    .dataframe tbody tr th:only-of-type {\n",
       "        vertical-align: middle;\n",
       "    }\n",
       "\n",
       "    .dataframe tbody tr th {\n",
       "        vertical-align: top;\n",
       "    }\n",
       "\n",
       "    .dataframe thead th {\n",
       "        text-align: right;\n",
       "    }\n",
       "</style>\n",
       "<table border=\"1\" class=\"dataframe\">\n",
       "  <thead>\n",
       "    <tr style=\"text-align: right;\">\n",
       "      <th></th>\n",
       "      <th>long</th>\n",
       "      <th>lat</th>\n",
       "      <th>nearest_gridpp_long</th>\n",
       "      <th>forecast</th>\n",
       "      <th>station_id</th>\n",
       "      <th>nearest_gridpp_lat</th>\n",
       "      <th>indexes</th>\n",
       "      <th>year</th>\n",
       "      <th>month</th>\n",
       "      <th>day</th>\n",
       "      <th>hour</th>\n",
       "      <th>nearest_forecast_lat</th>\n",
       "      <th>nearest_forecast_long</th>\n",
       "    </tr>\n",
       "  </thead>\n",
       "  <tbody>\n",
       "    <tr>\n",
       "      <th>0</th>\n",
       "      <td>10.7200</td>\n",
       "      <td>59.9423</td>\n",
       "      <td>10.721601</td>\n",
       "      <td>268.350006</td>\n",
       "      <td>SN18700</td>\n",
       "      <td>59.941412</td>\n",
       "      <td>[772 659]</td>\n",
       "      <td>2019.0</td>\n",
       "      <td>1.0</td>\n",
       "      <td>31</td>\n",
       "      <td>18</td>\n",
       "      <td>NaN</td>\n",
       "      <td>NaN</td>\n",
       "    </tr>\n",
       "    <tr>\n",
       "      <th>1</th>\n",
       "      <td>13.6460</td>\n",
       "      <td>66.9035</td>\n",
       "      <td>13.640646</td>\n",
       "      <td>267.450012</td>\n",
       "      <td>SN80740</td>\n",
       "      <td>66.900377</td>\n",
       "      <td>[1539  838]</td>\n",
       "      <td>2019.0</td>\n",
       "      <td>1.0</td>\n",
       "      <td>31</td>\n",
       "      <td>18</td>\n",
       "      <td>NaN</td>\n",
       "      <td>NaN</td>\n",
       "    </tr>\n",
       "    <tr>\n",
       "      <th>2</th>\n",
       "      <td>8.2000</td>\n",
       "      <td>62.2583</td>\n",
       "      <td>8.198928</td>\n",
       "      <td>264.750000</td>\n",
       "      <td>SN61630</td>\n",
       "      <td>62.254266</td>\n",
       "      <td>[1040  546]</td>\n",
       "      <td>2019.0</td>\n",
       "      <td>1.0</td>\n",
       "      <td>31</td>\n",
       "      <td>18</td>\n",
       "      <td>NaN</td>\n",
       "      <td>NaN</td>\n",
       "    </tr>\n",
       "    <tr>\n",
       "      <th>3</th>\n",
       "      <td>12.3295</td>\n",
       "      <td>64.6933</td>\n",
       "      <td>12.319475</td>\n",
       "      <td>263.104156</td>\n",
       "      <td>SN78910</td>\n",
       "      <td>64.690668</td>\n",
       "      <td>[1295  770]</td>\n",
       "      <td>2019.0</td>\n",
       "      <td>1.0</td>\n",
       "      <td>31</td>\n",
       "      <td>18</td>\n",
       "      <td>NaN</td>\n",
       "      <td>NaN</td>\n",
       "    </tr>\n",
       "    <tr>\n",
       "      <th>4</th>\n",
       "      <td>11.0803</td>\n",
       "      <td>61.4255</td>\n",
       "      <td>11.079327</td>\n",
       "      <td>263.049988</td>\n",
       "      <td>SN8140</td>\n",
       "      <td>61.429274</td>\n",
       "      <td>[936 689]</td>\n",
       "      <td>2019.0</td>\n",
       "      <td>1.0</td>\n",
       "      <td>31</td>\n",
       "      <td>18</td>\n",
       "      <td>NaN</td>\n",
       "      <td>NaN</td>\n",
       "    </tr>\n",
       "  </tbody>\n",
       "</table>\n",
       "</div>"
      ],
      "text/plain": [
       "      long      lat  nearest_gridpp_long    forecast station_id  \\\n",
       "0  10.7200  59.9423            10.721601  268.350006    SN18700   \n",
       "1  13.6460  66.9035            13.640646  267.450012    SN80740   \n",
       "2   8.2000  62.2583             8.198928  264.750000    SN61630   \n",
       "3  12.3295  64.6933            12.319475  263.104156    SN78910   \n",
       "4  11.0803  61.4255            11.079327  263.049988     SN8140   \n",
       "\n",
       "   nearest_gridpp_lat      indexes    year  month  day  hour  \\\n",
       "0           59.941412    [772 659]  2019.0    1.0   31    18   \n",
       "1           66.900377  [1539  838]  2019.0    1.0   31    18   \n",
       "2           62.254266  [1040  546]  2019.0    1.0   31    18   \n",
       "3           64.690668  [1295  770]  2019.0    1.0   31    18   \n",
       "4           61.429274    [936 689]  2019.0    1.0   31    18   \n",
       "\n",
       "   nearest_forecast_lat  nearest_forecast_long  \n",
       "0                   NaN                    NaN  \n",
       "1                   NaN                    NaN  \n",
       "2                   NaN                    NaN  \n",
       "3                   NaN                    NaN  \n",
       "4                   NaN                    NaN  "
      ]
     },
     "execution_count": 19,
     "metadata": {},
     "output_type": "execute_result"
    }
   ],
   "source": [
    "gridpp.head()"
   ]
  },
  {
   "cell_type": "code",
   "execution_count": 20,
   "metadata": {},
   "outputs": [],
   "source": [
    "gridpp.drop(columns=['nearest_forecast_lat', 'nearest_forecast_long'], inplace=True)"
   ]
  },
  {
   "cell_type": "code",
   "execution_count": 21,
   "metadata": {},
   "outputs": [
    {
     "data": {
      "text/plain": [
       "2021.0    1075245\n",
       "2020.0    1071550\n",
       "2019.0    1045685\n",
       "Name: year, dtype: int64"
      ]
     },
     "execution_count": 21,
     "metadata": {},
     "output_type": "execute_result"
    }
   ],
   "source": [
    "gridpp.year.value_counts()"
   ]
  },
  {
   "cell_type": "code",
   "execution_count": 22,
   "metadata": {},
   "outputs": [
    {
     "name": "stdout",
     "output_type": "stream",
     "text": [
      "<class 'pandas.core.frame.DataFrame'>\n",
      "Int64Index: 3192480 entries, 0 to 147799\n",
      "Data columns (total 11 columns):\n",
      " #   Column               Dtype  \n",
      "---  ------               -----  \n",
      " 0   long                 float64\n",
      " 1   lat                  float64\n",
      " 2   nearest_gridpp_long  float64\n",
      " 3   forecast             float64\n",
      " 4   station_id           object \n",
      " 5   nearest_gridpp_lat   float64\n",
      " 6   indexes              object \n",
      " 7   year                 float64\n",
      " 8   month                float64\n",
      " 9   day                  int64  \n",
      " 10  hour                 int64  \n",
      "dtypes: float64(7), int64(2), object(2)\n",
      "memory usage: 292.3+ MB\n"
     ]
    }
   ],
   "source": [
    "gridpp.info()"
   ]
  },
  {
   "cell_type": "code",
   "execution_count": 23,
   "metadata": {},
   "outputs": [],
   "source": [
    "to_transform = ['year', 'month', 'day', 'hour']\n",
    "\n",
    "for item in to_transform:\n",
    "    gridpp = gridpp.astype({item: 'int32'})"
   ]
  },
  {
   "cell_type": "code",
   "execution_count": 24,
   "metadata": {},
   "outputs": [],
   "source": [
    "\n",
    "gridpp['forecast'] = gridpp['forecast'].apply(lambda x: kelvin_to_celsius(x))"
   ]
  },
  {
   "cell_type": "code",
   "execution_count": 25,
   "metadata": {},
   "outputs": [
    {
     "data": {
      "image/png": "[encoded data removed]",
      "text/plain": [
       "<Figure size 432x288 with 1 Axes>"
      ]
     },
     "metadata": {
      "needs_background": "light"
     },
     "output_type": "display_data"
    },
    {
     "data": {
      "image/png": "[encoded data removed]",
      "text/plain": [
       "<Figure size 432x288 with 1 Axes>"
      ]
     },
     "metadata": {
      "needs_background": "light"
     },
     "output_type": "display_data"
    },
    {
     "data": {
      "image/png": "[encoded data removed]",
      "text/plain": [
       "<Figure size 432x288 with 1 Axes>"
      ]
     },
     "metadata": {
      "needs_background": "light"
     },
     "output_type": "display_data"
    }
   ],
   "source": [
    "column_list = ['long', 'lat', 'forecast']\n",
    "for column in column_list:\n",
    "    plt.figure()\n",
    "    plt.title(column)\n",
    "    plt.hist(gridpp[column], bins=50)\n",
    "    plt.show()"
   ]
  },
  {
   "cell_type": "markdown",
   "metadata": {},
   "source": [
    "### Oberservations"
   ]
  },
  {
   "cell_type": "code",
   "execution_count": 26,
   "metadata": {},
   "outputs": [],
   "source": [
    "observation_files = os.listdir('observation')\n",
    "\n",
    "observation_files = list(filter(is_csv, observation_files))\n",
    "\n",
    "observation_files.sort()"
   ]
  },
  {
   "cell_type": "code",
   "execution_count": 27,
   "metadata": {},
   "outputs": [
    {
     "data": {
      "text/plain": [
       "['observation_2019.csv', 'observation_2020.csv', 'observation_2021.csv']"
      ]
     },
     "execution_count": 27,
     "metadata": {},
     "output_type": "execute_result"
    }
   ],
   "source": [
    "observation_files"
   ]
  },
  {
   "cell_type": "code",
   "execution_count": 28,
   "metadata": {},
   "outputs": [],
   "source": [
    "observations = read_all_files('observation', observation_files)"
   ]
  },
  {
   "cell_type": "code",
   "execution_count": 29,
   "metadata": {},
   "outputs": [
    {
     "data": {
      "text/html": [
       "<div>\n",
       "<style scoped>\n",
       "    .dataframe tbody tr th:only-of-type {\n",
       "        vertical-align: middle;\n",
       "    }\n",
       "\n",
       "    .dataframe tbody tr th {\n",
       "        vertical-align: top;\n",
       "    }\n",
       "\n",
       "    .dataframe thead th {\n",
       "        text-align: right;\n",
       "    }\n",
       "</style>\n",
       "<table border=\"1\" class=\"dataframe\">\n",
       "  <thead>\n",
       "    <tr style=\"text-align: right;\">\n",
       "      <th></th>\n",
       "      <th>sourceId</th>\n",
       "      <th>referenceTime</th>\n",
       "      <th>observations</th>\n",
       "    </tr>\n",
       "  </thead>\n",
       "  <tbody>\n",
       "    <tr>\n",
       "      <th>0</th>\n",
       "      <td>SN18700:0</td>\n",
       "      <td>2019-01-01T00:00:00.000Z</td>\n",
       "      <td>[{'value': 2}]</td>\n",
       "    </tr>\n",
       "    <tr>\n",
       "      <th>1</th>\n",
       "      <td>SN18700:0</td>\n",
       "      <td>2019-01-01T01:00:00.000Z</td>\n",
       "      <td>[{'value': 4.9}]</td>\n",
       "    </tr>\n",
       "    <tr>\n",
       "      <th>2</th>\n",
       "      <td>SN18700:0</td>\n",
       "      <td>2019-01-01T02:00:00.000Z</td>\n",
       "      <td>[{'value': 3.1}]</td>\n",
       "    </tr>\n",
       "    <tr>\n",
       "      <th>3</th>\n",
       "      <td>SN18700:0</td>\n",
       "      <td>2019-01-01T03:00:00.000Z</td>\n",
       "      <td>[{'value': 3.8}]</td>\n",
       "    </tr>\n",
       "    <tr>\n",
       "      <th>4</th>\n",
       "      <td>SN18700:0</td>\n",
       "      <td>2019-01-01T04:00:00.000Z</td>\n",
       "      <td>[{'value': 3.1}]</td>\n",
       "    </tr>\n",
       "  </tbody>\n",
       "</table>\n",
       "</div>"
      ],
      "text/plain": [
       "    sourceId             referenceTime      observations\n",
       "0  SN18700:0  2019-01-01T00:00:00.000Z    [{'value': 2}]\n",
       "1  SN18700:0  2019-01-01T01:00:00.000Z  [{'value': 4.9}]\n",
       "2  SN18700:0  2019-01-01T02:00:00.000Z  [{'value': 3.1}]\n",
       "3  SN18700:0  2019-01-01T03:00:00.000Z  [{'value': 3.8}]\n",
       "4  SN18700:0  2019-01-01T04:00:00.000Z  [{'value': 3.1}]"
      ]
     },
     "execution_count": 29,
     "metadata": {},
     "output_type": "execute_result"
    }
   ],
   "source": [
    "observations.reset_index(drop=True, inplace=True)\n",
    "observations.head()"
   ]
  },
  {
   "cell_type": "code",
   "execution_count": 30,
   "metadata": {},
   "outputs": [
    {
     "data": {
      "text/plain": [
       "\"[{'value': 2}]\""
      ]
     },
     "execution_count": 30,
     "metadata": {},
     "output_type": "execute_result"
    }
   ],
   "source": [
    "observations.observations[0]"
   ]
  },
  {
   "cell_type": "code",
   "execution_count": 31,
   "metadata": {},
   "outputs": [],
   "source": [
    "observations['observations'] = observations['observations'].apply(lambda x: x.split(':'))"
   ]
  },
  {
   "cell_type": "code",
   "execution_count": 32,
   "metadata": {},
   "outputs": [],
   "source": [
    "re_to_extract_numbers = r'\\-*\\d+\\.*\\d*'"
   ]
  },
  {
   "cell_type": "code",
   "execution_count": 34,
   "metadata": {},
   "outputs": [
    {
     "data": {
      "text/html": [
       "<div>\n",
       "<style scoped>\n",
       "    .dataframe tbody tr th:only-of-type {\n",
       "        vertical-align: middle;\n",
       "    }\n",
       "\n",
       "    .dataframe tbody tr th {\n",
       "        vertical-align: top;\n",
       "    }\n",
       "\n",
       "    .dataframe thead th {\n",
       "        text-align: right;\n",
       "    }\n",
       "</style>\n",
       "<table border=\"1\" class=\"dataframe\">\n",
       "  <thead>\n",
       "    <tr style=\"text-align: right;\">\n",
       "      <th></th>\n",
       "      <th>sourceId</th>\n",
       "      <th>referenceTime</th>\n",
       "      <th>observations</th>\n",
       "    </tr>\n",
       "  </thead>\n",
       "  <tbody>\n",
       "    <tr>\n",
       "      <th>0</th>\n",
       "      <td>SN18700:0</td>\n",
       "      <td>2019-01-01T00:00:00.000Z</td>\n",
       "      <td>[[{'value',  2}]]</td>\n",
       "    </tr>\n",
       "    <tr>\n",
       "      <th>1</th>\n",
       "      <td>SN18700:0</td>\n",
       "      <td>2019-01-01T01:00:00.000Z</td>\n",
       "      <td>[[{'value',  4.9}]]</td>\n",
       "    </tr>\n",
       "    <tr>\n",
       "      <th>2</th>\n",
       "      <td>SN18700:0</td>\n",
       "      <td>2019-01-01T02:00:00.000Z</td>\n",
       "      <td>[[{'value',  3.1}]]</td>\n",
       "    </tr>\n",
       "    <tr>\n",
       "      <th>3</th>\n",
       "      <td>SN18700:0</td>\n",
       "      <td>2019-01-01T03:00:00.000Z</td>\n",
       "      <td>[[{'value',  3.8}]]</td>\n",
       "    </tr>\n",
       "    <tr>\n",
       "      <th>4</th>\n",
       "      <td>SN18700:0</td>\n",
       "      <td>2019-01-01T04:00:00.000Z</td>\n",
       "      <td>[[{'value',  3.1}]]</td>\n",
       "    </tr>\n",
       "    <tr>\n",
       "      <th>...</th>\n",
       "      <td>...</td>\n",
       "      <td>...</td>\n",
       "      <td>...</td>\n",
       "    </tr>\n",
       "    <tr>\n",
       "      <th>19078870</th>\n",
       "      <td>SN10380:0</td>\n",
       "      <td>2021-12-31T19:00:00.000Z</td>\n",
       "      <td>[[{'value',  -6.4}]]</td>\n",
       "    </tr>\n",
       "    <tr>\n",
       "      <th>19078871</th>\n",
       "      <td>SN10380:0</td>\n",
       "      <td>2021-12-31T20:00:00.000Z</td>\n",
       "      <td>[[{'value',  -6.8}]]</td>\n",
       "    </tr>\n",
       "    <tr>\n",
       "      <th>19078872</th>\n",
       "      <td>SN10380:0</td>\n",
       "      <td>2021-12-31T21:00:00.000Z</td>\n",
       "      <td>[[{'value',  -6.6}]]</td>\n",
       "    </tr>\n",
       "    <tr>\n",
       "      <th>19078873</th>\n",
       "      <td>SN10380:0</td>\n",
       "      <td>2021-12-31T22:00:00.000Z</td>\n",
       "      <td>[[{'value',  -2.1}]]</td>\n",
       "    </tr>\n",
       "    <tr>\n",
       "      <th>19078874</th>\n",
       "      <td>SN10380:0</td>\n",
       "      <td>2021-12-31T23:00:00.000Z</td>\n",
       "      <td>[[{'value',  -4.5}]]</td>\n",
       "    </tr>\n",
       "  </tbody>\n",
       "</table>\n",
       "<p>19078875 rows × 3 columns</p>\n",
       "</div>"
      ],
      "text/plain": [
       "           sourceId             referenceTime          observations\n",
       "0         SN18700:0  2019-01-01T00:00:00.000Z     [[{'value',  2}]]\n",
       "1         SN18700:0  2019-01-01T01:00:00.000Z   [[{'value',  4.9}]]\n",
       "2         SN18700:0  2019-01-01T02:00:00.000Z   [[{'value',  3.1}]]\n",
       "3         SN18700:0  2019-01-01T03:00:00.000Z   [[{'value',  3.8}]]\n",
       "4         SN18700:0  2019-01-01T04:00:00.000Z   [[{'value',  3.1}]]\n",
       "...             ...                       ...                   ...\n",
       "19078870  SN10380:0  2021-12-31T19:00:00.000Z  [[{'value',  -6.4}]]\n",
       "19078871  SN10380:0  2021-12-31T20:00:00.000Z  [[{'value',  -6.8}]]\n",
       "19078872  SN10380:0  2021-12-31T21:00:00.000Z  [[{'value',  -6.6}]]\n",
       "19078873  SN10380:0  2021-12-31T22:00:00.000Z  [[{'value',  -2.1}]]\n",
       "19078874  SN10380:0  2021-12-31T23:00:00.000Z  [[{'value',  -4.5}]]\n",
       "\n",
       "[19078875 rows x 3 columns]"
      ]
     },
     "execution_count": 34,
     "metadata": {},
     "output_type": "execute_result"
    }
   ],
   "source": [
    "observations"
   ]
  },
  {
   "cell_type": "code",
   "execution_count": 35,
   "metadata": {},
   "outputs": [],
   "source": [
    "observations['observations'] = observations['observations'].apply(lambda x: float(re.findall(re_to_extract_numbers, x[-1])[0]))"
   ]
  },
  {
   "cell_type": "code",
   "execution_count": 39,
   "metadata": {},
   "outputs": [
    {
     "data": {
      "text/html": [
       "<div>\n",
       "<style scoped>\n",
       "    .dataframe tbody tr th:only-of-type {\n",
       "        vertical-align: middle;\n",
       "    }\n",
       "\n",
       "    .dataframe tbody tr th {\n",
       "        vertical-align: top;\n",
       "    }\n",
       "\n",
       "    .dataframe thead th {\n",
       "        text-align: right;\n",
       "    }\n",
       "</style>\n",
       "<table border=\"1\" class=\"dataframe\">\n",
       "  <thead>\n",
       "    <tr style=\"text-align: right;\">\n",
       "      <th></th>\n",
       "      <th>sourceId</th>\n",
       "      <th>referenceTime</th>\n",
       "      <th>observations</th>\n",
       "    </tr>\n",
       "  </thead>\n",
       "  <tbody>\n",
       "    <tr>\n",
       "      <th>0</th>\n",
       "      <td>SN18700:0</td>\n",
       "      <td>2019-01-01T00:00:00.000Z</td>\n",
       "      <td>2.0</td>\n",
       "    </tr>\n",
       "    <tr>\n",
       "      <th>1</th>\n",
       "      <td>SN18700:0</td>\n",
       "      <td>2019-01-01T01:00:00.000Z</td>\n",
       "      <td>4.9</td>\n",
       "    </tr>\n",
       "    <tr>\n",
       "      <th>2</th>\n",
       "      <td>SN18700:0</td>\n",
       "      <td>2019-01-01T02:00:00.000Z</td>\n",
       "      <td>3.1</td>\n",
       "    </tr>\n",
       "    <tr>\n",
       "      <th>3</th>\n",
       "      <td>SN18700:0</td>\n",
       "      <td>2019-01-01T03:00:00.000Z</td>\n",
       "      <td>3.8</td>\n",
       "    </tr>\n",
       "    <tr>\n",
       "      <th>4</th>\n",
       "      <td>SN18700:0</td>\n",
       "      <td>2019-01-01T04:00:00.000Z</td>\n",
       "      <td>3.1</td>\n",
       "    </tr>\n",
       "  </tbody>\n",
       "</table>\n",
       "</div>"
      ],
      "text/plain": [
       "    sourceId             referenceTime  observations\n",
       "0  SN18700:0  2019-01-01T00:00:00.000Z           2.0\n",
       "1  SN18700:0  2019-01-01T01:00:00.000Z           4.9\n",
       "2  SN18700:0  2019-01-01T02:00:00.000Z           3.1\n",
       "3  SN18700:0  2019-01-01T03:00:00.000Z           3.8\n",
       "4  SN18700:0  2019-01-01T04:00:00.000Z           3.1"
      ]
     },
     "execution_count": 39,
     "metadata": {},
     "output_type": "execute_result"
    }
   ],
   "source": [
    "observations.head()"
   ]
  },
  {
   "cell_type": "code",
   "execution_count": 40,
   "metadata": {},
   "outputs": [],
   "source": [
    "observations.to_csv('for_precaution.csv', index=False)"
   ]
  },
  {
   "cell_type": "code",
   "execution_count": null,
   "metadata": {},
   "outputs": [],
   "source": []
  }
 ],
 "metadata": {
  "interpreter": {
   "hash": "91f804f040e89d5385e49090c8786c8e3b01b19f0759d949477a07200053a66b"
  },
  "kernelspec": {
   "display_name": "Python 3.9.7 ('venv': venv)",
   "language": "python",
   "name": "python3"
  },
  "language_info": {
   "codemirror_mode": {
    "name": "ipython",
    "version": 3
   },
   "file_extension": ".py",
   "mimetype": "text/x-python",
   "name": "python",
   "nbconvert_exporter": "python",
   "pygments_lexer": "ipython3",
   "version": "3.9.7"
  },
  "orig_nbformat": 4
 },
 "nbformat": 4,
 "nbformat_minor": 2
}
