{
 "cells": [
  {
   "cell_type": "markdown",
   "metadata": {},
   "source": [
    "# ETL\n",
    "\n",
    "Será feito por ano, gerando cada ano como um arquivo separado pra memória poder aguentar"
   ]
  },
  {
   "cell_type": "code",
   "execution_count": 1,
   "metadata": {},
   "outputs": [],
   "source": [
    "import numpy as np\n",
    "import pandas as pd\n",
    "import json\n",
    "import os\n",
    "import matplotlib.pyplot as plt\n",
    "import seaborn as sns\n",
    "import re\n",
    "from datetime import datetime\n",
    "from tqdm.notebook import tqdm"
   ]
  },
  {
   "cell_type": "code",
   "execution_count": 2,
   "metadata": {},
   "outputs": [],
   "source": [
    "forecast_path = 'forecasts/2.5'\n",
    "gridpp_path = 'forecasts/1'\n",
    "observation_path = 'observation'"
   ]
  },
  {
   "cell_type": "code",
   "execution_count": 3,
   "metadata": {},
   "outputs": [],
   "source": [
    "def is_csv(x):\n",
    "    if x[-4:] == '.csv':\n",
    "        return True\n",
    "    return False\n",
    "\n",
    "def read_all_files(path, files):\n",
    "    df = pd.DataFrame()\n",
    "    for arquivo in tqdm(files):\n",
    "        df_aux = pd.read_csv(f'{path}/{arquivo}')\n",
    "        df = df.append(df_aux)\n",
    "\n",
    "    return df\n",
    "\n",
    "def filter_observation_list_by_year(year):\n",
    "    observation_list = os.listdir(observation_path)\n",
    "    return list(filter(lambda x: re.findall(f'\\_{year}\\_', x), observation_list))\n",
    "\n",
    "def kelvin_to_celsius(k):\n",
    "    return k - 273\n",
    "\n",
    "def print_status(df):\n",
    "    print(df.shape)\n",
    "    print('='*10)\n",
    "    print(df.info())\n",
    "\n",
    "def str_to_datime(x):\n",
    "    return datetime.strptime(x[:-5].replace('T', ' '), '%Y-%m-%d %H:%M:%S')"
   ]
  },
  {
   "cell_type": "code",
   "execution_count": 4,
   "metadata": {},
   "outputs": [],
   "source": [
    "desired_columns = ['station_id', 'lat', 'long', 'forecast', 'gridpp', 'observations', 'year', 'month', 'day', 'hour']"
   ]
  },
  {
   "cell_type": "code",
   "execution_count": 5,
   "metadata": {},
   "outputs": [
    {
     "data": {
      "text/plain": [
       "['observation_2021_1.csv',\n",
       " 'observation_2021_0.csv',\n",
       " 'observation_2021_2.csv',\n",
       " 'observation_2021_3.csv']"
      ]
     },
     "execution_count": 5,
     "metadata": {},
     "output_type": "execute_result"
    }
   ],
   "source": [
    "filter_observation_list_by_year(2021)"
   ]
  },
  {
   "cell_type": "markdown",
   "metadata": {},
   "source": [
    "## 2019"
   ]
  },
  {
   "cell_type": "code",
   "execution_count": 6,
   "metadata": {},
   "outputs": [],
   "source": [
    "year = 2021"
   ]
  },
  {
   "cell_type": "code",
   "execution_count": 7,
   "metadata": {},
   "outputs": [],
   "source": [
    "to_transform = ['year', 'month', 'day', 'hour'] # to int"
   ]
  },
  {
   "cell_type": "code",
   "execution_count": 8,
   "metadata": {},
   "outputs": [
    {
     "data": {
      "application/vnd.jupyter.widget-view+json": {
       "model_id": "9db4aa56c6084d3c863f2f67a2f9655d",
       "version_major": 2,
       "version_minor": 0
      },
      "text/plain": [
       "  0%|          | 0/22 [00:00<?, ?it/s]"
      ]
     },
     "metadata": {},
     "output_type": "display_data"
    },
    {
     "name": "stdout",
     "output_type": "stream",
     "text": [
      "transforming datetime\n",
      "Done!\n",
      "(1077462, 12)\n",
      "==========\n",
      "<class 'pandas.core.frame.DataFrame'>\n",
      "RangeIndex: 1077462 entries, 0 to 1077461\n",
      "Data columns (total 12 columns):\n",
      " #   Column                 Non-Null Count    Dtype         \n",
      "---  ------                 --------------    -----         \n",
      " 0   nearest_forecast_long  1077462 non-null  float64       \n",
      " 1   nearest_forecast_lat   1077462 non-null  float64       \n",
      " 2   long                   1077462 non-null  float64       \n",
      " 3   station_id             1077462 non-null  object        \n",
      " 4   lat                    1077462 non-null  float64       \n",
      " 5   forecast               1077462 non-null  float64       \n",
      " 6   indexes                1077462 non-null  object        \n",
      " 7   year                   1077462 non-null  int32         \n",
      " 8   month                  1077462 non-null  int32         \n",
      " 9   day                    1077462 non-null  int32         \n",
      " 10  hour                   1077462 non-null  int32         \n",
      " 11  datetime               1077462 non-null  datetime64[ns]\n",
      "dtypes: datetime64[ns](1), float64(5), int32(4), object(2)\n",
      "memory usage: 82.2+ MB\n",
      "None\n"
     ]
    }
   ],
   "source": [
    "forecast_files = os.listdir(forecast_path)\n",
    "forecast_files = list(filter(is_csv, forecast_files))\n",
    "\n",
    "forecasts = read_all_files(forecast_path, forecast_files)\n",
    "forecasts = forecasts[forecasts.year == year]\n",
    "\n",
    "forecasts.reset_index(drop=True, inplace=True)\n",
    "forecasts['forecast'] = forecasts['forecast'].apply(lambda x: kelvin_to_celsius(x))\n",
    "\n",
    "for item in to_transform:\n",
    "    forecasts = forecasts.astype({item: 'int32'})\n",
    "\n",
    "print('transforming datetime')\n",
    "forecasts['datetime'] = forecasts.apply(lambda x: datetime(x['year'], x['month'], x['day'], x['hour']), axis=1)\n",
    "print('Done!')\n",
    "print_status(forecasts)"
   ]
  },
  {
   "cell_type": "code",
   "execution_count": 9,
   "metadata": {},
   "outputs": [
    {
     "data": {
      "application/vnd.jupyter.widget-view+json": {
       "model_id": "af76bf954658487b879e4068fc9f1aab",
       "version_major": 2,
       "version_minor": 0
      },
      "text/plain": [
       "  0%|          | 0/22 [00:00<?, ?it/s]"
      ]
     },
     "metadata": {},
     "output_type": "display_data"
    },
    {
     "name": "stdout",
     "output_type": "stream",
     "text": [
      "transforming datetime\n",
      "Done!\n",
      "(1075245, 14)\n",
      "==========\n",
      "<class 'pandas.core.frame.DataFrame'>\n",
      "RangeIndex: 1075245 entries, 0 to 1075244\n",
      "Data columns (total 14 columns):\n",
      " #   Column                 Non-Null Count    Dtype         \n",
      "---  ------                 --------------    -----         \n",
      " 0   long                   1075245 non-null  float64       \n",
      " 1   lat                    1075245 non-null  float64       \n",
      " 2   gridpp                 1075245 non-null  float64       \n",
      " 3   station_id             1075245 non-null  object        \n",
      " 4   nearest_forecast_lat   0 non-null        float64       \n",
      " 5   indexes                1075245 non-null  object        \n",
      " 6   nearest_forecast_long  0 non-null        float64       \n",
      " 7   nearest_gridpp_lat     1075245 non-null  float64       \n",
      " 8   nearest_gridpp_long    1075245 non-null  float64       \n",
      " 9   year                   1075245 non-null  int32         \n",
      " 10  month                  1075245 non-null  int32         \n",
      " 11  day                    1075245 non-null  int32         \n",
      " 12  hour                   1075245 non-null  int32         \n",
      " 13  datetime               1075245 non-null  datetime64[ns]\n",
      "dtypes: datetime64[ns](1), float64(7), int32(4), object(2)\n",
      "memory usage: 98.4+ MB\n",
      "None\n"
     ]
    }
   ],
   "source": [
    "gridpp_files = os.listdir(gridpp_path)\n",
    "gridpp_files = list(filter(is_csv, gridpp_files))\n",
    "\n",
    "gridpp = read_all_files(gridpp_path, gridpp_files)\n",
    "gridpp = gridpp[gridpp.year == year]\n",
    "\n",
    "gridpp.reset_index(drop=True, inplace=True)\n",
    "gridpp['forecast'] = gridpp['forecast'].apply(lambda x: kelvin_to_celsius(x))\n",
    "\n",
    "for item in to_transform:\n",
    "    gridpp = gridpp.astype({item: 'int32'})\n",
    "print('transforming datetime')\n",
    "gridpp['datetime'] = gridpp.apply(lambda x: datetime(x['year'], x['month'], x['day'], x['hour']), axis=1)\n",
    "print('Done!')\n",
    "# Only for gridpp\n",
    "gridpp.rename(columns={'forecast': 'gridpp'}, inplace=True)\n",
    "\n",
    "print_status(gridpp)"
   ]
  },
  {
   "cell_type": "code",
   "execution_count": 10,
   "metadata": {},
   "outputs": [
    {
     "data": {
      "application/vnd.jupyter.widget-view+json": {
       "model_id": "d45a0e5fb84b429fb5991ed930bfa61c",
       "version_major": 2,
       "version_minor": 0
      },
      "text/plain": [
       "  0%|          | 0/4 [00:00<?, ?it/s]"
      ]
     },
     "metadata": {},
     "output_type": "display_data"
    },
    {
     "name": "stdout",
     "output_type": "stream",
     "text": [
      "transforming datetime\n",
      "Done!\n",
      "transforming Station Id\n",
      "Done!\n",
      "(19937735, 4)\n",
      "==========\n",
      "<class 'pandas.core.frame.DataFrame'>\n",
      "Int64Index: 19937735 entries, 0 to 3219402\n",
      "Data columns (total 4 columns):\n",
      " #   Column         Dtype         \n",
      "---  ------         -----         \n",
      " 0   sourceId       object        \n",
      " 1   referenceTime  object        \n",
      " 2   observations   float64       \n",
      " 3   datetime       datetime64[ns]\n",
      "dtypes: datetime64[ns](1), float64(1), object(2)\n",
      "memory usage: 760.6+ MB\n",
      "None\n"
     ]
    }
   ],
   "source": [
    "observation_files = filter_observation_list_by_year(year)\n",
    "observation = read_all_files(observation_path, observation_files)\n",
    "\n",
    "observation['observations'] = observation['observations'].apply(lambda x: x.split(':'))\n",
    "re_to_extract_numbers = r'\\-*\\d+\\.*\\d*'\n",
    "observation['observations'] = observation['observations'].apply(lambda x: float(re.findall(re_to_extract_numbers, x[-1])[0]))\n",
    "\n",
    "print('transforming datetime')\n",
    "observation['datetime'] = observation.referenceTime.apply(lambda x: str_to_datime(x))\n",
    "print('Done!')\n",
    "print('transforming Station Id')\n",
    "observation['sourceId'] = observation['sourceId'].apply(lambda x: x.split(':')[0])\n",
    "print('Done!')\n",
    "\n",
    "print_status(observation)\n"
   ]
  },
  {
   "cell_type": "markdown",
   "metadata": {},
   "source": [
    "### Merge"
   ]
  },
  {
   "cell_type": "code",
   "execution_count": 11,
   "metadata": {},
   "outputs": [
    {
     "data": {
      "text/plain": [
       "(1073767, 13)"
      ]
     },
     "execution_count": 11,
     "metadata": {},
     "output_type": "execute_result"
    }
   ],
   "source": [
    "final_data = forecasts.merge(gridpp[['station_id', 'datetime', 'gridpp']], how='inner', on=['station_id', 'datetime'])\n",
    "final_data.shape"
   ]
  },
  {
   "cell_type": "code",
   "execution_count": 12,
   "metadata": {},
   "outputs": [
    {
     "data": {
      "text/plain": [
       "(923376, 16)"
      ]
     },
     "execution_count": 12,
     "metadata": {},
     "output_type": "execute_result"
    }
   ],
   "source": [
    "final_data = final_data.merge(observation, how='inner', left_on=['station_id', 'datetime'], right_on=['sourceId', 'datetime'])\n",
    "final_data.shape"
   ]
  },
  {
   "cell_type": "code",
   "execution_count": 13,
   "metadata": {},
   "outputs": [
    {
     "data": {
      "text/html": [
       "<div>\n",
       "<style scoped>\n",
       "    .dataframe tbody tr th:only-of-type {\n",
       "        vertical-align: middle;\n",
       "    }\n",
       "\n",
       "    .dataframe tbody tr th {\n",
       "        vertical-align: top;\n",
       "    }\n",
       "\n",
       "    .dataframe thead th {\n",
       "        text-align: right;\n",
       "    }\n",
       "</style>\n",
       "<table border=\"1\" class=\"dataframe\">\n",
       "  <thead>\n",
       "    <tr style=\"text-align: right;\">\n",
       "      <th></th>\n",
       "      <th>station_id</th>\n",
       "      <th>lat</th>\n",
       "      <th>long</th>\n",
       "      <th>forecast</th>\n",
       "      <th>gridpp</th>\n",
       "      <th>observations</th>\n",
       "      <th>year</th>\n",
       "      <th>month</th>\n",
       "      <th>day</th>\n",
       "      <th>hour</th>\n",
       "    </tr>\n",
       "  </thead>\n",
       "  <tbody>\n",
       "    <tr>\n",
       "      <th>0</th>\n",
       "      <td>SN18700</td>\n",
       "      <td>59.9423</td>\n",
       "      <td>10.7200</td>\n",
       "      <td>0.496643</td>\n",
       "      <td>-4.427063</td>\n",
       "      <td>-4.7</td>\n",
       "      <td>2021</td>\n",
       "      <td>1</td>\n",
       "      <td>8</td>\n",
       "      <td>0</td>\n",
       "    </tr>\n",
       "    <tr>\n",
       "      <th>1</th>\n",
       "      <td>SN80740</td>\n",
       "      <td>66.9035</td>\n",
       "      <td>13.6460</td>\n",
       "      <td>-12.165466</td>\n",
       "      <td>-4.732391</td>\n",
       "      <td>-7.5</td>\n",
       "      <td>2021</td>\n",
       "      <td>1</td>\n",
       "      <td>8</td>\n",
       "      <td>0</td>\n",
       "    </tr>\n",
       "    <tr>\n",
       "      <th>2</th>\n",
       "      <td>SN61630</td>\n",
       "      <td>62.2583</td>\n",
       "      <td>8.2000</td>\n",
       "      <td>-19.095139</td>\n",
       "      <td>-21.671463</td>\n",
       "      <td>-20.4</td>\n",
       "      <td>2021</td>\n",
       "      <td>1</td>\n",
       "      <td>8</td>\n",
       "      <td>0</td>\n",
       "    </tr>\n",
       "    <tr>\n",
       "      <th>3</th>\n",
       "      <td>SN78910</td>\n",
       "      <td>64.6933</td>\n",
       "      <td>12.3295</td>\n",
       "      <td>-15.207458</td>\n",
       "      <td>-12.741394</td>\n",
       "      <td>-12.4</td>\n",
       "      <td>2021</td>\n",
       "      <td>1</td>\n",
       "      <td>8</td>\n",
       "      <td>0</td>\n",
       "    </tr>\n",
       "    <tr>\n",
       "      <th>4</th>\n",
       "      <td>SN8140</td>\n",
       "      <td>61.4255</td>\n",
       "      <td>11.0803</td>\n",
       "      <td>-4.668396</td>\n",
       "      <td>-13.406799</td>\n",
       "      <td>-14.7</td>\n",
       "      <td>2021</td>\n",
       "      <td>1</td>\n",
       "      <td>8</td>\n",
       "      <td>0</td>\n",
       "    </tr>\n",
       "    <tr>\n",
       "      <th>...</th>\n",
       "      <td>...</td>\n",
       "      <td>...</td>\n",
       "      <td>...</td>\n",
       "      <td>...</td>\n",
       "      <td>...</td>\n",
       "      <td>...</td>\n",
       "      <td>...</td>\n",
       "      <td>...</td>\n",
       "      <td>...</td>\n",
       "      <td>...</td>\n",
       "    </tr>\n",
       "    <tr>\n",
       "      <th>923371</th>\n",
       "      <td>SN58900</td>\n",
       "      <td>61.9157</td>\n",
       "      <td>6.5585</td>\n",
       "      <td>13.668213</td>\n",
       "      <td>14.045288</td>\n",
       "      <td>12.6</td>\n",
       "      <td>2021</td>\n",
       "      <td>6</td>\n",
       "      <td>8</td>\n",
       "      <td>6</td>\n",
       "    </tr>\n",
       "    <tr>\n",
       "      <th>923372</th>\n",
       "      <td>SN84380</td>\n",
       "      <td>68.3710</td>\n",
       "      <td>17.2438</td>\n",
       "      <td>4.283936</td>\n",
       "      <td>13.258179</td>\n",
       "      <td>12.7</td>\n",
       "      <td>2021</td>\n",
       "      <td>6</td>\n",
       "      <td>8</td>\n",
       "      <td>6</td>\n",
       "    </tr>\n",
       "    <tr>\n",
       "      <th>923373</th>\n",
       "      <td>SN10380</td>\n",
       "      <td>62.5773</td>\n",
       "      <td>11.3518</td>\n",
       "      <td>15.978271</td>\n",
       "      <td>11.468811</td>\n",
       "      <td>9.7</td>\n",
       "      <td>2021</td>\n",
       "      <td>6</td>\n",
       "      <td>8</td>\n",
       "      <td>6</td>\n",
       "    </tr>\n",
       "    <tr>\n",
       "      <th>923374</th>\n",
       "      <td>SN97120</td>\n",
       "      <td>69.7563</td>\n",
       "      <td>26.1457</td>\n",
       "      <td>12.851807</td>\n",
       "      <td>10.440582</td>\n",
       "      <td>13.5</td>\n",
       "      <td>2021</td>\n",
       "      <td>6</td>\n",
       "      <td>8</td>\n",
       "      <td>6</td>\n",
       "    </tr>\n",
       "    <tr>\n",
       "      <th>923375</th>\n",
       "      <td>SN15270</td>\n",
       "      <td>61.6775</td>\n",
       "      <td>8.3690</td>\n",
       "      <td>5.592529</td>\n",
       "      <td>2.113739</td>\n",
       "      <td>5.9</td>\n",
       "      <td>2021</td>\n",
       "      <td>6</td>\n",
       "      <td>8</td>\n",
       "      <td>6</td>\n",
       "    </tr>\n",
       "  </tbody>\n",
       "</table>\n",
       "<p>923376 rows × 10 columns</p>\n",
       "</div>"
      ],
      "text/plain": [
       "       station_id      lat     long   forecast     gridpp  observations  year  \\\n",
       "0         SN18700  59.9423  10.7200   0.496643  -4.427063          -4.7  2021   \n",
       "1         SN80740  66.9035  13.6460 -12.165466  -4.732391          -7.5  2021   \n",
       "2         SN61630  62.2583   8.2000 -19.095139 -21.671463         -20.4  2021   \n",
       "3         SN78910  64.6933  12.3295 -15.207458 -12.741394         -12.4  2021   \n",
       "4          SN8140  61.4255  11.0803  -4.668396 -13.406799         -14.7  2021   \n",
       "...           ...      ...      ...        ...        ...           ...   ...   \n",
       "923371    SN58900  61.9157   6.5585  13.668213  14.045288          12.6  2021   \n",
       "923372    SN84380  68.3710  17.2438   4.283936  13.258179          12.7  2021   \n",
       "923373    SN10380  62.5773  11.3518  15.978271  11.468811           9.7  2021   \n",
       "923374    SN97120  69.7563  26.1457  12.851807  10.440582          13.5  2021   \n",
       "923375    SN15270  61.6775   8.3690   5.592529   2.113739           5.9  2021   \n",
       "\n",
       "        month  day  hour  \n",
       "0           1    8     0  \n",
       "1           1    8     0  \n",
       "2           1    8     0  \n",
       "3           1    8     0  \n",
       "4           1    8     0  \n",
       "...       ...  ...   ...  \n",
       "923371      6    8     6  \n",
       "923372      6    8     6  \n",
       "923373      6    8     6  \n",
       "923374      6    8     6  \n",
       "923375      6    8     6  \n",
       "\n",
       "[923376 rows x 10 columns]"
      ]
     },
     "execution_count": 13,
     "metadata": {},
     "output_type": "execute_result"
    }
   ],
   "source": [
    "final_data = final_data[desired_columns]\n",
    "final_data"
   ]
  },
  {
   "cell_type": "code",
   "execution_count": 14,
   "metadata": {},
   "outputs": [],
   "source": [
    "final_data.to_csv(f'../data/final_data_{year}.csv', index=False)"
   ]
  },
  {
   "cell_type": "code",
   "execution_count": 15,
   "metadata": {},
   "outputs": [
    {
     "data": {
      "text/html": [
       "<div>\n",
       "<style scoped>\n",
       "    .dataframe tbody tr th:only-of-type {\n",
       "        vertical-align: middle;\n",
       "    }\n",
       "\n",
       "    .dataframe tbody tr th {\n",
       "        vertical-align: top;\n",
       "    }\n",
       "\n",
       "    .dataframe thead th {\n",
       "        text-align: right;\n",
       "    }\n",
       "</style>\n",
       "<table border=\"1\" class=\"dataframe\">\n",
       "  <thead>\n",
       "    <tr style=\"text-align: right;\">\n",
       "      <th></th>\n",
       "      <th>sourceId</th>\n",
       "      <th>referenceTime</th>\n",
       "      <th>observations</th>\n",
       "      <th>datetime</th>\n",
       "    </tr>\n",
       "  </thead>\n",
       "  <tbody>\n",
       "    <tr>\n",
       "      <th>61318</th>\n",
       "      <td>SN61630</td>\n",
       "      <td>2021-01-01T00:00:00.000Z</td>\n",
       "      <td>-2.8</td>\n",
       "      <td>2021-01-01 00:00:00</td>\n",
       "    </tr>\n",
       "    <tr>\n",
       "      <th>61319</th>\n",
       "      <td>SN61630</td>\n",
       "      <td>2021-01-01T01:00:00.000Z</td>\n",
       "      <td>-3.0</td>\n",
       "      <td>2021-01-01 01:00:00</td>\n",
       "    </tr>\n",
       "    <tr>\n",
       "      <th>61320</th>\n",
       "      <td>SN61630</td>\n",
       "      <td>2021-01-01T02:00:00.000Z</td>\n",
       "      <td>-3.3</td>\n",
       "      <td>2021-01-01 02:00:00</td>\n",
       "    </tr>\n",
       "    <tr>\n",
       "      <th>61321</th>\n",
       "      <td>SN61630</td>\n",
       "      <td>2021-01-01T03:00:00.000Z</td>\n",
       "      <td>-3.1</td>\n",
       "      <td>2021-01-01 03:00:00</td>\n",
       "    </tr>\n",
       "    <tr>\n",
       "      <th>61322</th>\n",
       "      <td>SN61630</td>\n",
       "      <td>2021-01-01T04:00:00.000Z</td>\n",
       "      <td>-3.2</td>\n",
       "      <td>2021-01-01 04:00:00</td>\n",
       "    </tr>\n",
       "    <tr>\n",
       "      <th>...</th>\n",
       "      <td>...</td>\n",
       "      <td>...</td>\n",
       "      <td>...</td>\n",
       "      <td>...</td>\n",
       "    </tr>\n",
       "    <tr>\n",
       "      <th>70070</th>\n",
       "      <td>SN61630</td>\n",
       "      <td>2021-12-31T19:00:00.000Z</td>\n",
       "      <td>-2.4</td>\n",
       "      <td>2021-12-31 19:00:00</td>\n",
       "    </tr>\n",
       "    <tr>\n",
       "      <th>70071</th>\n",
       "      <td>SN61630</td>\n",
       "      <td>2021-12-31T20:00:00.000Z</td>\n",
       "      <td>-2.5</td>\n",
       "      <td>2021-12-31 20:00:00</td>\n",
       "    </tr>\n",
       "    <tr>\n",
       "      <th>70072</th>\n",
       "      <td>SN61630</td>\n",
       "      <td>2021-12-31T21:00:00.000Z</td>\n",
       "      <td>-2.2</td>\n",
       "      <td>2021-12-31 21:00:00</td>\n",
       "    </tr>\n",
       "    <tr>\n",
       "      <th>70073</th>\n",
       "      <td>SN61630</td>\n",
       "      <td>2021-12-31T22:00:00.000Z</td>\n",
       "      <td>-3.5</td>\n",
       "      <td>2021-12-31 22:00:00</td>\n",
       "    </tr>\n",
       "    <tr>\n",
       "      <th>70074</th>\n",
       "      <td>SN61630</td>\n",
       "      <td>2021-12-31T23:00:00.000Z</td>\n",
       "      <td>-6.7</td>\n",
       "      <td>2021-12-31 23:00:00</td>\n",
       "    </tr>\n",
       "  </tbody>\n",
       "</table>\n",
       "<p>8757 rows × 4 columns</p>\n",
       "</div>"
      ],
      "text/plain": [
       "      sourceId             referenceTime  observations            datetime\n",
       "61318  SN61630  2021-01-01T00:00:00.000Z          -2.8 2021-01-01 00:00:00\n",
       "61319  SN61630  2021-01-01T01:00:00.000Z          -3.0 2021-01-01 01:00:00\n",
       "61320  SN61630  2021-01-01T02:00:00.000Z          -3.3 2021-01-01 02:00:00\n",
       "61321  SN61630  2021-01-01T03:00:00.000Z          -3.1 2021-01-01 03:00:00\n",
       "61322  SN61630  2021-01-01T04:00:00.000Z          -3.2 2021-01-01 04:00:00\n",
       "...        ...                       ...           ...                 ...\n",
       "70070  SN61630  2021-12-31T19:00:00.000Z          -2.4 2021-12-31 19:00:00\n",
       "70071  SN61630  2021-12-31T20:00:00.000Z          -2.5 2021-12-31 20:00:00\n",
       "70072  SN61630  2021-12-31T21:00:00.000Z          -2.2 2021-12-31 21:00:00\n",
       "70073  SN61630  2021-12-31T22:00:00.000Z          -3.5 2021-12-31 22:00:00\n",
       "70074  SN61630  2021-12-31T23:00:00.000Z          -6.7 2021-12-31 23:00:00\n",
       "\n",
       "[8757 rows x 4 columns]"
      ]
     },
     "execution_count": 15,
     "metadata": {},
     "output_type": "execute_result"
    }
   ],
   "source": [
    "observation[observation.sourceId == 'SN61630']"
   ]
  },
  {
   "cell_type": "code",
   "execution_count": 16,
   "metadata": {},
   "outputs": [
    {
     "data": {
      "text/plain": [
       "(19937735, 4)"
      ]
     },
     "execution_count": 16,
     "metadata": {},
     "output_type": "execute_result"
    }
   ],
   "source": [
    "observation.shape"
   ]
  },
  {
   "cell_type": "code",
   "execution_count": null,
   "metadata": {},
   "outputs": [],
   "source": []
  }
 ],
 "metadata": {
  "interpreter": {
   "hash": "91f804f040e89d5385e49090c8786c8e3b01b19f0759d949477a07200053a66b"
  },
  "kernelspec": {
   "display_name": "Python 3.9.7 ('venv': venv)",
   "language": "python",
   "name": "python3"
  },
  "language_info": {
   "codemirror_mode": {
    "name": "ipython",
    "version": 3
   },
   "file_extension": ".py",
   "mimetype": "text/x-python",
   "name": "python",
   "nbconvert_exporter": "python",
   "pygments_lexer": "ipython3",
   "version": "3.9.7"
  },
  "orig_nbformat": 4
 },
 "nbformat": 4,
 "nbformat_minor": 2
}
