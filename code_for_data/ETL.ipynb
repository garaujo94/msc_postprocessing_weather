{
 "cells": [
  {
   "cell_type": "markdown",
   "metadata": {},
   "source": [
    "# ETL\n",
    "\n",
    "Será feito por ano, gerando cada ano como um arquivo separado pra memória poder aguentar"
   ]
  },
  {
   "cell_type": "code",
   "execution_count": 1,
   "metadata": {},
   "outputs": [],
   "source": [
    "import numpy as np\n",
    "import pandas as pd\n",
    "import json\n",
    "import os\n",
    "import matplotlib.pyplot as plt\n",
    "import seaborn as sns\n",
    "import re\n",
    "from datetime import datetime\n",
    "from tqdm.notebook import tqdm"
   ]
  },
  {
   "cell_type": "code",
   "execution_count": 2,
   "metadata": {},
   "outputs": [],
   "source": [
    "forecast_path = 'forecasts/2.5'\n",
    "gridpp_path = 'forecasts/1'\n",
    "observation_path = 'observation'"
   ]
  },
  {
   "cell_type": "code",
   "execution_count": 3,
   "metadata": {},
   "outputs": [],
   "source": [
    "def is_csv(x):\n",
    "    if x[-4:] == '.csv':\n",
    "        return True\n",
    "    return False\n",
    "\n",
    "def read_all_files(path, files):\n",
    "    df = pd.DataFrame()\n",
    "    for arquivo in tqdm(files):\n",
    "        df_aux = pd.read_csv(f'{path}/{arquivo}')\n",
    "        df = df.append(df_aux)\n",
    "\n",
    "    return df\n",
    "\n",
    "def filter_observation_list_by_year(year):\n",
    "    observation_list = os.listdir(observation_path)\n",
    "    return list(filter(lambda x: re.findall(f'\\_{year}\\_', x), observation_list))\n",
    "\n",
    "def kelvin_to_celsius(k):\n",
    "    return k - 273\n",
    "\n",
    "def print_status(df):\n",
    "    print(df.shape)\n",
    "    print('='*10)\n",
    "    print(df.info())\n",
    "\n",
    "def str_to_datime(x):\n",
    "    return datetime.strptime(x[:-5].replace('T', ' '), '%Y-%m-%d %H:%M:%S')"
   ]
  },
  {
   "cell_type": "code",
   "execution_count": 4,
   "metadata": {},
   "outputs": [],
   "source": [
    "desired_columns = ['station_id', 'lat', 'long', 'forecast', 'gridpp', 'observations', 'year', 'month', 'day', 'hour']"
   ]
  },
  {
   "cell_type": "code",
   "execution_count": 5,
   "metadata": {},
   "outputs": [
    {
     "data": {
      "text/plain": [
       "['observation_2021_1.csv',\n",
       " 'observation_2021_0.csv',\n",
       " 'observation_2021_2.csv',\n",
       " 'observation_2021_3.csv']"
      ]
     },
     "execution_count": 5,
     "metadata": {},
     "output_type": "execute_result"
    }
   ],
   "source": [
    "filter_observation_list_by_year(2021)"
   ]
  },
  {
   "cell_type": "markdown",
   "metadata": {},
   "source": [
    "## 2019"
   ]
  },
  {
   "cell_type": "code",
   "execution_count": 6,
   "metadata": {},
   "outputs": [],
   "source": [
    "year = 2021"
   ]
  },
  {
   "cell_type": "code",
   "execution_count": 7,
   "metadata": {},
   "outputs": [],
   "source": [
    "to_transform = ['year', 'month', 'day', 'hour'] # to int"
   ]
  },
  {
   "cell_type": "code",
   "execution_count": 8,
   "metadata": {},
   "outputs": [
    {
     "data": {
      "application/vnd.jupyter.widget-view+json": {
       "model_id": "e00b248cdc3f44848bdf170e8023a499",
       "version_major": 2,
       "version_minor": 0
      },
      "text/plain": [
       "  0%|          | 0/22 [00:00<?, ?it/s]"
      ]
     },
     "metadata": {},
     "output_type": "display_data"
    },
    {
     "name": "stdout",
     "output_type": "stream",
     "text": [
      "transforming datetime\n",
      "Done!\n",
      "(1078201, 12)\n",
      "==========\n",
      "<class 'pandas.core.frame.DataFrame'>\n",
      "RangeIndex: 1078201 entries, 0 to 1078200\n",
      "Data columns (total 12 columns):\n",
      " #   Column                 Non-Null Count    Dtype         \n",
      "---  ------                 --------------    -----         \n",
      " 0   nearest_forecast_long  1078201 non-null  float64       \n",
      " 1   nearest_forecast_lat   1078201 non-null  float64       \n",
      " 2   long                   1078201 non-null  float64       \n",
      " 3   station_id             1078201 non-null  object        \n",
      " 4   lat                    1078201 non-null  float64       \n",
      " 5   forecast               1078201 non-null  float64       \n",
      " 6   indexes                1078201 non-null  object        \n",
      " 7   year                   1078201 non-null  int32         \n",
      " 8   month                  1078201 non-null  int32         \n",
      " 9   day                    1078201 non-null  int32         \n",
      " 10  hour                   1078201 non-null  int32         \n",
      " 11  datetime               1078201 non-null  datetime64[ns]\n",
      "dtypes: datetime64[ns](1), float64(5), int32(4), object(2)\n",
      "memory usage: 82.3+ MB\n",
      "None\n"
     ]
    }
   ],
   "source": [
    "forecast_files = os.listdir(forecast_path)\n",
    "forecast_files = list(filter(is_csv, forecast_files))\n",
    "\n",
    "forecasts = read_all_files(forecast_path, forecast_files)\n",
    "forecasts = forecasts[forecasts.year == year]\n",
    "\n",
    "forecasts.reset_index(drop=True, inplace=True)\n",
    "forecasts['forecast'] = forecasts['forecast'].apply(lambda x: kelvin_to_celsius(x))\n",
    "\n",
    "for item in to_transform:\n",
    "    forecasts = forecasts.astype({item: 'int32'})\n",
    "\n",
    "print('transforming datetime')\n",
    "forecasts['datetime'] = forecasts.apply(lambda x: datetime(x['year'], x['month'], x['day'], x['hour']), axis=1)\n",
    "print('Done!')\n",
    "print_status(forecasts)"
   ]
  },
  {
   "cell_type": "code",
   "execution_count": 9,
   "metadata": {},
   "outputs": [
    {
     "data": {
      "application/vnd.jupyter.widget-view+json": {
       "model_id": "fa61a16d6f2a456a86a3c03e1f6d5dec",
       "version_major": 2,
       "version_minor": 0
      },
      "text/plain": [
       "  0%|          | 0/22 [00:00<?, ?it/s]"
      ]
     },
     "metadata": {},
     "output_type": "display_data"
    },
    {
     "name": "stdout",
     "output_type": "stream",
     "text": [
      "transforming datetime\n",
      "Done!\n",
      "(1071550, 14)\n",
      "==========\n",
      "<class 'pandas.core.frame.DataFrame'>\n",
      "RangeIndex: 1071550 entries, 0 to 1071549\n",
      "Data columns (total 14 columns):\n",
      " #   Column                 Non-Null Count    Dtype         \n",
      "---  ------                 --------------    -----         \n",
      " 0   long                   1071550 non-null  float64       \n",
      " 1   lat                    1071550 non-null  float64       \n",
      " 2   gridpp                 1071550 non-null  float64       \n",
      " 3   station_id             1071550 non-null  object        \n",
      " 4   nearest_forecast_lat   0 non-null        float64       \n",
      " 5   indexes                1071550 non-null  object        \n",
      " 6   nearest_forecast_long  0 non-null        float64       \n",
      " 7   nearest_gridpp_lat     1071550 non-null  float64       \n",
      " 8   nearest_gridpp_long    1071550 non-null  float64       \n",
      " 9   year                   1071550 non-null  int32         \n",
      " 10  month                  1071550 non-null  int32         \n",
      " 11  day                    1071550 non-null  int32         \n",
      " 12  hour                   1071550 non-null  int32         \n",
      " 13  datetime               1071550 non-null  datetime64[ns]\n",
      "dtypes: datetime64[ns](1), float64(7), int32(4), object(2)\n",
      "memory usage: 98.1+ MB\n",
      "None\n"
     ]
    }
   ],
   "source": [
    "gridpp_files = os.listdir(gridpp_path)\n",
    "gridpp_files = list(filter(is_csv, gridpp_files))\n",
    "\n",
    "gridpp = read_all_files(gridpp_path, gridpp_files)\n",
    "gridpp = gridpp[gridpp.year == year]\n",
    "\n",
    "gridpp.reset_index(drop=True, inplace=True)\n",
    "gridpp['forecast'] = gridpp['forecast'].apply(lambda x: kelvin_to_celsius(x))\n",
    "\n",
    "for item in to_transform:\n",
    "    gridpp = gridpp.astype({item: 'int32'})\n",
    "print('transforming datetime')\n",
    "gridpp['datetime'] = gridpp.apply(lambda x: datetime(x['year'], x['month'], x['day'], x['hour']), axis=1)\n",
    "print('Done!')\n",
    "# Only for gridpp\n",
    "gridpp.rename(columns={'forecast': 'gridpp'}, inplace=True)\n",
    "\n",
    "print_status(gridpp)"
   ]
  },
  {
   "cell_type": "code",
   "execution_count": 10,
   "metadata": {},
   "outputs": [
    {
     "data": {
      "application/vnd.jupyter.widget-view+json": {
       "model_id": "80e37db7a8de4c9ca355fe918b3aa1ac",
       "version_major": 2,
       "version_minor": 0
      },
      "text/plain": [
       "  0%|          | 0/4 [00:00<?, ?it/s]"
      ]
     },
     "metadata": {},
     "output_type": "display_data"
    },
    {
     "name": "stdout",
     "output_type": "stream",
     "text": [
      "transforming datetime\n",
      "Done!\n",
      "transforming Station Id\n",
      "Done!\n",
      "(19737920, 4)\n",
      "==========\n",
      "<class 'pandas.core.frame.DataFrame'>\n",
      "Int64Index: 19737920 entries, 0 to 5164411\n",
      "Data columns (total 4 columns):\n",
      " #   Column         Dtype         \n",
      "---  ------         -----         \n",
      " 0   sourceId       object        \n",
      " 1   referenceTime  object        \n",
      " 2   observations   float64       \n",
      " 3   datetime       datetime64[ns]\n",
      "dtypes: datetime64[ns](1), float64(1), object(2)\n",
      "memory usage: 752.9+ MB\n",
      "None\n"
     ]
    }
   ],
   "source": [
    "observation_files = filter_observation_list_by_year(year)\n",
    "observation = read_all_files(observation_path, observation_files)\n",
    "\n",
    "observation['observations'] = observation['observations'].apply(lambda x: x.split(':'))\n",
    "re_to_extract_numbers = r'\\-*\\d+\\.*\\d*'\n",
    "observation['observations'] = observation['observations'].apply(lambda x: float(re.findall(re_to_extract_numbers, x[-1])[0]))\n",
    "\n",
    "print('transforming datetime')\n",
    "observation['datetime'] = observation.referenceTime.apply(lambda x: str_to_datime(x))\n",
    "print('Done!')\n",
    "print('transforming Station Id')\n",
    "observation['sourceId'] = observation['sourceId'].apply(lambda x: x.split(':')[0])\n",
    "print('Done!')\n",
    "\n",
    "print_status(observation)\n"
   ]
  },
  {
   "cell_type": "markdown",
   "metadata": {},
   "source": [
    "### Merge"
   ]
  },
  {
   "cell_type": "code",
   "execution_count": 11,
   "metadata": {},
   "outputs": [
    {
     "data": {
      "text/plain": [
       "(1068594, 13)"
      ]
     },
     "execution_count": 11,
     "metadata": {},
     "output_type": "execute_result"
    }
   ],
   "source": [
    "final_data = forecasts.merge(gridpp[['station_id', 'datetime', 'gridpp']], how='inner', on=['station_id', 'datetime'])\n",
    "final_data.shape"
   ]
  },
  {
   "cell_type": "code",
   "execution_count": 12,
   "metadata": {},
   "outputs": [
    {
     "data": {
      "text/plain": [
       "(923359, 16)"
      ]
     },
     "execution_count": 12,
     "metadata": {},
     "output_type": "execute_result"
    }
   ],
   "source": [
    "final_data = final_data.merge(observation, how='inner', left_on=['station_id', 'datetime'], right_on=['sourceId', 'datetime'])\n",
    "final_data.shape"
   ]
  },
  {
   "cell_type": "code",
   "execution_count": 13,
   "metadata": {},
   "outputs": [
    {
     "data": {
      "text/html": [
       "<div>\n",
       "<style scoped>\n",
       "    .dataframe tbody tr th:only-of-type {\n",
       "        vertical-align: middle;\n",
       "    }\n",
       "\n",
       "    .dataframe tbody tr th {\n",
       "        vertical-align: top;\n",
       "    }\n",
       "\n",
       "    .dataframe thead th {\n",
       "        text-align: right;\n",
       "    }\n",
       "</style>\n",
       "<table border=\"1\" class=\"dataframe\">\n",
       "  <thead>\n",
       "    <tr style=\"text-align: right;\">\n",
       "      <th></th>\n",
       "      <th>station_id</th>\n",
       "      <th>lat</th>\n",
       "      <th>long</th>\n",
       "      <th>forecast</th>\n",
       "      <th>gridpp</th>\n",
       "      <th>observations</th>\n",
       "      <th>year</th>\n",
       "      <th>month</th>\n",
       "      <th>day</th>\n",
       "      <th>hour</th>\n",
       "    </tr>\n",
       "  </thead>\n",
       "  <tbody>\n",
       "    <tr>\n",
       "      <th>0</th>\n",
       "      <td>SN18700</td>\n",
       "      <td>59.9423</td>\n",
       "      <td>10.7200</td>\n",
       "      <td>13.008484</td>\n",
       "      <td>6.950012</td>\n",
       "      <td>6.8</td>\n",
       "      <td>2020</td>\n",
       "      <td>10</td>\n",
       "      <td>16</td>\n",
       "      <td>0</td>\n",
       "    </tr>\n",
       "    <tr>\n",
       "      <th>1</th>\n",
       "      <td>SN80740</td>\n",
       "      <td>66.9035</td>\n",
       "      <td>13.6460</td>\n",
       "      <td>2.987488</td>\n",
       "      <td>6.850006</td>\n",
       "      <td>6.7</td>\n",
       "      <td>2020</td>\n",
       "      <td>10</td>\n",
       "      <td>16</td>\n",
       "      <td>0</td>\n",
       "    </tr>\n",
       "    <tr>\n",
       "      <th>2</th>\n",
       "      <td>SN61630</td>\n",
       "      <td>62.2583</td>\n",
       "      <td>8.2000</td>\n",
       "      <td>1.916687</td>\n",
       "      <td>0.549988</td>\n",
       "      <td>0.4</td>\n",
       "      <td>2020</td>\n",
       "      <td>10</td>\n",
       "      <td>16</td>\n",
       "      <td>0</td>\n",
       "    </tr>\n",
       "    <tr>\n",
       "      <th>3</th>\n",
       "      <td>SN78910</td>\n",
       "      <td>64.6933</td>\n",
       "      <td>12.3295</td>\n",
       "      <td>2.030457</td>\n",
       "      <td>6.729584</td>\n",
       "      <td>7.7</td>\n",
       "      <td>2020</td>\n",
       "      <td>10</td>\n",
       "      <td>16</td>\n",
       "      <td>0</td>\n",
       "    </tr>\n",
       "    <tr>\n",
       "      <th>4</th>\n",
       "      <td>SN8140</td>\n",
       "      <td>61.4255</td>\n",
       "      <td>11.0803</td>\n",
       "      <td>7.772156</td>\n",
       "      <td>5.049988</td>\n",
       "      <td>4.9</td>\n",
       "      <td>2020</td>\n",
       "      <td>10</td>\n",
       "      <td>16</td>\n",
       "      <td>0</td>\n",
       "    </tr>\n",
       "    <tr>\n",
       "      <th>...</th>\n",
       "      <td>...</td>\n",
       "      <td>...</td>\n",
       "      <td>...</td>\n",
       "      <td>...</td>\n",
       "      <td>...</td>\n",
       "      <td>...</td>\n",
       "      <td>...</td>\n",
       "      <td>...</td>\n",
       "      <td>...</td>\n",
       "      <td>...</td>\n",
       "    </tr>\n",
       "    <tr>\n",
       "      <th>923354</th>\n",
       "      <td>SN58900</td>\n",
       "      <td>61.9157</td>\n",
       "      <td>6.5585</td>\n",
       "      <td>6.479767</td>\n",
       "      <td>4.350006</td>\n",
       "      <td>4.2</td>\n",
       "      <td>2020</td>\n",
       "      <td>5</td>\n",
       "      <td>13</td>\n",
       "      <td>12</td>\n",
       "    </tr>\n",
       "    <tr>\n",
       "      <th>923355</th>\n",
       "      <td>SN84380</td>\n",
       "      <td>68.3710</td>\n",
       "      <td>17.2438</td>\n",
       "      <td>-5.914764</td>\n",
       "      <td>5.739044</td>\n",
       "      <td>3.7</td>\n",
       "      <td>2020</td>\n",
       "      <td>5</td>\n",
       "      <td>13</td>\n",
       "      <td>12</td>\n",
       "    </tr>\n",
       "    <tr>\n",
       "      <th>923356</th>\n",
       "      <td>SN10380</td>\n",
       "      <td>62.5773</td>\n",
       "      <td>11.3518</td>\n",
       "      <td>4.539337</td>\n",
       "      <td>0.850006</td>\n",
       "      <td>0.7</td>\n",
       "      <td>2020</td>\n",
       "      <td>5</td>\n",
       "      <td>13</td>\n",
       "      <td>12</td>\n",
       "    </tr>\n",
       "    <tr>\n",
       "      <th>923357</th>\n",
       "      <td>SN97120</td>\n",
       "      <td>69.7563</td>\n",
       "      <td>26.1457</td>\n",
       "      <td>1.860626</td>\n",
       "      <td>2.682861</td>\n",
       "      <td>4.7</td>\n",
       "      <td>2020</td>\n",
       "      <td>5</td>\n",
       "      <td>13</td>\n",
       "      <td>12</td>\n",
       "    </tr>\n",
       "    <tr>\n",
       "      <th>923358</th>\n",
       "      <td>SN15270</td>\n",
       "      <td>61.6775</td>\n",
       "      <td>8.3690</td>\n",
       "      <td>-5.746796</td>\n",
       "      <td>-10.463013</td>\n",
       "      <td>-10.1</td>\n",
       "      <td>2020</td>\n",
       "      <td>5</td>\n",
       "      <td>13</td>\n",
       "      <td>12</td>\n",
       "    </tr>\n",
       "  </tbody>\n",
       "</table>\n",
       "<p>923359 rows × 10 columns</p>\n",
       "</div>"
      ],
      "text/plain": [
       "       station_id      lat     long   forecast     gridpp  observations  year  \\\n",
       "0         SN18700  59.9423  10.7200  13.008484   6.950012           6.8  2020   \n",
       "1         SN80740  66.9035  13.6460   2.987488   6.850006           6.7  2020   \n",
       "2         SN61630  62.2583   8.2000   1.916687   0.549988           0.4  2020   \n",
       "3         SN78910  64.6933  12.3295   2.030457   6.729584           7.7  2020   \n",
       "4          SN8140  61.4255  11.0803   7.772156   5.049988           4.9  2020   \n",
       "...           ...      ...      ...        ...        ...           ...   ...   \n",
       "923354    SN58900  61.9157   6.5585   6.479767   4.350006           4.2  2020   \n",
       "923355    SN84380  68.3710  17.2438  -5.914764   5.739044           3.7  2020   \n",
       "923356    SN10380  62.5773  11.3518   4.539337   0.850006           0.7  2020   \n",
       "923357    SN97120  69.7563  26.1457   1.860626   2.682861           4.7  2020   \n",
       "923358    SN15270  61.6775   8.3690  -5.746796 -10.463013         -10.1  2020   \n",
       "\n",
       "        month  day  hour  \n",
       "0          10   16     0  \n",
       "1          10   16     0  \n",
       "2          10   16     0  \n",
       "3          10   16     0  \n",
       "4          10   16     0  \n",
       "...       ...  ...   ...  \n",
       "923354      5   13    12  \n",
       "923355      5   13    12  \n",
       "923356      5   13    12  \n",
       "923357      5   13    12  \n",
       "923358      5   13    12  \n",
       "\n",
       "[923359 rows x 10 columns]"
      ]
     },
     "execution_count": 13,
     "metadata": {},
     "output_type": "execute_result"
    }
   ],
   "source": [
    "final_data = final_data[desired_columns]\n",
    "final_data"
   ]
  },
  {
   "cell_type": "code",
   "execution_count": 14,
   "metadata": {},
   "outputs": [],
   "source": [
    "final_data.to_csv(f'../data/final_data_{year}.csv', index=False)"
   ]
  },
  {
   "cell_type": "code",
   "execution_count": 15,
   "metadata": {},
   "outputs": [
    {
     "data": {
      "text/html": [
       "<div>\n",
       "<style scoped>\n",
       "    .dataframe tbody tr th:only-of-type {\n",
       "        vertical-align: middle;\n",
       "    }\n",
       "\n",
       "    .dataframe tbody tr th {\n",
       "        vertical-align: top;\n",
       "    }\n",
       "\n",
       "    .dataframe thead th {\n",
       "        text-align: right;\n",
       "    }\n",
       "</style>\n",
       "<table border=\"1\" class=\"dataframe\">\n",
       "  <thead>\n",
       "    <tr style=\"text-align: right;\">\n",
       "      <th></th>\n",
       "      <th>sourceId</th>\n",
       "      <th>referenceTime</th>\n",
       "      <th>observations</th>\n",
       "      <th>datetime</th>\n",
       "    </tr>\n",
       "  </thead>\n",
       "  <tbody>\n",
       "    <tr>\n",
       "      <th>53598</th>\n",
       "      <td>SN61630</td>\n",
       "      <td>2020-01-01T00:00:00.000Z</td>\n",
       "      <td>0.2</td>\n",
       "      <td>2020-01-01 00:00:00</td>\n",
       "    </tr>\n",
       "    <tr>\n",
       "      <th>53599</th>\n",
       "      <td>SN61630</td>\n",
       "      <td>2020-01-01T01:00:00.000Z</td>\n",
       "      <td>0.8</td>\n",
       "      <td>2020-01-01 01:00:00</td>\n",
       "    </tr>\n",
       "    <tr>\n",
       "      <th>53600</th>\n",
       "      <td>SN61630</td>\n",
       "      <td>2020-01-01T02:00:00.000Z</td>\n",
       "      <td>0.5</td>\n",
       "      <td>2020-01-01 02:00:00</td>\n",
       "    </tr>\n",
       "    <tr>\n",
       "      <th>53601</th>\n",
       "      <td>SN61630</td>\n",
       "      <td>2020-01-01T03:00:00.000Z</td>\n",
       "      <td>2.7</td>\n",
       "      <td>2020-01-01 03:00:00</td>\n",
       "    </tr>\n",
       "    <tr>\n",
       "      <th>53602</th>\n",
       "      <td>SN61630</td>\n",
       "      <td>2020-01-01T04:00:00.000Z</td>\n",
       "      <td>2.9</td>\n",
       "      <td>2020-01-01 04:00:00</td>\n",
       "    </tr>\n",
       "    <tr>\n",
       "      <th>...</th>\n",
       "      <td>...</td>\n",
       "      <td>...</td>\n",
       "      <td>...</td>\n",
       "      <td>...</td>\n",
       "    </tr>\n",
       "    <tr>\n",
       "      <th>62377</th>\n",
       "      <td>SN61630</td>\n",
       "      <td>2020-12-31T19:00:00.000Z</td>\n",
       "      <td>-2.2</td>\n",
       "      <td>2020-12-31 19:00:00</td>\n",
       "    </tr>\n",
       "    <tr>\n",
       "      <th>62378</th>\n",
       "      <td>SN61630</td>\n",
       "      <td>2020-12-31T20:00:00.000Z</td>\n",
       "      <td>-2.2</td>\n",
       "      <td>2020-12-31 20:00:00</td>\n",
       "    </tr>\n",
       "    <tr>\n",
       "      <th>62379</th>\n",
       "      <td>SN61630</td>\n",
       "      <td>2020-12-31T21:00:00.000Z</td>\n",
       "      <td>-2.2</td>\n",
       "      <td>2020-12-31 21:00:00</td>\n",
       "    </tr>\n",
       "    <tr>\n",
       "      <th>62380</th>\n",
       "      <td>SN61630</td>\n",
       "      <td>2020-12-31T22:00:00.000Z</td>\n",
       "      <td>-2.5</td>\n",
       "      <td>2020-12-31 22:00:00</td>\n",
       "    </tr>\n",
       "    <tr>\n",
       "      <th>62381</th>\n",
       "      <td>SN61630</td>\n",
       "      <td>2020-12-31T23:00:00.000Z</td>\n",
       "      <td>-2.7</td>\n",
       "      <td>2020-12-31 23:00:00</td>\n",
       "    </tr>\n",
       "  </tbody>\n",
       "</table>\n",
       "<p>8784 rows × 4 columns</p>\n",
       "</div>"
      ],
      "text/plain": [
       "      sourceId             referenceTime  observations            datetime\n",
       "53598  SN61630  2020-01-01T00:00:00.000Z           0.2 2020-01-01 00:00:00\n",
       "53599  SN61630  2020-01-01T01:00:00.000Z           0.8 2020-01-01 01:00:00\n",
       "53600  SN61630  2020-01-01T02:00:00.000Z           0.5 2020-01-01 02:00:00\n",
       "53601  SN61630  2020-01-01T03:00:00.000Z           2.7 2020-01-01 03:00:00\n",
       "53602  SN61630  2020-01-01T04:00:00.000Z           2.9 2020-01-01 04:00:00\n",
       "...        ...                       ...           ...                 ...\n",
       "62377  SN61630  2020-12-31T19:00:00.000Z          -2.2 2020-12-31 19:00:00\n",
       "62378  SN61630  2020-12-31T20:00:00.000Z          -2.2 2020-12-31 20:00:00\n",
       "62379  SN61630  2020-12-31T21:00:00.000Z          -2.2 2020-12-31 21:00:00\n",
       "62380  SN61630  2020-12-31T22:00:00.000Z          -2.5 2020-12-31 22:00:00\n",
       "62381  SN61630  2020-12-31T23:00:00.000Z          -2.7 2020-12-31 23:00:00\n",
       "\n",
       "[8784 rows x 4 columns]"
      ]
     },
     "execution_count": 15,
     "metadata": {},
     "output_type": "execute_result"
    }
   ],
   "source": [
    "observation[observation.sourceId == 'SN61630']"
   ]
  },
  {
   "cell_type": "code",
   "execution_count": 16,
   "metadata": {},
   "outputs": [
    {
     "data": {
      "text/plain": [
       "(19737920, 4)"
      ]
     },
     "execution_count": 16,
     "metadata": {},
     "output_type": "execute_result"
    }
   ],
   "source": [
    "observation.shape"
   ]
  },
  {
   "cell_type": "code",
   "execution_count": null,
   "metadata": {},
   "outputs": [],
   "source": []
  }
 ],
 "metadata": {
  "interpreter": {
   "hash": "91f804f040e89d5385e49090c8786c8e3b01b19f0759d949477a07200053a66b"
  },
  "kernelspec": {
   "display_name": "Python 3.9.7 ('venv': venv)",
   "language": "python",
   "name": "python3"
  },
  "language_info": {
   "codemirror_mode": {
    "name": "ipython",
    "version": 3
   },
   "file_extension": ".py",
   "mimetype": "text/x-python",
   "name": "python",
   "nbconvert_exporter": "python",
   "pygments_lexer": "ipython3",
   "version": "3.9.7"
  },
  "orig_nbformat": 4
 },
 "nbformat": 4,
 "nbformat_minor": 2
}
