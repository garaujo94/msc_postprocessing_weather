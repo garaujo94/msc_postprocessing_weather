{
 "cells": [
  {
   "cell_type": "code",
   "execution_count": 1,
   "metadata": {},
   "outputs": [],
   "source": [
    "import pandas as pd"
   ]
  },
  {
   "cell_type": "code",
   "execution_count": 2,
   "metadata": {},
   "outputs": [],
   "source": [
    "df = pd.read_json('observation_0.json')"
   ]
  },
  {
   "cell_type": "code",
   "execution_count": 3,
   "metadata": {},
   "outputs": [
    {
     "data": {
      "text/plain": [
       "(60811, 3)"
      ]
     },
     "execution_count": 3,
     "metadata": {},
     "output_type": "execute_result"
    }
   ],
   "source": [
    "df.shape"
   ]
  },
  {
   "cell_type": "code",
   "execution_count": 4,
   "metadata": {},
   "outputs": [
    {
     "data": {
      "text/html": [
       "<div>\n",
       "<style scoped>\n",
       "    .dataframe tbody tr th:only-of-type {\n",
       "        vertical-align: middle;\n",
       "    }\n",
       "\n",
       "    .dataframe tbody tr th {\n",
       "        vertical-align: top;\n",
       "    }\n",
       "\n",
       "    .dataframe thead th {\n",
       "        text-align: right;\n",
       "    }\n",
       "</style>\n",
       "<table border=\"1\" class=\"dataframe\">\n",
       "  <thead>\n",
       "    <tr style=\"text-align: right;\">\n",
       "      <th></th>\n",
       "      <th>sourceId</th>\n",
       "      <th>referenceTime</th>\n",
       "      <th>observations</th>\n",
       "    </tr>\n",
       "  </thead>\n",
       "  <tbody>\n",
       "    <tr>\n",
       "      <th>0</th>\n",
       "      <td>SN18700:0</td>\n",
       "      <td>2019-01-01T00:00:00.000Z</td>\n",
       "      <td>[{'elementId': 'air_temperature', 'value': 2, ...</td>\n",
       "    </tr>\n",
       "    <tr>\n",
       "      <th>1</th>\n",
       "      <td>SN18700:0</td>\n",
       "      <td>2019-01-01T01:00:00.000Z</td>\n",
       "      <td>[{'elementId': 'air_temperature', 'value': 4.9...</td>\n",
       "    </tr>\n",
       "    <tr>\n",
       "      <th>2</th>\n",
       "      <td>SN18700:0</td>\n",
       "      <td>2019-01-01T02:00:00.000Z</td>\n",
       "      <td>[{'elementId': 'air_temperature', 'value': 3.1...</td>\n",
       "    </tr>\n",
       "    <tr>\n",
       "      <th>3</th>\n",
       "      <td>SN18700:0</td>\n",
       "      <td>2019-01-01T03:00:00.000Z</td>\n",
       "      <td>[{'elementId': 'air_temperature', 'value': 3.8...</td>\n",
       "    </tr>\n",
       "    <tr>\n",
       "      <th>4</th>\n",
       "      <td>SN18700:0</td>\n",
       "      <td>2019-01-01T04:00:00.000Z</td>\n",
       "      <td>[{'elementId': 'air_temperature', 'value': 3.1...</td>\n",
       "    </tr>\n",
       "  </tbody>\n",
       "</table>\n",
       "</div>"
      ],
      "text/plain": [
       "    sourceId             referenceTime  \\\n",
       "0  SN18700:0  2019-01-01T00:00:00.000Z   \n",
       "1  SN18700:0  2019-01-01T01:00:00.000Z   \n",
       "2  SN18700:0  2019-01-01T02:00:00.000Z   \n",
       "3  SN18700:0  2019-01-01T03:00:00.000Z   \n",
       "4  SN18700:0  2019-01-01T04:00:00.000Z   \n",
       "\n",
       "                                        observations  \n",
       "0  [{'elementId': 'air_temperature', 'value': 2, ...  \n",
       "1  [{'elementId': 'air_temperature', 'value': 4.9...  \n",
       "2  [{'elementId': 'air_temperature', 'value': 3.1...  \n",
       "3  [{'elementId': 'air_temperature', 'value': 3.8...  \n",
       "4  [{'elementId': 'air_temperature', 'value': 3.1...  "
      ]
     },
     "execution_count": 4,
     "metadata": {},
     "output_type": "execute_result"
    }
   ],
   "source": [
    "df.head()"
   ]
  },
  {
   "cell_type": "code",
   "execution_count": 5,
   "metadata": {},
   "outputs": [
    {
     "data": {
      "text/plain": [
       "array(['SN18700:0', 'SN80740:0', 'SN61630:0', 'SN78910:0'], dtype=object)"
      ]
     },
     "execution_count": 5,
     "metadata": {},
     "output_type": "execute_result"
    }
   ],
   "source": [
    "df.sourceId.unique()"
   ]
  },
  {
   "cell_type": "code",
   "execution_count": null,
   "metadata": {},
   "outputs": [],
   "source": []
  }
 ],
 "metadata": {
  "interpreter": {
   "hash": "91f804f040e89d5385e49090c8786c8e3b01b19f0759d949477a07200053a66b"
  },
  "kernelspec": {
   "display_name": "Python 3.9.7 ('venv': venv)",
   "language": "python",
   "name": "python3"
  },
  "language_info": {
   "codemirror_mode": {
    "name": "ipython",
    "version": 3
   },
   "file_extension": ".py",
   "mimetype": "text/x-python",
   "name": "python",
   "nbconvert_exporter": "python",
   "pygments_lexer": "ipython3",
   "version": "3.9.7"
  },
  "orig_nbformat": 4
 },
 "nbformat": 4,
 "nbformat_minor": 2
}
