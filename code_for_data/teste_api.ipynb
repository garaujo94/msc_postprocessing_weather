{
 "cells": [
  {
   "cell_type": "code",
   "execution_count": 5,
   "metadata": {},
   "outputs": [],
   "source": [
    "import requests\n",
    "import json\n",
    "import pandas as pd\n",
    "import numpy as np"
   ]
  },
  {
   "cell_type": "code",
   "execution_count": 6,
   "metadata": {},
   "outputs": [],
   "source": [
    "f = open('credentials.json', )\n",
    "credentials = json.load(f)\n",
    "\n",
    "# Endpoint\n",
    "endpoint = 'https://frost.met.no/observations/v0.jsonld'\n",
    "\n",
    "stations = pd.read_csv('stations/stations_id_locs.csv')\n",
    "stations = stations[stations.lat < 72]\n",
    "stations = stations[stations.lat > 0]\n",
    "station_id = stations.station_id  # Colocar aqui\n",
    "\n",
    "with open('crawler_data/crawler_data_2_5_km.json', 'r') as d:\n",
    "    forecast_files = json.load(d)\n",
    "\n",
    "forecast_files = pd.DataFrame(forecast_files)\n",
    "year_range = np.arange(forecast_files.year.min(), forecast_files.year.max() + 1)"
   ]
  },
  {
   "cell_type": "code",
   "execution_count": null,
   "metadata": {},
   "outputs": [],
   "source": []
  },
  {
   "cell_type": "code",
   "execution_count": 7,
   "metadata": {},
   "outputs": [],
   "source": [
    "query = 'SN18700'\n",
    "year = 2019\n",
    "timestamp_query = f'{year}-01-01/{year+1}-01-01'\n",
    "\n",
    "parameters = {\n",
    "    'sources': query,\n",
    "    'referencetime': timestamp_query,\n",
    "    'elements': 'air_temperature',\n",
    "    'levels': 2,\n",
    "    'qualities': 0  # Ainda não pesquisei assim\n",
    "}\n",
    "\n",
    "r = requests.get(endpoint, parameters, auth=(credentials['client_ID'], ''))"
   ]
  },
  {
   "cell_type": "code",
   "execution_count": 8,
   "metadata": {},
   "outputs": [
    {
     "data": {
      "text/plain": [
       "<Response [200]>"
      ]
     },
     "execution_count": 8,
     "metadata": {},
     "output_type": "execute_result"
    }
   ],
   "source": [
    "r"
   ]
  },
  {
   "cell_type": "code",
   "execution_count": 12,
   "metadata": {},
   "outputs": [],
   "source": [
    "algo = r.json()\n",
    "lista = algo['data']"
   ]
  },
  {
   "cell_type": "code",
   "execution_count": 14,
   "metadata": {},
   "outputs": [
    {
     "data": {
      "text/plain": [
       "8757"
      ]
     },
     "execution_count": 14,
     "metadata": {},
     "output_type": "execute_result"
    }
   ],
   "source": [
    "len(lista)"
   ]
  },
  {
   "cell_type": "code",
   "execution_count": 16,
   "metadata": {},
   "outputs": [
    {
     "data": {
      "text/plain": [
       "{'sourceId': 'SN18700:0',\n",
       " 'referenceTime': '2019-01-01T00:00:00.000Z',\n",
       " 'observations': [{'elementId': 'air_temperature',\n",
       "   'value': 2,\n",
       "   'unit': 'degC',\n",
       "   'level': {'levelType': 'height_above_ground', 'unit': 'm', 'value': 2},\n",
       "   'timeOffset': 'PT0H',\n",
       "   'timeResolution': 'PT1H',\n",
       "   'timeSeriesId': 0,\n",
       "   'performanceCategory': 'C',\n",
       "   'exposureCategory': '1',\n",
       "   'qualityCode': 0}]}"
      ]
     },
     "execution_count": 16,
     "metadata": {},
     "output_type": "execute_result"
    }
   ],
   "source": [
    "lista[0]"
   ]
  },
  {
   "cell_type": "code",
   "execution_count": 15,
   "metadata": {},
   "outputs": [
    {
     "data": {
      "text/plain": [
       "{'sourceId': 'SN18700:0',\n",
       " 'referenceTime': '2019-12-31T23:00:00.000Z',\n",
       " 'observations': [{'elementId': 'air_temperature',\n",
       "   'value': 1.7,\n",
       "   'unit': 'degC',\n",
       "   'level': {'levelType': 'height_above_ground', 'unit': 'm', 'value': 2},\n",
       "   'timeOffset': 'PT0H',\n",
       "   'timeResolution': 'PT1H',\n",
       "   'timeSeriesId': 0,\n",
       "   'performanceCategory': 'C',\n",
       "   'exposureCategory': '1',\n",
       "   'qualityCode': 0}]}"
      ]
     },
     "execution_count": 15,
     "metadata": {},
     "output_type": "execute_result"
    }
   ],
   "source": [
    "lista[-1]"
   ]
  },
  {
   "cell_type": "code",
   "execution_count": 17,
   "metadata": {},
   "outputs": [],
   "source": [
    "query = 'SN90495'\n",
    "year = 2019\n",
    "timestamp_query = f'{year}-01-01/{year+1}-01-01'\n",
    "\n",
    "parameters = {\n",
    "    'sources': query,\n",
    "    'referencetime': timestamp_query,\n",
    "    'elements': 'air_temperature',\n",
    "    'levels': 2,\n",
    "    'qualities': 0  # Ainda não pesquisei assim\n",
    "}\n",
    "\n",
    "r = requests.get(endpoint, parameters, auth=(credentials['client_ID'], ''))\n",
    "\n",
    "algo = r.json()\n",
    "lista.extend(algo['data'])"
   ]
  },
  {
   "cell_type": "code",
   "execution_count": 18,
   "metadata": {},
   "outputs": [
    {
     "data": {
      "text/plain": [
       "17516"
      ]
     },
     "execution_count": 18,
     "metadata": {},
     "output_type": "execute_result"
    }
   ],
   "source": [
    "len(lista)"
   ]
  },
  {
   "cell_type": "code",
   "execution_count": 19,
   "metadata": {},
   "outputs": [
    {
     "data": {
      "text/plain": [
       "{'sourceId': 'SN18700:0',\n",
       " 'referenceTime': '2019-01-01T00:00:00.000Z',\n",
       " 'observations': [{'elementId': 'air_temperature',\n",
       "   'value': 2,\n",
       "   'unit': 'degC',\n",
       "   'level': {'levelType': 'height_above_ground', 'unit': 'm', 'value': 2},\n",
       "   'timeOffset': 'PT0H',\n",
       "   'timeResolution': 'PT1H',\n",
       "   'timeSeriesId': 0,\n",
       "   'performanceCategory': 'C',\n",
       "   'exposureCategory': '1',\n",
       "   'qualityCode': 0}]}"
      ]
     },
     "execution_count": 19,
     "metadata": {},
     "output_type": "execute_result"
    }
   ],
   "source": [
    "lista[0]"
   ]
  },
  {
   "cell_type": "code",
   "execution_count": 20,
   "metadata": {},
   "outputs": [
    {
     "data": {
      "text/plain": [
       "{'sourceId': 'SN90495:0',\n",
       " 'referenceTime': '2019-12-31T23:00:00.000Z',\n",
       " 'observations': [{'elementId': 'air_temperature',\n",
       "   'value': -3,\n",
       "   'unit': 'degC',\n",
       "   'level': {'levelType': 'height_above_ground', 'unit': 'm', 'value': 2},\n",
       "   'timeOffset': 'PT0H',\n",
       "   'timeResolution': 'PT1H',\n",
       "   'timeSeriesId': 0,\n",
       "   'performanceCategory': 'E',\n",
       "   'exposureCategory': '2',\n",
       "   'qualityCode': 0}]}"
      ]
     },
     "execution_count": 20,
     "metadata": {},
     "output_type": "execute_result"
    }
   ],
   "source": [
    "lista[-1]"
   ]
  },
  {
   "cell_type": "code",
   "execution_count": 25,
   "metadata": {},
   "outputs": [
    {
     "name": "stdout",
     "output_type": "stream",
     "text": [
      "1 2 3\n",
      "4 5 6\n"
     ]
    }
   ],
   "source": [
    "it = iter([1,2,3,4,5,6])\n",
    "for x, y, z in zip(it, it, it):\n",
    "    print(x, y, z)"
   ]
  },
  {
   "cell_type": "code",
   "execution_count": 27,
   "metadata": {},
   "outputs": [],
   "source": [
    "it = iter([1,2,3,4,5,6])\n",
    "r = []\n",
    "for x, y, z in zip(it, it, it):\n",
    "    r.append([x, y, z])"
   ]
  },
  {
   "cell_type": "code",
   "execution_count": 28,
   "metadata": {},
   "outputs": [
    {
     "data": {
      "text/plain": [
       "[[1, 2, 3], [4, 5, 6]]"
      ]
     },
     "execution_count": 28,
     "metadata": {},
     "output_type": "execute_result"
    }
   ],
   "source": [
    "r"
   ]
  },
  {
   "cell_type": "code",
   "execution_count": null,
   "metadata": {},
   "outputs": [],
   "source": []
  }
 ],
 "metadata": {
  "interpreter": {
   "hash": "91f804f040e89d5385e49090c8786c8e3b01b19f0759d949477a07200053a66b"
  },
  "kernelspec": {
   "display_name": "Python 3.9.7 ('venv': venv)",
   "language": "python",
   "name": "python3"
  },
  "language_info": {
   "codemirror_mode": {
    "name": "ipython",
    "version": 3
   },
   "file_extension": ".py",
   "mimetype": "text/x-python",
   "name": "python",
   "nbconvert_exporter": "python",
   "pygments_lexer": "ipython3",
   "version": "3.9.7"
  },
  "orig_nbformat": 4
 },
 "nbformat": 4,
 "nbformat_minor": 2
}
